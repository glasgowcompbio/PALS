{
 "cells": [
  {
   "cell_type": "code",
   "execution_count": null,
   "metadata": {},
   "outputs": [],
   "source": [
    "%load_ext autoreload\n",
    "%autoreload 2\n",
    "\n",
    "%pylab inline"
   ]
  },
  {
   "cell_type": "markdown",
   "metadata": {},
   "source": [
    "# Analysis of User-defined Metabolite Sets"
   ]
  },
  {
   "cell_type": "markdown",
   "metadata": {},
   "source": [
    "This notebook demonstrates how PALS can be used to analyse user-defined metabolite sets. Here PALS is used to analyse Molecular Families from GNPS, as well as Mass2Motifs from MS2LDA for differentially expressed metabolite sets."
   ]
  },
  {
   "cell_type": "code",
   "execution_count": null,
   "metadata": {},
   "outputs": [],
   "source": [
    "import os\n",
    "import sys\n",
    "import pathlib\n",
    "import pickle\n",
    "\n",
    "sys.path.append('..')"
   ]
  },
  {
   "cell_type": "code",
   "execution_count": null,
   "metadata": {},
   "outputs": [],
   "source": [
    "import pandas as pd\n",
    "import zipfile\n",
    "import seaborn as sns\n",
    "import matplotlib.patches as mpatches\n",
    "from IPython.display import display, HTML\n",
    "from loguru import logger"
   ]
  },
  {
   "cell_type": "code",
   "execution_count": null,
   "metadata": {},
   "outputs": [],
   "source": [
    "from pals.feature_extraction import DataSource\n",
    "from pals.loader import GNPSLoader\n",
    "from pals.PLAGE import PLAGE\n",
    "from pals.common import *"
   ]
  },
  {
   "cell_type": "markdown",
   "metadata": {},
   "source": [
    "## GNPS Molecular Family Analysis"
   ]
  },
  {
   "cell_type": "markdown",
   "metadata": {},
   "source": [
    "### Load GNPS results using the loader"
   ]
  },
  {
   "cell_type": "markdown",
   "metadata": {},
   "source": [
    "The loader is used to retrieve molecular networking results from GNPS and extract the necessary data for PALS analysis. \n",
    "\n",
    "Input:\n",
    "- URL to FBMN GNPS results\n",
    "- A metadata CSV"
   ]
  },
  {
   "cell_type": "markdown",
   "metadata": {},
   "source": [
    "Provide the link to your FBMN GNPS experiment results below"
   ]
  },
  {
   "cell_type": "code",
   "execution_count": null,
   "metadata": {},
   "outputs": [],
   "source": [
    "database_name = DATABASE_GNPS_MOLECULAR_FAMILY\n",
    "gnps_url = 'https://gnps.ucsd.edu/ProteoSAFe/status.jsp?task=0a8432b5891a48d7ad8459ba4a89969f'"
   ]
  },
  {
   "cell_type": "markdown",
   "metadata": {},
   "source": [
    "Provide a metadata CSV file describing the sample groups"
   ]
  },
  {
   "cell_type": "code",
   "execution_count": null,
   "metadata": {},
   "outputs": [],
   "source": [
    "metadata_file = os.path.join('test_data', 'AGP', 'AG_Plants_extremes_metadata_df.csv')\n",
    "metadata_df = pd.read_csv(metadata_file)\n",
    "metadata_df"
   ]
  },
  {
   "cell_type": "markdown",
   "metadata": {},
   "source": [
    "Define case and control groups, and create a comparison."
   ]
  },
  {
   "cell_type": "code",
   "execution_count": null,
   "metadata": {},
   "outputs": [],
   "source": [
    "case = 'More than 30'\n",
    "control = 'Less than 10'\n",
    "comp_name = 'more_plants/no_plants'\n",
    "comparisons = [{'case': case, 'control': control, 'name': comp_name },]\n",
    "comparisons"
   ]
  },
  {
   "cell_type": "markdown",
   "metadata": {},
   "source": [
    "Instantiate the loader object, and load the data into a `database` object."
   ]
  },
  {
   "cell_type": "code",
   "execution_count": null,
   "metadata": {},
   "outputs": [],
   "source": [
    "loader = GNPSLoader(database_name, gnps_url, metadata_df, comparisons)\n",
    "database = loader.load_data()"
   ]
  },
  {
   "cell_type": "markdown",
   "metadata": {},
   "source": [
    "Create data source. For the GNPS database, we get *measurement_df*, *annotation_df* and *experimental_design* parameters from *database* before passing them to the *DataSource* constructor."
   ]
  },
  {
   "cell_type": "code",
   "execution_count": null,
   "metadata": {},
   "outputs": [],
   "source": [
    "measurement_df = database.extra_data['measurement_df']\n",
    "annotation_df = database.extra_data['annotation_df']\n",
    "experimental_design = database.extra_data['experimental_design']"
   ]
  },
  {
   "cell_type": "code",
   "execution_count": null,
   "metadata": {},
   "outputs": [],
   "source": [
    "measurement_df.head()"
   ]
  },
  {
   "cell_type": "code",
   "execution_count": null,
   "metadata": {},
   "outputs": [],
   "source": [
    "annotation_df.head()"
   ]
  },
  {
   "cell_type": "markdown",
   "metadata": {},
   "source": [
    "### Create data source and run PLAGE analysis"
   ]
  },
  {
   "cell_type": "markdown",
   "metadata": {},
   "source": [
    "Create a PALS data source and run PLAGE analysis."
   ]
  },
  {
   "cell_type": "code",
   "execution_count": null,
   "metadata": {},
   "outputs": [],
   "source": [
    "gnps_ds = DataSource(measurement_df, annotation_df, experimental_design, None, database=database, min_replace=SMALL)"
   ]
  },
  {
   "cell_type": "code",
   "execution_count": null,
   "metadata": {},
   "outputs": [],
   "source": [
    "plage = PLAGE(gnps_ds, num_resamples=1000)\n",
    "results = plage.get_results_df(standardize=True)"
   ]
  },
  {
   "cell_type": "code",
   "execution_count": null,
   "metadata": {},
   "outputs": [],
   "source": [
    "p_value_col = '%s p-value' % comp_name\n",
    "count_col = 'unq_pw_F'\n",
    "pathway_df.sort_values([p_value_col, count_col], ascending=[True, False], inplace=True)\n",
    "pathway_df"
   ]
  },
  {
   "cell_type": "markdown",
   "metadata": {},
   "source": [
    "### Checking results"
   ]
  },
  {
   "cell_type": "code",
   "execution_count": null,
   "metadata": {},
   "outputs": [],
   "source": [
    "sns.set()\n",
    "pd.set_option('display.max_colwidth', None)"
   ]
  },
  {
   "cell_type": "code",
   "execution_count": null,
   "metadata": {},
   "outputs": [],
   "source": [
    "# cmap = 'RdBu_r'\n",
    "# cmap = 'jet'\n",
    "cmap = 'vlag'"
   ]
  },
  {
   "cell_type": "markdown",
   "metadata": {},
   "source": [
    "Filter significant molecular families by p-value. "
   ]
  },
  {
   "cell_type": "code",
   "execution_count": null,
   "metadata": {},
   "outputs": [],
   "source": [
    "pval_threshold = 0.05\n",
    "df = pathway_df[pathway_df[p_value_col] < pval_threshold]\n",
    "df"
   ]
  },
  {
   "cell_type": "markdown",
   "metadata": {},
   "source": [
    "Count how many significant molecular families having at least 10 members."
   ]
  },
  {
   "cell_type": "code",
   "execution_count": null,
   "metadata": {},
   "outputs": [],
   "source": [
    "min_members = 10\n",
    "df[df[count_col] >= min_members].shape"
   ]
  },
  {
   "cell_type": "markdown",
   "metadata": {},
   "source": [
    "Plot significant molecular families"
   ]
  },
  {
   "cell_type": "code",
   "execution_count": null,
   "metadata": {},
   "outputs": [],
   "source": [
    "all_samples = []\n",
    "all_groups = []\n",
    "for group in experimental_design['groups']:\n",
    "    samples = experimental_design['groups'][group]\n",
    "    all_samples.extend(samples)\n",
    "    all_groups.extend([group] * len(samples))"
   ]
  },
  {
   "cell_type": "code",
   "execution_count": null,
   "metadata": {},
   "outputs": [],
   "source": [
    "entity_dict = gnps_ds.entity_dict\n",
    "intensities_df = gnps_ds.standardize_intensity_df()"
   ]
  },
  {
   "cell_type": "code",
   "execution_count": null,
   "metadata": {},
   "outputs": [],
   "source": [
    "for idx, row in df.iterrows():\n",
    "    members = gnps_ds.dataset_pathways_to_row_ids[idx]\n",
    "    if len(members) < min_members:\n",
    "        continue\n",
    "        \n",
    "    pw_name = row['pw_name']\n",
    "    p_value = row[p_value_col]\n",
    "    print(pw_name)\n",
    "    \n",
    "    # plotting for manuscript\n",
    "    to_plot = ['Molecular Family #148']\n",
    "    if pw_name not in to_plot:\n",
    "        continue\n",
    "    else:\n",
    "        print(row)\n",
    "                \n",
    "    # get group intensities\n",
    "    group_intensities = intensities_df.loc[members][all_samples]    \n",
    "    \n",
    "    # get group info\n",
    "    # print('%s p-value=%.4f' % (pw_name, p_value))\n",
    "    data = []\n",
    "    for member in members:\n",
    "        member_info = entity_dict[member]\n",
    "        unique_id = member_info['unique_id']\n",
    "        library_id = member_info['LibraryID']\n",
    "        gnps_linkout_network = member_info['GNPSLinkout_Network']\n",
    "        no_spectra = member_info['number of spectra']\n",
    "        rt = member_info['RT']\n",
    "        mz = member_info['mass']    \n",
    "        intensity = member_info['SumPeakIntensity']\n",
    "        row = [unique_id, library_id, mz, rt, intensity, no_spectra, gnps_linkout_network]\n",
    "        data.append(row)\n",
    "    member_df = pd.DataFrame(data, columns=['id', 'LibraryID', 'Precursor m/z', 'RTConsensus', 'PrecursorInt', 'no_spectra', 'link']).set_index('id')    \n",
    "    \n",
    "    # Create a categorical palette to identify the networks\n",
    "    used_groups = list(set(all_groups))\n",
    "    group_pal = sns.husl_palette(len(used_groups), s=.45)\n",
    "    group_lut = dict(zip(map(str, used_groups), group_pal))\n",
    "\n",
    "    # Convert the palette to vectors that will be drawn on the side of the matrix\n",
    "    group_colours = pd.Series(all_groups, index=group_intensities.columns).map(group_lut)    \n",
    "    group_colours.name = 'groups'\n",
    "    \n",
    "    # plot heatmap\n",
    "    g = sns.clustermap(group_intensities, center=0, cmap=cmap, col_colors=group_colours, \n",
    "                   col_cluster=False, linewidths=0.75, figsize=(10, 10), cbar_pos=(1.0, 0.3, 0.05, 0.5))\n",
    "    \n",
    "    title = pw_name\n",
    "    if pw_name == 'Molecular Family #127':\n",
    "        title = 'Cinnamic Acid-related Molecular Family'\n",
    "    elif pw_name == 'Molecular Family #148':\n",
    "        title = 'Steroid-related Molecular Family'\n",
    "    plt.suptitle('%s' % (title), fontsize=24, y=0.9)\n",
    "\n",
    "    # draw group legend\n",
    "    for group in used_groups:\n",
    "        g.ax_col_dendrogram.bar(0, 0, color=group_lut[group], label=group, linewidth=0)\n",
    "    g.ax_col_dendrogram.legend(loc=\"right\")\n",
    "    \n",
    "    # make the annotated peaks to have labels in bold\n",
    "    annotated_df = member_df[member_df['LibraryID'].notnull()]\n",
    "    annotated_peaks = annotated_df.index.values\n",
    "    for label in g.ax_heatmap.get_yticklabels():\n",
    "        if label.get_text() in annotated_peaks:\n",
    "            label.set_weight(\"bold\")\n",
    "            label.set_color(\"green\")   \n",
    "    plt.setp(g.ax_heatmap.get_yticklabels(), rotation=0)        \n",
    "\n",
    "    out_file = '%s.pdf' % pw_name\n",
    "    plt.savefig(out_file, dpi=300)\n",
    "    plt.show()\n",
    "    \n",
    "    out_file = '%s.csv' % pw_name\n",
    "    display(member_df)\n",
    "    member_df.drop('link', axis=1).round(4).to_csv(out_file, index=True)"
   ]
  },
  {
   "cell_type": "markdown",
   "metadata": {},
   "source": [
    "## GNPS-MS2LDA Analysis"
   ]
  },
  {
   "cell_type": "markdown",
   "metadata": {},
   "source": [
    "Similar to above, but here we provide a link to GNPS-MS2LDA analysis to retrieve Mass2Motifs, and pass it to the loader."
   ]
  },
  {
   "cell_type": "code",
   "execution_count": null,
   "metadata": {},
   "outputs": [],
   "source": [
    "gnps_ms2lda_url = 'https://gnps.ucsd.edu/ProteoSAFe/status.jsp?task=7c34badae00e43bc87b195a706cf1f43'"
   ]
  },
  {
   "cell_type": "code",
   "execution_count": null,
   "metadata": {},
   "outputs": [],
   "source": [
    "database_name = DATABASE_GNPS_MS2LDA\n",
    "loader = GNPSLoader(database_name, gnps_url, metadata_df, comparisons, gnps_ms2lda_url=gnps_ms2lda_url)\n",
    "database = loader.load_data()"
   ]
  },
  {
   "cell_type": "code",
   "execution_count": null,
   "metadata": {},
   "outputs": [],
   "source": [
    "measurement_df = database.extra_data['measurement_df']\n",
    "annotation_df = database.extra_data['annotation_df']\n",
    "experimental_design = database.extra_data['experimental_design']\n",
    "gnps_ds = DataSource(measurement_df, annotation_df, experimental_design, None, database=database, min_replace=SMALL)"
   ]
  },
  {
   "cell_type": "code",
   "execution_count": null,
   "metadata": {},
   "outputs": [],
   "source": [
    "plage = PLAGE(gnps_ds, num_resamples=1000)\n",
    "pathway_df = plage.get_pathway_df(standardize=True)"
   ]
  },
  {
   "cell_type": "code",
   "execution_count": null,
   "metadata": {},
   "outputs": [],
   "source": [
    "p_value_col = '%s p-value' % comp_name\n",
    "count_col = 'unq_pw_F'\n",
    "pathway_df.sort_values([p_value_col, count_col], ascending=[True, False], inplace=True)\n",
    "pathway_df"
   ]
  },
  {
   "cell_type": "code",
   "execution_count": null,
   "metadata": {},
   "outputs": [],
   "source": [
    "df = pathway_df[pathway_df[p_value_col] < 0.05]\n",
    "df"
   ]
  },
  {
   "cell_type": "code",
   "execution_count": null,
   "metadata": {},
   "outputs": [],
   "source": [
    "entity_dict = gnps_ds.entity_dict\n",
    "intensities_df = gnps_ds.standardize_intensity_df()"
   ]
  },
  {
   "cell_type": "code",
   "execution_count": null,
   "metadata": {},
   "outputs": [],
   "source": [
    "for idx, row in df.iterrows():\n",
    "    members = gnps_ds.dataset_pathways_to_row_ids[idx]\n",
    "    if len(members) < min_members:\n",
    "        continue\n",
    "        \n",
    "    pw_name = row['pw_name']\n",
    "    p_value = row[p_value_col]\n",
    "    \n",
    "    if 'gnps_motif_54.m2m' not in pw_name:\n",
    "        continue\n",
    "    else:\n",
    "        print(pw_name)\n",
    "                \n",
    "    # get group intensities\n",
    "    group_intensities = intensities_df.loc[members][all_samples]    \n",
    "    \n",
    "    # get group info\n",
    "    # print('%s p-value=%.4f' % (pw_name, p_value))\n",
    "    data = []\n",
    "    for member in members:\n",
    "        member_info = entity_dict[member]\n",
    "        unique_id = member_info['unique_id']\n",
    "        library_id = member_info['LibraryID']\n",
    "        gnps_linkout_network = member_info['GNPSLinkout_Network']\n",
    "        no_spectra = member_info['number of spectra']\n",
    "        rt = member_info['RT']\n",
    "        mz = member_info['mass']    \n",
    "        intensity = member_info['SumPeakIntensity']\n",
    "        row = [unique_id, library_id, mz, rt, intensity, no_spectra, gnps_linkout_network]\n",
    "        data.append(row)\n",
    "    member_df = pd.DataFrame(data, columns=['id', 'LibraryID', 'Precursor m/z', 'RTConsensus', 'PrecursorInt', 'no_spectra', 'link']).set_index('id')    \n",
    "    \n",
    "    # Create a categorical palette to identify the networks\n",
    "    used_groups = list(set(all_groups))\n",
    "    group_pal = sns.husl_palette(len(used_groups), s=.45)\n",
    "    group_lut = dict(zip(map(str, used_groups), group_pal))\n",
    "\n",
    "    # Convert the palette to vectors that will be drawn on the side of the matrix\n",
    "    group_colours = pd.Series(all_groups, index=group_intensities.columns).map(group_lut)    \n",
    "    group_colours.name = 'groups'\n",
    "    \n",
    "    # plot heatmap\n",
    "    g = sns.clustermap(group_intensities, center=0, cmap=cmap, col_colors=group_colours, \n",
    "                   col_cluster=False, linewidths=0.75, figsize=(10, 10), cbar_pos=(1.0, 0.3, 0.05, 0.5))\n",
    "\n",
    "    title = pw_name\n",
    "    if 'gnps_motif_54.m2m' in pw_name:\n",
    "        title = 'Ferulic-acid-related Mass2Motif'\n",
    "    plt.suptitle('%s' % (title), fontsize=24, y=0.9)\n",
    "\n",
    "    # draw group legend\n",
    "    for group in used_groups:\n",
    "        g.ax_col_dendrogram.bar(0, 0, color=group_lut[group], label=group, linewidth=0)\n",
    "    g.ax_col_dendrogram.legend(loc=\"right\")\n",
    "    \n",
    "    # make the annotated peaks to have labels in bold\n",
    "    annotated_df = member_df[member_df['LibraryID'].notnull()]\n",
    "    annotated_peaks = annotated_df.index.values\n",
    "    for label in g.ax_heatmap.get_yticklabels():\n",
    "        if label.get_text() in annotated_peaks:\n",
    "            label.set_weight(\"bold\")\n",
    "            label.set_color(\"green\")   \n",
    "    plt.setp(g.ax_heatmap.get_yticklabels(), rotation=0)        \n",
    "\n",
    "    out_file = '%s.pdf' % pw_name\n",
    "    plt.savefig(out_file, dpi=300)\n",
    "    plt.show()\n",
    "    \n",
    "    out_file = '%s.csv' % pw_name\n",
    "    display(member_df)\n",
    "    member_df.drop('link', axis=1).round(4).to_csv(out_file, index=True)"
   ]
  },
  {
   "cell_type": "code",
   "execution_count": null,
   "metadata": {},
   "outputs": [],
   "source": []
  }
 ],
 "metadata": {
  "kernelspec": {
   "display_name": "Python 3",
   "language": "python",
   "name": "python3"
  },
  "language_info": {
   "codemirror_mode": {
    "name": "ipython",
    "version": 3
   },
   "file_extension": ".py",
   "mimetype": "text/x-python",
   "name": "python",
   "nbconvert_exporter": "python",
   "pygments_lexer": "ipython3",
   "version": "3.7.3"
  }
 },
 "nbformat": 4,
 "nbformat_minor": 4
}
