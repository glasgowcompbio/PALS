{
 "cells": [
  {
   "cell_type": "markdown",
   "metadata": {},
   "source": [
    "# Demonstrates how to load input CSV files and run them through PALS"
   ]
  },
  {
   "cell_type": "code",
   "execution_count": 1,
   "metadata": {},
   "outputs": [],
   "source": [
    "%load_ext autoreload\n",
    "%autoreload 2"
   ]
  },
  {
   "cell_type": "code",
   "execution_count": 2,
   "metadata": {},
   "outputs": [],
   "source": [
    "import os\n",
    "import sys\n",
    "import pathlib\n",
    "import pickle\n",
    "\n",
    "sys.path.append('..')"
   ]
  },
  {
   "cell_type": "code",
   "execution_count": 3,
   "metadata": {},
   "outputs": [],
   "source": [
    "import pandas as pd"
   ]
  },
  {
   "cell_type": "code",
   "execution_count": 4,
   "metadata": {},
   "outputs": [
    {
     "name": "stderr",
     "output_type": "stream",
     "text": [
      "2020-07-25 15:20:36.456 | INFO     | pals.reactome:get_neo4j_driver:24 - Created graph database driver for bolt://localhost:7687 (neo4j)\n"
     ]
    }
   ],
   "source": [
    "from pals.pimp_tools import get_pimp_API_token_from_env, PIMP_HOST, download_from_pimp\n",
    "from pals.feature_extraction import DataSource\n",
    "from pals.PLAGE import PLAGE\n",
    "from pals.ORA import ORA\n",
    "from pals.GSEA import GSEA\n",
    "from pals.common import *"
   ]
  },
  {
   "cell_type": "markdown",
   "metadata": {},
   "source": [
    "# Beer Analysis"
   ]
  },
  {
   "cell_type": "markdown",
   "metadata": {},
   "source": [
    "### Load data"
   ]
  },
  {
   "cell_type": "code",
   "execution_count": 9,
   "metadata": {},
   "outputs": [],
   "source": [
    "intensity_csv = os.path.join('test_data', 'beer', 'int_df.csv')\n",
    "annotation_csv = os.path.join('test_data', 'beer', 'annotation_df.csv')"
   ]
  },
  {
   "cell_type": "code",
   "execution_count": 10,
   "metadata": {},
   "outputs": [
    {
     "name": "stderr",
     "output_type": "stream",
     "text": [
      "2020-07-25 15:21:10.106 | DEBUG    | pals.common:load_data:165 - Loaded 7375 x 12 peak intensities from test_data\\beer\\int_df.csv\n",
      "2020-07-25 15:21:10.107 | DEBUG    | pals.common:load_data:166 - Loaded groups: {'beer1': ['Beer_1_full1.mzXML', 'Beer_1_full2.mzXML', 'Beer_1_full3.mzXML'], 'beer2': ['Beer_2_full1.mzXML', 'Beer_2_full2.mzXML', 'Beer_2_full3.mzXML'], 'beer3': ['Beer_3_full1.mzXML', 'Beer_3_full2.mzXML', 'Beer_3_full3.mzXML'], 'beer4': ['Beer_4_full1.mzXML', 'Beer_4_full2.mzXML', 'Beer_4_full3.mzXML']}\n",
      "2020-07-25 15:21:10.115 | DEBUG    | pals.common:load_data:170 - Loaded 14549 peak annotations from test_data\\beer\\annotation_df.csv\n"
     ]
    }
   ],
   "source": [
    "int_df, annotation_df, groups = load_data(intensity_csv, annotation_csv)"
   ]
  },
  {
   "cell_type": "code",
   "execution_count": 11,
   "metadata": {},
   "outputs": [
    {
     "data": {
      "text/html": [
       "<div>\n",
       "<style scoped>\n",
       "    .dataframe tbody tr th:only-of-type {\n",
       "        vertical-align: middle;\n",
       "    }\n",
       "\n",
       "    .dataframe tbody tr th {\n",
       "        vertical-align: top;\n",
       "    }\n",
       "\n",
       "    .dataframe thead th {\n",
       "        text-align: right;\n",
       "    }\n",
       "</style>\n",
       "<table border=\"1\" class=\"dataframe\">\n",
       "  <thead>\n",
       "    <tr style=\"text-align: right;\">\n",
       "      <th></th>\n",
       "      <th>Beer_1_full1.mzXML</th>\n",
       "      <th>Beer_1_full2.mzXML</th>\n",
       "      <th>Beer_1_full3.mzXML</th>\n",
       "      <th>Beer_2_full1.mzXML</th>\n",
       "      <th>Beer_2_full2.mzXML</th>\n",
       "      <th>Beer_2_full3.mzXML</th>\n",
       "      <th>Beer_3_full1.mzXML</th>\n",
       "      <th>Beer_3_full2.mzXML</th>\n",
       "      <th>Beer_3_full3.mzXML</th>\n",
       "      <th>Beer_4_full1.mzXML</th>\n",
       "      <th>Beer_4_full2.mzXML</th>\n",
       "      <th>Beer_4_full3.mzXML</th>\n",
       "    </tr>\n",
       "    <tr>\n",
       "      <th>row_id</th>\n",
       "      <th></th>\n",
       "      <th></th>\n",
       "      <th></th>\n",
       "      <th></th>\n",
       "      <th></th>\n",
       "      <th></th>\n",
       "      <th></th>\n",
       "      <th></th>\n",
       "      <th></th>\n",
       "      <th></th>\n",
       "      <th></th>\n",
       "      <th></th>\n",
       "    </tr>\n",
       "  </thead>\n",
       "  <tbody>\n",
       "    <tr>\n",
       "      <th>3033929</th>\n",
       "      <td>2.235291e+09</td>\n",
       "      <td>2.000478e+09</td>\n",
       "      <td>2.170697e+09</td>\n",
       "      <td>2.242760e+09</td>\n",
       "      <td>2.279882e+09</td>\n",
       "      <td>1.959480e+09</td>\n",
       "      <td>2.079356e+09</td>\n",
       "      <td>2.110473e+09</td>\n",
       "      <td>2.243653e+09</td>\n",
       "      <td>1.817065e+09</td>\n",
       "      <td>1.746443e+09</td>\n",
       "      <td>1.779827e+09</td>\n",
       "    </tr>\n",
       "    <tr>\n",
       "      <th>3033930</th>\n",
       "      <td>4.433491e+07</td>\n",
       "      <td>4.287387e+07</td>\n",
       "      <td>4.894853e+07</td>\n",
       "      <td>4.760448e+07</td>\n",
       "      <td>4.217280e+07</td>\n",
       "      <td>3.908452e+07</td>\n",
       "      <td>3.825778e+07</td>\n",
       "      <td>3.770192e+07</td>\n",
       "      <td>4.087189e+07</td>\n",
       "      <td>3.330477e+07</td>\n",
       "      <td>3.153630e+07</td>\n",
       "      <td>3.102410e+07</td>\n",
       "    </tr>\n",
       "    <tr>\n",
       "      <th>3033931</th>\n",
       "      <td>1.723985e+09</td>\n",
       "      <td>1.764235e+09</td>\n",
       "      <td>1.585143e+09</td>\n",
       "      <td>1.543961e+09</td>\n",
       "      <td>1.579320e+09</td>\n",
       "      <td>1.555666e+09</td>\n",
       "      <td>1.698130e+09</td>\n",
       "      <td>1.481824e+09</td>\n",
       "      <td>1.508645e+09</td>\n",
       "      <td>1.642510e+09</td>\n",
       "      <td>1.723919e+09</td>\n",
       "      <td>1.697806e+09</td>\n",
       "    </tr>\n",
       "    <tr>\n",
       "      <th>3033932</th>\n",
       "      <td>6.254237e+08</td>\n",
       "      <td>6.503417e+08</td>\n",
       "      <td>5.914975e+08</td>\n",
       "      <td>4.635929e+08</td>\n",
       "      <td>4.298382e+08</td>\n",
       "      <td>4.038747e+08</td>\n",
       "      <td>4.292837e+08</td>\n",
       "      <td>3.708761e+08</td>\n",
       "      <td>4.778932e+08</td>\n",
       "      <td>3.903165e+08</td>\n",
       "      <td>4.080995e+08</td>\n",
       "      <td>4.309892e+08</td>\n",
       "    </tr>\n",
       "    <tr>\n",
       "      <th>3033933</th>\n",
       "      <td>1.075022e+09</td>\n",
       "      <td>9.293474e+08</td>\n",
       "      <td>1.092635e+09</td>\n",
       "      <td>1.130720e+09</td>\n",
       "      <td>1.118146e+09</td>\n",
       "      <td>1.192834e+09</td>\n",
       "      <td>1.231442e+09</td>\n",
       "      <td>1.262046e+09</td>\n",
       "      <td>1.460653e+09</td>\n",
       "      <td>1.009838e+09</td>\n",
       "      <td>9.085111e+08</td>\n",
       "      <td>9.967176e+08</td>\n",
       "    </tr>\n",
       "  </tbody>\n",
       "</table>\n",
       "</div>"
      ],
      "text/plain": [
       "         Beer_1_full1.mzXML  Beer_1_full2.mzXML  Beer_1_full3.mzXML  \\\n",
       "row_id                                                                \n",
       "3033929        2.235291e+09        2.000478e+09        2.170697e+09   \n",
       "3033930        4.433491e+07        4.287387e+07        4.894853e+07   \n",
       "3033931        1.723985e+09        1.764235e+09        1.585143e+09   \n",
       "3033932        6.254237e+08        6.503417e+08        5.914975e+08   \n",
       "3033933        1.075022e+09        9.293474e+08        1.092635e+09   \n",
       "\n",
       "         Beer_2_full1.mzXML  Beer_2_full2.mzXML  Beer_2_full3.mzXML  \\\n",
       "row_id                                                                \n",
       "3033929        2.242760e+09        2.279882e+09        1.959480e+09   \n",
       "3033930        4.760448e+07        4.217280e+07        3.908452e+07   \n",
       "3033931        1.543961e+09        1.579320e+09        1.555666e+09   \n",
       "3033932        4.635929e+08        4.298382e+08        4.038747e+08   \n",
       "3033933        1.130720e+09        1.118146e+09        1.192834e+09   \n",
       "\n",
       "         Beer_3_full1.mzXML  Beer_3_full2.mzXML  Beer_3_full3.mzXML  \\\n",
       "row_id                                                                \n",
       "3033929        2.079356e+09        2.110473e+09        2.243653e+09   \n",
       "3033930        3.825778e+07        3.770192e+07        4.087189e+07   \n",
       "3033931        1.698130e+09        1.481824e+09        1.508645e+09   \n",
       "3033932        4.292837e+08        3.708761e+08        4.778932e+08   \n",
       "3033933        1.231442e+09        1.262046e+09        1.460653e+09   \n",
       "\n",
       "         Beer_4_full1.mzXML  Beer_4_full2.mzXML  Beer_4_full3.mzXML  \n",
       "row_id                                                               \n",
       "3033929        1.817065e+09        1.746443e+09        1.779827e+09  \n",
       "3033930        3.330477e+07        3.153630e+07        3.102410e+07  \n",
       "3033931        1.642510e+09        1.723919e+09        1.697806e+09  \n",
       "3033932        3.903165e+08        4.080995e+08        4.309892e+08  \n",
       "3033933        1.009838e+09        9.085111e+08        9.967176e+08  "
      ]
     },
     "execution_count": 11,
     "metadata": {},
     "output_type": "execute_result"
    }
   ],
   "source": [
    "int_df.head()"
   ]
  },
  {
   "cell_type": "code",
   "execution_count": 13,
   "metadata": {},
   "outputs": [
    {
     "data": {
      "text/html": [
       "<div>\n",
       "<style scoped>\n",
       "    .dataframe tbody tr th:only-of-type {\n",
       "        vertical-align: middle;\n",
       "    }\n",
       "\n",
       "    .dataframe tbody tr th {\n",
       "        vertical-align: top;\n",
       "    }\n",
       "\n",
       "    .dataframe thead th {\n",
       "        text-align: right;\n",
       "    }\n",
       "</style>\n",
       "<table border=\"1\" class=\"dataframe\">\n",
       "  <thead>\n",
       "    <tr style=\"text-align: right;\">\n",
       "      <th></th>\n",
       "      <th>entity_id</th>\n",
       "    </tr>\n",
       "    <tr>\n",
       "      <th>row_id</th>\n",
       "      <th></th>\n",
       "    </tr>\n",
       "  </thead>\n",
       "  <tbody>\n",
       "    <tr>\n",
       "      <th>3033929</th>\n",
       "      <td>C00148</td>\n",
       "    </tr>\n",
       "    <tr>\n",
       "      <th>3036581</th>\n",
       "      <td>C00148</td>\n",
       "    </tr>\n",
       "    <tr>\n",
       "      <th>3036855</th>\n",
       "      <td>C00148</td>\n",
       "    </tr>\n",
       "    <tr>\n",
       "      <th>3038249</th>\n",
       "      <td>C00148</td>\n",
       "    </tr>\n",
       "    <tr>\n",
       "      <th>3033929</th>\n",
       "      <td>C00163</td>\n",
       "    </tr>\n",
       "  </tbody>\n",
       "</table>\n",
       "</div>"
      ],
      "text/plain": [
       "        entity_id\n",
       "row_id           \n",
       "3033929    C00148\n",
       "3036581    C00148\n",
       "3036855    C00148\n",
       "3038249    C00148\n",
       "3033929    C00163"
      ]
     },
     "execution_count": 13,
     "metadata": {},
     "output_type": "execute_result"
    }
   ],
   "source": [
    "annotation_df.head()"
   ]
  },
  {
   "cell_type": "code",
   "execution_count": 14,
   "metadata": {},
   "outputs": [
    {
     "data": {
      "text/plain": [
       "{'beer1': ['Beer_1_full1.mzXML', 'Beer_1_full2.mzXML', 'Beer_1_full3.mzXML'],\n",
       " 'beer2': ['Beer_2_full1.mzXML', 'Beer_2_full2.mzXML', 'Beer_2_full3.mzXML'],\n",
       " 'beer3': ['Beer_3_full1.mzXML', 'Beer_3_full2.mzXML', 'Beer_3_full3.mzXML'],\n",
       " 'beer4': ['Beer_4_full1.mzXML', 'Beer_4_full2.mzXML', 'Beer_4_full3.mzXML']}"
      ]
     },
     "execution_count": 14,
     "metadata": {},
     "output_type": "execute_result"
    }
   ],
   "source": [
    "groups"
   ]
  },
  {
   "cell_type": "markdown",
   "metadata": {},
   "source": [
    "Define some comparisons. This should be specified by users from the interface.\n",
    "\n",
    "For simplicity, we can just let user specify one comparison at a time (what is currently the case in PALS Viewer), although the codes allow us to specify multiple comparisons."
   ]
  },
  {
   "cell_type": "code",
   "execution_count": 16,
   "metadata": {},
   "outputs": [],
   "source": [
    "comparisons = [\n",
    "    ('beer1', 'beer2'), \n",
    "    # ('beer3', 'beer4')\n",
    "]"
   ]
  },
  {
   "cell_type": "markdown",
   "metadata": {},
   "source": [
    "Create experimental design dictionary"
   ]
  },
  {
   "cell_type": "code",
   "execution_count": 19,
   "metadata": {},
   "outputs": [
    {
     "data": {
      "text/plain": [
       "{'groups': {'beer1': ['Beer_1_full1.mzXML',\n",
       "   'Beer_1_full2.mzXML',\n",
       "   'Beer_1_full3.mzXML'],\n",
       "  'beer2': ['Beer_2_full1.mzXML', 'Beer_2_full2.mzXML', 'Beer_2_full3.mzXML'],\n",
       "  'beer3': ['Beer_3_full1.mzXML', 'Beer_3_full2.mzXML', 'Beer_3_full3.mzXML'],\n",
       "  'beer4': ['Beer_4_full1.mzXML', 'Beer_4_full2.mzXML', 'Beer_4_full3.mzXML']},\n",
       " 'comparisons': [{'case': 'beer1', 'control': 'beer2', 'name': 'beer1/beer2'},\n",
       "  {'case': 'beer3', 'control': 'beer4', 'name': 'beer3/beer4'}]}"
      ]
     },
     "execution_count": 19,
     "metadata": {},
     "output_type": "execute_result"
    }
   ],
   "source": [
    "experimental_design = {\n",
    "    'groups': groups,\n",
    "    'comparisons': []\n",
    "}\n",
    "for case, control in comparisons:\n",
    "    experimental_design['comparisons'].append({\n",
    "        'case': case,\n",
    "        'control': control,\n",
    "        'name': '%s/%s' % (case, control)\n",
    "    })\n",
    "experimental_design"
   ]
  },
  {
   "cell_type": "markdown",
   "metadata": {},
   "source": [
    "### PALS analysis using KEGG database exported from PiMP"
   ]
  },
  {
   "cell_type": "code",
   "execution_count": 20,
   "metadata": {},
   "outputs": [
    {
     "name": "stderr",
     "output_type": "stream",
     "text": [
      "2020-07-25 15:25:17.591 | DEBUG    | pals.feature_extraction:__init__:43 - Using PiMP_KEGG as database\n",
      "2020-07-25 15:25:17.592 | DEBUG    | pals.loader:load_data:42 - Loading C:\\Users\\joewa\\Work\\git\\PALS\\pals\\data\\PiMP_KEGG.json.zip\n",
      "2020-07-25 15:25:17.617 | DEBUG    | pals.feature_extraction:__init__:56 - Mapping pathway to unique ids\n",
      "2020-07-25 15:25:17.625 | DEBUG    | pals.feature_extraction:__init__:70 - Creating dataset to pathway mapping\n",
      "2020-07-25 15:25:18.499 | DEBUG    | pals.feature_extraction:__init__:98 - Computing unique id counts\n"
     ]
    }
   ],
   "source": [
    "ds = DataSource(int_df, annotation_df, experimental_design, DATABASE_PIMP_KEGG)"
   ]
  },
  {
   "cell_type": "code",
   "execution_count": 21,
   "metadata": {},
   "outputs": [
    {
     "name": "stderr",
     "output_type": "stream",
     "text": [
      "2020-07-25 15:25:20.798 | DEBUG    | pals.feature_extraction:change_zero_peak_ints:308 - Setting the zero intensity values in the dataframe\n",
      "2020-07-25 15:25:20.805 | DEBUG    | pals.feature_extraction:change_zero_peak_ints:310 - 0\n",
      "2020-07-25 15:25:20.831 | DEBUG    | pals.feature_extraction:standardize_intensity_df:277 - Scaling the data across the sample: zero mean and unit variance\n",
      "2020-07-25 15:25:20.894 | DEBUG    | pals.PLAGE:get_plage_activity_df:84 - Mean values of the rows in the DF is [ 0.  0. -0. ...  0. -0. -0.]\n",
      "2020-07-25 15:25:20.895 | DEBUG    | pals.PLAGE:get_plage_activity_df:85 - Variance in the rows of the DF is [1. 1. 1. ... 1. 1. 1.]\n",
      "2020-07-25 15:25:21.130 | DEBUG    | pals.PLAGE:set_up_resample_plage_p_df:96 - Calculating plage p-values with resampling\n",
      "2020-07-25 15:25:21.131 | DEBUG    | pals.PLAGE:set_up_resample_plage_p_df:103 - Comparison beer1/beer2\n",
      "2020-07-25 15:25:21.131 | DEBUG    | pals.PLAGE:set_up_resample_plage_p_df:111 - Resampling 0/1000\n",
      "2020-07-25 15:25:21.239 | DEBUG    | pals.PLAGE:set_up_resample_plage_p_df:111 - Resampling 100/1000\n",
      "2020-07-25 15:25:21.339 | DEBUG    | pals.PLAGE:set_up_resample_plage_p_df:111 - Resampling 200/1000\n",
      "2020-07-25 15:25:21.447 | DEBUG    | pals.PLAGE:set_up_resample_plage_p_df:111 - Resampling 300/1000\n",
      "2020-07-25 15:25:21.548 | DEBUG    | pals.PLAGE:set_up_resample_plage_p_df:111 - Resampling 400/1000\n",
      "2020-07-25 15:25:21.650 | DEBUG    | pals.PLAGE:set_up_resample_plage_p_df:111 - Resampling 500/1000\n",
      "2020-07-25 15:25:21.755 | DEBUG    | pals.PLAGE:set_up_resample_plage_p_df:111 - Resampling 600/1000\n",
      "2020-07-25 15:25:21.880 | DEBUG    | pals.PLAGE:set_up_resample_plage_p_df:111 - Resampling 700/1000\n",
      "2020-07-25 15:25:22.003 | DEBUG    | pals.PLAGE:set_up_resample_plage_p_df:111 - Resampling 800/1000\n",
      "2020-07-25 15:25:22.117 | DEBUG    | pals.PLAGE:set_up_resample_plage_p_df:111 - Resampling 900/1000\n",
      "2020-07-25 15:25:22.463 | DEBUG    | pals.PLAGE:set_up_resample_plage_p_df:103 - Comparison beer3/beer4\n",
      "2020-07-25 15:25:22.463 | DEBUG    | pals.PLAGE:set_up_resample_plage_p_df:111 - Resampling 0/1000\n",
      "2020-07-25 15:25:22.571 | DEBUG    | pals.PLAGE:set_up_resample_plage_p_df:111 - Resampling 100/1000\n",
      "2020-07-25 15:25:22.674 | DEBUG    | pals.PLAGE:set_up_resample_plage_p_df:111 - Resampling 200/1000\n",
      "2020-07-25 15:25:22.792 | DEBUG    | pals.PLAGE:set_up_resample_plage_p_df:111 - Resampling 300/1000\n",
      "2020-07-25 15:25:22.896 | DEBUG    | pals.PLAGE:set_up_resample_plage_p_df:111 - Resampling 400/1000\n",
      "2020-07-25 15:25:22.994 | DEBUG    | pals.PLAGE:set_up_resample_plage_p_df:111 - Resampling 500/1000\n",
      "2020-07-25 15:25:23.103 | DEBUG    | pals.PLAGE:set_up_resample_plage_p_df:111 - Resampling 600/1000\n",
      "2020-07-25 15:25:23.203 | DEBUG    | pals.PLAGE:set_up_resample_plage_p_df:111 - Resampling 700/1000\n",
      "2020-07-25 15:25:23.307 | DEBUG    | pals.PLAGE:set_up_resample_plage_p_df:111 - Resampling 800/1000\n",
      "2020-07-25 15:25:23.410 | DEBUG    | pals.PLAGE:set_up_resample_plage_p_df:111 - Resampling 900/1000\n",
      "2020-07-25 15:25:23.680 | DEBUG    | pals.feature_extraction:_calculate_coverage_df:330 - Calculating dataset formula coverage\n"
     ]
    }
   ],
   "source": [
    "plage = PLAGE(ds)\n",
    "pathway_df = plage.get_pathway_df()"
   ]
  },
  {
   "cell_type": "code",
   "execution_count": 22,
   "metadata": {},
   "outputs": [
    {
     "data": {
      "text/html": [
       "<div>\n",
       "<style scoped>\n",
       "    .dataframe tbody tr th:only-of-type {\n",
       "        vertical-align: middle;\n",
       "    }\n",
       "\n",
       "    .dataframe tbody tr th {\n",
       "        vertical-align: top;\n",
       "    }\n",
       "\n",
       "    .dataframe thead th {\n",
       "        text-align: right;\n",
       "    }\n",
       "</style>\n",
       "<table border=\"1\" class=\"dataframe\">\n",
       "  <thead>\n",
       "    <tr style=\"text-align: right;\">\n",
       "      <th></th>\n",
       "      <th>pw_name</th>\n",
       "      <th>beer1/beer2 p-value</th>\n",
       "      <th>beer3/beer4 p-value</th>\n",
       "      <th>unq_pw_F</th>\n",
       "      <th>tot_ds_F</th>\n",
       "      <th>F_coverage</th>\n",
       "      <th>sf</th>\n",
       "      <th>exp_F</th>\n",
       "      <th>Ex_Cov</th>\n",
       "      <th>PiMP_KEGG beer1/beer2 comb_p</th>\n",
       "      <th>PiMP_KEGG beer3/beer4 comb_p</th>\n",
       "    </tr>\n",
       "  </thead>\n",
       "  <tbody>\n",
       "    <tr>\n",
       "      <th>map04740</th>\n",
       "      <td>Olfactory transduction</td>\n",
       "      <td>0.026375</td>\n",
       "      <td>0.431184</td>\n",
       "      <td>5</td>\n",
       "      <td>1</td>\n",
       "      <td>20.00</td>\n",
       "      <td>7.168639e-01</td>\n",
       "      <td>1.11</td>\n",
       "      <td>22.20</td>\n",
       "      <td>0.026375</td>\n",
       "      <td>0.431184</td>\n",
       "    </tr>\n",
       "    <tr>\n",
       "      <th>map07016</th>\n",
       "      <td>Sulfonamide derivatives - sulfa drugs</td>\n",
       "      <td>0.049165</td>\n",
       "      <td>1.000000</td>\n",
       "      <td>2</td>\n",
       "      <td>1</td>\n",
       "      <td>50.00</td>\n",
       "      <td>3.961500e-01</td>\n",
       "      <td>0.45</td>\n",
       "      <td>22.50</td>\n",
       "      <td>0.049165</td>\n",
       "      <td>1.000000</td>\n",
       "    </tr>\n",
       "    <tr>\n",
       "      <th>map05146</th>\n",
       "      <td>Amoebiasis</td>\n",
       "      <td>0.069790</td>\n",
       "      <td>0.064470</td>\n",
       "      <td>8</td>\n",
       "      <td>2</td>\n",
       "      <td>25.00</td>\n",
       "      <td>5.620670e-01</td>\n",
       "      <td>1.78</td>\n",
       "      <td>22.25</td>\n",
       "      <td>0.069790</td>\n",
       "      <td>0.064470</td>\n",
       "    </tr>\n",
       "    <tr>\n",
       "      <th>map00380</th>\n",
       "      <td>Tryptophan metabolism</td>\n",
       "      <td>0.075947</td>\n",
       "      <td>0.061184</td>\n",
       "      <td>64</td>\n",
       "      <td>34</td>\n",
       "      <td>53.12</td>\n",
       "      <td>5.093550e-08</td>\n",
       "      <td>14.26</td>\n",
       "      <td>22.28</td>\n",
       "      <td>0.075947</td>\n",
       "      <td>0.061184</td>\n",
       "    </tr>\n",
       "    <tr>\n",
       "      <th>map00460</th>\n",
       "      <td>Cyanoamino acid metabolism</td>\n",
       "      <td>0.086004</td>\n",
       "      <td>0.053661</td>\n",
       "      <td>40</td>\n",
       "      <td>25</td>\n",
       "      <td>62.50</td>\n",
       "      <td>4.257882e-08</td>\n",
       "      <td>8.92</td>\n",
       "      <td>22.30</td>\n",
       "      <td>0.086004</td>\n",
       "      <td>0.053661</td>\n",
       "    </tr>\n",
       "    <tr>\n",
       "      <th>...</th>\n",
       "      <td>...</td>\n",
       "      <td>...</td>\n",
       "      <td>...</td>\n",
       "      <td>...</td>\n",
       "      <td>...</td>\n",
       "      <td>...</td>\n",
       "      <td>...</td>\n",
       "      <td>...</td>\n",
       "      <td>...</td>\n",
       "      <td>...</td>\n",
       "      <td>...</td>\n",
       "    </tr>\n",
       "    <tr>\n",
       "      <th>map00190</th>\n",
       "      <td>Oxidative phosphorylation</td>\n",
       "      <td>1.000000</td>\n",
       "      <td>0.091739</td>\n",
       "      <td>13</td>\n",
       "      <td>4</td>\n",
       "      <td>30.77</td>\n",
       "      <td>3.253097e-01</td>\n",
       "      <td>2.90</td>\n",
       "      <td>22.31</td>\n",
       "      <td>1.000000</td>\n",
       "      <td>0.091739</td>\n",
       "    </tr>\n",
       "    <tr>\n",
       "      <th>map05032</th>\n",
       "      <td>Morphine addiction</td>\n",
       "      <td>1.000000</td>\n",
       "      <td>0.087153</td>\n",
       "      <td>8</td>\n",
       "      <td>3</td>\n",
       "      <td>37.50</td>\n",
       "      <td>2.552558e-01</td>\n",
       "      <td>1.78</td>\n",
       "      <td>22.25</td>\n",
       "      <td>1.000000</td>\n",
       "      <td>0.087153</td>\n",
       "    </tr>\n",
       "    <tr>\n",
       "      <th>map05012</th>\n",
       "      <td>Parkinson's disease</td>\n",
       "      <td>1.000000</td>\n",
       "      <td>0.122002</td>\n",
       "      <td>15</td>\n",
       "      <td>6</td>\n",
       "      <td>40.00</td>\n",
       "      <td>9.474547e-02</td>\n",
       "      <td>3.34</td>\n",
       "      <td>22.27</td>\n",
       "      <td>1.000000</td>\n",
       "      <td>0.122002</td>\n",
       "    </tr>\n",
       "    <tr>\n",
       "      <th>ingenza00004</th>\n",
       "      <td>BMA Synthesis</td>\n",
       "      <td>1.000000</td>\n",
       "      <td>0.317755</td>\n",
       "      <td>5</td>\n",
       "      <td>3</td>\n",
       "      <td>60.00</td>\n",
       "      <td>7.682999e-02</td>\n",
       "      <td>1.11</td>\n",
       "      <td>22.20</td>\n",
       "      <td>1.000000</td>\n",
       "      <td>0.317755</td>\n",
       "    </tr>\n",
       "    <tr>\n",
       "      <th>map00720</th>\n",
       "      <td>Carbon fixation pathways in prokaryotes</td>\n",
       "      <td>1.000000</td>\n",
       "      <td>0.029610</td>\n",
       "      <td>37</td>\n",
       "      <td>9</td>\n",
       "      <td>24.32</td>\n",
       "      <td>4.457575e-01</td>\n",
       "      <td>8.25</td>\n",
       "      <td>22.30</td>\n",
       "      <td>1.000000</td>\n",
       "      <td>0.029610</td>\n",
       "    </tr>\n",
       "  </tbody>\n",
       "</table>\n",
       "<p>226 rows × 11 columns</p>\n",
       "</div>"
      ],
      "text/plain": [
       "                                              pw_name  beer1/beer2 p-value  \\\n",
       "map04740                       Olfactory transduction             0.026375   \n",
       "map07016        Sulfonamide derivatives - sulfa drugs             0.049165   \n",
       "map05146                                   Amoebiasis             0.069790   \n",
       "map00380                        Tryptophan metabolism             0.075947   \n",
       "map00460                   Cyanoamino acid metabolism             0.086004   \n",
       "...                                               ...                  ...   \n",
       "map00190                    Oxidative phosphorylation             1.000000   \n",
       "map05032                           Morphine addiction             1.000000   \n",
       "map05012                          Parkinson's disease             1.000000   \n",
       "ingenza00004                            BMA Synthesis             1.000000   \n",
       "map00720      Carbon fixation pathways in prokaryotes             1.000000   \n",
       "\n",
       "              beer3/beer4 p-value  unq_pw_F  tot_ds_F  F_coverage  \\\n",
       "map04740                 0.431184         5         1       20.00   \n",
       "map07016                 1.000000         2         1       50.00   \n",
       "map05146                 0.064470         8         2       25.00   \n",
       "map00380                 0.061184        64        34       53.12   \n",
       "map00460                 0.053661        40        25       62.50   \n",
       "...                           ...       ...       ...         ...   \n",
       "map00190                 0.091739        13         4       30.77   \n",
       "map05032                 0.087153         8         3       37.50   \n",
       "map05012                 0.122002        15         6       40.00   \n",
       "ingenza00004             0.317755         5         3       60.00   \n",
       "map00720                 0.029610        37         9       24.32   \n",
       "\n",
       "                        sf  exp_F  Ex_Cov  PiMP_KEGG beer1/beer2 comb_p  \\\n",
       "map04740      7.168639e-01   1.11   22.20                      0.026375   \n",
       "map07016      3.961500e-01   0.45   22.50                      0.049165   \n",
       "map05146      5.620670e-01   1.78   22.25                      0.069790   \n",
       "map00380      5.093550e-08  14.26   22.28                      0.075947   \n",
       "map00460      4.257882e-08   8.92   22.30                      0.086004   \n",
       "...                    ...    ...     ...                           ...   \n",
       "map00190      3.253097e-01   2.90   22.31                      1.000000   \n",
       "map05032      2.552558e-01   1.78   22.25                      1.000000   \n",
       "map05012      9.474547e-02   3.34   22.27                      1.000000   \n",
       "ingenza00004  7.682999e-02   1.11   22.20                      1.000000   \n",
       "map00720      4.457575e-01   8.25   22.30                      1.000000   \n",
       "\n",
       "              PiMP_KEGG beer3/beer4 comb_p  \n",
       "map04740                          0.431184  \n",
       "map07016                          1.000000  \n",
       "map05146                          0.064470  \n",
       "map00380                          0.061184  \n",
       "map00460                          0.053661  \n",
       "...                                    ...  \n",
       "map00190                          0.091739  \n",
       "map05032                          0.087153  \n",
       "map05012                          0.122002  \n",
       "ingenza00004                      0.317755  \n",
       "map00720                          0.029610  \n",
       "\n",
       "[226 rows x 11 columns]"
      ]
     },
     "execution_count": 22,
     "metadata": {},
     "output_type": "execute_result"
    }
   ],
   "source": [
    "pathway_df.sort_values('PiMP_KEGG beer1/beer2 comb_p', ascending=True, inplace=True)\n",
    "pathway_df"
   ]
  }
 ],
 "metadata": {
  "kernelspec": {
   "display_name": "Python 3",
   "language": "python",
   "name": "python3"
  },
  "language_info": {
   "codemirror_mode": {
    "name": "ipython",
    "version": 3
   },
   "file_extension": ".py",
   "mimetype": "text/x-python",
   "name": "python",
   "nbconvert_exporter": "python",
   "pygments_lexer": "ipython3",
   "version": "3.7.3"
  }
 },
 "nbformat": 4,
 "nbformat_minor": 4
}
