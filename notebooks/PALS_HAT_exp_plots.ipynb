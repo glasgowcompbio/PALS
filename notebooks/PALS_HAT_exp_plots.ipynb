{
 "cells": [
  {
   "cell_type": "code",
   "execution_count": null,
   "metadata": {},
   "outputs": [],
   "source": [
    "%load_ext autoreload\n",
    "%autoreload 2"
   ]
  },
  {
   "cell_type": "code",
   "execution_count": null,
   "metadata": {},
   "outputs": [],
   "source": [
    "%pylab inline"
   ]
  },
  {
   "cell_type": "code",
   "execution_count": null,
   "metadata": {},
   "outputs": [],
   "source": [
    "import os\n",
    "import sys\n",
    "import pathlib\n",
    "import pickle\n",
    "\n",
    "sys.path.append('..')"
   ]
  },
  {
   "cell_type": "code",
   "execution_count": null,
   "metadata": {},
   "outputs": [],
   "source": [
    "import seaborn as sns\n",
    "import matplotlib.style as style\n",
    "import pandas as pd\n",
    "from sklearn.metrics import auc"
   ]
  },
  {
   "cell_type": "code",
   "execution_count": null,
   "metadata": {},
   "outputs": [],
   "source": [
    "from pals.evaluation import evaluate_performance, compute_pr_curve, get_method_true_answers, get_auc_for_hat_data\n",
    "from pals.common import *"
   ]
  },
  {
   "cell_type": "code",
   "execution_count": null,
   "metadata": {},
   "outputs": [],
   "source": [
    "style.use('seaborn-poster') # sets the size of the charts\n",
    "sns.set_context('poster') # everything is larger"
   ]
  },
  {
   "cell_type": "markdown",
   "metadata": {},
   "source": [
    "# HAT Data Evaluation"
   ]
  },
  {
   "cell_type": "markdown",
   "metadata": {},
   "source": [
    "This notebook is used to compute precision, recall and F-1 scores on the HAT data for the manuscript."
   ]
  },
  {
   "cell_type": "code",
   "execution_count": null,
   "metadata": {},
   "outputs": [],
   "source": [
    "base_dir = os.path.join('test_data', 'HAT')"
   ]
  },
  {
   "cell_type": "code",
   "execution_count": null,
   "metadata": {},
   "outputs": [],
   "source": [
    "results = load_obj(os.path.join(base_dir, 'HAT_results.p'))"
   ]
  },
  {
   "cell_type": "code",
   "execution_count": null,
   "metadata": {},
   "outputs": [],
   "source": [
    "# set_log_level_info()"
   ]
  },
  {
   "cell_type": "code",
   "execution_count": null,
   "metadata": {},
   "outputs": [],
   "source": [
    "N = None"
   ]
  },
  {
   "cell_type": "markdown",
   "metadata": {},
   "source": [
    "### Plasma"
   ]
  },
  {
   "cell_type": "code",
   "execution_count": null,
   "metadata": {},
   "outputs": [],
   "source": [
    "experiment_name = 'plasma'\n",
    "res = results[experiment_name]\n",
    "method_true_answers = get_method_true_answers(res, N=N)"
   ]
  },
  {
   "cell_type": "code",
   "execution_count": null,
   "metadata": {},
   "outputs": [],
   "source": [
    "plasma_f1_df = evaluate_performance(res, method_true_answers, N)"
   ]
  },
  {
   "cell_type": "code",
   "execution_count": null,
   "metadata": {},
   "outputs": [],
   "source": [
    "plasma_f1_df[plasma_f1_df['method'] == 'PALS'].groupby('proportion').describe()['F1']"
   ]
  },
  {
   "cell_type": "code",
   "execution_count": null,
   "metadata": {},
   "outputs": [],
   "source": [
    "plasma_f1_df[plasma_f1_df['method'] == 'ORA'].groupby('proportion').describe()['F1']"
   ]
  },
  {
   "cell_type": "code",
   "execution_count": null,
   "metadata": {},
   "outputs": [],
   "source": [
    "plasma_f1_df[plasma_f1_df['method'] == 'GSEA'].groupby('proportion').describe()['F1']"
   ]
  },
  {
   "cell_type": "code",
   "execution_count": null,
   "metadata": {},
   "outputs": [],
   "source": [
    "sns.boxplot(x='proportion', y='F1', hue='method', hue_order=['ORA', 'GSEA', 'PALS'], data=plasma_f1_df)\n",
    "plt.legend(loc='upper left')\n",
    "plt.title('Pathway Ranking Performance (Plasma)')\n",
    "plt.savefig(os.path.join('test_data', 'HAT', 'evaluation_plasma.eps'), dpi=300)"
   ]
  },
  {
   "cell_type": "code",
   "execution_count": null,
   "metadata": {},
   "outputs": [],
   "source": [
    "plasma_auc_df = get_auc_for_hat_data(res, method_true_answers)"
   ]
  },
  {
   "cell_type": "code",
   "execution_count": null,
   "metadata": {},
   "outputs": [],
   "source": [
    "sns.boxplot(x='proportion', y='auc', hue='method', hue_order=['ORA', 'GSEA', 'PALS'], data=plasma_auc_df)\n",
    "plt.legend(loc='upper left')\n",
    "plt.title('AUC Performance (Plasma)')\n",
    "plt.savefig(os.path.join('test_data', 'HAT', 'auc_plasma.eps'), dpi=300)"
   ]
  },
  {
   "cell_type": "markdown",
   "metadata": {},
   "source": [
    "### CSF"
   ]
  },
  {
   "cell_type": "code",
   "execution_count": null,
   "metadata": {},
   "outputs": [],
   "source": [
    "experiment_name = 'csf'\n",
    "res = results[experiment_name]\n",
    "method_true_answers = get_method_true_answers(res, N=N)"
   ]
  },
  {
   "cell_type": "code",
   "execution_count": null,
   "metadata": {},
   "outputs": [],
   "source": [
    "csf_f1_df = evaluate_performance(res, method_true_answers, N=N)"
   ]
  },
  {
   "cell_type": "code",
   "execution_count": null,
   "metadata": {},
   "outputs": [],
   "source": [
    "csf_f1_df[csf_f1_df['method'] == 'PALS'].groupby('proportion').describe()['F1']"
   ]
  },
  {
   "cell_type": "code",
   "execution_count": null,
   "metadata": {},
   "outputs": [],
   "source": [
    "csf_f1_df[csf_f1_df['method'] == 'ORA'].groupby('proportion').describe()['F1']"
   ]
  },
  {
   "cell_type": "code",
   "execution_count": null,
   "metadata": {},
   "outputs": [],
   "source": [
    "csf_f1_df[csf_f1_df['method'] == 'GSEA'].groupby('proportion').describe()['F1']"
   ]
  },
  {
   "cell_type": "code",
   "execution_count": null,
   "metadata": {},
   "outputs": [],
   "source": [
    "sns.boxplot(x='proportion', y='F1', hue='method', hue_order=['ORA', 'GSEA', 'PALS'], data=csf_f1_df)\n",
    "plt.title('Pathway Ranking Performance (CSF)')\n",
    "plt.legend(loc='upper left')\n",
    "plt.savefig(os.path.join('test_data', 'HAT', 'evaluation_csf.eps'), dpi=300)"
   ]
  },
  {
   "cell_type": "code",
   "execution_count": null,
   "metadata": {},
   "outputs": [],
   "source": [
    "csf_auc_df = get_auc_for_hat_data(res, method_true_answers)"
   ]
  },
  {
   "cell_type": "code",
   "execution_count": null,
   "metadata": {},
   "outputs": [],
   "source": [
    "sns.boxplot(x='proportion', y='auc', hue='method', hue_order=['ORA', 'GSEA', 'PALS'], data=csf_auc_df)\n",
    "plt.legend(loc='upper left')\n",
    "plt.title('AUC Performance (Plasma)')\n",
    "plt.savefig(os.path.join('test_data', 'HAT', 'auc_csf.eps'), dpi=300)"
   ]
  },
  {
   "cell_type": "markdown",
   "metadata": {},
   "source": [
    "### Combined Plot"
   ]
  },
  {
   "cell_type": "code",
   "execution_count": null,
   "metadata": {},
   "outputs": [],
   "source": [
    "plasma_f1_df['data'] = 'Plasma'\n",
    "csf_f1_df['data'] = 'CSF'"
   ]
  },
  {
   "cell_type": "code",
   "execution_count": null,
   "metadata": {},
   "outputs": [],
   "source": [
    "df = pd.concat([plasma_f1_df, csf_f1_df])\n",
    "df.shape"
   ]
  },
  {
   "cell_type": "code",
   "execution_count": null,
   "metadata": {},
   "outputs": [],
   "source": [
    "df"
   ]
  },
  {
   "cell_type": "code",
   "execution_count": null,
   "metadata": {},
   "outputs": [],
   "source": [
    "g = sns.catplot(x=\"proportion\", y=\"F1\", hue=\"method\", hue_order=['ORA', 'GSEA', 'PALS'], col=\"data\", data=df, kind=\"box\", height=10, aspect=0.7)\n",
    "plt.suptitle('Pathway Ranking Performance')\n",
    "# plt.legend(loc='upper left')\n",
    "plt.tight_layout(rect=[0, 0.03, 1, 0.95])\n",
    "plt.savefig(os.path.join('test_data', 'HAT', 'evaluation.eps'), dpi=300)"
   ]
  },
  {
   "cell_type": "markdown",
   "metadata": {},
   "source": [
    "#### True Positives"
   ]
  },
  {
   "cell_type": "code",
   "execution_count": null,
   "metadata": {},
   "outputs": [],
   "source": [
    "g = sns.catplot(x=\"TP\", col='proportion', hue=\"method\", data=plasma_f1_df, kind=\"count\", height=10, aspect=1.2, legend=False)\n",
    "plt.suptitle('True Positive Count (Plasma)', fontsize=48)\n",
    "plt.tight_layout(rect=[0, 0.03, 1, 0.90])\n",
    "plt.legend(loc='upper right')\n",
    "plt.savefig(os.path.join('test_data', 'HAT', 'evaluation_plasma_TP.eps'), dpi=300)"
   ]
  },
  {
   "cell_type": "code",
   "execution_count": null,
   "metadata": {},
   "outputs": [],
   "source": [
    "g = sns.catplot(x=\"TP\", col='proportion', hue=\"method\", data=csf_f1_df, kind=\"count\", height=10, aspect=1.2, legend=False)\n",
    "plt.suptitle('True Positive Count (CSF)', fontsize=48)\n",
    "plt.tight_layout(rect=[0, 0.03, 1, 0.90])\n",
    "plt.legend(loc='upper right')\n",
    "plt.savefig(os.path.join('test_data', 'HAT', 'evaluation_csf_TP.eps'), dpi=300)"
   ]
  },
  {
   "cell_type": "markdown",
   "metadata": {},
   "source": [
    "#### False Positives"
   ]
  },
  {
   "cell_type": "code",
   "execution_count": null,
   "metadata": {},
   "outputs": [],
   "source": [
    "g = sns.catplot(x=\"FP\", col='proportion', hue=\"method\", data=plasma_f1_df, kind=\"count\", height=10, aspect=1.2, legend=False)\n",
    "plt.suptitle('False Positive Count (Plasma)', fontsize=48)\n",
    "plt.tight_layout(rect=[0, 0.03, 1, 0.90])\n",
    "plt.legend(loc='upper right')\n",
    "plt.savefig(os.path.join('test_data', 'HAT', 'evaluation_plasma_FP.eps'), dpi=300)"
   ]
  },
  {
   "cell_type": "code",
   "execution_count": null,
   "metadata": {},
   "outputs": [],
   "source": [
    "g = sns.catplot(x=\"FP\", col='proportion', hue=\"method\", data=csf_f1_df, kind=\"count\", height=10, aspect=1.2, legend=False)\n",
    "plt.suptitle('False Positive Count (CSF)', fontsize=48)\n",
    "plt.tight_layout(rect=[0, 0.03, 1, 0.90])\n",
    "plt.legend(loc='upper right')\n",
    "plt.savefig(os.path.join('test_data', 'HAT', 'evaluation_csf_FP.eps'), dpi=300)"
   ]
  },
  {
   "cell_type": "markdown",
   "metadata": {},
   "source": [
    "#### False Negatives"
   ]
  },
  {
   "cell_type": "code",
   "execution_count": null,
   "metadata": {},
   "outputs": [],
   "source": [
    "g = sns.catplot(x=\"FN\", col='proportion', hue=\"method\", data=plasma_f1_df, kind=\"count\", height=10, aspect=1.2, legend=False)\n",
    "plt.suptitle('False Negative Count (Plasma)', fontsize=48)\n",
    "plt.tight_layout(rect=[0, 0.03, 1, 0.90])\n",
    "plt.legend(loc='upper right')\n",
    "plt.savefig(os.path.join('test_data', 'HAT', 'evaluation_plasma_FN.eps'), dpi=300)"
   ]
  },
  {
   "cell_type": "code",
   "execution_count": null,
   "metadata": {},
   "outputs": [],
   "source": [
    "g = sns.catplot(x=\"FN\", col='proportion', hue=\"method\", data=csf_f1_df, kind=\"count\", height=10, aspect=1.2, legend=False)\n",
    "plt.suptitle('False Negative Count (CSF)', fontsize=48)\n",
    "plt.tight_layout(rect=[0, 0.03, 1, 0.90])\n",
    "plt.legend(loc='upper right')\n",
    "plt.savefig(os.path.join('test_data', 'HAT', 'evaluation_csf_FN.eps'), dpi=300)"
   ]
  },
  {
   "cell_type": "code",
   "execution_count": null,
   "metadata": {},
   "outputs": [],
   "source": []
  }
 ],
 "metadata": {
  "kernelspec": {
   "display_name": "Django Shell-Plus",
   "language": "python",
   "name": "django_extensions"
  },
  "language_info": {
   "codemirror_mode": {
    "name": "ipython",
    "version": 3
   },
   "file_extension": ".py",
   "mimetype": "text/x-python",
   "name": "python",
   "nbconvert_exporter": "python",
   "pygments_lexer": "ipython3",
   "version": "3.7.3"
  }
 },
 "nbformat": 4,
 "nbformat_minor": 4
}
