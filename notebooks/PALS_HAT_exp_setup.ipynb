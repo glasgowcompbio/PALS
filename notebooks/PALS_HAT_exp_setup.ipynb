{
 "cells": [
  {
   "cell_type": "code",
   "execution_count": 1,
   "metadata": {},
   "outputs": [],
   "source": [
    "%load_ext autoreload\n",
    "%autoreload 2"
   ]
  },
  {
   "cell_type": "code",
   "execution_count": 2,
   "metadata": {},
   "outputs": [
    {
     "name": "stdout",
     "output_type": "stream",
     "text": [
      "Populating the interactive namespace from numpy and matplotlib\n"
     ]
    }
   ],
   "source": [
    "%pylab inline"
   ]
  },
  {
   "cell_type": "code",
   "execution_count": 3,
   "metadata": {},
   "outputs": [],
   "source": [
    "from loguru import logger"
   ]
  },
  {
   "cell_type": "code",
   "execution_count": 4,
   "metadata": {},
   "outputs": [],
   "source": [
    "import os\n",
    "import sys\n",
    "sys.path.append('..')"
   ]
  },
  {
   "cell_type": "code",
   "execution_count": 5,
   "metadata": {},
   "outputs": [
    {
     "name": "stderr",
     "output_type": "stream",
     "text": [
      "2020-02-04 14:32:23.310 | WARNING  | pals.reactome:get_neo4j_driver:14 - Using a default neo4j server: bolt://localhost:7687\n",
      "2020-02-04 14:32:23.311 | WARNING  | pals.reactome:get_neo4j_driver:19 - Using a default neo4j username or password: neo4j\n",
      "2020-02-04 14:32:23.352 | WARNING  | pals.reactome:get_neo4j_driver:27 - Failed to connect to graph database: Failed to establish connection to ('127.0.0.1', 7687) (reason [Errno 111] Connection refused)\n",
      "2020-02-04 14:32:23.353 | WARNING  | pals.reactome:<module>:34 - Driver initialisation failed. PALS will run without Reactome support.\n"
     ]
    }
   ],
   "source": [
    "from pals.pimp_tools import get_pimp_API_token_from_env, PIMP_HOST, download_from_pimp\n",
    "from pals.evaluation import run_resample_experiment, _select_significant_entries, _compute_prec_rec_f1\n",
    "from pals.common import *\n",
    "from pals.feature_extraction import DataSource\n",
    "from pals.PALS import PALS\n",
    "from pals.ORA import ORA"
   ]
  },
  {
   "cell_type": "markdown",
   "metadata": {},
   "source": [
    "# HAT Data Analysis"
   ]
  },
  {
   "cell_type": "markdown",
   "metadata": {},
   "source": [
    "This notebook is used to generate resampled data and run the different methods for comparison in the manuscript. Results are analysed in `PALS_HAT_experiment_evaluation.ipynb`"
   ]
  },
  {
   "cell_type": "markdown",
   "metadata": {},
   "source": [
    "### Load data"
   ]
  },
  {
   "cell_type": "markdown",
   "metadata": {},
   "source": [
    "Assume token is stored in environmental variable *PIMP_API_TOKEN*"
   ]
  },
  {
   "cell_type": "code",
   "execution_count": 6,
   "metadata": {},
   "outputs": [],
   "source": [
    "token = get_pimp_API_token_from_env()"
   ]
  },
  {
   "cell_type": "code",
   "execution_count": 7,
   "metadata": {},
   "outputs": [
    {
     "name": "stderr",
     "output_type": "stream",
     "text": [
      "2020-02-04 14:32:23.426 | DEBUG    | pals.pimp_tools:download_from_pimp:119 - Trying to load data from temp file: /tmp/pimp_analysis_636.p\n"
     ]
    }
   ],
   "source": [
    "analysis_id_plasma = 636\n",
    "int_df_plasma, annotation_df_plasma, experimental_design_plasma = download_from_pimp(token, PIMP_HOST, analysis_id_plasma, 'kegg')"
   ]
  },
  {
   "cell_type": "code",
   "execution_count": 8,
   "metadata": {},
   "outputs": [
    {
     "name": "stderr",
     "output_type": "stream",
     "text": [
      "2020-02-04 14:32:23.499 | DEBUG    | pals.pimp_tools:download_from_pimp:119 - Trying to load data from temp file: /tmp/pimp_analysis_635.p\n"
     ]
    }
   ],
   "source": [
    "analysis_id_csf = 635\n",
    "int_df_csf, annotation_df_csf, experimental_design_csf = download_from_pimp(token, PIMP_HOST, analysis_id_csf, 'kegg')"
   ]
  },
  {
   "cell_type": "markdown",
   "metadata": {},
   "source": [
    "### Create Data Sources"
   ]
  },
  {
   "cell_type": "code",
   "execution_count": 9,
   "metadata": {},
   "outputs": [
    {
     "name": "stderr",
     "output_type": "stream",
     "text": [
      "2020-02-04 14:32:23.543 | DEBUG    | pals.feature_extraction:__init__:42 - Using PiMP_KEGG as database\n",
      "2020-02-04 14:32:23.544 | DEBUG    | pals.feature_extraction:get_database:105 - Loading /home/joewandy/git/PALS/pals/data/PiMP_KEGG.json.zip\n",
      "2020-02-04 14:32:23.604 | DEBUG    | pals.feature_extraction:__init__:55 - Mapping pathway to unique ids\n",
      "2020-02-04 14:32:23.611 | DEBUG    | pals.feature_extraction:__init__:69 - Creating dataset to pathway mapping\n",
      "2020-02-04 14:32:24.142 | DEBUG    | pals.feature_extraction:__init__:97 - Computing unique id counts\n",
      "2020-02-04 14:32:24.153 | DEBUG    | pals.feature_extraction:__init__:42 - Using PiMP_KEGG as database\n",
      "2020-02-04 14:32:24.154 | DEBUG    | pals.feature_extraction:get_database:105 - Loading /home/joewandy/git/PALS/pals/data/PiMP_KEGG.json.zip\n",
      "2020-02-04 14:32:24.180 | DEBUG    | pals.feature_extraction:__init__:55 - Mapping pathway to unique ids\n",
      "2020-02-04 14:32:24.186 | DEBUG    | pals.feature_extraction:__init__:69 - Creating dataset to pathway mapping\n",
      "2020-02-04 14:32:24.594 | DEBUG    | pals.feature_extraction:__init__:97 - Computing unique id counts\n"
     ]
    }
   ],
   "source": [
    "database_name = DATABASE_PIMP_KEGG\n",
    "ds_plasma = DataSource(int_df_plasma, annotation_df_plasma, experimental_design_plasma, database_name)\n",
    "ds_csf = DataSource(int_df_csf, annotation_df_csf, experimental_design_csf, database_name)"
   ]
  },
  {
   "cell_type": "code",
   "execution_count": 10,
   "metadata": {},
   "outputs": [
    {
     "data": {
      "text/plain": [
       "(15584, 60)"
      ]
     },
     "execution_count": 10,
     "metadata": {},
     "output_type": "execute_result"
    }
   ],
   "source": [
    "ds_plasma.get_measurements().shape"
   ]
  },
  {
   "cell_type": "code",
   "execution_count": 11,
   "metadata": {},
   "outputs": [
    {
     "data": {
      "text/plain": [
       "(8154, 57)"
      ]
     },
     "execution_count": 11,
     "metadata": {},
     "output_type": "execute_result"
    }
   ],
   "source": [
    "ds_csf.get_measurements().shape"
   ]
  },
  {
   "cell_type": "markdown",
   "metadata": {},
   "source": [
    "# Run PALS Experiments"
   ]
  },
  {
   "cell_type": "code",
   "execution_count": 12,
   "metadata": {},
   "outputs": [],
   "source": [
    "prob_missing_peaks = np.array([0.2, 0.4, 0.6, 0.8])\n",
    "num_iterations = 500\n",
    "plage_weight = 1\n",
    "hg_weight = 0\n",
    "gsea_resamples = 1000\n",
    "gsea_ranking_method = GSEA_RANKING_SNR\n",
    "parallel = True"
   ]
  },
  {
   "cell_type": "code",
   "execution_count": 13,
   "metadata": {},
   "outputs": [],
   "source": [
    "results = {}"
   ]
  },
  {
   "cell_type": "markdown",
   "metadata": {},
   "source": [
    "#### Disable debug logging"
   ]
  },
  {
   "cell_type": "code",
   "execution_count": 14,
   "metadata": {},
   "outputs": [],
   "source": [
    "set_log_level_info()"
   ]
  },
  {
   "cell_type": "markdown",
   "metadata": {},
   "source": [
    "#### Run on Plasma samples"
   ]
  },
  {
   "cell_type": "code",
   "execution_count": 15,
   "metadata": {},
   "outputs": [],
   "source": [
    "data_source = ds_plasma\n",
    "experiment_name = 'plasma'\n",
    "case = 'Stage1'\n",
    "control = 'Control'\n",
    "significant_column = 'PiMP_KEGG Stage1/Control comb_p'"
   ]
  },
  {
   "cell_type": "code",
   "execution_count": 16,
   "metadata": {},
   "outputs": [
    {
     "name": "stderr",
     "output_type": "stream",
     "text": [
      "2020-02-04 14:32:24.772 | INFO     | pals.evaluation:run_resample_experiment:298 - prob_missing_peaks=0.20 n_sample=12467 PALS experiment=plasma case=Stage1 control=Control\n",
      "2020-02-04 14:37:29.569 | INFO     | pals.evaluation:run_resample_experiment:298 - prob_missing_peaks=0.40 n_sample=9350 PALS experiment=plasma case=Stage1 control=Control\n",
      "2020-02-04 14:41:30.489 | INFO     | pals.evaluation:run_resample_experiment:298 - prob_missing_peaks=0.60 n_sample=6233 PALS experiment=plasma case=Stage1 control=Control\n",
      "2020-02-04 14:44:26.588 | INFO     | pals.evaluation:run_resample_experiment:298 - prob_missing_peaks=0.80 n_sample=3116 PALS experiment=plasma case=Stage1 control=Control\n"
     ]
    }
   ],
   "source": [
    "res = run_resample_experiment(experiment_name, data_source, case, control, prob_missing_peaks, significant_column, num_iterations, plage_weight, hg_weight, gsea_resamples, gsea_ranking_method, parallel=parallel)\n",
    "results[experiment_name] = res"
   ]
  },
  {
   "cell_type": "markdown",
   "metadata": {},
   "source": [
    "#### Run on CSF samples"
   ]
  },
  {
   "cell_type": "code",
   "execution_count": 17,
   "metadata": {},
   "outputs": [],
   "source": [
    "data_source = ds_csf\n",
    "experiment_name = 'csf'\n",
    "case = 'Stage_2'\n",
    "control = 'Control'\n",
    "significant_column = 'PiMP_KEGG Stage_2/Control comb_p'"
   ]
  },
  {
   "cell_type": "code",
   "execution_count": 18,
   "metadata": {},
   "outputs": [
    {
     "name": "stderr",
     "output_type": "stream",
     "text": [
      "2020-02-04 14:46:14.617 | INFO     | pals.evaluation:run_resample_experiment:298 - prob_missing_peaks=0.20 n_sample=6523 PALS experiment=csf case=Stage_2 control=Control\n",
      "2020-02-04 14:50:15.303 | INFO     | pals.evaluation:run_resample_experiment:298 - prob_missing_peaks=0.40 n_sample=4892 PALS experiment=csf case=Stage_2 control=Control\n",
      "2020-02-04 14:53:33.147 | INFO     | pals.evaluation:run_resample_experiment:298 - prob_missing_peaks=0.60 n_sample=3261 PALS experiment=csf case=Stage_2 control=Control\n",
      "2020-02-04 14:56:01.870 | INFO     | pals.evaluation:run_resample_experiment:298 - prob_missing_peaks=0.80 n_sample=1630 PALS experiment=csf case=Stage_2 control=Control\n"
     ]
    }
   ],
   "source": [
    "res = run_resample_experiment(experiment_name, data_source, case, control, prob_missing_peaks, significant_column, num_iterations, plage_weight, hg_weight, gsea_resamples, gsea_ranking_method, parallel=parallel)\n",
    "results[experiment_name] = res"
   ]
  },
  {
   "cell_type": "markdown",
   "metadata": {},
   "source": [
    "#### Save Results"
   ]
  },
  {
   "cell_type": "code",
   "execution_count": 19,
   "metadata": {},
   "outputs": [],
   "source": [
    "save_obj(results, os.path.join('test_data', 'HAT', 'HAT_results.p'))"
   ]
  }
 ],
 "metadata": {
  "kernelspec": {
   "display_name": "Python 3",
   "language": "python",
   "name": "python3"
  },
  "language_info": {
   "codemirror_mode": {
    "name": "ipython",
    "version": 3
   },
   "file_extension": ".py",
   "mimetype": "text/x-python",
   "name": "python",
   "nbconvert_exporter": "python",
   "pygments_lexer": "ipython3",
   "version": "3.7.3"
  }
 },
 "nbformat": 4,
 "nbformat_minor": 4
}
