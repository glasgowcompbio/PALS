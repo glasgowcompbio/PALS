{
 "cells": [
  {
   "cell_type": "code",
   "execution_count": 1,
   "metadata": {},
   "outputs": [],
   "source": [
    "%load_ext autoreload\n",
    "%autoreload 2"
   ]
  },
  {
   "cell_type": "code",
   "execution_count": 2,
   "metadata": {},
   "outputs": [],
   "source": [
    "import os\n",
    "import sys\n",
    "import pathlib\n",
    "import pickle\n",
    "\n",
    "sys.path.append('..')"
   ]
  },
  {
   "cell_type": "code",
   "execution_count": 3,
   "metadata": {},
   "outputs": [],
   "source": [
    "import pandas as pd"
   ]
  },
  {
   "cell_type": "code",
   "execution_count": 4,
   "metadata": {},
   "outputs": [],
   "source": [
    "from pals.pimp_tools import get_pimp_API_token_from_env, PIMP_HOST, get_ms1_intensities, get_ms1_peaks, get_formula_df, get_experimental_design\n",
    "from pals.feature_extraction import DataSource\n",
    "from pals.pathway_analysis import PALS\n",
    "from pals.common import *"
   ]
  },
  {
   "cell_type": "markdown",
   "metadata": {},
   "source": [
    "# Beer Analysis"
   ]
  },
  {
   "cell_type": "markdown",
   "metadata": {},
   "source": [
    "### Load data"
   ]
  },
  {
   "cell_type": "markdown",
   "metadata": {},
   "source": [
    "Generate token by logging in to PiMP"
   ]
  },
  {
   "cell_type": "code",
   "execution_count": 5,
   "metadata": {},
   "outputs": [],
   "source": [
    "# username = 'joewandy' # PiMP username\n",
    "# password = 'enter' # PiMP password\n",
    "# host = 'localhost:8000' # server address and port\n",
    "# token = get_authentication_token(host, username, password)"
   ]
  },
  {
   "cell_type": "markdown",
   "metadata": {},
   "source": [
    "Assume token is stored in environmental variable *PIMP_API_TOKEN*"
   ]
  },
  {
   "cell_type": "code",
   "execution_count": 6,
   "metadata": {},
   "outputs": [],
   "source": [
    "token = get_pimp_API_token_from_env()"
   ]
  },
  {
   "cell_type": "code",
   "execution_count": 7,
   "metadata": {},
   "outputs": [],
   "source": [
    "analysis_id = 1321 # example beer analysis"
   ]
  },
  {
   "cell_type": "code",
   "execution_count": 8,
   "metadata": {},
   "outputs": [
    {
     "data": {
      "text/html": [
       "<div>\n",
       "<style scoped>\n",
       "    .dataframe tbody tr th:only-of-type {\n",
       "        vertical-align: middle;\n",
       "    }\n",
       "\n",
       "    .dataframe tbody tr th {\n",
       "        vertical-align: top;\n",
       "    }\n",
       "\n",
       "    .dataframe thead th {\n",
       "        text-align: right;\n",
       "    }\n",
       "</style>\n",
       "<table border=\"1\" class=\"dataframe\">\n",
       "  <thead>\n",
       "    <tr style=\"text-align: right;\">\n",
       "      <th></th>\n",
       "      <th>Beer_1_full1.mzXML</th>\n",
       "      <th>Beer_1_full2.mzXML</th>\n",
       "      <th>Beer_1_full3.mzXML</th>\n",
       "      <th>Beer_2_full1.mzXML</th>\n",
       "      <th>Beer_2_full2.mzXML</th>\n",
       "      <th>Beer_2_full3.mzXML</th>\n",
       "      <th>Beer_3_full1.mzXML</th>\n",
       "      <th>Beer_3_full2.mzXML</th>\n",
       "      <th>Beer_3_full3.mzXML</th>\n",
       "      <th>Beer_4_full1.mzXML</th>\n",
       "      <th>Beer_4_full2.mzXML</th>\n",
       "      <th>Beer_4_full3.mzXML</th>\n",
       "    </tr>\n",
       "    <tr>\n",
       "      <th>row_id</th>\n",
       "      <th></th>\n",
       "      <th></th>\n",
       "      <th></th>\n",
       "      <th></th>\n",
       "      <th></th>\n",
       "      <th></th>\n",
       "      <th></th>\n",
       "      <th></th>\n",
       "      <th></th>\n",
       "      <th></th>\n",
       "      <th></th>\n",
       "      <th></th>\n",
       "    </tr>\n",
       "  </thead>\n",
       "  <tbody>\n",
       "    <tr>\n",
       "      <th>3033929</th>\n",
       "      <td>2.235291e+09</td>\n",
       "      <td>2.000478e+09</td>\n",
       "      <td>2.170697e+09</td>\n",
       "      <td>2.242760e+09</td>\n",
       "      <td>2.279882e+09</td>\n",
       "      <td>1.959480e+09</td>\n",
       "      <td>2.079356e+09</td>\n",
       "      <td>2.110473e+09</td>\n",
       "      <td>2.243653e+09</td>\n",
       "      <td>1.817065e+09</td>\n",
       "      <td>1.746443e+09</td>\n",
       "      <td>1.779827e+09</td>\n",
       "    </tr>\n",
       "    <tr>\n",
       "      <th>3033930</th>\n",
       "      <td>4.433491e+07</td>\n",
       "      <td>4.287387e+07</td>\n",
       "      <td>4.894853e+07</td>\n",
       "      <td>4.760448e+07</td>\n",
       "      <td>4.217280e+07</td>\n",
       "      <td>3.908452e+07</td>\n",
       "      <td>3.825778e+07</td>\n",
       "      <td>3.770192e+07</td>\n",
       "      <td>4.087189e+07</td>\n",
       "      <td>3.330477e+07</td>\n",
       "      <td>3.153630e+07</td>\n",
       "      <td>3.102410e+07</td>\n",
       "    </tr>\n",
       "    <tr>\n",
       "      <th>3033931</th>\n",
       "      <td>1.723985e+09</td>\n",
       "      <td>1.764235e+09</td>\n",
       "      <td>1.585143e+09</td>\n",
       "      <td>1.543961e+09</td>\n",
       "      <td>1.579320e+09</td>\n",
       "      <td>1.555666e+09</td>\n",
       "      <td>1.698130e+09</td>\n",
       "      <td>1.481824e+09</td>\n",
       "      <td>1.508645e+09</td>\n",
       "      <td>1.642510e+09</td>\n",
       "      <td>1.723919e+09</td>\n",
       "      <td>1.697806e+09</td>\n",
       "    </tr>\n",
       "    <tr>\n",
       "      <th>3033932</th>\n",
       "      <td>6.254237e+08</td>\n",
       "      <td>6.503417e+08</td>\n",
       "      <td>5.914975e+08</td>\n",
       "      <td>4.635929e+08</td>\n",
       "      <td>4.298382e+08</td>\n",
       "      <td>4.038747e+08</td>\n",
       "      <td>4.292837e+08</td>\n",
       "      <td>3.708761e+08</td>\n",
       "      <td>4.778932e+08</td>\n",
       "      <td>3.903165e+08</td>\n",
       "      <td>4.080995e+08</td>\n",
       "      <td>4.309892e+08</td>\n",
       "    </tr>\n",
       "    <tr>\n",
       "      <th>3033933</th>\n",
       "      <td>1.075022e+09</td>\n",
       "      <td>9.293474e+08</td>\n",
       "      <td>1.092635e+09</td>\n",
       "      <td>1.130720e+09</td>\n",
       "      <td>1.118146e+09</td>\n",
       "      <td>1.192834e+09</td>\n",
       "      <td>1.231442e+09</td>\n",
       "      <td>1.262046e+09</td>\n",
       "      <td>1.460653e+09</td>\n",
       "      <td>1.009838e+09</td>\n",
       "      <td>9.085111e+08</td>\n",
       "      <td>9.967176e+08</td>\n",
       "    </tr>\n",
       "  </tbody>\n",
       "</table>\n",
       "</div>"
      ],
      "text/plain": [
       "         Beer_1_full1.mzXML  Beer_1_full2.mzXML  Beer_1_full3.mzXML  \\\n",
       "row_id                                                                \n",
       "3033929        2.235291e+09        2.000478e+09        2.170697e+09   \n",
       "3033930        4.433491e+07        4.287387e+07        4.894853e+07   \n",
       "3033931        1.723985e+09        1.764235e+09        1.585143e+09   \n",
       "3033932        6.254237e+08        6.503417e+08        5.914975e+08   \n",
       "3033933        1.075022e+09        9.293474e+08        1.092635e+09   \n",
       "\n",
       "         Beer_2_full1.mzXML  Beer_2_full2.mzXML  Beer_2_full3.mzXML  \\\n",
       "row_id                                                                \n",
       "3033929        2.242760e+09        2.279882e+09        1.959480e+09   \n",
       "3033930        4.760448e+07        4.217280e+07        3.908452e+07   \n",
       "3033931        1.543961e+09        1.579320e+09        1.555666e+09   \n",
       "3033932        4.635929e+08        4.298382e+08        4.038747e+08   \n",
       "3033933        1.130720e+09        1.118146e+09        1.192834e+09   \n",
       "\n",
       "         Beer_3_full1.mzXML  Beer_3_full2.mzXML  Beer_3_full3.mzXML  \\\n",
       "row_id                                                                \n",
       "3033929        2.079356e+09        2.110473e+09        2.243653e+09   \n",
       "3033930        3.825778e+07        3.770192e+07        4.087189e+07   \n",
       "3033931        1.698130e+09        1.481824e+09        1.508645e+09   \n",
       "3033932        4.292837e+08        3.708761e+08        4.778932e+08   \n",
       "3033933        1.231442e+09        1.262046e+09        1.460653e+09   \n",
       "\n",
       "         Beer_4_full1.mzXML  Beer_4_full2.mzXML  Beer_4_full3.mzXML  \n",
       "row_id                                                               \n",
       "3033929        1.817065e+09        1.746443e+09        1.779827e+09  \n",
       "3033930        3.330477e+07        3.153630e+07        3.102410e+07  \n",
       "3033931        1.642510e+09        1.723919e+09        1.697806e+09  \n",
       "3033932        3.903165e+08        4.080995e+08        4.309892e+08  \n",
       "3033933        1.009838e+09        9.085111e+08        9.967176e+08  "
      ]
     },
     "execution_count": 8,
     "metadata": {},
     "output_type": "execute_result"
    }
   ],
   "source": [
    "int_df_filename = os.path.join(os.getcwd(), 'test_data', 'int_df.p')\n",
    "try:\n",
    "    int_df = pd.read_pickle(int_df_filename)\n",
    "except FileNotFoundError:\n",
    "    int_df = get_ms1_intensities(token, PIMP_HOST, analysis_id)\n",
    "    int_df.to_pickle(int_df_filename)\n",
    "\n",
    "int_df.head()"
   ]
  },
  {
   "cell_type": "code",
   "execution_count": 9,
   "metadata": {
    "scrolled": true
   },
   "outputs": [
    {
     "data": {
      "text/html": [
       "<div>\n",
       "<style scoped>\n",
       "    .dataframe tbody tr th:only-of-type {\n",
       "        vertical-align: middle;\n",
       "    }\n",
       "\n",
       "    .dataframe tbody tr th {\n",
       "        vertical-align: top;\n",
       "    }\n",
       "\n",
       "    .dataframe thead th {\n",
       "        text-align: right;\n",
       "    }\n",
       "</style>\n",
       "<table border=\"1\" class=\"dataframe\">\n",
       "  <thead>\n",
       "    <tr style=\"text-align: right;\">\n",
       "      <th></th>\n",
       "      <th>entity_id</th>\n",
       "    </tr>\n",
       "    <tr>\n",
       "      <th>row_id</th>\n",
       "      <th></th>\n",
       "    </tr>\n",
       "  </thead>\n",
       "  <tbody>\n",
       "    <tr>\n",
       "      <th>3033929</th>\n",
       "      <td>C00148</td>\n",
       "    </tr>\n",
       "    <tr>\n",
       "      <th>3036581</th>\n",
       "      <td>C00148</td>\n",
       "    </tr>\n",
       "    <tr>\n",
       "      <th>3036855</th>\n",
       "      <td>C00148</td>\n",
       "    </tr>\n",
       "    <tr>\n",
       "      <th>3038249</th>\n",
       "      <td>C00148</td>\n",
       "    </tr>\n",
       "    <tr>\n",
       "      <th>3033929</th>\n",
       "      <td>C00163</td>\n",
       "    </tr>\n",
       "  </tbody>\n",
       "</table>\n",
       "</div>"
      ],
      "text/plain": [
       "        entity_id\n",
       "row_id           \n",
       "3033929    C00148\n",
       "3036581    C00148\n",
       "3036855    C00148\n",
       "3038249    C00148\n",
       "3033929    C00163"
      ]
     },
     "execution_count": 9,
     "metadata": {},
     "output_type": "execute_result"
    }
   ],
   "source": [
    "formula_df_filename = os.path.join(os.getcwd(), 'test_data', 'formula_df.p')\n",
    "try:\n",
    "    formula_df = pd.read_pickle(formula_df_filename)\n",
    "except FileNotFoundError:\n",
    "    formula_df = get_formula_df(token, PIMP_HOST, analysis_id, database_name, polarity='positive')\n",
    "    formula_df.to_pickle(formula_df_filename)\n",
    "\n",
    "formula_df.head()"
   ]
  },
  {
   "cell_type": "code",
   "execution_count": 10,
   "metadata": {},
   "outputs": [
    {
     "data": {
      "text/plain": [
       "{'comparisons': [{'case': 'beer1', 'control': 'beer2', 'name': 'beer1/beer2'},\n",
       "  {'case': 'beer3', 'control': 'beer4', 'name': 'beer3/beer4'}],\n",
       " 'groups': {'beer4': ['Beer_4_full3.mzXML',\n",
       "   'Beer_4_full2.mzXML',\n",
       "   'Beer_4_full1.mzXML'],\n",
       "  'beer3': ['Beer_3_full3.mzXML', 'Beer_3_full2.mzXML', 'Beer_3_full1.mzXML'],\n",
       "  'beer2': ['Beer_2_full3.mzXML', 'Beer_2_full1.mzXML', 'Beer_2_full2.mzXML'],\n",
       "  'beer1': ['Beer_1_full2.mzXML', 'Beer_1_full1.mzXML', 'Beer_1_full3.mzXML']}}"
      ]
     },
     "execution_count": 10,
     "metadata": {},
     "output_type": "execute_result"
    }
   ],
   "source": [
    "experimental_design_filename = os.path.join(os.getcwd(), 'test_data', 'experimental_design.p')\n",
    "try:\n",
    "    experimental_design_filename = os.path.join(os.getcwd(), 'test_data', 'experimental_design.p')\n",
    "    with open(experimental_design_filename, 'rb') as f:\n",
    "        experimental_design = pickle.load(f)\n",
    "except FileNotFoundError:\n",
    "    experimental_design = get_experimental_design(token, PIMP_HOST, analysis_id)\n",
    "    with open(experimental_design_filename, 'wb') as f:\n",
    "        pickle.dump(experimental_design, f)\n",
    "        \n",
    "experimental_design"
   ]
  },
  {
   "cell_type": "markdown",
   "metadata": {},
   "source": [
    "### PALS analysis using KEGG database exported from PiMP"
   ]
  },
  {
   "cell_type": "code",
   "execution_count": 11,
   "metadata": {},
   "outputs": [
    {
     "name": "stderr",
     "output_type": "stream",
     "text": [
      "2019-11-13 13:18:09.219 | DEBUG    | pals.feature_extraction:__init__:32 - Loading C:\\Users\\joewa\\Work\\git\\PALS\\pals\\data\\PiMP_KEGG.json.zip\n",
      "2019-11-13 13:18:09.243 | DEBUG    | pals.feature_extraction:__init__:60 - Mapping pathway to unique ids\n",
      "2019-11-13 13:18:09.250 | DEBUG    | pals.feature_extraction:__init__:74 - Creating dataset to pathway mapping\n",
      "2019-11-13 13:18:10.213 | DEBUG    | pals.feature_extraction:__init__:99 - Computing unique id counts\n"
     ]
    }
   ],
   "source": [
    "ds = DataSource(int_df, formula_df, experimental_design, DATABASE_PIMP_KEGG)"
   ]
  },
  {
   "cell_type": "code",
   "execution_count": 12,
   "metadata": {},
   "outputs": [
    {
     "name": "stderr",
     "output_type": "stream",
     "text": [
      "2019-11-13 13:18:10.289 | DEBUG    | pals.pathway_analysis:_change_zero_peak_ints:248 - Setting the zero intensity values in the dataframe\n",
      "2019-11-13 13:18:10.318 | DEBUG    | pals.pathway_analysis:_standardize_intensity_df:228 - Scaling the data across the sample: zero mean and unit variance\n",
      "2019-11-13 13:18:10.324 | DEBUG    | pals.pathway_analysis:get_plage_activity_df:67 - Mean values of the rows in the DF is [ 0.  0. -0. ... -0. -0. -0.]\n",
      "2019-11-13 13:18:10.325 | DEBUG    | pals.pathway_analysis:get_plage_activity_df:68 - Variance in the rows of the DF is [1. 1. 1. ... 1. 1. 1.]\n",
      "2019-11-13 13:18:11.418 | INFO     | pals.pathway_analysis:set_up_resample_plage_p_df:79 - Calculating plage p-values with resampling\n",
      "2019-11-13 13:18:11.419 | DEBUG    | pals.pathway_analysis:set_up_resample_plage_p_df:83 - Comparison beer1/beer2\n",
      "2019-11-13 13:18:11.419 | DEBUG    | pals.pathway_analysis:set_up_resample_plage_p_df:91 - Resampling 0/1000\n",
      "2019-11-13 13:18:11.518 | DEBUG    | pals.pathway_analysis:set_up_resample_plage_p_df:91 - Resampling 100/1000\n",
      "2019-11-13 13:18:11.616 | DEBUG    | pals.pathway_analysis:set_up_resample_plage_p_df:91 - Resampling 200/1000\n",
      "2019-11-13 13:18:11.712 | DEBUG    | pals.pathway_analysis:set_up_resample_plage_p_df:91 - Resampling 300/1000\n",
      "2019-11-13 13:18:11.810 | DEBUG    | pals.pathway_analysis:set_up_resample_plage_p_df:91 - Resampling 400/1000\n",
      "2019-11-13 13:18:11.909 | DEBUG    | pals.pathway_analysis:set_up_resample_plage_p_df:91 - Resampling 500/1000\n",
      "2019-11-13 13:18:12.004 | DEBUG    | pals.pathway_analysis:set_up_resample_plage_p_df:91 - Resampling 600/1000\n",
      "2019-11-13 13:18:12.110 | DEBUG    | pals.pathway_analysis:set_up_resample_plage_p_df:91 - Resampling 700/1000\n",
      "2019-11-13 13:18:12.213 | DEBUG    | pals.pathway_analysis:set_up_resample_plage_p_df:91 - Resampling 800/1000\n",
      "2019-11-13 13:18:12.318 | DEBUG    | pals.pathway_analysis:set_up_resample_plage_p_df:91 - Resampling 900/1000\n",
      "2019-11-13 13:18:12.414 | DEBUG    | pals.pathway_analysis:set_up_resample_plage_p_df:97 - Total time 0\n",
      "2019-11-13 13:18:12.595 | DEBUG    | pals.pathway_analysis:set_up_resample_plage_p_df:83 - Comparison beer3/beer4\n",
      "2019-11-13 13:18:12.596 | DEBUG    | pals.pathway_analysis:set_up_resample_plage_p_df:91 - Resampling 0/1000\n",
      "..\\pals\\pathway_analysis.py:313: RuntimeWarning: invalid value encountered in true_divide\n",
      "  tvalues = (m1 - m2) / se_total\n",
      "2019-11-13 13:18:12.694 | DEBUG    | pals.pathway_analysis:set_up_resample_plage_p_df:91 - Resampling 100/1000\n",
      "2019-11-13 13:18:12.787 | DEBUG    | pals.pathway_analysis:set_up_resample_plage_p_df:91 - Resampling 200/1000\n",
      "2019-11-13 13:18:12.889 | DEBUG    | pals.pathway_analysis:set_up_resample_plage_p_df:91 - Resampling 300/1000\n",
      "2019-11-13 13:18:12.981 | DEBUG    | pals.pathway_analysis:set_up_resample_plage_p_df:91 - Resampling 400/1000\n",
      "2019-11-13 13:18:13.073 | DEBUG    | pals.pathway_analysis:set_up_resample_plage_p_df:91 - Resampling 500/1000\n",
      "2019-11-13 13:18:13.167 | DEBUG    | pals.pathway_analysis:set_up_resample_plage_p_df:91 - Resampling 600/1000\n",
      "2019-11-13 13:18:13.269 | DEBUG    | pals.pathway_analysis:set_up_resample_plage_p_df:91 - Resampling 700/1000\n",
      "2019-11-13 13:18:13.384 | DEBUG    | pals.pathway_analysis:set_up_resample_plage_p_df:91 - Resampling 800/1000\n",
      "2019-11-13 13:18:13.488 | DEBUG    | pals.pathway_analysis:set_up_resample_plage_p_df:91 - Resampling 900/1000\n",
      "2019-11-13 13:18:13.583 | DEBUG    | pals.pathway_analysis:set_up_resample_plage_p_df:97 - Total time 0\n",
      "c:\\users\\joewa\\.virtualenvs\\pals-4ls44jcw\\lib\\site-packages\\scipy\\stats\\_distn_infrastructure.py:901: RuntimeWarning: invalid value encountered in less\n",
      "  return (a < x) & (x < b)\n",
      "c:\\users\\joewa\\.virtualenvs\\pals-4ls44jcw\\lib\\site-packages\\scipy\\stats\\_distn_infrastructure.py:1892: RuntimeWarning: invalid value encountered in less_equal\n",
      "  cond2 = cond0 & (x <= _a)\n",
      "2019-11-13 13:18:13.727 | INFO     | pals.pathway_analysis:_calculate_coverage_df:333 - Calculating dataset formula coverage\n",
      "2019-11-13 13:18:13.730 | INFO     | pals.pathway_analysis:calculate_hg_values:158 - Calculating the hyper-geometric p-values\n",
      "2019-11-13 13:18:13.888 | INFO     | pals.pathway_analysis:calculate_hg_values:190 - Calculating the combined p-values\n"
     ]
    }
   ],
   "source": [
    "pals = PALS(ds, min_replace=5000)\n",
    "pathway_df = pals.get_pathway_df()"
   ]
  },
  {
   "cell_type": "code",
   "execution_count": 13,
   "metadata": {},
   "outputs": [
    {
     "data": {
      "text/html": [
       "<div>\n",
       "<style scoped>\n",
       "    .dataframe tbody tr th:only-of-type {\n",
       "        vertical-align: middle;\n",
       "    }\n",
       "\n",
       "    .dataframe tbody tr th {\n",
       "        vertical-align: top;\n",
       "    }\n",
       "\n",
       "    .dataframe thead th {\n",
       "        text-align: right;\n",
       "    }\n",
       "</style>\n",
       "<table border=\"1\" class=\"dataframe\">\n",
       "  <thead>\n",
       "    <tr style=\"text-align: right;\">\n",
       "      <th></th>\n",
       "      <th>pw_name</th>\n",
       "      <th>beer1/beer2 p-value</th>\n",
       "      <th>beer3/beer4 p-value</th>\n",
       "      <th>unq_pw_F</th>\n",
       "      <th>tot_ds_F</th>\n",
       "      <th>F_coverage</th>\n",
       "      <th>sf</th>\n",
       "      <th>exp_F</th>\n",
       "      <th>Ex_Cov</th>\n",
       "      <th>PiMP_KEGG beer1/beer2  comb_p</th>\n",
       "      <th>PiMP_KEGG beer3/beer4  comb_p</th>\n",
       "    </tr>\n",
       "  </thead>\n",
       "  <tbody>\n",
       "    <tr>\n",
       "      <th>map00310</th>\n",
       "      <td>Lysine degradation</td>\n",
       "      <td>0.064377</td>\n",
       "      <td>0.047836</td>\n",
       "      <td>32</td>\n",
       "      <td>17</td>\n",
       "      <td>53.12</td>\n",
       "      <td>0.000050</td>\n",
       "      <td>7.13</td>\n",
       "      <td>22.28</td>\n",
       "      <td>0.012141</td>\n",
       "      <td>0.008266</td>\n",
       "    </tr>\n",
       "    <tr>\n",
       "      <th>map02020</th>\n",
       "      <td>Two-component system</td>\n",
       "      <td>0.146308</td>\n",
       "      <td>0.019298</td>\n",
       "      <td>34</td>\n",
       "      <td>15</td>\n",
       "      <td>44.12</td>\n",
       "      <td>0.001689</td>\n",
       "      <td>7.58</td>\n",
       "      <td>22.29</td>\n",
       "      <td>0.054051</td>\n",
       "      <td>0.004619</td>\n",
       "    </tr>\n",
       "    <tr>\n",
       "      <th>ingenza00001</th>\n",
       "      <td>Glycerol Utilisation</td>\n",
       "      <td>0.565172</td>\n",
       "      <td>0.083981</td>\n",
       "      <td>3</td>\n",
       "      <td>2</td>\n",
       "      <td>66.67</td>\n",
       "      <td>0.036777</td>\n",
       "      <td>0.67</td>\n",
       "      <td>22.33</td>\n",
       "      <td>0.424648</td>\n",
       "      <td>0.044290</td>\n",
       "    </tr>\n",
       "    <tr>\n",
       "      <th>map00760</th>\n",
       "      <td>Nicotinate and nicotinamide metabolism</td>\n",
       "      <td>0.103418</td>\n",
       "      <td>0.048513</td>\n",
       "      <td>40</td>\n",
       "      <td>21</td>\n",
       "      <td>52.50</td>\n",
       "      <td>0.000010</td>\n",
       "      <td>8.92</td>\n",
       "      <td>22.30</td>\n",
       "      <td>0.019069</td>\n",
       "      <td>0.006893</td>\n",
       "    </tr>\n",
       "    <tr>\n",
       "      <th>map00500</th>\n",
       "      <td>Starch and sucrose metabolism</td>\n",
       "      <td>0.283011</td>\n",
       "      <td>0.070189</td>\n",
       "      <td>19</td>\n",
       "      <td>11</td>\n",
       "      <td>57.89</td>\n",
       "      <td>0.000288</td>\n",
       "      <td>4.23</td>\n",
       "      <td>22.26</td>\n",
       "      <td>0.107858</td>\n",
       "      <td>0.016962</td>\n",
       "    </tr>\n",
       "    <tr>\n",
       "      <th>...</th>\n",
       "      <td>...</td>\n",
       "      <td>...</td>\n",
       "      <td>...</td>\n",
       "      <td>...</td>\n",
       "      <td>...</td>\n",
       "      <td>...</td>\n",
       "      <td>...</td>\n",
       "      <td>...</td>\n",
       "      <td>...</td>\n",
       "      <td>...</td>\n",
       "      <td>...</td>\n",
       "    </tr>\n",
       "    <tr>\n",
       "      <th>map05032</th>\n",
       "      <td>Morphine addiction</td>\n",
       "      <td>1.000000</td>\n",
       "      <td>0.063120</td>\n",
       "      <td>8</td>\n",
       "      <td>3</td>\n",
       "      <td>37.50</td>\n",
       "      <td>0.118536</td>\n",
       "      <td>1.78</td>\n",
       "      <td>22.25</td>\n",
       "      <td>1.000000</td>\n",
       "      <td>0.041701</td>\n",
       "    </tr>\n",
       "    <tr>\n",
       "      <th>map04068</th>\n",
       "      <td>FoxO signaling pathway</td>\n",
       "      <td>0.110979</td>\n",
       "      <td>0.116863</td>\n",
       "      <td>4</td>\n",
       "      <td>2</td>\n",
       "      <td>50.00</td>\n",
       "      <td>0.076830</td>\n",
       "      <td>0.89</td>\n",
       "      <td>22.25</td>\n",
       "      <td>0.069781</td>\n",
       "      <td>0.073879</td>\n",
       "    </tr>\n",
       "    <tr>\n",
       "      <th>map04626</th>\n",
       "      <td>Plant-pathogen interaction</td>\n",
       "      <td>0.941764</td>\n",
       "      <td>1.000000</td>\n",
       "      <td>7</td>\n",
       "      <td>1</td>\n",
       "      <td>14.29</td>\n",
       "      <td>0.562067</td>\n",
       "      <td>1.56</td>\n",
       "      <td>22.29</td>\n",
       "      <td>0.941781</td>\n",
       "      <td>1.000000</td>\n",
       "    </tr>\n",
       "    <tr>\n",
       "      <th>map00564</th>\n",
       "      <td>Glycerophospholipid metabolism</td>\n",
       "      <td>0.241965</td>\n",
       "      <td>0.033273</td>\n",
       "      <td>23</td>\n",
       "      <td>8</td>\n",
       "      <td>34.78</td>\n",
       "      <td>0.065948</td>\n",
       "      <td>5.13</td>\n",
       "      <td>22.30</td>\n",
       "      <td>0.163078</td>\n",
       "      <td>0.018104</td>\n",
       "    </tr>\n",
       "    <tr>\n",
       "      <th>map05146</th>\n",
       "      <td>Amoebiasis</td>\n",
       "      <td>0.042331</td>\n",
       "      <td>0.046890</td>\n",
       "      <td>8</td>\n",
       "      <td>2</td>\n",
       "      <td>25.00</td>\n",
       "      <td>0.323616</td>\n",
       "      <td>1.78</td>\n",
       "      <td>22.25</td>\n",
       "      <td>0.037496</td>\n",
       "      <td>0.041549</td>\n",
       "    </tr>\n",
       "  </tbody>\n",
       "</table>\n",
       "<p>226 rows × 11 columns</p>\n",
       "</div>"
      ],
      "text/plain": [
       "                                             pw_name  beer1/beer2 p-value  \\\n",
       "map00310                          Lysine degradation             0.064377   \n",
       "map02020                        Two-component system             0.146308   \n",
       "ingenza00001                    Glycerol Utilisation             0.565172   \n",
       "map00760      Nicotinate and nicotinamide metabolism             0.103418   \n",
       "map00500               Starch and sucrose metabolism             0.283011   \n",
       "...                                              ...                  ...   \n",
       "map05032                          Morphine addiction             1.000000   \n",
       "map04068                      FoxO signaling pathway             0.110979   \n",
       "map04626                  Plant-pathogen interaction             0.941764   \n",
       "map00564              Glycerophospholipid metabolism             0.241965   \n",
       "map05146                                  Amoebiasis             0.042331   \n",
       "\n",
       "              beer3/beer4 p-value  unq_pw_F  tot_ds_F  F_coverage        sf  \\\n",
       "map00310                 0.047836        32        17       53.12  0.000050   \n",
       "map02020                 0.019298        34        15       44.12  0.001689   \n",
       "ingenza00001             0.083981         3         2       66.67  0.036777   \n",
       "map00760                 0.048513        40        21       52.50  0.000010   \n",
       "map00500                 0.070189        19        11       57.89  0.000288   \n",
       "...                           ...       ...       ...         ...       ...   \n",
       "map05032                 0.063120         8         3       37.50  0.118536   \n",
       "map04068                 0.116863         4         2       50.00  0.076830   \n",
       "map04626                 1.000000         7         1       14.29  0.562067   \n",
       "map00564                 0.033273        23         8       34.78  0.065948   \n",
       "map05146                 0.046890         8         2       25.00  0.323616   \n",
       "\n",
       "              exp_F  Ex_Cov  PiMP_KEGG beer1/beer2  comb_p  \\\n",
       "map00310       7.13   22.28                       0.012141   \n",
       "map02020       7.58   22.29                       0.054051   \n",
       "ingenza00001   0.67   22.33                       0.424648   \n",
       "map00760       8.92   22.30                       0.019069   \n",
       "map00500       4.23   22.26                       0.107858   \n",
       "...             ...     ...                            ...   \n",
       "map05032       1.78   22.25                       1.000000   \n",
       "map04068       0.89   22.25                       0.069781   \n",
       "map04626       1.56   22.29                       0.941781   \n",
       "map00564       5.13   22.30                       0.163078   \n",
       "map05146       1.78   22.25                       0.037496   \n",
       "\n",
       "              PiMP_KEGG beer3/beer4  comb_p  \n",
       "map00310                           0.008266  \n",
       "map02020                           0.004619  \n",
       "ingenza00001                       0.044290  \n",
       "map00760                           0.006893  \n",
       "map00500                           0.016962  \n",
       "...                                     ...  \n",
       "map05032                           0.041701  \n",
       "map04068                           0.073879  \n",
       "map04626                           1.000000  \n",
       "map00564                           0.018104  \n",
       "map05146                           0.041549  \n",
       "\n",
       "[226 rows x 11 columns]"
      ]
     },
     "execution_count": 13,
     "metadata": {},
     "output_type": "execute_result"
    }
   ],
   "source": [
    "pathway_df"
   ]
  },
  {
   "cell_type": "code",
   "execution_count": 14,
   "metadata": {},
   "outputs": [],
   "source": [
    "output = os.path.join(os.getcwd(), 'test_data', 'pathway_df_pimp_kegg.csv')\n",
    "pathway_df.to_csv(output)"
   ]
  },
  {
   "cell_type": "markdown",
   "metadata": {},
   "source": [
    "### PALS analysis using KEGG database exported from Reactome"
   ]
  },
  {
   "cell_type": "code",
   "execution_count": null,
   "metadata": {},
   "outputs": [],
   "source": [
    "ds = DataSource(int_df, formula_df, experimental_design, DATABASE_REACTOME_KEGG, \n",
    "                reactome_species=REACTOME_SPECIES_HOMO_SAPIENS, reactome_metabolic_pathway_only=True)"
   ]
  },
  {
   "cell_type": "code",
   "execution_count": null,
   "metadata": {},
   "outputs": [],
   "source": [
    "pals = PALS(ds, min_replace=5000)\n",
    "pathway_df = pals.get_pathway_df()"
   ]
  },
  {
   "cell_type": "code",
   "execution_count": null,
   "metadata": {},
   "outputs": [],
   "source": [
    "pathway_df"
   ]
  },
  {
   "cell_type": "code",
   "execution_count": null,
   "metadata": {},
   "outputs": [],
   "source": [
    "output = os.path.join(os.getcwd(), 'test_data', 'pathway_df_reactome_kegg.csv')\n",
    "pathway_df.to_csv(output)"
   ]
  },
  {
   "cell_type": "markdown",
   "metadata": {},
   "source": [
    "### PALS analysis of compounds by connecting to Reactome"
   ]
  },
  {
   "cell_type": "code",
   "execution_count": null,
   "metadata": {},
   "outputs": [],
   "source": [
    "ds = DataSource(int_df, formula_df, experimental_design, DATABASE_REACTOME_KEGG, \n",
    "                reactome_species=REACTOME_SPECIES_HOMO_SAPIENS, reactome_metabolic_pathway_only=True, reactome_query=True)"
   ]
  },
  {
   "cell_type": "code",
   "execution_count": null,
   "metadata": {},
   "outputs": [],
   "source": [
    "pals = PALS(ds, min_replace=5000)\n",
    "pathway_df = pals.get_pathway_df()"
   ]
  },
  {
   "cell_type": "code",
   "execution_count": null,
   "metadata": {},
   "outputs": [],
   "source": [
    "pathway_df"
   ]
  },
  {
   "cell_type": "code",
   "execution_count": null,
   "metadata": {},
   "outputs": [],
   "source": [
    "output = os.path.join(os.getcwd(), 'test_data', 'pathway_df_reactome_query_kegg.csv')\n",
    "pathway_df.to_csv(output)"
   ]
  }
 ],
 "metadata": {
  "kernelspec": {
   "display_name": "Django Shell-Plus",
   "language": "python",
   "name": "django_extensions"
  },
  "language_info": {
   "codemirror_mode": {
    "name": "ipython",
    "version": 3
   },
   "file_extension": ".py",
   "mimetype": "text/x-python",
   "name": "python",
   "nbconvert_exporter": "python",
   "pygments_lexer": "ipython3",
   "version": "3.7.3"
  }
 },
 "nbformat": 4,
 "nbformat_minor": 4
}
