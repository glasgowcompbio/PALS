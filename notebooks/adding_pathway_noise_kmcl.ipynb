{
 "cells": [
  {
   "cell_type": "code",
   "execution_count": 1,
   "metadata": {
    "scrolled": true
   },
   "outputs": [
    {
     "name": "stdout",
     "output_type": "stream",
     "text": [
      "Populating the interactive namespace from numpy and matplotlib\n"
     ]
    }
   ],
   "source": [
    "%load_ext autoreload\n",
    "%autoreload 2\n",
    "%pylab inline\n"
   ]
  },
  {
   "cell_type": "code",
   "execution_count": 2,
   "metadata": {},
   "outputs": [],
   "source": [
    "import numpy as np\n",
    "import pandas as pd\n",
    "import os\n",
    "import collections\n",
    "import math \n",
    "from sklearn import preprocessing\n",
    "from IPython.display import display, HTML\n",
    "\n",
    "#from experiments.models import Analysis\n",
    "#from compound.models import Pathway, CompoundPathway, Compound\n",
    "#from data.models import Peak, Dataset, PeakDTSample, PeakQCSample\n",
    "#from fileupload.models import Sample\n",
    "from collections import defaultdict\n",
    "#from experiments.pipelines.pipeline_rpy2 import Rpy2PipelineMetadata\n",
    "#from experiments.pipelines.helpers import convert_to_dataframe"
   ]
  },
  {
   "cell_type": "markdown",
   "metadata": {},
   "source": [
    "### Construct a several pathways with 2 fold changes in the data (noise with std of 5 added)"
   ]
  },
  {
   "cell_type": "code",
   "execution_count": 3,
   "metadata": {},
   "outputs": [],
   "source": [
    "sample_fnames = [u'Control_4.mzXML', u'Control_3.mzXML', u'Control_2.mzXML', \n",
    "           u'Control_1.mzXML', u'Neg_fold_1.mzXML', u'Neg_fold_2.mzXML', u'Neg_fold_3.mzXML', u'Neg_fold_4.mzXML']\n",
    "data_names ={\"two\":2, \"four\":4, \"six\":6, \"ten\":10, \"twenty\":20, \"forty\":40, \"eighty\":80}"
   ]
  },
  {
   "cell_type": "markdown",
   "metadata": {},
   "source": [
    "### Set up a DF calcutating the T-test scores and the number of metabolites"
   ]
  },
  {
   "cell_type": "code",
   "execution_count": 4,
   "metadata": {},
   "outputs": [],
   "source": [
    "from scipy.stats import ttest_ind\n",
    "condition_1 = [u'Control_4.mzXML', u'Control_3.mzXML', u'Control_2.mzXML', u'Control_1.mzXML']\n",
    "condition_2 = [u'Neg_fold_1.mzXML', u'Neg_fold_2.mzXML', u'Neg_fold_3.mzXML', u'Neg_fold_4.mzXML']\n"
   ]
  },
  {
   "cell_type": "markdown",
   "metadata": {},
   "source": [
    "### A method to add a percentage of random peaks to a peak intensity df"
   ]
  },
  {
   "cell_type": "code",
   "execution_count": 5,
   "metadata": {},
   "outputs": [],
   "source": [
    "def add_random_peaks(int_df, percent):\n",
    "\n",
    "    #For each of the pathways add random peaks\n",
    "    rand_peak_list = []   \n",
    "    for name in data_names:\n",
    "\n",
    "        df_path = int_df.loc[name]\n",
    "        num_peaks = math.ceil((df_path.shape[0])*(percent/100.0))\n",
    "\n",
    "        num_samples = df_path.shape[1]\n",
    "        \n",
    "        #Generate random peaks for that pathway\n",
    "        \n",
    "        for p in range(int(num_peaks)):\n",
    "            rand_peaks = []\n",
    "            data = np.random.normal(0, 5, num_samples)\n",
    "            rand_peaks.append(name)\n",
    "            rand_peaks.extend(list(data))\n",
    "            rand_peak_list.append(rand_peaks)\n",
    "\n",
    "    #Construct a DF for the new peak list\n",
    "    ran_df = pd.DataFrame(rand_peak_list).set_index([0])\n",
    "    ran_df.columns=sample_fnames\n",
    "    \n",
    "    #Add the random peaks to the original DF\n",
    "    new_df = pd.concat([int_df, ran_df])\n",
    "    \n",
    "    scaled_data = preprocessing.scale(np.array(new_df), axis=1)\n",
    "    new_df[sample_fnames] = scaled_data\n",
    "    \n",
    "    return new_df\n",
    "    \n",
    "   "
   ]
  },
  {
   "cell_type": "markdown",
   "metadata": {},
   "source": [
    "### Method to return p-value and t-test for an activity DF"
   ]
  },
  {
   "cell_type": "code",
   "execution_count": 6,
   "metadata": {},
   "outputs": [],
   "source": [
    "def get_t_test(noisy_df):\n",
    "\n",
    "    t_test_list = []\n",
    "\n",
    "    for pathway, row in noisy_df.iterrows():\n",
    "        c1 = noisy_df.loc[pathway, condition_1].values\n",
    "        c2 = noisy_df.loc[pathway, condition_2].values\n",
    "        path_params = [pathway] + list(ttest_ind(c1,c2))\n",
    "        t_test_list.append(path_params)\n",
    "\n",
    "    t_test_df = pd.DataFrame(t_test_list).set_index([0])\n",
    "    t_test_df.columns = ['t-stat', 'EA_Score']\n",
    "\n",
    "    t_test_df = t_test_df.sort_values(by='EA_Score', ascending = True)\n",
    "\n",
    "    return t_test_df\n"
   ]
  },
  {
   "cell_type": "markdown",
   "metadata": {},
   "source": [
    "### Method to return the peak activities given a peak DF composed of pathways"
   ]
  },
  {
   "cell_type": "code",
   "execution_count": 7,
   "metadata": {},
   "outputs": [],
   "source": [
    "def get_pathway_act(int_df):\n",
    "    #For all of the pathways get all of the peak IDs\n",
    "    pathway_activities = []\n",
    "    for name in data_names:\n",
    "        pathway_peaks = int_df.loc[name] #DF selected from peak IDs.\n",
    "        w, d, c = np.linalg.svd(np.array(pathway_peaks))\n",
    "        pw_act_list = []\n",
    "        pw_act_list.append(name)\n",
    "        pw_act_list.extend(list(c[0]))\n",
    "\n",
    "        pathway_activities.append(pw_act_list)\n",
    "        \n",
    "        \n",
    "        activity_df = pd.DataFrame(pathway_activities).set_index([0])\n",
    "        activity_df.columns=int_df.columns\n",
    "        activity_df.index.name = \"Pathways\"\n",
    "\n",
    "\n",
    "    return activity_df\n"
   ]
  },
  {
   "cell_type": "code",
   "execution_count": 8,
   "metadata": {},
   "outputs": [],
   "source": [
    "def construct_fc_df(random=False):\n",
    "    sample_fnames = [u'Control_4.mzXML', u'Control_3.mzXML', u'Control_2.mzXML', \n",
    "           u'Control_1.mzXML', u'Neg_fold_1.mzXML', u'Neg_fold_2.mzXML', u'Neg_fold_3.mzXML', u'Neg_fold_4.mzXML']\n",
    "    data_names ={\"two\":2, \"four\":4, \"six\":6, \"ten\":10, \"twenty\":20, \"forty\":40, \"eighty\":80}\n",
    "\n",
    "    if not random:\n",
    "        data = [12.0, 12.0, 6.0, 6.0, -7.0, -7.0, -17.0, -17.0]\n",
    "    else:\n",
    "        data = data = np.random.normal(0, 1, 8)\n",
    "    pk_samp_intensities = []\n",
    "    for name, num in data_names.items():\n",
    "        for n in range(num):\n",
    "                peak_int_list =[]\n",
    "                peak_int_list.append(name) \n",
    "                data_noise = data + np.random.normal(0, 5, len(data))\n",
    "                peak_int_list.extend(list(data_noise)) #The intensities of all the samples for this peak.\n",
    "                pk_samp_intensities.append(peak_int_list)\n",
    "\n",
    "    fc_df = pd.DataFrame(pk_samp_intensities).set_index([0])\n",
    "\n",
    "    fc_df.columns=sample_fnames\n",
    "    fc_df.index.name = \"ms1_peak_id\"\n",
    "    fc_df.columns.name =\"sample_name\"\n",
    "\n",
    "    scaled_data = preprocessing.scale(np.array(fc_df), axis=1)\n",
    "\n",
    "    fc_df[sample_fnames] = scaled_data\n",
    "    \n",
    "    \n",
    "    return fc_df\n",
    "\n"
   ]
  },
  {
   "cell_type": "markdown",
   "metadata": {},
   "source": [
    "### Constuct the df*num_iterations and calculate the mean t-test scores\n"
   ]
  },
  {
   "cell_type": "code",
   "execution_count": 15,
   "metadata": {},
   "outputs": [],
   "source": [
    "def calc_av_p_scores(num_iterations, percent=None, random=False):\n",
    "    \n",
    "    for it in range(num_iterations):\n",
    "        fc_df = construct_fc_df(random) #Construct the fold change DF\n",
    "        pathway_acts = get_pathway_act(fc_df)\n",
    "\n",
    "        #If we want to add a percentatge of random peaks\n",
    "        if percent is not None:\n",
    "            add_random_df = add_random_peaks(fc_df, percent)\n",
    "            pathway_acts = get_pathway_act(add_random_df)\n",
    "        #Calulate the t-test results, if it is the first iteration, initialise the df.\n",
    "        if it == 0:   \n",
    "            t_results = get_t_test(pathway_acts).sort_index(axis=0)      \n",
    "        \n",
    "        else:  \n",
    "            t_results = t_results + get_t_test(pathway_acts).sort_index(axis=0)      \n",
    "\n",
    "    final = t_results/num_iterations\n",
    "    new_df = final.sort_values(by='EA_Score', ascending = True)\n",
    "    \n",
    "    return new_df\n"
   ]
  },
  {
   "cell_type": "code",
   "execution_count": 16,
   "metadata": {},
   "outputs": [],
   "source": [
    "fc_df = construct_fc_df(random=False)"
   ]
  },
  {
   "cell_type": "code",
   "execution_count": 17,
   "metadata": {},
   "outputs": [
    {
     "data": {
      "text/html": [
       "<div>\n",
       "<style scoped>\n",
       "    .dataframe tbody tr th:only-of-type {\n",
       "        vertical-align: middle;\n",
       "    }\n",
       "\n",
       "    .dataframe tbody tr th {\n",
       "        vertical-align: top;\n",
       "    }\n",
       "\n",
       "    .dataframe thead th {\n",
       "        text-align: right;\n",
       "    }\n",
       "</style>\n",
       "<table border=\"1\" class=\"dataframe\">\n",
       "  <thead>\n",
       "    <tr style=\"text-align: right;\">\n",
       "      <th>sample_name</th>\n",
       "      <th>Control_4.mzXML</th>\n",
       "      <th>Control_3.mzXML</th>\n",
       "      <th>Control_2.mzXML</th>\n",
       "      <th>Control_1.mzXML</th>\n",
       "      <th>Neg_fold_1.mzXML</th>\n",
       "      <th>Neg_fold_2.mzXML</th>\n",
       "      <th>Neg_fold_3.mzXML</th>\n",
       "      <th>Neg_fold_4.mzXML</th>\n",
       "    </tr>\n",
       "    <tr>\n",
       "      <th>ms1_peak_id</th>\n",
       "      <th></th>\n",
       "      <th></th>\n",
       "      <th></th>\n",
       "      <th></th>\n",
       "      <th></th>\n",
       "      <th></th>\n",
       "      <th></th>\n",
       "      <th></th>\n",
       "    </tr>\n",
       "  </thead>\n",
       "  <tbody>\n",
       "    <tr>\n",
       "      <th>two</th>\n",
       "      <td>1.066470</td>\n",
       "      <td>1.388058</td>\n",
       "      <td>-0.181862</td>\n",
       "      <td>0.764574</td>\n",
       "      <td>-0.476579</td>\n",
       "      <td>0.197167</td>\n",
       "      <td>-1.025729</td>\n",
       "      <td>-1.732099</td>\n",
       "    </tr>\n",
       "    <tr>\n",
       "      <th>two</th>\n",
       "      <td>1.194040</td>\n",
       "      <td>0.862207</td>\n",
       "      <td>0.782626</td>\n",
       "      <td>0.637518</td>\n",
       "      <td>-0.065087</td>\n",
       "      <td>-0.352372</td>\n",
       "      <td>-1.479437</td>\n",
       "      <td>-1.579494</td>\n",
       "    </tr>\n",
       "    <tr>\n",
       "      <th>four</th>\n",
       "      <td>1.036030</td>\n",
       "      <td>1.203439</td>\n",
       "      <td>0.873317</td>\n",
       "      <td>0.798030</td>\n",
       "      <td>-0.685316</td>\n",
       "      <td>-0.965951</td>\n",
       "      <td>-1.378110</td>\n",
       "      <td>-0.881439</td>\n",
       "    </tr>\n",
       "    <tr>\n",
       "      <th>four</th>\n",
       "      <td>1.645240</td>\n",
       "      <td>0.907181</td>\n",
       "      <td>0.503122</td>\n",
       "      <td>0.665857</td>\n",
       "      <td>-0.560334</td>\n",
       "      <td>-0.844026</td>\n",
       "      <td>-0.981010</td>\n",
       "      <td>-1.336030</td>\n",
       "    </tr>\n",
       "    <tr>\n",
       "      <th>four</th>\n",
       "      <td>1.227965</td>\n",
       "      <td>1.088522</td>\n",
       "      <td>0.345535</td>\n",
       "      <td>0.565268</td>\n",
       "      <td>0.083457</td>\n",
       "      <td>-0.208842</td>\n",
       "      <td>-1.492602</td>\n",
       "      <td>-1.609304</td>\n",
       "    </tr>\n",
       "  </tbody>\n",
       "</table>\n",
       "</div>"
      ],
      "text/plain": [
       "sample_name  Control_4.mzXML  Control_3.mzXML  Control_2.mzXML  \\\n",
       "ms1_peak_id                                                      \n",
       "two                 1.066470         1.388058        -0.181862   \n",
       "two                 1.194040         0.862207         0.782626   \n",
       "four                1.036030         1.203439         0.873317   \n",
       "four                1.645240         0.907181         0.503122   \n",
       "four                1.227965         1.088522         0.345535   \n",
       "\n",
       "sample_name  Control_1.mzXML  Neg_fold_1.mzXML  Neg_fold_2.mzXML  \\\n",
       "ms1_peak_id                                                        \n",
       "two                 0.764574         -0.476579          0.197167   \n",
       "two                 0.637518         -0.065087         -0.352372   \n",
       "four                0.798030         -0.685316         -0.965951   \n",
       "four                0.665857         -0.560334         -0.844026   \n",
       "four                0.565268          0.083457         -0.208842   \n",
       "\n",
       "sample_name  Neg_fold_3.mzXML  Neg_fold_4.mzXML  \n",
       "ms1_peak_id                                      \n",
       "two                 -1.025729         -1.732099  \n",
       "two                 -1.479437         -1.579494  \n",
       "four                -1.378110         -0.881439  \n",
       "four                -0.981010         -1.336030  \n",
       "four                -1.492602         -1.609304  "
      ]
     },
     "metadata": {},
     "output_type": "display_data"
    }
   ],
   "source": [
    "display(fc_df.head())"
   ]
  },
  {
   "cell_type": "markdown",
   "metadata": {},
   "source": [
    "### Heat map of the fold change matrix"
   ]
  },
  {
   "cell_type": "code",
   "execution_count": 18,
   "metadata": {},
   "outputs": [
    {
     "data": {
      "image/png": "[encoded data removed]",
      "text/plain": [
       "<Figure size 720x432 with 2 Axes>"
      ]
     },
     "metadata": {
      "needs_background": "light"
     },
     "output_type": "display_data"
    }
   ],
   "source": [
    "import seaborn as sns; \n",
    "plt.figure(figsize=(10, 6))\n",
    "sns.heatmap(fc_df, cmap=\"rainbow\")\n",
    "plt.title(\"Fold change intensity matrix\")\n",
    "plt.tight_layout()\n",
    "plt.savefig(\"fold_change.png\", dpi=300)"
   ]
  },
  {
   "cell_type": "markdown",
   "metadata": {},
   "source": [
    "### Box-plotting\n"
   ]
  },
  {
   "cell_type": "markdown",
   "metadata": {},
   "source": [
    "#### Example"
   ]
  },
  {
   "cell_type": "code",
   "execution_count": 19,
   "metadata": {},
   "outputs": [],
   "source": [
    "def construct_single_box_df(df, random_peaks):\n",
    "    columns = ['Pathway', \"Random_peaks\", \"EA_Score\"]\n",
    "    box_plot_df = pd.DataFrame(columns=columns)\n",
    "    box_plot_df.Pathway = list(df.index)\n",
    "    box_plot_df.Random_peaks=float(random_peaks)\n",
    "    box_plot_df.EA_Score = df.EA_Score.values\n",
    "    \n",
    "    return box_plot_df\n"
   ]
  },
  {
   "cell_type": "code",
   "execution_count": 20,
   "metadata": {},
   "outputs": [],
   "source": [
    "reqd_senarios = [[100,0],[100,50],[100,100],[100,200],[100,300], [100,1000]]"
   ]
  },
  {
   "cell_type": "code",
   "execution_count": 22,
   "metadata": {},
   "outputs": [
    {
     "data": {
      "text/html": [
       "<div>\n",
       "<style scoped>\n",
       "    .dataframe tbody tr th:only-of-type {\n",
       "        vertical-align: middle;\n",
       "    }\n",
       "\n",
       "    .dataframe tbody tr th {\n",
       "        vertical-align: top;\n",
       "    }\n",
       "\n",
       "    .dataframe thead th {\n",
       "        text-align: right;\n",
       "    }\n",
       "</style>\n",
       "<table border=\"1\" class=\"dataframe\">\n",
       "  <thead>\n",
       "    <tr style=\"text-align: right;\">\n",
       "      <th></th>\n",
       "      <th>Pathway</th>\n",
       "      <th>Random_peaks</th>\n",
       "      <th>EA_Score</th>\n",
       "    </tr>\n",
       "  </thead>\n",
       "  <tbody>\n",
       "    <tr>\n",
       "      <th>0</th>\n",
       "      <td>eighty</td>\n",
       "      <td>0.0</td>\n",
       "      <td>0.000822</td>\n",
       "    </tr>\n",
       "    <tr>\n",
       "      <th>1</th>\n",
       "      <td>forty</td>\n",
       "      <td>0.0</td>\n",
       "      <td>0.000926</td>\n",
       "    </tr>\n",
       "    <tr>\n",
       "      <th>2</th>\n",
       "      <td>twenty</td>\n",
       "      <td>0.0</td>\n",
       "      <td>0.000987</td>\n",
       "    </tr>\n",
       "    <tr>\n",
       "      <th>3</th>\n",
       "      <td>ten</td>\n",
       "      <td>0.0</td>\n",
       "      <td>0.001144</td>\n",
       "    </tr>\n",
       "    <tr>\n",
       "      <th>4</th>\n",
       "      <td>six</td>\n",
       "      <td>0.0</td>\n",
       "      <td>0.001561</td>\n",
       "    </tr>\n",
       "  </tbody>\n",
       "</table>\n",
       "</div>"
      ],
      "text/plain": [
       "  Pathway  Random_peaks  EA_Score\n",
       "0  eighty           0.0  0.000822\n",
       "1   forty           0.0  0.000926\n",
       "2  twenty           0.0  0.000987\n",
       "3     ten           0.0  0.001144\n",
       "4     six           0.0  0.001561"
      ]
     },
     "metadata": {},
     "output_type": "display_data"
    }
   ],
   "source": [
    "columns = ['Pathway', \"Random_peaks\", \"EA_Score\"]\n",
    "box_plot_df = pd.DataFrame(columns=columns)\n",
    "for rq_s in reqd_senarios:\n",
    "    if rq_s[1]==0:\n",
    "        df = calc_av_p_scores(rq_s[0])\n",
    "        single_box_df = construct_single_box_df(df,0)\n",
    "    elif rq_s[1]==\"random = True\":\n",
    "        df = calc_av_p_scores(rq_s[0], random=True)\n",
    "        single_box_df = construct_single_box_df(df,100)\n",
    "    else:\n",
    "        random = (rq_s[1]/(rq_s[1]+100))*100\n",
    "        df = calc_av_p_scores(rq_s[0], rq_s[1])\n",
    "        single_box_df = construct_single_box_df(df,random)\n",
    "    box_plot_df = box_plot_df.append(single_box_df, ignore_index=True)\n",
    "display (box_plot_df.head())\n",
    "\n",
    "    \n",
    "    "
   ]
  },
  {
   "cell_type": "code",
   "execution_count": null,
   "metadata": {},
   "outputs": [],
   "source": [
    "box_plot_df.Random_peaks.astype(float)"
   ]
  },
  {
   "cell_type": "code",
   "execution_count": 23,
   "metadata": {},
   "outputs": [
    {
     "data": {
      "text/plain": [
       "Pathway          object\n",
       "Random_peaks    float64\n",
       "EA_Score        float64\n",
       "dtype: object"
      ]
     },
     "execution_count": 23,
     "metadata": {},
     "output_type": "execute_result"
    }
   ],
   "source": [
    "box_plot_df.dtypes"
   ]
  },
  {
   "cell_type": "code",
   "execution_count": 24,
   "metadata": {},
   "outputs": [],
   "source": [
    "box_df = box_plot_df.round({'Random_peaks': 1})"
   ]
  },
  {
   "cell_type": "code",
   "execution_count": 88,
   "metadata": {},
   "outputs": [
    {
     "name": "stderr",
     "output_type": "stream",
     "text": [
      "The PostScript backend does not support transparency; partially transparent artists will be rendered opaque.\n",
      "The PostScript backend does not support transparency; partially transparent artists will be rendered opaque.\n"
     ]
    },
    {
     "data": {
      "image/png": "[encoded data removed]",
      "text/plain": [
       "<Figure size 921.6x633.6 with 1 Axes>"
      ]
     },
     "metadata": {},
     "output_type": "display_data"
    }
   ],
   "source": [
    "style.use('seaborn-poster') #sets the size of the charts\n",
    "sns.set(style=\"whitegrid\")\n",
    "style.use('ggplot')\n",
    "sns.set_context('poster')  #Everything is larger\n",
    "ax = sns.boxplot(x=\"Random_peaks\", y=\"EA_Score\", data=box_df, palette=(\"icefire\"))\n",
    "ax = sns.swarmplot(x=\"Random_peaks\", y=\"EA_Score\", hue=\"Pathway\", data=box_df, size=10, palette=(\"YlGnBu\"))\n",
    "ax.set(xlabel='Random peaks (%)', ylabel='EA Score')\n",
    "plt.title(\"EA Score versus addition of random peak intensity data\")\n",
    "plt.tight_layout()\n",
    "plt.savefig(\"box_plot.eps\", dpi=300)"
   ]
  },
  {
   "cell_type": "code",
   "execution_count": 77,
   "metadata": {},
   "outputs": [],
   "source": []
  },
  {
   "cell_type": "code",
   "execution_count": 86,
   "metadata": {},
   "outputs": [
    {
     "data": {
      "text/plain": [
       "<Figure size 921.6x633.6 with 0 Axes>"
      ]
     },
     "metadata": {},
     "output_type": "display_data"
    }
   ],
   "source": []
  },
  {
   "cell_type": "markdown",
   "metadata": {},
   "source": [
    "### Sampling the p-values over a pathways with a number of different peaks ( none random )"
   ]
  },
  {
   "cell_type": "code",
   "execution_count": null,
   "metadata": {
    "scrolled": true
   },
   "outputs": [],
   "source": [
    "no_change_df = calc_av_p_scores(100)\n",
    "display (no_change_df)"
   ]
  },
  {
   "cell_type": "code",
   "execution_count": null,
   "metadata": {},
   "outputs": [],
   "source": [
    "plt.plot(no_change_df['EA_Score'])"
   ]
  },
  {
   "cell_type": "markdown",
   "metadata": {},
   "source": [
    "### Adding a pecentage of random peaks to the pathways STD = 5"
   ]
  },
  {
   "cell_type": "code",
   "execution_count": null,
   "metadata": {},
   "outputs": [],
   "source": [
    "random_50_df = calc_av_p_scores(100,50)\n",
    "display (random_50_df)"
   ]
  },
  {
   "cell_type": "code",
   "execution_count": null,
   "metadata": {},
   "outputs": [],
   "source": [
    "plt.plot(random_50_df['EA_Score'])"
   ]
  },
  {
   "cell_type": "code",
   "execution_count": null,
   "metadata": {
    "scrolled": true
   },
   "outputs": [],
   "source": [
    "random_100_df = calc_av_p_scores(100,100)\n",
    "display (random_100_df)"
   ]
  },
  {
   "cell_type": "code",
   "execution_count": null,
   "metadata": {},
   "outputs": [],
   "source": [
    "random_200_df = calc_av_p_scores(100,200)\n",
    "display (random_200_df)"
   ]
  },
  {
   "cell_type": "code",
   "execution_count": null,
   "metadata": {},
   "outputs": [],
   "source": [
    "random_1000_df = calc_av_p_scores(100,1000)\n",
    "display (random_1000_df)"
   ]
  },
  {
   "cell_type": "markdown",
   "metadata": {},
   "source": [
    "### Adding a pecentage of random peaks to the pathways STD = 1"
   ]
  },
  {
   "cell_type": "code",
   "execution_count": null,
   "metadata": {},
   "outputs": [],
   "source": [
    "random_50_df_1 = calc_av_p_scores(100,50)\n",
    "display (random_50_df_1)"
   ]
  },
  {
   "cell_type": "code",
   "execution_count": null,
   "metadata": {
    "scrolled": true
   },
   "outputs": [],
   "source": [
    "random_100_df_1 = calc_av_p_scores(100,100)\n",
    "display (random_100_df_1)"
   ]
  },
  {
   "cell_type": "code",
   "execution_count": null,
   "metadata": {},
   "outputs": [],
   "source": [
    "random_200_df_1 = calc_av_p_scores(100,200)\n",
    "display (random_200_df_1)"
   ]
  },
  {
   "cell_type": "markdown",
   "metadata": {},
   "source": [
    "### Nothing is changing, it's all random"
   ]
  },
  {
   "cell_type": "code",
   "execution_count": null,
   "metadata": {},
   "outputs": [],
   "source": [
    "all_random = calc_av_p_scores(100, random = True)\n",
    "display (all_random)"
   ]
  },
  {
   "cell_type": "code",
   "execution_count": null,
   "metadata": {},
   "outputs": [],
   "source": []
  },
  {
   "cell_type": "code",
   "execution_count": null,
   "metadata": {},
   "outputs": [],
   "source": []
  }
 ],
 "metadata": {
  "kernelspec": {
   "display_name": "Python 3",
   "language": "python",
   "name": "python3"
  },
  "language_info": {
   "codemirror_mode": {
    "name": "ipython",
    "version": 3
   },
   "file_extension": ".py",
   "mimetype": "text/x-python",
   "name": "python",
   "nbconvert_exporter": "python",
   "pygments_lexer": "ipython3",
   "version": "3.7.0"
  }
 },
 "nbformat": 4,
 "nbformat_minor": 4
}
