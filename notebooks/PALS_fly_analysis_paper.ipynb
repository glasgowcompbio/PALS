{
 "cells": [
  {
   "cell_type": "code",
   "execution_count": 59,
   "metadata": {},
   "outputs": [
    {
     "name": "stdout",
     "output_type": "stream",
     "text": [
      "The autoreload extension is already loaded. To reload it, use:\n",
      "  %reload_ext autoreload\n"
     ]
    }
   ],
   "source": [
    "%load_ext autoreload\n",
    "%autoreload 2\n",
    "\n"
   ]
  },
  {
   "cell_type": "code",
   "execution_count": 60,
   "metadata": {},
   "outputs": [],
   "source": [
    "import os\n",
    "os.environ[\"DJANGO_ALLOW_ASYNC_UNSAFE\"] = \"true\"\n",
    "import sys\n",
    "import pathlib\n",
    "import pickle\n",
    "import numpy as np\n",
    "import re\n",
    "import pandas as pd\n",
    "import math"
   ]
  },
  {
   "cell_type": "code",
   "execution_count": 61,
   "metadata": {},
   "outputs": [],
   "source": [
    "import pals\n",
    "from pals.pimp_tools import get_pimp_API_token_from_env, PIMP_HOST, download_from_pimp, get_ms1_peaks\n",
    "from pals.feature_extraction import DataSource\n",
    "from pals.PALS import PALS\n",
    "from pals.ORA import ORA\n",
    "from pals.common import *\n",
    "from scipy.sparse import coo_matrix\n",
    "import matplotlib.pyplot as plt\n"
   ]
  },
  {
   "cell_type": "code",
   "execution_count": 57,
   "metadata": {},
   "outputs": [],
   "source": [
    "import django\n",
    "from met_explore.models import *\n",
    "from met_explore.compound_selection import CompoundSelector"
   ]
  },
  {
   "cell_type": "code",
   "execution_count": 58,
   "metadata": {},
   "outputs": [
    {
     "name": "stderr",
     "output_type": "stream",
     "text": [
      "Checking for Standard compounds without DB identifiers\n"
     ]
    }
   ],
   "source": [
    "cmpd_select = CompoundSelector()\n",
    "cmpd_select.update_std_cmpds()"
   ]
  },
  {
   "cell_type": "markdown",
   "metadata": {},
   "source": [
    "## Get Fly intensity DF from DB"
   ]
  },
  {
   "cell_type": "markdown",
   "metadata": {},
   "source": [
    "Assume token is stored in environmental variable *PIMP_API_TOKEN*"
   ]
  },
  {
   "cell_type": "code",
   "execution_count": 62,
   "metadata": {},
   "outputs": [],
   "source": [
    "token = get_pimp_API_token_from_env()"
   ]
  },
  {
   "cell_type": "code",
   "execution_count": 7,
   "metadata": {},
   "outputs": [],
   "source": [
    "\"\"\"\n",
    "Get an peak_id v sample_id DF containing all the peak intesity values. For use in the pathway analysis.\n",
    "\"\"\"\n",
    "def get_pals_int_df():\n",
    "    # Sample peaks are all the sample peaks that we want to look at - in the case of FlyMet this is all the peaks\n",
    "    psi = SamplePeak.objects.values_list('peak', 'sample', 'intensity')\n",
    "    peaks, samples, intensities = zip(*psi)\n",
    "    dpeaks = sorted(list(set(peaks)))\n",
    "    dsamples = sorted(list(set(samples)))\n",
    "    peakdict = dict(zip(dpeaks, range(len(dpeaks))))\n",
    "    sampledict = dict(zip(dsamples, range(len(dsamples))))\n",
    "    \n",
    "    rows = [peakdict[_] for _ in peaks]\n",
    "    cols = [sampledict[_] for _ in samples]\n",
    "    data = coo_matrix((intensities, (rows, cols)),  dtype=np.float32)\n",
    "    sample_names = Sample.objects.filter(id__in=dsamples).order_by('id').values_list('name', flat=True)\n",
    "    \n",
    "    int_df = pd.DataFrame(data.todense(), index=dpeaks, columns=sample_names)\n",
    "    int_df.replace(0, np.nan, inplace=True)\n",
    "    int_df.index.name = \"row_id\"\n",
    "#     int_df.columns.name = \"sample_name\"\n",
    "    \n",
    "    return int_df\n",
    "    \n",
    "    "
   ]
  },
  {
   "cell_type": "code",
   "execution_count": 8,
   "metadata": {},
   "outputs": [],
   "source": [
    "fly_int_df = get_pals_int_df()"
   ]
  },
  {
   "cell_type": "code",
   "execution_count": 9,
   "metadata": {},
   "outputs": [
    {
     "data": {
      "text/html": [
       "<div>\n",
       "<style scoped>\n",
       "    .dataframe tbody tr th:only-of-type {\n",
       "        vertical-align: middle;\n",
       "    }\n",
       "\n",
       "    .dataframe tbody tr th {\n",
       "        vertical-align: top;\n",
       "    }\n",
       "\n",
       "    .dataframe thead th {\n",
       "        text-align: right;\n",
       "    }\n",
       "</style>\n",
       "<table border=\"1\" class=\"dataframe\">\n",
       "  <thead>\n",
       "    <tr style=\"text-align: right;\">\n",
       "      <th></th>\n",
       "      <th>sak_a_1.mzXML</th>\n",
       "      <th>sak_a_2.mzXML</th>\n",
       "      <th>sak_a_3.mzXML</th>\n",
       "      <th>sak_a_4.mzXML</th>\n",
       "      <th>sak_b_1.mzXML</th>\n",
       "      <th>sak_b_2.mzXML</th>\n",
       "      <th>sak_b_3.mzXML</th>\n",
       "      <th>sak_b_4.mzXML</th>\n",
       "      <th>sak_c_1.mzXML</th>\n",
       "      <th>sak_c_2.mzXML</th>\n",
       "      <th>...</th>\n",
       "      <th>WHL_F7.mzXML</th>\n",
       "      <th>WHL_F8.mzXML</th>\n",
       "      <th>WHL_M5.mzXML</th>\n",
       "      <th>WHL_M6.mzXML</th>\n",
       "      <th>WHL_M7.mzXML</th>\n",
       "      <th>WHL_M8.mzXML</th>\n",
       "      <th>WHL_L5.mzXML</th>\n",
       "      <th>WHL_L6.mzXML</th>\n",
       "      <th>WHL_L7.mzXML</th>\n",
       "      <th>WHL_L8.mzXML</th>\n",
       "    </tr>\n",
       "    <tr>\n",
       "      <th>row_id</th>\n",
       "      <th></th>\n",
       "      <th></th>\n",
       "      <th></th>\n",
       "      <th></th>\n",
       "      <th></th>\n",
       "      <th></th>\n",
       "      <th></th>\n",
       "      <th></th>\n",
       "      <th></th>\n",
       "      <th></th>\n",
       "      <th></th>\n",
       "      <th></th>\n",
       "      <th></th>\n",
       "      <th></th>\n",
       "      <th></th>\n",
       "      <th></th>\n",
       "      <th></th>\n",
       "      <th></th>\n",
       "      <th></th>\n",
       "      <th></th>\n",
       "      <th></th>\n",
       "    </tr>\n",
       "  </thead>\n",
       "  <tbody>\n",
       "    <tr>\n",
       "      <th>1</th>\n",
       "      <td>1.562669e+09</td>\n",
       "      <td>1.517098e+09</td>\n",
       "      <td>1.315216e+09</td>\n",
       "      <td>9.578396e+08</td>\n",
       "      <td>1.271787e+09</td>\n",
       "      <td>9.971529e+08</td>\n",
       "      <td>9.000910e+08</td>\n",
       "      <td>1.246483e+09</td>\n",
       "      <td>1.158794e+09</td>\n",
       "      <td>1.043938e+09</td>\n",
       "      <td>...</td>\n",
       "      <td>6.744516e+08</td>\n",
       "      <td>6.957784e+08</td>\n",
       "      <td>7.762029e+08</td>\n",
       "      <td>6.793557e+08</td>\n",
       "      <td>6.220065e+08</td>\n",
       "      <td>6.003108e+08</td>\n",
       "      <td>9.027932e+08</td>\n",
       "      <td>7.498698e+08</td>\n",
       "      <td>7.958429e+08</td>\n",
       "      <td>7.886959e+08</td>\n",
       "    </tr>\n",
       "    <tr>\n",
       "      <th>2</th>\n",
       "      <td>2.396000e+05</td>\n",
       "      <td>1.536655e+05</td>\n",
       "      <td>1.507570e+05</td>\n",
       "      <td>2.429333e+05</td>\n",
       "      <td>1.272114e+05</td>\n",
       "      <td>1.841798e+05</td>\n",
       "      <td>1.692369e+05</td>\n",
       "      <td>1.467720e+05</td>\n",
       "      <td>3.553176e+05</td>\n",
       "      <td>2.878979e+05</td>\n",
       "      <td>...</td>\n",
       "      <td>4.703985e+05</td>\n",
       "      <td>2.910702e+05</td>\n",
       "      <td>6.517739e+05</td>\n",
       "      <td>3.841179e+05</td>\n",
       "      <td>8.949991e+05</td>\n",
       "      <td>4.623417e+05</td>\n",
       "      <td>5.004987e+05</td>\n",
       "      <td>2.208489e+05</td>\n",
       "      <td>6.287192e+05</td>\n",
       "      <td>5.585469e+05</td>\n",
       "    </tr>\n",
       "    <tr>\n",
       "      <th>3</th>\n",
       "      <td>1.582114e+05</td>\n",
       "      <td>1.301176e+05</td>\n",
       "      <td>1.281426e+05</td>\n",
       "      <td>1.787866e+05</td>\n",
       "      <td>5.316518e+04</td>\n",
       "      <td>4.199583e+04</td>\n",
       "      <td>6.084546e+04</td>\n",
       "      <td>4.908939e+04</td>\n",
       "      <td>5.642276e+05</td>\n",
       "      <td>8.650861e+05</td>\n",
       "      <td>...</td>\n",
       "      <td>1.080154e+05</td>\n",
       "      <td>1.779219e+05</td>\n",
       "      <td>2.197984e+05</td>\n",
       "      <td>4.578266e+05</td>\n",
       "      <td>2.215362e+05</td>\n",
       "      <td>9.766218e+04</td>\n",
       "      <td>1.092804e+05</td>\n",
       "      <td>9.849900e+04</td>\n",
       "      <td>1.114252e+05</td>\n",
       "      <td>5.771446e+04</td>\n",
       "    </tr>\n",
       "    <tr>\n",
       "      <th>4</th>\n",
       "      <td>2.430195e+07</td>\n",
       "      <td>2.062104e+07</td>\n",
       "      <td>1.748787e+07</td>\n",
       "      <td>1.230220e+07</td>\n",
       "      <td>1.682562e+07</td>\n",
       "      <td>1.171661e+07</td>\n",
       "      <td>1.109423e+07</td>\n",
       "      <td>1.893722e+07</td>\n",
       "      <td>1.597692e+07</td>\n",
       "      <td>1.314430e+07</td>\n",
       "      <td>...</td>\n",
       "      <td>1.090871e+07</td>\n",
       "      <td>1.286648e+07</td>\n",
       "      <td>1.326417e+07</td>\n",
       "      <td>1.164670e+07</td>\n",
       "      <td>1.106195e+07</td>\n",
       "      <td>8.818674e+06</td>\n",
       "      <td>1.614863e+07</td>\n",
       "      <td>1.381885e+07</td>\n",
       "      <td>1.394710e+07</td>\n",
       "      <td>1.433545e+07</td>\n",
       "    </tr>\n",
       "    <tr>\n",
       "      <th>5</th>\n",
       "      <td>7.001850e+06</td>\n",
       "      <td>5.618816e+06</td>\n",
       "      <td>4.293162e+06</td>\n",
       "      <td>2.466064e+06</td>\n",
       "      <td>4.251425e+06</td>\n",
       "      <td>3.093546e+06</td>\n",
       "      <td>2.519724e+06</td>\n",
       "      <td>4.662197e+06</td>\n",
       "      <td>4.066580e+06</td>\n",
       "      <td>3.457904e+06</td>\n",
       "      <td>...</td>\n",
       "      <td>2.953737e+06</td>\n",
       "      <td>3.124210e+06</td>\n",
       "      <td>4.187230e+06</td>\n",
       "      <td>2.948180e+06</td>\n",
       "      <td>2.457693e+06</td>\n",
       "      <td>2.384858e+06</td>\n",
       "      <td>5.150226e+06</td>\n",
       "      <td>3.390230e+06</td>\n",
       "      <td>3.494155e+06</td>\n",
       "      <td>3.811794e+06</td>\n",
       "    </tr>\n",
       "  </tbody>\n",
       "</table>\n",
       "<p>5 rows × 140 columns</p>\n",
       "</div>"
      ],
      "text/plain": [
       "        sak_a_1.mzXML  sak_a_2.mzXML  sak_a_3.mzXML  sak_a_4.mzXML  \\\n",
       "row_id                                                               \n",
       "1        1.562669e+09   1.517098e+09   1.315216e+09   9.578396e+08   \n",
       "2        2.396000e+05   1.536655e+05   1.507570e+05   2.429333e+05   \n",
       "3        1.582114e+05   1.301176e+05   1.281426e+05   1.787866e+05   \n",
       "4        2.430195e+07   2.062104e+07   1.748787e+07   1.230220e+07   \n",
       "5        7.001850e+06   5.618816e+06   4.293162e+06   2.466064e+06   \n",
       "\n",
       "        sak_b_1.mzXML  sak_b_2.mzXML  sak_b_3.mzXML  sak_b_4.mzXML  \\\n",
       "row_id                                                               \n",
       "1        1.271787e+09   9.971529e+08   9.000910e+08   1.246483e+09   \n",
       "2        1.272114e+05   1.841798e+05   1.692369e+05   1.467720e+05   \n",
       "3        5.316518e+04   4.199583e+04   6.084546e+04   4.908939e+04   \n",
       "4        1.682562e+07   1.171661e+07   1.109423e+07   1.893722e+07   \n",
       "5        4.251425e+06   3.093546e+06   2.519724e+06   4.662197e+06   \n",
       "\n",
       "        sak_c_1.mzXML  sak_c_2.mzXML  ...  WHL_F7.mzXML  WHL_F8.mzXML  \\\n",
       "row_id                                ...                               \n",
       "1        1.158794e+09   1.043938e+09  ...  6.744516e+08  6.957784e+08   \n",
       "2        3.553176e+05   2.878979e+05  ...  4.703985e+05  2.910702e+05   \n",
       "3        5.642276e+05   8.650861e+05  ...  1.080154e+05  1.779219e+05   \n",
       "4        1.597692e+07   1.314430e+07  ...  1.090871e+07  1.286648e+07   \n",
       "5        4.066580e+06   3.457904e+06  ...  2.953737e+06  3.124210e+06   \n",
       "\n",
       "        WHL_M5.mzXML  WHL_M6.mzXML  WHL_M7.mzXML  WHL_M8.mzXML  WHL_L5.mzXML  \\\n",
       "row_id                                                                         \n",
       "1       7.762029e+08  6.793557e+08  6.220065e+08  6.003108e+08  9.027932e+08   \n",
       "2       6.517739e+05  3.841179e+05  8.949991e+05  4.623417e+05  5.004987e+05   \n",
       "3       2.197984e+05  4.578266e+05  2.215362e+05  9.766218e+04  1.092804e+05   \n",
       "4       1.326417e+07  1.164670e+07  1.106195e+07  8.818674e+06  1.614863e+07   \n",
       "5       4.187230e+06  2.948180e+06  2.457693e+06  2.384858e+06  5.150226e+06   \n",
       "\n",
       "        WHL_L6.mzXML  WHL_L7.mzXML  WHL_L8.mzXML  \n",
       "row_id                                            \n",
       "1       7.498698e+08  7.958429e+08  7.886959e+08  \n",
       "2       2.208489e+05  6.287192e+05  5.585469e+05  \n",
       "3       9.849900e+04  1.114252e+05  5.771446e+04  \n",
       "4       1.381885e+07  1.394710e+07  1.433545e+07  \n",
       "5       3.390230e+06  3.494155e+06  3.811794e+06  \n",
       "\n",
       "[5 rows x 140 columns]"
      ]
     },
     "metadata": {},
     "output_type": "display_data"
    }
   ],
   "source": [
    "display (fly_int_df.head())"
   ]
  },
  {
   "cell_type": "markdown",
   "metadata": {},
   "source": [
    "### Heatmap for PALS paper"
   ]
  },
  {
   "cell_type": "code",
   "execution_count": 38,
   "metadata": {},
   "outputs": [],
   "source": [
    "whole_f =[col for col in fly_int_df if col.startswith('sak_a')]"
   ]
  },
  {
   "cell_type": "code",
   "execution_count": 39,
   "metadata": {},
   "outputs": [],
   "source": [
    "mid_f = [col for col in fly_int_df if col.startswith('sak_g')]"
   ]
  },
  {
   "cell_type": "code",
   "execution_count": 44,
   "metadata": {},
   "outputs": [],
   "source": [
    "peak_secId_list = [4812,4456,4654,5469,4850,6044,7409,6079,6400]"
   ]
  },
  {
   "cell_type": "code",
   "execution_count": 46,
   "metadata": {},
   "outputs": [],
   "source": [
    "peak_id_list = []\n",
    "for p in peak_secId_list:\n",
    "    p_id = Peak.objects.get(psec_id=p).id\n",
    "    peak_id_list.append(p_id)\n",
    "    "
   ]
  },
  {
   "cell_type": "code",
   "execution_count": 47,
   "metadata": {},
   "outputs": [
    {
     "name": "stdout",
     "output_type": "stream",
     "text": [
      "[271, 601, 114, 116, 2982, 3080, 3081, 1006, 1007]\n"
     ]
    }
   ],
   "source": [
    "print (peak_id_list)"
   ]
  },
  {
   "cell_type": "code",
   "execution_count": 48,
   "metadata": {},
   "outputs": [],
   "source": [
    "pw_peaks = fly_int_df.loc[peak_id_list]"
   ]
  },
  {
   "cell_type": "code",
   "execution_count": 49,
   "metadata": {},
   "outputs": [
    {
     "data": {
      "text/html": [
       "<div>\n",
       "<style scoped>\n",
       "    .dataframe tbody tr th:only-of-type {\n",
       "        vertical-align: middle;\n",
       "    }\n",
       "\n",
       "    .dataframe tbody tr th {\n",
       "        vertical-align: top;\n",
       "    }\n",
       "\n",
       "    .dataframe thead th {\n",
       "        text-align: right;\n",
       "    }\n",
       "</style>\n",
       "<table border=\"1\" class=\"dataframe\">\n",
       "  <thead>\n",
       "    <tr style=\"text-align: right;\">\n",
       "      <th></th>\n",
       "      <th>sak_a_1.mzXML</th>\n",
       "      <th>sak_a_2.mzXML</th>\n",
       "      <th>sak_a_3.mzXML</th>\n",
       "      <th>sak_a_4.mzXML</th>\n",
       "      <th>sak_g_1.mzXML</th>\n",
       "      <th>sak_g_2.mzXML</th>\n",
       "      <th>sak_g_3.mzXML</th>\n",
       "      <th>sak_g_4.mzXML</th>\n",
       "    </tr>\n",
       "    <tr>\n",
       "      <th>row_id</th>\n",
       "      <th></th>\n",
       "      <th></th>\n",
       "      <th></th>\n",
       "      <th></th>\n",
       "      <th></th>\n",
       "      <th></th>\n",
       "      <th></th>\n",
       "      <th></th>\n",
       "    </tr>\n",
       "  </thead>\n",
       "  <tbody>\n",
       "    <tr>\n",
       "      <th>271</th>\n",
       "      <td>3.559058e+06</td>\n",
       "      <td>3.193915e+06</td>\n",
       "      <td>3.102612e+06</td>\n",
       "      <td>2.811210e+06</td>\n",
       "      <td>50267.613281</td>\n",
       "      <td>81009.765625</td>\n",
       "      <td>92278.164062</td>\n",
       "      <td>59894.292969</td>\n",
       "    </tr>\n",
       "    <tr>\n",
       "      <th>601</th>\n",
       "      <td>4.494681e+06</td>\n",
       "      <td>3.974893e+06</td>\n",
       "      <td>3.696120e+06</td>\n",
       "      <td>2.309011e+06</td>\n",
       "      <td>38532.343750</td>\n",
       "      <td>79956.945312</td>\n",
       "      <td>33962.218750</td>\n",
       "      <td>16474.589844</td>\n",
       "    </tr>\n",
       "    <tr>\n",
       "      <th>114</th>\n",
       "      <td>8.065878e+06</td>\n",
       "      <td>5.370086e+06</td>\n",
       "      <td>4.825879e+06</td>\n",
       "      <td>3.592959e+06</td>\n",
       "      <td>474650.718750</td>\n",
       "      <td>639759.625000</td>\n",
       "      <td>430893.781250</td>\n",
       "      <td>241129.921875</td>\n",
       "    </tr>\n",
       "    <tr>\n",
       "      <th>116</th>\n",
       "      <td>9.082786e+05</td>\n",
       "      <td>5.952191e+05</td>\n",
       "      <td>5.591742e+05</td>\n",
       "      <td>4.442367e+05</td>\n",
       "      <td>75616.132812</td>\n",
       "      <td>115806.484375</td>\n",
       "      <td>95640.640625</td>\n",
       "      <td>75169.375000</td>\n",
       "    </tr>\n",
       "    <tr>\n",
       "      <th>2982</th>\n",
       "      <td>8.270391e+06</td>\n",
       "      <td>4.990621e+06</td>\n",
       "      <td>7.091120e+06</td>\n",
       "      <td>5.487312e+06</td>\n",
       "      <td>10954.220703</td>\n",
       "      <td>14693.540039</td>\n",
       "      <td>21154.041016</td>\n",
       "      <td>17740.423828</td>\n",
       "    </tr>\n",
       "    <tr>\n",
       "      <th>3080</th>\n",
       "      <td>1.100003e+06</td>\n",
       "      <td>5.668128e+05</td>\n",
       "      <td>8.528599e+05</td>\n",
       "      <td>7.198246e+05</td>\n",
       "      <td>23119.025391</td>\n",
       "      <td>26069.767578</td>\n",
       "      <td>24082.951172</td>\n",
       "      <td>25334.923828</td>\n",
       "    </tr>\n",
       "    <tr>\n",
       "      <th>3081</th>\n",
       "      <td>7.740897e+04</td>\n",
       "      <td>4.705831e+04</td>\n",
       "      <td>5.813745e+04</td>\n",
       "      <td>6.144274e+04</td>\n",
       "      <td>23254.576172</td>\n",
       "      <td>25455.093750</td>\n",
       "      <td>28331.082031</td>\n",
       "      <td>26099.396484</td>\n",
       "    </tr>\n",
       "    <tr>\n",
       "      <th>1006</th>\n",
       "      <td>2.326633e+05</td>\n",
       "      <td>1.449862e+05</td>\n",
       "      <td>1.264184e+05</td>\n",
       "      <td>8.169727e+04</td>\n",
       "      <td>4949.654297</td>\n",
       "      <td>8808.054688</td>\n",
       "      <td>7785.503418</td>\n",
       "      <td>5293.299316</td>\n",
       "    </tr>\n",
       "    <tr>\n",
       "      <th>1007</th>\n",
       "      <td>1.144115e+05</td>\n",
       "      <td>1.037760e+05</td>\n",
       "      <td>1.009041e+05</td>\n",
       "      <td>8.828788e+04</td>\n",
       "      <td>5005.470703</td>\n",
       "      <td>5464.533691</td>\n",
       "      <td>4150.408203</td>\n",
       "      <td>8941.018555</td>\n",
       "    </tr>\n",
       "  </tbody>\n",
       "</table>\n",
       "</div>"
      ],
      "text/plain": [
       "        sak_a_1.mzXML  sak_a_2.mzXML  sak_a_3.mzXML  sak_a_4.mzXML  \\\n",
       "row_id                                                               \n",
       "271      3.559058e+06   3.193915e+06   3.102612e+06   2.811210e+06   \n",
       "601      4.494681e+06   3.974893e+06   3.696120e+06   2.309011e+06   \n",
       "114      8.065878e+06   5.370086e+06   4.825879e+06   3.592959e+06   \n",
       "116      9.082786e+05   5.952191e+05   5.591742e+05   4.442367e+05   \n",
       "2982     8.270391e+06   4.990621e+06   7.091120e+06   5.487312e+06   \n",
       "3080     1.100003e+06   5.668128e+05   8.528599e+05   7.198246e+05   \n",
       "3081     7.740897e+04   4.705831e+04   5.813745e+04   6.144274e+04   \n",
       "1006     2.326633e+05   1.449862e+05   1.264184e+05   8.169727e+04   \n",
       "1007     1.144115e+05   1.037760e+05   1.009041e+05   8.828788e+04   \n",
       "\n",
       "        sak_g_1.mzXML  sak_g_2.mzXML  sak_g_3.mzXML  sak_g_4.mzXML  \n",
       "row_id                                                              \n",
       "271      50267.613281   81009.765625   92278.164062   59894.292969  \n",
       "601      38532.343750   79956.945312   33962.218750   16474.589844  \n",
       "114     474650.718750  639759.625000  430893.781250  241129.921875  \n",
       "116      75616.132812  115806.484375   95640.640625   75169.375000  \n",
       "2982     10954.220703   14693.540039   21154.041016   17740.423828  \n",
       "3080     23119.025391   26069.767578   24082.951172   25334.923828  \n",
       "3081     23254.576172   25455.093750   28331.082031   26099.396484  \n",
       "1006      4949.654297    8808.054688    7785.503418    5293.299316  \n",
       "1007      5005.470703    5464.533691    4150.408203    8941.018555  "
      ]
     },
     "metadata": {},
     "output_type": "display_data"
    }
   ],
   "source": [
    "for_heatmap = pw_peaks[whole_f + mid_f]\n",
    "display(for_heatmap)"
   ]
  },
  {
   "cell_type": "code",
   "execution_count": 50,
   "metadata": {},
   "outputs": [
    {
     "data": {
      "text/html": [
       "<div>\n",
       "<style scoped>\n",
       "    .dataframe tbody tr th:only-of-type {\n",
       "        vertical-align: middle;\n",
       "    }\n",
       "\n",
       "    .dataframe tbody tr th {\n",
       "        vertical-align: top;\n",
       "    }\n",
       "\n",
       "    .dataframe thead th {\n",
       "        text-align: right;\n",
       "    }\n",
       "</style>\n",
       "<table border=\"1\" class=\"dataframe\">\n",
       "  <thead>\n",
       "    <tr style=\"text-align: right;\">\n",
       "      <th></th>\n",
       "      <th>sak_a_1.mzXML</th>\n",
       "      <th>sak_a_2.mzXML</th>\n",
       "      <th>sak_a_3.mzXML</th>\n",
       "      <th>sak_a_4.mzXML</th>\n",
       "      <th>sak_g_1.mzXML</th>\n",
       "      <th>sak_g_2.mzXML</th>\n",
       "      <th>sak_g_3.mzXML</th>\n",
       "      <th>sak_g_4.mzXML</th>\n",
       "    </tr>\n",
       "    <tr>\n",
       "      <th>row_id</th>\n",
       "      <th></th>\n",
       "      <th></th>\n",
       "      <th></th>\n",
       "      <th></th>\n",
       "      <th></th>\n",
       "      <th></th>\n",
       "      <th></th>\n",
       "      <th></th>\n",
       "    </tr>\n",
       "  </thead>\n",
       "  <tbody>\n",
       "    <tr>\n",
       "      <th>271</th>\n",
       "      <td>21.763063</td>\n",
       "      <td>21.606894</td>\n",
       "      <td>21.565052</td>\n",
       "      <td>21.422760</td>\n",
       "      <td>15.617342</td>\n",
       "      <td>16.305809</td>\n",
       "      <td>16.493702</td>\n",
       "      <td>15.870131</td>\n",
       "    </tr>\n",
       "    <tr>\n",
       "      <th>601</th>\n",
       "      <td>22.099787</td>\n",
       "      <td>21.922485</td>\n",
       "      <td>21.817581</td>\n",
       "      <td>21.138844</td>\n",
       "      <td>15.233783</td>\n",
       "      <td>16.286936</td>\n",
       "      <td>15.051643</td>\n",
       "      <td>14.007955</td>\n",
       "    </tr>\n",
       "    <tr>\n",
       "      <th>114</th>\n",
       "      <td>22.943399</td>\n",
       "      <td>22.356514</td>\n",
       "      <td>22.202360</td>\n",
       "      <td>21.776741</td>\n",
       "      <td>18.856506</td>\n",
       "      <td>19.287170</td>\n",
       "      <td>18.716972</td>\n",
       "      <td>17.879452</td>\n",
       "    </tr>\n",
       "    <tr>\n",
       "      <th>116</th>\n",
       "      <td>19.792776</td>\n",
       "      <td>19.183062</td>\n",
       "      <td>19.092937</td>\n",
       "      <td>18.760969</td>\n",
       "      <td>16.206406</td>\n",
       "      <td>16.821356</td>\n",
       "      <td>16.545336</td>\n",
       "      <td>16.197857</td>\n",
       "    </tr>\n",
       "    <tr>\n",
       "      <th>2982</th>\n",
       "      <td>22.979525</td>\n",
       "      <td>22.250788</td>\n",
       "      <td>22.757582</td>\n",
       "      <td>22.387669</td>\n",
       "      <td>13.419199</td>\n",
       "      <td>13.842895</td>\n",
       "      <td>14.368646</td>\n",
       "      <td>14.114753</td>\n",
       "    </tr>\n",
       "    <tr>\n",
       "      <th>3080</th>\n",
       "      <td>20.069077</td>\n",
       "      <td>19.112513</td>\n",
       "      <td>19.701950</td>\n",
       "      <td>19.457287</td>\n",
       "      <td>14.496793</td>\n",
       "      <td>14.670090</td>\n",
       "      <td>14.555724</td>\n",
       "      <td>14.628839</td>\n",
       "    </tr>\n",
       "    <tr>\n",
       "      <th>3081</th>\n",
       "      <td>16.240213</td>\n",
       "      <td>15.522161</td>\n",
       "      <td>15.827180</td>\n",
       "      <td>15.906955</td>\n",
       "      <td>14.505227</td>\n",
       "      <td>14.635667</td>\n",
       "      <td>14.790098</td>\n",
       "      <td>14.671729</td>\n",
       "    </tr>\n",
       "    <tr>\n",
       "      <th>1006</th>\n",
       "      <td>17.827885</td>\n",
       "      <td>17.145555</td>\n",
       "      <td>16.947847</td>\n",
       "      <td>16.318001</td>\n",
       "      <td>12.273112</td>\n",
       "      <td>13.104608</td>\n",
       "      <td>12.926575</td>\n",
       "      <td>12.369951</td>\n",
       "    </tr>\n",
       "    <tr>\n",
       "      <th>1007</th>\n",
       "      <td>16.803873</td>\n",
       "      <td>16.663115</td>\n",
       "      <td>16.622625</td>\n",
       "      <td>16.429928</td>\n",
       "      <td>12.289290</td>\n",
       "      <td>12.415883</td>\n",
       "      <td>12.019037</td>\n",
       "      <td>13.126224</td>\n",
       "    </tr>\n",
       "  </tbody>\n",
       "</table>\n",
       "</div>"
      ],
      "text/plain": [
       "        sak_a_1.mzXML  sak_a_2.mzXML  sak_a_3.mzXML  sak_a_4.mzXML  \\\n",
       "row_id                                                               \n",
       "271         21.763063      21.606894      21.565052      21.422760   \n",
       "601         22.099787      21.922485      21.817581      21.138844   \n",
       "114         22.943399      22.356514      22.202360      21.776741   \n",
       "116         19.792776      19.183062      19.092937      18.760969   \n",
       "2982        22.979525      22.250788      22.757582      22.387669   \n",
       "3080        20.069077      19.112513      19.701950      19.457287   \n",
       "3081        16.240213      15.522161      15.827180      15.906955   \n",
       "1006        17.827885      17.145555      16.947847      16.318001   \n",
       "1007        16.803873      16.663115      16.622625      16.429928   \n",
       "\n",
       "        sak_g_1.mzXML  sak_g_2.mzXML  sak_g_3.mzXML  sak_g_4.mzXML  \n",
       "row_id                                                              \n",
       "271         15.617342      16.305809      16.493702      15.870131  \n",
       "601         15.233783      16.286936      15.051643      14.007955  \n",
       "114         18.856506      19.287170      18.716972      17.879452  \n",
       "116         16.206406      16.821356      16.545336      16.197857  \n",
       "2982        13.419199      13.842895      14.368646      14.114753  \n",
       "3080        14.496793      14.670090      14.555724      14.628839  \n",
       "3081        14.505227      14.635667      14.790098      14.671729  \n",
       "1006        12.273112      13.104608      12.926575      12.369951  \n",
       "1007        12.289290      12.415883      12.019037      13.126224  "
      ]
     },
     "metadata": {},
     "output_type": "display_data"
    }
   ],
   "source": [
    "df = np.log2(for_heatmap)\n",
    "display(df)"
   ]
  },
  {
   "cell_type": "code",
   "execution_count": 51,
   "metadata": {},
   "outputs": [],
   "source": [
    "df.columns =['A1', 'A2','A3','A4','B1', 'B2','B3','B4']\n",
    "df.index.name='Peak ids'\n",
    "df.columns.name='Samples'\n"
   ]
  },
  {
   "cell_type": "code",
   "execution_count": 52,
   "metadata": {},
   "outputs": [
    {
     "data": {
      "image/png": "[encoded data removed]",
      "text/plain": [
       "<Figure size 720x576 with 2 Axes>"
      ]
     },
     "metadata": {
      "needs_background": "light"
     },
     "output_type": "display_data"
    }
   ],
   "source": [
    "%matplotlib inline\n",
    "import numpy as np\n",
    "import seaborn as sns\n",
    "plt.figure(figsize=(10,8))\n",
    "ax = plt.axes()\n",
    "sns.set(font_scale=2)\n",
    "ax.set_title('Inositol Phosphate Metbolism')\n",
    "svm = sns.heatmap(df, cmap=\"RdYlBu\")\n",
    "fig = svm.get_figure()\n",
    "fig.savefig('inositol.png', dpi=600)"
   ]
  },
  {
   "cell_type": "markdown",
   "metadata": {},
   "source": [
    "### Get annotation DF - all the peaks with all of the compound identifications as a dataframe."
   ]
  },
  {
   "cell_type": "markdown",
   "metadata": {},
   "source": [
    "###Update standard compounds to get "
   ]
  },
  {
   "cell_type": "code",
   "execution_count": 53,
   "metadata": {},
   "outputs": [],
   "source": [
    "cmpds = Compound.objects.all()\n",
    "cmpd_select = CompoundSelector()"
   ]
  },
  {
   "cell_type": "code",
   "execution_count": null,
   "metadata": {},
   "outputs": [],
   "source": [
    "#This method is to check the compound database and check for standard \n",
    "# compounds that don't have any other DB identifiers that would make them useful for other methods.\n",
    "def update_std_cmpds():\n",
    "\n",
    "missing_cmpd_dict = cmpd_select.missing_cmpd_dict\n",
    "for c in cmpds:\n",
    "    all_ids = c.get_all_identifiers()\n",
    "    if len(all_ids)==1 and 'stds_db' in all_ids:\n",
    "        print (all_ids)\n",
    "        print (c.id)\n",
    "        print  (c.cmpd_name)\n",
    "        \n",
    "        # If the name is found under a different compound ID add the std_\n",
    "        name_match = CompoundDBDetails.objects.filter(~Q(compound_id=c.id), cmpd_name=c.cmpd_name)\n",
    "        if name_match:\n",
    "            \n",
    "            print (\"Name match\")\n",
    "            matching_cmpd_id = name_match[0].compound_id #Take the first/only matching compound.\n",
    "            matching_cmpd = Compound.objects.get(id=matching_cmpd_id)\n",
    "            #c is the standard compound under the above if statement\n",
    "\n",
    "            std_cmpd_db = CompoundDBDetails.objects.get(compound_id=c.id)\n",
    "\n",
    "            std_db_name = std_cmpd_db.db_name\n",
    "            std_cmpd_id = std_cmpd_db.identifier\n",
    "\n",
    "\n",
    "            new_cmpd_details, created_cmpd_details =  CompoundDBDetails.objects.get_or_create(db_name=std_db_name, \n",
    "                                                    identifier=std_cmpd_id, cmpd_name=c.cmpd_name, compound=matching_cmpd)\n",
    "            \n",
    "            \n",
    "            ##If the confidence of the annotation for this peak is 4, update the annotation      \n",
    "            \n",
    "            std_annot = Annotation.objects.filter(compound=c)       \n",
    "            new_cmpd_annot =  Annotation.objects.filter(compound=matching_cmpd)\n",
    "              \n",
    "            #Update the annotation to true for the standard cmpd - with checks.\n",
    "            for s in std_annot:\n",
    "                for n in new_cmpd_annot:\n",
    "                    if s.peak==n.peak and s.identified and s.confidence==4: \n",
    "                        \n",
    "                        #Same peaks/same compound should be same annotation\n",
    "                        print (\"Updating identity and confidence scores to the standard cmpd\")\n",
    "                        n.identified=True \n",
    "                        n.confidence=4\n",
    "                        n.save()\n",
    "            \n",
    "            #Delete the original cmpd.\n",
    "            print (\"deleting\", c)\n",
    "            c.delete() #delete the std_cmpd with no DB identifiers.\n",
    "        else: # no name match\n",
    "#         #Currenly we only have kegg IDs in the dictonary - this will need refactored if this changes.\n",
    "            print (\"No name match\")\n",
    "            db_name  = DBNames.objects.get(id=2)\n",
    "            added_id = missing_cmpd_dict[c.cmpd_name] \n",
    "            new_cmpd_details, created_cmpd_details =  CompoundDBDetails.objects.get_or_create(db_name=db_name, identifier=added_id,\n",
    "                                                                cmpd_name=c.cmpd_name, compound=c)\n",
    "        \n",
    "        \n",
    "        if created_cmpd_details:\n",
    "            print(\"New cmpd details were created\", new_cmpd_details)\n",
    "            new_cmpd_details.save()\n",
    "        \n",
    "    "
   ]
  },
  {
   "cell_type": "code",
   "execution_count": null,
   "metadata": {},
   "outputs": [],
   "source": [
    "added_id='KEGINS'\n",
    "try:\n",
    "    assert(added_id.startswith('C0'))\n",
    "\n",
    "except AssertionError as error:\n",
    "\n",
    "    logger.error(\"This is not a KEGG ID and does not match the dictionary. Please refactor.\", error)\n",
    "    raise\n",
    "    "
   ]
  },
  {
   "cell_type": "code",
   "execution_count": null,
   "metadata": {},
   "outputs": [],
   "source": [
    "for c in cmpds:\n",
    "    all_ids = c.get_all_identifiers()\n",
    "    print (all_ids)\n",
    "    if (len(all_ids)==1 & all_ids[0].startswith('Std')):\n",
    "        print (all_ids)"
   ]
  },
  {
   "cell_type": "code",
   "execution_count": null,
   "metadata": {},
   "outputs": [],
   "source": [
    "cmpd.get_all_identifiers()"
   ]
  },
  {
   "cell_type": "code",
   "execution_count": null,
   "metadata": {},
   "outputs": [],
   "source": [
    "peaks, compounds = zip(*annotation_data)"
   ]
  },
  {
   "cell_type": "code",
   "execution_count": null,
   "metadata": {},
   "outputs": [],
   "source": [
    "peak_ids =(list(peaks))\n",
    "cmpd_ids = list(compounds)"
   ]
  },
  {
   "cell_type": "code",
   "execution_count": null,
   "metadata": {},
   "outputs": [],
   "source": [
    "chebi = 'chebi_id'"
   ]
  },
  {
   "cell_type": "code",
   "execution_count": null,
   "metadata": {},
   "outputs": [],
   "source": [
    "db_names = DBNames.objects.all()\n",
    "columns = [d.db_name for d in db_names if d.db_name !='stds_db']"
   ]
  },
  {
   "cell_type": "code",
   "execution_count": null,
   "metadata": {},
   "outputs": [],
   "source": [
    "columns.insert(0, chebi)"
   ]
  },
  {
   "cell_type": "code",
   "execution_count": null,
   "metadata": {},
   "outputs": [],
   "source": [
    "annotation_df = pd.DataFrame(columns=columns)\n",
    "annotation_df.insert(0, 'cmpd_ids', cmpd_ids)\n",
    "annotation_df.insert(0, 'peak_ids', peak_ids)\n",
    "\n"
   ]
  },
  {
   "cell_type": "code",
   "execution_count": null,
   "metadata": {},
   "outputs": [],
   "source": [
    "annotation_df.head()"
   ]
  },
  {
   "cell_type": "code",
   "execution_count": null,
   "metadata": {},
   "outputs": [],
   "source": [
    "from itertools import islice\n",
    "def get_annot_cmpd_df():\n",
    "    \n",
    "    annotation_data = Annotation.objects.values_list('peak', 'compound')\n",
    "    peaks, compounds = zip(*annotation_data)\n",
    "    \n",
    "    chebi_col = 'chebi_id'\n",
    "    db_names = DBNames.objects.all()\n",
    "    columns = [d.db_name for d in db_names if d.db_name !='stds_db']\n",
    "    \n",
    "    columns.insert(0, chebi_col)\n",
    "    columns.append('entity_id') #This will be the single, chosen identifier for the compound\n",
    "    \n",
    "    annotation_df = pd.DataFrame(columns=columns)\n",
    "    annotation_df.insert(0, 'cmpd_ids', cmpd_ids)\n",
    "    annotation_df.insert(0, 'peak_ids', peak_ids)\n",
    "    \n",
    "    for ix, row in annotation_df.iterrows():\n",
    "    # for ix, row in islice(annotation_df.iterrows(), 200):\n",
    "        cmpd = Compound.objects.get(id = row.cmpd_ids)\n",
    "        chebi_id = cmpd.chebi_id\n",
    "        annotation_df.loc[ix,'chebi_id']=chebi_id\n",
    "    \n",
    "        db_set = cmpd.compounddbdetails_set.all()\n",
    "        for db in db_set:\n",
    "            db_name = db.db_name.db_name\n",
    "            if db_name !='stds_db':\n",
    "                #Get the DB reference and add it to the dataframe\n",
    "                db_id = db.identifier \n",
    "                annotation_df.loc[ix, db_name]=db_id\n",
    "    \n",
    "    return annotation_df\n",
    "  \n",
    "  \n",
    "    "
   ]
  },
  {
   "cell_type": "code",
   "execution_count": null,
   "metadata": {},
   "outputs": [],
   "source": [
    "annot_cmpd_df = get_annot_cmpd_df()"
   ]
  },
  {
   "cell_type": "code",
   "execution_count": null,
   "metadata": {},
   "outputs": [],
   "source": [
    "annot_cmpd_df.head(15)"
   ]
  },
  {
   "cell_type": "code",
   "execution_count": null,
   "metadata": {},
   "outputs": [],
   "source": [
    "no_identifiers = []\n",
    "for ix, row in annot_cmpd_df.iterrows():\n",
    "    if row.chebi_id is not None:\n",
    "         annot_cmpd_df.loc[ix, 'entity_id']=row.chebi_id\n",
    "    elif (pd.notnull(row.kegg)):\n",
    "        annot_cmpd_df.loc[ix, 'entity_id']=row.kegg\n",
    "    elif (pd.notnull(row.hmdb)):\n",
    "        annot_cmpd_df.loc[ix, 'entity_id']=row.hmdb\n",
    "    elif (pd.notnull(row.lipidmaps)):\n",
    "        annot_cmpd_df.loc[ix, 'entity_id']=row.lipidmaps\n",
    "    else:      \n",
    "        print (\"What the row id\", row)\n",
    "        no_identifiers.append(row.cmpd_ids)\n",
    "\n",
    "        \n",
    "\n",
    "    \n"
   ]
  },
  {
   "cell_type": "code",
   "execution_count": null,
   "metadata": {},
   "outputs": [],
   "source": [
    "\"\"\"\n",
    "For some reason these compounds don't have a standard idenfier \n",
    "associated with them (think it's the way they came back from pimp)\n",
    "I am going to manually add them to the DB to keep things consistent.\n",
    "\"\"\"\n",
    "#Cmpd 1358 is O-Acetylcarnitine and this has a kegg ID so I'll add it.\n",
    "\n",
    "#Method is the only cmpd_id the std_db_id??\n",
    "\n",
    "\n"
   ]
  },
  {
   "cell_type": "code",
   "execution_count": null,
   "metadata": {},
   "outputs": [],
   "source": [
    "print (no_identifiers)"
   ]
  },
  {
   "cell_type": "code",
   "execution_count": null,
   "metadata": {},
   "outputs": [],
   "source": [
    "annot_cmpd_df.head(100)"
   ]
  },
  {
   "cell_type": "code",
   "execution_count": null,
   "metadata": {},
   "outputs": [],
   "source": [
    "annotation_df = annotation_df.set_index('peak_ids')\n"
   ]
  },
  {
   "cell_type": "code",
   "execution_count": null,
   "metadata": {},
   "outputs": [],
   "source": [
    "cmpd_db_details = CompoundDBDetails.objects.filter(compound=1)"
   ]
  },
  {
   "cell_type": "code",
   "execution_count": null,
   "metadata": {},
   "outputs": [],
   "source": [
    "for c in cmpd_db_details:\n",
    "    print (c.identifier)"
   ]
  },
  {
   "cell_type": "code",
   "execution_count": null,
   "metadata": {},
   "outputs": [],
   "source": [
    "int_df = get_ms1_intensities(token, hostname, analysis_id)\n",
    "annotation_df = get_annotation_df(token, hostname, analysis_id, 'kegg')\n",
    "experimental_design = get_experimental_design(token, hostname, analysis_id)"
   ]
  },
  {
   "cell_type": "code",
   "execution_count": null,
   "metadata": {
    "scrolled": true
   },
   "outputs": [],
   "source": [
    "int_df, annotation_df, experimental_design = download_from_pimp(token, PIMP_HOST, 1301, 'kegg')"
   ]
  },
  {
   "cell_type": "code",
   "execution_count": null,
   "metadata": {},
   "outputs": [],
   "source": [
    "int_df.head()"
   ]
  },
  {
   "cell_type": "code",
   "execution_count": null,
   "metadata": {},
   "outputs": [],
   "source": []
  },
  {
   "cell_type": "code",
   "execution_count": null,
   "metadata": {},
   "outputs": [],
   "source": [
    "## was 9294 rows × 1 columns"
   ]
  },
  {
   "cell_type": "code",
   "execution_count": null,
   "metadata": {},
   "outputs": [],
   "source": [
    "print (experimental_design)"
   ]
  },
  {
   "cell_type": "markdown",
   "metadata": {},
   "source": [
    "### PALS analysis using KEGG database exported from PiMP"
   ]
  },
  {
   "cell_type": "code",
   "execution_count": null,
   "metadata": {},
   "outputs": [],
   "source": [
    "ds = DataSource(int_df, annotation_df, experimental_design, DATABASE_PIMP_KEGG)"
   ]
  },
  {
   "cell_type": "code",
   "execution_count": null,
   "metadata": {},
   "outputs": [],
   "source": [
    "pals = PALS(ds, plage_weight=5, hg_weight=1)\n",
    "pathway_df = pals.get_pathway_df()"
   ]
  },
  {
   "cell_type": "markdown",
   "metadata": {},
   "source": [
    "### PALS analysis using KEGG database exported from Reactome"
   ]
  },
  {
   "cell_type": "code",
   "execution_count": null,
   "metadata": {},
   "outputs": [],
   "source": [
    "ds = DataSource(int_df, annotation_df, experimental_design, DATABASE_REACTOME_KEGG, \n",
    "                reactome_species=REACTOME_SPECIES_HOMO_SAPIENS, reactome_metabolic_pathway_only=True)"
   ]
  },
  {
   "cell_type": "code",
   "execution_count": null,
   "metadata": {},
   "outputs": [],
   "source": [
    "pals = PALS(ds, plage_weight=5, hg_weight=1)\n",
    "pathway_df = pals.get_pathway_df()"
   ]
  },
  {
   "cell_type": "code",
   "execution_count": null,
   "metadata": {},
   "outputs": [],
   "source": [
    "pathway_df.sort_values('PiMP_KEGG Head_f/Whole_f comb_p')"
   ]
  },
  {
   "cell_type": "code",
   "execution_count": null,
   "metadata": {},
   "outputs": [],
   "source": [
    "head_only_df = pathway_df.sort_values('PiMP_KEGG Head_f/Whole_f comb_p')"
   ]
  },
  {
   "cell_type": "code",
   "execution_count": null,
   "metadata": {},
   "outputs": [],
   "source": [
    "head_only_df"
   ]
  },
  {
   "cell_type": "code",
   "execution_count": null,
   "metadata": {},
   "outputs": [],
   "source": [
    "pathway_df[['pw_name', 'Head_f/Whole_f p-value', 'PiMP_KEGG Brain_m/Whole_m p-value',\n",
    "            'unq_pw_F','tot_ds_F','F_coverage','sf']].sort_values('Head_f/Whole_f p-value')"
   ]
  },
  {
   "cell_type": "code",
   "execution_count": null,
   "metadata": {},
   "outputs": [],
   "source": [
    "pathway_df[['pw_name', 'Ovary_f/Whole_f p-value', 'PiMP_KEGG Ovary_f/Whole_f comb_p',\n",
    "            'unq_pw_F','tot_ds_F','F_coverage','sf']].sort_values('Ovary_f/Whole_f p-value').head(60)"
   ]
  },
  {
   "cell_type": "code",
   "execution_count": null,
   "metadata": {},
   "outputs": [],
   "source": [
    "pathway_df.sort_values('Brain_m/Whole_m p-value').iloc(['pw_name', 'Brain_m/Whole_m p-value']"
   ]
  },
  {
   "cell_type": "code",
   "execution_count": null,
   "metadata": {},
   "outputs": [],
   "source": [
    "pathway_df.sort_values('COMPOUND beer1/beer2 comb_p', ascending=True, inplace=True)\n",
    "pathway_df"
   ]
  },
  {
   "cell_type": "markdown",
   "metadata": {},
   "source": [
    "### PALS analysis of compounds by connecting to Reactome"
   ]
  },
  {
   "cell_type": "code",
   "execution_count": null,
   "metadata": {},
   "outputs": [],
   "source": [
    "ds = DataSource(int_df, annotation_df, experimental_design, DATABASE_REACTOME_KEGG, \n",
    "                reactome_species=REACTOME_SPECIES_HOMO_SAPIENS, reactome_metabolic_pathway_only=True, reactome_query=True)"
   ]
  },
  {
   "cell_type": "code",
   "execution_count": null,
   "metadata": {},
   "outputs": [],
   "source": [
    "pals = PALS(ds, plage_weight=5, hg_weight=1)\n",
    "pathway_df = pals.get_pathway_df()"
   ]
  },
  {
   "cell_type": "code",
   "execution_count": null,
   "metadata": {},
   "outputs": [],
   "source": [
    "pathway_df.sort_values('COMPOUND beer1/beer2 comb_p', ascending=True, inplace=True)\n",
    "pathway_df"
   ]
  },
  {
   "cell_type": "markdown",
   "metadata": {},
   "source": [
    "### ORA Analysis"
   ]
  },
  {
   "cell_type": "code",
   "execution_count": null,
   "metadata": {},
   "outputs": [],
   "source": [
    "ds = DataSource(int_df, annotation_df, experimental_design, DATABASE_PIMP_KEGG)"
   ]
  },
  {
   "cell_type": "code",
   "execution_count": null,
   "metadata": {},
   "outputs": [],
   "source": [
    "ora = ORA(ds)\n",
    "pathway_df = ora.get_pathway_df()"
   ]
  },
  {
   "cell_type": "code",
   "execution_count": null,
   "metadata": {},
   "outputs": [],
   "source": [
    "pathway_df.sort_values('PiMP_KEGG beer1/beer2 comb_p', ascending=True, inplace=True)\n",
    "pathway_df"
   ]
  }
 ],
 "metadata": {
  "kernelspec": {
   "display_name": "Python 3",
   "language": "python",
   "name": "python3"
  },
  "language_info": {
   "codemirror_mode": {
    "name": "ipython",
    "version": 3
   },
   "file_extension": ".py",
   "mimetype": "text/x-python",
   "name": "python",
   "nbconvert_exporter": "python",
   "pygments_lexer": "ipython3",
   "version": "3.7.3"
  }
 },
 "nbformat": 4,
 "nbformat_minor": 4
}
