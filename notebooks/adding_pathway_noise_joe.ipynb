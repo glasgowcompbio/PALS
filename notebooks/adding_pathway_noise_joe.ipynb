{
 "cells": [
  {
   "cell_type": "code",
   "execution_count": null,
   "metadata": {
    "scrolled": true
   },
   "outputs": [],
   "source": [
    "%load_ext autoreload\n",
    "%autoreload 2"
   ]
  },
  {
   "cell_type": "code",
   "execution_count": null,
   "metadata": {},
   "outputs": [],
   "source": [
    "%pylab inline"
   ]
  },
  {
   "cell_type": "code",
   "execution_count": null,
   "metadata": {},
   "outputs": [],
   "source": [
    "import os\n",
    "import sys\n",
    "import pathlib\n",
    "import pickle\n",
    "import warnings\n",
    "\n",
    "sys.path.append('..')"
   ]
  },
  {
   "cell_type": "code",
   "execution_count": null,
   "metadata": {},
   "outputs": [],
   "source": [
    "import pandas as pd\n",
    "from loguru import logger\n",
    "import seaborn as sns"
   ]
  },
  {
   "cell_type": "code",
   "execution_count": null,
   "metadata": {},
   "outputs": [],
   "source": [
    "from pals.pimp_tools import get_pimp_API_token_from_env, PIMP_HOST, download_from_pimp\n",
    "from pals.noise import construct_intensity_df, add_random_peaks, plot_intensity_matrix, convert_to_data_source\n",
    "from pals.evaluation import run_noise_experiment, calc_av_p_scores, construct_single_box_df, _compute_prec_rec_f1, _select_significant_entries, get_tp_fn_fn, adjust_box_widths, get_auc_for_noise\n",
    "from pals.feature_extraction import DataSource\n",
    "\n",
    "from pals.PALS import PALS\n",
    "from pals.ORA import ORA\n",
    "from pals.GSEA import GSEA\n",
    "from pals.common import *"
   ]
  },
  {
   "cell_type": "markdown",
   "metadata": {},
   "source": [
    "## Synthetic data test"
   ]
  },
  {
   "cell_type": "code",
   "execution_count": null,
   "metadata": {},
   "outputs": [],
   "source": [
    "control_fnames = ['Control_1.mzXML', 'Control_2.mzXML', 'Control_3.mzXML', 'Control_4.mzXML']\n",
    "case_fnames = ['Case_1.mzXML', 'Case_2.mzXML', 'Case_3.mzXML', 'Case_4.mzXML']\n",
    "pathway_names ={'two':2, 'four':4, 'six':6, 'ten':10, 'twenty':20, 'forty':40, 'eighty':80}\n",
    "sample_fnames = control_fnames + case_fnames\n",
    "true_answers = set(pathway_names.keys())\n",
    "\n",
    "num_iterations = 500\n",
    "bg_pw = 100\n",
    "gsea_resamples = 1000\n",
    "gsea_ranking_method = GSEA_RANKING_SNR\n",
    "min_replace = 5000\n",
    "plage_weight = 1\n",
    "hg_weight = 0\n",
    "prob_missing_peaks = 0.2\n",
    "parallel = True\n",
    "\n",
    "base_dir = os.path.join('test_data', 'synthetic')\n",
    "create_if_not_exist(base_dir)"
   ]
  },
  {
   "cell_type": "markdown",
   "metadata": {},
   "source": [
    "Try generating some synthetic data without noise"
   ]
  },
  {
   "cell_type": "code",
   "execution_count": null,
   "metadata": {},
   "outputs": [],
   "source": [
    "int_df, updated_pathway_names = construct_intensity_df(sample_fnames, pathway_names, random=False, background_pathways=bg_pw)\n",
    "print(int_df.shape)\n",
    "print(updated_pathway_names)\n",
    "\n",
    "out_file = os.path.join(base_dir, 'simulated_intensity.eps')\n",
    "plot_intensity_matrix(int_df, out_file=out_file)"
   ]
  },
  {
   "cell_type": "markdown",
   "metadata": {},
   "source": [
    "Convert simulated data above to a PALS DataSource object and run pathway analysis"
   ]
  },
  {
   "cell_type": "code",
   "execution_count": null,
   "metadata": {},
   "outputs": [],
   "source": [
    "ds = convert_to_data_source(int_df, updated_pathway_names, case_fnames, control_fnames, prob_missing_peaks, min_replace)"
   ]
  },
  {
   "cell_type": "code",
   "execution_count": null,
   "metadata": {},
   "outputs": [],
   "source": [
    "pals = PALS(ds, plage_weight=plage_weight, hg_weight=hg_weight)\n",
    "pals_df = pals.get_pathway_df()\n",
    "pals_df.sort_values('pw_name')"
   ]
  },
  {
   "cell_type": "code",
   "execution_count": null,
   "metadata": {},
   "outputs": [],
   "source": [
    "ora = ORA(ds)\n",
    "ora_df = ora.get_pathway_df(correct_multiple_tests=True)\n",
    "ora_df.sort_values('pw_name')"
   ]
  },
  {
   "cell_type": "code",
   "execution_count": null,
   "metadata": {},
   "outputs": [],
   "source": [
    "gsea = GSEA(ds, num_resamples=gsea_resamples, method=gsea_ranking_method)\n",
    "gsea_df = gsea.get_pathway_df()\n",
    "gsea_df.sort_values('pw_name')"
   ]
  },
  {
   "cell_type": "markdown",
   "metadata": {},
   "source": [
    "Now take the synthetic data matrix above, add some noisy peaks (100%) and run pathway analysis methods again."
   ]
  },
  {
   "cell_type": "code",
   "execution_count": null,
   "metadata": {},
   "outputs": [],
   "source": [
    "percent = 250\n",
    "noise_mean = 0\n",
    "noise_std = 5\n",
    "int_df = add_random_peaks(sample_fnames, pathway_names, int_df, percent, noise_mean, noise_std)\n",
    "print(int_df.shape)\n",
    "plot_intensity_matrix(int_df)"
   ]
  },
  {
   "cell_type": "code",
   "execution_count": null,
   "metadata": {},
   "outputs": [],
   "source": [
    "ds = convert_to_data_source(int_df, updated_pathway_names, case_fnames, control_fnames, prob_missing_peaks, min_replace)"
   ]
  },
  {
   "cell_type": "code",
   "execution_count": null,
   "metadata": {},
   "outputs": [],
   "source": [
    "pals = PALS(ds, plage_weight=plage_weight, hg_weight=hg_weight)\n",
    "pals_df = pals.get_pathway_df()\n",
    "pals_df.sort_values('pw_name')"
   ]
  },
  {
   "cell_type": "code",
   "execution_count": null,
   "metadata": {},
   "outputs": [],
   "source": [
    "ora = ORA(ds)\n",
    "ora_df = ora.get_pathway_df(correct_multiple_tests=True)\n",
    "ora_df.sort_values('pw_name')"
   ]
  },
  {
   "cell_type": "code",
   "execution_count": null,
   "metadata": {},
   "outputs": [],
   "source": [
    "gsea = GSEA(ds, num_resamples=gsea_resamples, method=gsea_ranking_method)\n",
    "gsea_df = gsea.get_pathway_df()\n",
    "gsea_df.sort_values('pw_name')"
   ]
  },
  {
   "cell_type": "markdown",
   "metadata": {},
   "source": [
    "### Experiments"
   ]
  },
  {
   "cell_type": "markdown",
   "metadata": {},
   "source": [
    "### Experiment 1: adding noise"
   ]
  },
  {
   "cell_type": "code",
   "execution_count": null,
   "metadata": {},
   "outputs": [],
   "source": [
    "prob_missing_peaks = 0.20\n",
    "noise_std = 5\n",
    "reqd_scenarios = [\n",
    "    { 'noise_std': noise_std, 'percent': 0, 'prob_missing_peaks': prob_missing_peaks, },\n",
    "    { 'noise_std': noise_std, 'percent': 25, 'prob_missing_peaks': prob_missing_peaks, },\n",
    "    { 'noise_std': noise_std, 'percent': 50, 'prob_missing_peaks': prob_missing_peaks, },\n",
    "    { 'noise_std': noise_std, 'percent': 100, 'prob_missing_peaks': prob_missing_peaks, },        \n",
    "    { 'noise_std': noise_std, 'percent': 250, 'prob_missing_peaks': prob_missing_peaks, },\n",
    "    { 'noise_std': noise_std, 'percent': 500, 'prob_missing_peaks': prob_missing_peaks, },\n",
    "    { 'noise_std': noise_std, 'percent': 1000, 'prob_missing_peaks': prob_missing_peaks, },\n",
    "]"
   ]
  },
  {
   "cell_type": "markdown",
   "metadata": {},
   "source": [
    "#### Run experiment"
   ]
  },
  {
   "cell_type": "markdown",
   "metadata": {},
   "source": [
    "In this experiment, we add some % of noise to the data, and compares how the different methods perform."
   ]
  },
  {
   "cell_type": "code",
   "execution_count": null,
   "metadata": {},
   "outputs": [],
   "source": [
    "out_file = os.path.join(base_dir, 'experiment_1.p')"
   ]
  },
  {
   "cell_type": "code",
   "execution_count": null,
   "metadata": {},
   "outputs": [],
   "source": [
    "pals_df, ora_df, gsea_df, exp_results = run_noise_experiment(bg_pw, case_fnames, control_fnames, pathway_names, num_iterations, plage_weight, hg_weight, gsea_resamples, gsea_ranking_method, \n",
    "                                                             reqd_scenarios, parallel=parallel)\n",
    "combined_df = pd.concat([pals_df, ora_df, gsea_df])"
   ]
  },
  {
   "cell_type": "code",
   "execution_count": null,
   "metadata": {},
   "outputs": [],
   "source": [
    "results = {\n",
    "    'pals_df': pals_df,\n",
    "    'ora_df': ora_df,\n",
    "    'gsea_df': gsea_df,\n",
    "    'combined_df': combined_df,\n",
    "    'exp_results': exp_results\n",
    "}\n",
    "save_obj(results, out_file)"
   ]
  },
  {
   "cell_type": "markdown",
   "metadata": {},
   "source": [
    "#### Load experiment results"
   ]
  },
  {
   "cell_type": "code",
   "execution_count": null,
   "metadata": {},
   "outputs": [],
   "source": [
    "out_file = os.path.join(base_dir, 'experiment_1.p')"
   ]
  },
  {
   "cell_type": "code",
   "execution_count": null,
   "metadata": {},
   "outputs": [],
   "source": [
    "results = load_obj(out_file)\n",
    "pals_df = results['pals_df']\n",
    "ora_df = results['ora_df']\n",
    "gsea_df = results['gsea_df']\n",
    "combined_df = results['combined_df']\n",
    "exp_results = results['exp_results']"
   ]
  },
  {
   "cell_type": "code",
   "execution_count": null,
   "metadata": {},
   "outputs": [],
   "source": [
    "filtered_pals_df = pals_df[~pals_df.pathway.str.contains(\"background\")].copy()\n",
    "filtered_ora_df = ora_df[~ora_df.pathway.str.contains(\"background\")].copy()\n",
    "filtered_gsea_df = gsea_df[~gsea_df.pathway.str.contains(\"background\")].copy()\n",
    "filtered_combined_df = combined_df[~combined_df.pathway.str.contains(\"background\")].copy()"
   ]
  },
  {
   "cell_type": "code",
   "execution_count": null,
   "metadata": {},
   "outputs": [],
   "source": [
    "background_pals_df = pals_df[pals_df.pathway.str.contains(\"background\")].copy()\n",
    "background_ora_df = ora_df[ora_df.pathway.str.contains(\"background\")].copy()\n",
    "background_gsea_df = gsea_df[gsea_df.pathway.str.contains(\"background\")].copy()\n",
    "background_combined_df = combined_df[combined_df.pathway.str.contains(\"background\")].copy()"
   ]
  },
  {
   "cell_type": "code",
   "execution_count": null,
   "metadata": {},
   "outputs": [],
   "source": [
    "filtered_pals_df.groupby('percent').describe()"
   ]
  },
  {
   "cell_type": "code",
   "execution_count": null,
   "metadata": {},
   "outputs": [],
   "source": [
    "filtered_ora_df.groupby('percent').describe()"
   ]
  },
  {
   "cell_type": "code",
   "execution_count": null,
   "metadata": {},
   "outputs": [],
   "source": [
    "filtered_gsea_df.groupby('percent').describe()"
   ]
  },
  {
   "cell_type": "markdown",
   "metadata": {},
   "source": [
    "Define seaborn styles. This will affect all plots from hereon."
   ]
  },
  {
   "cell_type": "code",
   "execution_count": null,
   "metadata": {},
   "outputs": [],
   "source": [
    "sns.set(style=\"ticks\")\n",
    "style.use('seaborn-poster') #sets the size of the charts\n",
    "sns.set_context('poster')  #Everything is larger"
   ]
  },
  {
   "cell_type": "code",
   "execution_count": null,
   "metadata": {},
   "outputs": [],
   "source": [
    "ax = sns.boxplot(x=\"percent\", y=\"comb_p_value\", hue='method', hue_order=['ORA', 'GSEA', 'PALS'], data=filtered_combined_df, palette=(\"rainbow\"))\n",
    "ax.set(xlabel='Noise Level (%)', ylabel='p-value')\n",
    "plt.plot([-0.5, 6.5], [0.05, 0.05], 'r--')\n",
    "plt.title('Increasing Noise Level')\n",
    "plt.legend(loc='upper left')\n",
    "plt.tight_layout()\n",
    "sns.despine(offset=10, trim=True)\n",
    "\n",
    "out_file = os.path.join(base_dir, 'adding_noise.eps')\n",
    "plt.savefig(out_file, dpi=300)"
   ]
  },
  {
   "cell_type": "code",
   "execution_count": null,
   "metadata": {},
   "outputs": [],
   "source": [
    "pals_pvalue_mean = pd.DataFrame(filtered_pals_df.groupby('percent').describe()['comb_p_value']['mean'])\n",
    "ora_pvalue_mean = pd.DataFrame(filtered_ora_df.groupby('percent').describe()['comb_p_value']['mean'])\n",
    "gsea_pvalue_mean = pd.DataFrame(filtered_gsea_df.groupby('percent').describe()['comb_p_value']['mean'])\n",
    "\n",
    "pals_pvalue_mean['method'] = 'PALS'\n",
    "ora_pvalue_mean['method'] = 'ORA'\n",
    "gsea_pvalue_mean['method'] = 'GSEA'\n",
    "combined_df = pd.concat([pals_pvalue_mean, ora_pvalue_mean, gsea_pvalue_mean])\n",
    "\n",
    "ax = sns.lineplot(data=combined_df.reset_index(), x='percent', y='mean', hue='method', hue_order=['ORA', 'GSEA', 'PALS'], palette='rainbow')\n",
    "ax.set(xlabel='Noise Level (%)', ylabel='Mean p-value')\n",
    "plt.title('Mean p-values for all noise levels')\n",
    "\n",
    "plt.tight_layout()\n",
    "sns.despine(offset=10, trim=True)\n",
    "\n",
    "out_file = os.path.join(base_dir, 'mean_pvalues.eps')\n",
    "plt.savefig(out_file, dpi=300)"
   ]
  },
  {
   "cell_type": "markdown",
   "metadata": {},
   "source": [
    "#### Plot for individual pathways"
   ]
  },
  {
   "cell_type": "markdown",
   "metadata": {},
   "source": [
    "Make lineplot"
   ]
  },
  {
   "cell_type": "code",
   "execution_count": null,
   "metadata": {},
   "outputs": [],
   "source": [
    "sns.set(style=\"whitegrid\")\n",
    "style.use('seaborn-poster') #sets the size of the charts\n",
    "sns.set_context('poster')  #Everything is larger"
   ]
  },
  {
   "cell_type": "code",
   "execution_count": null,
   "metadata": {},
   "outputs": [],
   "source": [
    "fig, axes = plt.subplots(1, 3, sharey=True)\n",
    "\n",
    "df = filtered_ora_df\n",
    "df = df.groupby(['pathway', 'percent']).describe()\n",
    "df = pd.DataFrame(df['comb_p_value']['mean'])\n",
    "df = pd.DataFrame(df.to_records())\n",
    "df['pathway'] = pd.Categorical(df['pathway'], ['two', 'four', 'six', 'ten', 'twenty', 'forty', 'eighty'])\n",
    "df = df.sort_values(['pathway', 'percent'])    \n",
    "df['percent'] = ['$%s$' % x for x in df['percent']] # https://github.com/mwaskom/seaborn/issues/1653\n",
    "ax = sns.lineplot(data=df, x='pathway', y='mean', hue='percent', palette=(\"rainbow\"), marker='o', markersize=10, \n",
    "                  ax=axes[0], legend=False)\n",
    "sns.despine()\n",
    "ax.set(xlabel='Pathways', ylabel='Mean p-value')\n",
    "ax.yaxis.set_ticks(np.arange(0, 1.05, 0.05))        \n",
    "ax.set_title('ORA')\n",
    "\n",
    "df = filtered_gsea_df\n",
    "df = df.groupby(['pathway', 'percent']).describe()\n",
    "df = pd.DataFrame(df['comb_p_value']['mean'])\n",
    "df = pd.DataFrame(df.to_records())\n",
    "df['pathway'] = pd.Categorical(df['pathway'], ['two', 'four', 'six', 'ten', 'twenty', 'forty', 'eighty'])\n",
    "df = df.sort_values(['pathway', 'percent'])    \n",
    "df['percent'] = ['$%s$' % x for x in df['percent']] # https://github.com/mwaskom/seaborn/issues/1653\n",
    "ax = sns.lineplot(data=df, x='pathway', y='mean', hue='percent', palette=(\"rainbow\"), marker='o', markersize=10, \n",
    "                  ax=axes[1], legend=False)\n",
    "sns.despine()\n",
    "ax.set(xlabel='Pathways', ylabel='Mean p-value')\n",
    "ax.yaxis.set_ticks(np.arange(0, 1.05, 0.05))        \n",
    "ax.set_title('GSEA')\n",
    "\n",
    "df = filtered_pals_df\n",
    "df = df.groupby(['pathway', 'percent']).describe()\n",
    "df = pd.DataFrame(df['comb_p_value']['mean'])\n",
    "df = pd.DataFrame(df.to_records())\n",
    "df['pathway'] = pd.Categorical(df['pathway'], ['two', 'four', 'six', 'ten', 'twenty', 'forty', 'eighty'])\n",
    "df = df.sort_values(['pathway', 'percent'])    \n",
    "df['percent'] = ['$%s$' % x for x in df['percent']] # https://github.com/mwaskom/seaborn/issues/1653\n",
    "ax = sns.lineplot(data=df, x='pathway', y='mean', hue='percent', palette=(\"rainbow\"), marker='o', markersize=10, \n",
    "                  ax=axes[2], legend='brief')\n",
    "sns.despine()\n",
    "ax.set(xlabel='Pathways', ylabel='Mean p-value')\n",
    "ax.yaxis.set_ticks(np.arange(0, 1.05, 0.05))        \n",
    "ax.set_title('PALS')\n",
    "\n",
    "ax.legend(bbox_to_anchor=(1.05, 0), loc='lower left', borderaxespad=0.)\n",
    "         # it will place the legend on the outer right-hand side of the last axes\n",
    "    \n",
    "for ax in fig.axes:\n",
    "    matplotlib.pyplot.sca(ax)\n",
    "    plt.xticks(rotation=90)\n",
    "    \n",
    "plt.suptitle('Mean p-values for Each Pathway')\n",
    "    \n",
    "plt.tight_layout(rect=[0, 0.03, 1, 0.95])\n",
    "out_file = os.path.join(base_dir, 'mean_pvalues.eps')\n",
    "plt.savefig(out_file, dpi=300)"
   ]
  },
  {
   "cell_type": "markdown",
   "metadata": {},
   "source": [
    "Make barplots"
   ]
  },
  {
   "cell_type": "code",
   "execution_count": null,
   "metadata": {},
   "outputs": [],
   "source": [
    "filtered_pals_df['pathway'] = pd.Categorical(filtered_pals_df['pathway'], ['eighty', 'forty', 'twenty', 'ten', 'six', 'four', 'two'])\n",
    "filtered_ora_df['pathway'] = pd.Categorical(filtered_ora_df['pathway'], ['eighty', 'forty', 'twenty', 'ten', 'six', 'four', 'two'])\n",
    "filtered_gsea_df['pathway'] = pd.Categorical(filtered_gsea_df['pathway'], ['eighty', 'forty', 'twenty', 'ten', 'six', 'four', 'two'])\n",
    "\n",
    "filtered_pals_df = filtered_pals_df.sort_values('pathway')\n",
    "filtered_ora_df = filtered_ora_df.sort_values('pathway')\n",
    "filtered_gsea_df = filtered_gsea_df.sort_values('pathway')"
   ]
  },
  {
   "cell_type": "code",
   "execution_count": null,
   "metadata": {},
   "outputs": [],
   "source": [
    "ax = sns.boxplot(x='pathway', y='comb_p_value', hue='percent', data=filtered_ora_df, palette=(\"rainbow\"))\n",
    "ax.set(xlabel='Pathways', ylabel='p-value')\n",
    "plt.plot([-0.5, 6.5], [0.05, 0.05], 'r--')\n",
    "plt.title('Individual Pathway Rankings (ORA)')\n",
    "sns.despine(offset=10, trim=True)\n",
    "\n",
    "out_file = os.path.join(base_dir, 'pathway_ranking_ora.eps')\n",
    "plt.savefig(out_file, dpi=300)"
   ]
  },
  {
   "cell_type": "code",
   "execution_count": null,
   "metadata": {},
   "outputs": [],
   "source": [
    "ax = sns.boxplot(x='pathway', y='comb_p_value', hue='percent', data=filtered_gsea_df, palette=(\"rainbow\"))\n",
    "ax.set(xlabel='Pathways', ylabel='p-value')\n",
    "plt.plot([-0.5, 6.5], [0.05, 0.05], 'r--')\n",
    "plt.title('Individual Pathway Rankings (GSEA)')\n",
    "sns.despine(offset=10, trim=True)\n",
    "\n",
    "out_file = os.path.join(base_dir, 'pathway_ranking_gsea.eps')\n",
    "plt.savefig(out_file, dpi=300)"
   ]
  },
  {
   "cell_type": "code",
   "execution_count": null,
   "metadata": {},
   "outputs": [],
   "source": [
    "ax = sns.boxplot(x='pathway', y='comb_p_value', hue='percent', data=filtered_pals_df, palette=(\"rainbow\"))\n",
    "ax.set(xlabel='Pathways', ylabel='p-value')\n",
    "plt.plot([-0.5, 6.5], [0.05, 0.05], 'r--')\n",
    "plt.title('Individual Pathway Rankings (PALS)')\n",
    "sns.despine(offset=10, trim=True)\n",
    "\n",
    "out_file = os.path.join(base_dir, 'pathway_ranking_pals.eps')\n",
    "plt.savefig(out_file, dpi=300)"
   ]
  },
  {
   "cell_type": "code",
   "execution_count": null,
   "metadata": {},
   "outputs": [],
   "source": [
    "sns.boxplot(x='percent', y='comb_p_value', hue='method', data=background_combined_df, hue_order=['ORA', 'GSEA', 'PALS'], palette=(\"rainbow\"))\n",
    "plt.legend(loc='lower left')\n",
    "plt.title('Background Pathways p-values')\n",
    "sns.despine(offset=10, trim=True)\n",
    "\n",
    "out_file = os.path.join(base_dir, 'background_pw_pvals.eps')\n",
    "plt.savefig(out_file, dpi=300)"
   ]
  },
  {
   "cell_type": "code",
   "execution_count": null,
   "metadata": {},
   "outputs": [],
   "source": [
    "pvals = background_gsea_df[background_gsea_df['percent'] == 0].comb_p_value.values\n",
    "sns.distplot(pvals, kde=False)"
   ]
  },
  {
   "cell_type": "code",
   "execution_count": null,
   "metadata": {},
   "outputs": [],
   "source": [
    "pvals = background_pals_df[background_pals_df['percent'] == 0].comb_p_value.values\n",
    "sns.distplot(pvals, kde=False)"
   ]
  },
  {
   "cell_type": "code",
   "execution_count": null,
   "metadata": {},
   "outputs": [],
   "source": [
    "pvals = background_ora_df[background_ora_df['percent'] == 0].comb_p_value.values\n",
    "sns.distplot(pvals, kde=False)"
   ]
  },
  {
   "cell_type": "markdown",
   "metadata": {},
   "source": [
    "#### Better analysis where we consider TP, FP, FN"
   ]
  },
  {
   "cell_type": "code",
   "execution_count": null,
   "metadata": {},
   "outputs": [],
   "source": [
    "df = get_tp_fn_fn(reqd_scenarios, exp_results, true_answers)\n",
    "out_file = os.path.join(base_dir, 'noise_performance.csv')\n",
    "df.to_csv(out_file)\n",
    "df"
   ]
  },
  {
   "cell_type": "code",
   "execution_count": null,
   "metadata": {},
   "outputs": [],
   "source": [
    "fig = plt.figure(figsize=(20, 7))\n",
    "ax = sns.boxplot(x=\"percent\", y=\"f1\", hue='method', hue_order=['ORA', 'GSEA', 'PALS'], data=df, palette=(\"rainbow\"))\n",
    "ax.set(xlabel='Noise Level (%)', ylabel='$F_{1}$ score')\n",
    "plt.title('$F_{1}$ score performance under noise')\n",
    "plt.tight_layout()\n",
    "sns.despine(offset=10, trim=True)\n",
    "ax.yaxis.grid(True)\n",
    "ax.xaxis.grid(False)\n",
    "plt.legend(loc='lower left')\n",
    "\n",
    "adjust_box_widths(fig, 0.9)\n",
    "out_file = os.path.join(base_dir, 'f1_performance_with_noise.eps')\n",
    "plt.savefig(out_file, dpi=300)"
   ]
  },
  {
   "cell_type": "code",
   "execution_count": null,
   "metadata": {},
   "outputs": [],
   "source": [
    "fig = plt.figure(figsize=(20, 7))\n",
    "ax = sns.boxplot(x=\"percent\", y=\"prec\", hue='method', hue_order=['ORA', 'GSEA', 'PALS'], data=df, palette=(\"rainbow\"))\n",
    "ax.set(xlabel='Noise Level (%)', ylabel='Precision')\n",
    "plt.title('Precision under noise')\n",
    "plt.tight_layout()\n",
    "sns.despine(offset=10, trim=True)\n",
    "ax.yaxis.grid(True)\n",
    "ax.xaxis.grid(False)\n",
    "\n",
    "adjust_box_widths(fig, 0.9)\n",
    "out_file = os.path.join(base_dir, 'precision_with_noise.eps')\n",
    "plt.savefig(out_file, dpi=300)"
   ]
  },
  {
   "cell_type": "code",
   "execution_count": null,
   "metadata": {},
   "outputs": [],
   "source": [
    "fig = plt.figure(figsize=(20, 7))\n",
    "ax = sns.boxplot(x=\"percent\", y=\"rec\", hue='method', hue_order=['ORA', 'GSEA', 'PALS'], data=df, palette=(\"rainbow\"))\n",
    "ax.set(xlabel='Noise Level (%)', ylabel='Recall')\n",
    "plt.title('Recall under noise')\n",
    "plt.tight_layout()\n",
    "sns.despine(offset=10, trim=True)\n",
    "ax.yaxis.grid(True)\n",
    "ax.xaxis.grid(False)\n",
    "\n",
    "adjust_box_widths(fig, 0.9)\n",
    "out_file = os.path.join(base_dir, 'recall_with_noise.eps')\n",
    "plt.savefig(out_file, dpi=300)"
   ]
  },
  {
   "cell_type": "code",
   "execution_count": null,
   "metadata": {},
   "outputs": [],
   "source": [
    "fig = plt.figure(figsize=(20, 7))\n",
    "ax = sns.boxplot(x=\"percent\", y=\"TP\", hue='method', hue_order=['ORA', 'GSEA', 'PALS'], data=df, palette=(\"rainbow\"))\n",
    "ax.set(xlabel='Noise Level (%)', ylabel='True Positives')\n",
    "plt.title('True positives under noise')\n",
    "plt.tight_layout()\n",
    "sns.despine(offset=10, trim=True)\n",
    "ax.yaxis.grid(True)\n",
    "ax.xaxis.grid(False)\n",
    "\n",
    "adjust_box_widths(fig, 0.9)\n",
    "out_file = os.path.join(base_dir, 'TP_with_noise.eps')\n",
    "plt.savefig(out_file, dpi=300)"
   ]
  },
  {
   "cell_type": "code",
   "execution_count": null,
   "metadata": {},
   "outputs": [],
   "source": [
    "fig = plt.figure(figsize=(20, 7))\n",
    "ax = sns.boxplot(x=\"percent\", y=\"FP\", hue='method', hue_order=['ORA', 'GSEA', 'PALS'], data=df, palette=(\"rainbow\"))\n",
    "ax.set(xlabel='Noise Level (%)', ylabel='False Positives')\n",
    "plt.title('False positives under noise')\n",
    "plt.tight_layout()\n",
    "sns.despine(offset=10, trim=True)\n",
    "ax.yaxis.grid(True)\n",
    "ax.xaxis.grid(False)\n",
    "plt.legend(loc='upper left')\n",
    "\n",
    "adjust_box_widths(fig, 0.9)\n",
    "out_file = os.path.join(base_dir, 'FP_with_noise.eps')\n",
    "plt.savefig(out_file, dpi=300)"
   ]
  },
  {
   "cell_type": "code",
   "execution_count": null,
   "metadata": {},
   "outputs": [],
   "source": [
    "fig = plt.figure(figsize=(20, 7))\n",
    "ax = sns.boxplot(x=\"percent\", y=\"FN\", hue='method', hue_order=['ORA', 'GSEA', 'PALS'], data=df, palette=(\"rainbow\"))\n",
    "ax.set(xlabel='Noise Level (%)', ylabel='False Negatives')\n",
    "plt.title('False negatives under noise')\n",
    "plt.tight_layout()\n",
    "sns.despine(offset=10, trim=True)\n",
    "ax.yaxis.grid(True)\n",
    "ax.xaxis.grid(False)\n",
    "plt.legend(loc='upper left')\n",
    "\n",
    "adjust_box_widths(fig, 0.9)\n",
    "out_file = os.path.join(base_dir, 'FN_with_noise.eps')\n",
    "plt.savefig(out_file, dpi=300)"
   ]
  },
  {
   "cell_type": "markdown",
   "metadata": {},
   "source": [
    "#### Compute PR curves and AUC"
   ]
  },
  {
   "cell_type": "code",
   "execution_count": null,
   "metadata": {},
   "outputs": [],
   "source": [
    "auc_df = get_auc_for_noise(reqd_scenarios, exp_results, true_answers)"
   ]
  },
  {
   "cell_type": "code",
   "execution_count": null,
   "metadata": {},
   "outputs": [],
   "source": [
    "auc_df"
   ]
  },
  {
   "cell_type": "code",
   "execution_count": null,
   "metadata": {},
   "outputs": [],
   "source": [
    "fig = plt.figure(figsize=(20, 7))\n",
    "ax = sns.boxplot(x=\"percent\", y=\"auc\", hue='method', hue_order=['ORA', 'GSEA', 'PALS'], data=auc_df, palette=(\"rainbow\"))\n",
    "ax.set(xlabel='Noise Level (%)', ylabel='AUC')\n",
    "plt.title('AUC performance under noise')\n",
    "plt.tight_layout()\n",
    "sns.despine(offset=10, trim=True)\n",
    "ax.yaxis.grid(True)\n",
    "ax.xaxis.grid(False)\n",
    "\n",
    "adjust_box_widths(fig, 0.9)\n",
    "out_file = os.path.join(base_dir, 'auc_performance_with_noise.eps')\n",
    "plt.savefig(out_file, dpi=300)"
   ]
  },
  {
   "cell_type": "markdown",
   "metadata": {},
   "source": [
    "### Experiment 2: introducing missing peaks"
   ]
  },
  {
   "cell_type": "markdown",
   "metadata": {},
   "source": [
    "In this experiment, we add a fixed (100%) noisy peaks, then increase the number of missing peaks in the data."
   ]
  },
  {
   "cell_type": "code",
   "execution_count": null,
   "metadata": {},
   "outputs": [],
   "source": [
    "percent = 100\n",
    "noise_std = 5\n",
    "reqd_scenarios = [\n",
    "    { 'noise_std': noise_std, 'percent': percent, 'prob_missing_peaks': 0.2, },\n",
    "    { 'noise_std': noise_std, 'percent': percent, 'prob_missing_peaks': 0.4, },        \n",
    "    { 'noise_std': noise_std, 'percent': percent, 'prob_missing_peaks': 0.6, },\n",
    "    { 'noise_std': noise_std, 'percent': percent, 'prob_missing_peaks': 0.8, },\n",
    "]"
   ]
  },
  {
   "cell_type": "markdown",
   "metadata": {},
   "source": [
    "#### Run experiment"
   ]
  },
  {
   "cell_type": "code",
   "execution_count": null,
   "metadata": {},
   "outputs": [],
   "source": [
    "out_file = os.path.join(base_dir, 'experiment_2.p')"
   ]
  },
  {
   "cell_type": "code",
   "execution_count": null,
   "metadata": {},
   "outputs": [],
   "source": [
    "pals_df, ora_df, gsea_df, exp_results = run_noise_experiment(bg_pw, case_fnames, control_fnames, pathway_names, num_iterations, plage_weight, hg_weight, gsea_resamples, gsea_ranking_method, \n",
    "                                                             reqd_scenarios, parallel=parallel)\n",
    "combined_df = pd.concat([pals_df, ora_df, gsea_df])"
   ]
  },
  {
   "cell_type": "code",
   "execution_count": null,
   "metadata": {},
   "outputs": [],
   "source": [
    "results = {\n",
    "    'pals_df': pals_df,\n",
    "    'ora_df': ora_df,\n",
    "    'gsea_df': gsea_df,\n",
    "    'combined_df': combined_df,\n",
    "    'exp_results': exp_results\n",
    "}\n",
    "save_obj(results, out_file)"
   ]
  },
  {
   "cell_type": "markdown",
   "metadata": {},
   "source": [
    "#### Load experiment results"
   ]
  },
  {
   "cell_type": "code",
   "execution_count": null,
   "metadata": {},
   "outputs": [],
   "source": [
    "out_file = os.path.join(base_dir, 'experiment_2.p')"
   ]
  },
  {
   "cell_type": "code",
   "execution_count": null,
   "metadata": {},
   "outputs": [],
   "source": [
    "results = load_obj(out_file)\n",
    "pals_df = results['pals_df']\n",
    "ora_df = results['ora_df']\n",
    "gsea_df = results['gsea_df']\n",
    "combined_df = results['combined_df']\n",
    "exp_results = results['exp_results']"
   ]
  },
  {
   "cell_type": "code",
   "execution_count": null,
   "metadata": {},
   "outputs": [],
   "source": [
    "filtered_pals_df = pals_df[~pals_df.pathway.str.contains(\"background\")].copy()\n",
    "filtered_ora_df = ora_df[~ora_df.pathway.str.contains(\"background\")].copy()\n",
    "filtered_gsea_df = gsea_df[~gsea_df.pathway.str.contains(\"background\")].copy()\n",
    "filtered_combined_df = combined_df[~combined_df.pathway.str.contains(\"background\")].copy()"
   ]
  },
  {
   "cell_type": "code",
   "execution_count": null,
   "metadata": {},
   "outputs": [],
   "source": [
    "filtered_pals_df.groupby('prob_missing').describe()"
   ]
  },
  {
   "cell_type": "code",
   "execution_count": null,
   "metadata": {},
   "outputs": [],
   "source": [
    "filtered_ora_df.groupby('prob_missing').describe()"
   ]
  },
  {
   "cell_type": "code",
   "execution_count": null,
   "metadata": {},
   "outputs": [],
   "source": [
    "filtered_gsea_df.groupby('prob_missing').describe()"
   ]
  },
  {
   "cell_type": "code",
   "execution_count": null,
   "metadata": {},
   "outputs": [],
   "source": [
    "# style.use('seaborn-poster') #sets the size of the charts\n",
    "# sns.set(style=\"whitegrid\")\n",
    "# style.use('ggplot')\n",
    "# sns.set_context('poster')  #Everything is larger"
   ]
  },
  {
   "cell_type": "code",
   "execution_count": null,
   "metadata": {},
   "outputs": [],
   "source": [
    "ax = sns.boxplot(x=\"prob_missing\", y=\"comb_p_value\", hue='method', hue_order=['ORA', 'GSEA', 'PALS'], data=filtered_combined_df, palette=(\"rainbow\"))\n",
    "ax.set(xlabel='Missing Peaks', ylabel='p-value')\n",
    "plt.plot([-0.5, 4.5], [0.05, 0.05], 'r--')\n",
    "plt.title('Increasing Missing Peaks')\n",
    "plt.legend(loc='upper left')\n",
    "plt.tight_layout()\n",
    "\n",
    "out_file = os.path.join(base_dir, 'missing_peaks.eps')\n",
    "plt.savefig(out_file, dpi=300)"
   ]
  },
  {
   "cell_type": "markdown",
   "metadata": {},
   "source": [
    "#### Better analysis where we consider TP, FP, FN"
   ]
  },
  {
   "cell_type": "code",
   "execution_count": null,
   "metadata": {},
   "outputs": [],
   "source": [
    "df = get_tp_fn_fn(reqd_scenarios, exp_results, true_answers)\n",
    "out_file = os.path.join(base_dir, 'missing_peaks_performance.csv')\n",
    "df.to_csv(out_file)\n",
    "df"
   ]
  },
  {
   "cell_type": "code",
   "execution_count": null,
   "metadata": {},
   "outputs": [],
   "source": [
    "fig = plt.figure(figsize=(20, 7))\n",
    "ax = sns.boxplot(x=\"prob_missing_peaks\", y=\"f1\", hue='method', hue_order=['ORA', 'GSEA', 'PALS'], data=df, palette=(\"rainbow\"))\n",
    "ax.set(xlabel='Missing Peaks', ylabel='$F_{1}$ score')\n",
    "plt.title('$F_{1}$ score performance under missing peaks')\n",
    "plt.tight_layout()\n",
    "sns.despine(offset=10, trim=True)\n",
    "ax.yaxis.grid(True)\n",
    "ax.xaxis.grid(False)\n",
    "\n",
    "adjust_box_widths(fig, 0.9)\n",
    "out_file = os.path.join(base_dir, 'f1_performance_with_missing_peaks.eps')\n",
    "plt.savefig(out_file, dpi=300)"
   ]
  },
  {
   "cell_type": "code",
   "execution_count": null,
   "metadata": {},
   "outputs": [],
   "source": [
    "fig = plt.figure(figsize=(20, 7))\n",
    "ax = sns.boxplot(x=\"prob_missing_peaks\", y=\"prec\", hue='method', hue_order=['ORA', 'GSEA', 'PALS'], data=df, palette=(\"rainbow\"))\n",
    "ax.set(xlabel='Missing Peaks', ylabel='Precision')\n",
    "plt.title('Precision under missing peaks')\n",
    "plt.tight_layout()\n",
    "sns.despine(offset=10, trim=True)\n",
    "ax.yaxis.grid(True)\n",
    "ax.xaxis.grid(False)\n",
    "\n",
    "adjust_box_widths(fig, 0.9)\n",
    "out_file = os.path.join(base_dir, 'precision_with_missing_peaks.eps')\n",
    "plt.savefig(out_file, dpi=300)"
   ]
  },
  {
   "cell_type": "code",
   "execution_count": null,
   "metadata": {},
   "outputs": [],
   "source": [
    "fig = plt.figure(figsize=(20, 7))\n",
    "ax = sns.boxplot(x=\"prob_missing_peaks\", y=\"rec\", hue='method', hue_order=['ORA', 'GSEA', 'PALS'], data=df, palette=(\"rainbow\"))\n",
    "ax.set(xlabel='Missing Peaks', ylabel='Recall')\n",
    "plt.title('Recall under missing peaks')\n",
    "plt.tight_layout()\n",
    "sns.despine(offset=10, trim=True)\n",
    "ax.yaxis.grid(True)\n",
    "ax.xaxis.grid(False)\n",
    "\n",
    "adjust_box_widths(fig, 0.9)\n",
    "out_file = os.path.join(base_dir, 'recall_with_missing_peaks.eps')\n",
    "plt.savefig(out_file, dpi=300)"
   ]
  },
  {
   "cell_type": "code",
   "execution_count": null,
   "metadata": {},
   "outputs": [],
   "source": [
    "fig = plt.figure(figsize=(20, 7))\n",
    "ax = sns.boxplot(x=\"prob_missing_peaks\", y=\"TP\", hue='method', hue_order=['ORA', 'GSEA', 'PALS'], data=df, palette=(\"rainbow\"))\n",
    "ax.set(xlabel='Missing Peaks', ylabel='True Positives')\n",
    "plt.title('True positives under missing peaks')\n",
    "plt.tight_layout()\n",
    "sns.despine(offset=10, trim=True)\n",
    "ax.yaxis.grid(True)\n",
    "ax.xaxis.grid(False)\n",
    "\n",
    "adjust_box_widths(fig, 0.9)\n",
    "out_file = os.path.join(base_dir, 'TP_with_missing_peaks.eps')\n",
    "plt.savefig(out_file, dpi=300)"
   ]
  },
  {
   "cell_type": "code",
   "execution_count": null,
   "metadata": {},
   "outputs": [],
   "source": [
    "fig = plt.figure(figsize=(20, 7))\n",
    "ax = sns.boxplot(x=\"prob_missing_peaks\", y=\"FP\", hue='method', hue_order=['ORA', 'GSEA', 'PALS'], data=df, palette=(\"rainbow\"))\n",
    "ax.set(xlabel='Missing Peaks', ylabel='False Positives')\n",
    "plt.title('False positives under missing peaks')\n",
    "plt.tight_layout()\n",
    "sns.despine(offset=10, trim=True)\n",
    "ax.yaxis.grid(True)\n",
    "ax.xaxis.grid(False)\n",
    "plt.legend(loc='upper left')\n",
    "\n",
    "adjust_box_widths(fig, 0.9)\n",
    "out_file = os.path.join(base_dir, 'FP_with_missing_peaks.eps')\n",
    "plt.savefig(out_file, dpi=300)"
   ]
  },
  {
   "cell_type": "code",
   "execution_count": null,
   "metadata": {},
   "outputs": [],
   "source": [
    "fig = plt.figure(figsize=(20, 7))\n",
    "ax = sns.boxplot(x=\"prob_missing_peaks\", y=\"FN\", hue='method', hue_order=['ORA', 'GSEA', 'PALS'], data=df, palette=(\"rainbow\"))\n",
    "ax.set(xlabel='Missing Peaks', ylabel='False Negatives')\n",
    "plt.title('False negatives under missing peaks')\n",
    "plt.tight_layout()\n",
    "sns.despine(offset=10, trim=True)\n",
    "ax.yaxis.grid(True)\n",
    "ax.xaxis.grid(False)\n",
    "plt.legend(loc='upper left')\n",
    "\n",
    "adjust_box_widths(fig, 0.9)\n",
    "out_file = os.path.join(base_dir, 'FN_with_missing_peaks.eps')\n",
    "plt.savefig(out_file, dpi=300)"
   ]
  },
  {
   "cell_type": "markdown",
   "metadata": {},
   "source": [
    "#### Compute PR curves and AUC"
   ]
  },
  {
   "cell_type": "code",
   "execution_count": null,
   "metadata": {},
   "outputs": [],
   "source": [
    "auc_df = get_auc_for_noise(reqd_scenarios, exp_results, true_answers)"
   ]
  },
  {
   "cell_type": "code",
   "execution_count": null,
   "metadata": {},
   "outputs": [],
   "source": [
    "auc_df"
   ]
  },
  {
   "cell_type": "code",
   "execution_count": null,
   "metadata": {},
   "outputs": [],
   "source": [
    "fig = plt.figure(figsize=(20, 7))\n",
    "ax = sns.boxplot(x=\"prob_missing_peaks\", y=\"auc\", hue='method', hue_order=['ORA', 'GSEA', 'PALS'], data=auc_df, palette=(\"rainbow\"))\n",
    "ax.set(xlabel='Missing Peaks', ylabel='AUC')\n",
    "plt.title('AUC performance under missing peaks')\n",
    "plt.tight_layout()\n",
    "sns.despine(offset=10, trim=True)\n",
    "ax.yaxis.grid(True)\n",
    "ax.xaxis.grid(False)\n",
    "\n",
    "adjust_box_widths(fig, 0.9)\n",
    "out_file = os.path.join(base_dir, 'auc_performance_with_missing_peaks.eps')\n",
    "plt.savefig(out_file, dpi=300)"
   ]
  },
  {
   "cell_type": "markdown",
   "metadata": {},
   "source": [
    "### Experiment 3: Nothing is changing, it's all random"
   ]
  },
  {
   "cell_type": "code",
   "execution_count": null,
   "metadata": {},
   "outputs": [],
   "source": [
    "with warnings.catch_warnings():\n",
    "    warnings.filterwarnings('ignore', r'divide by zero')\n",
    "    warnings.filterwarnings('ignore', r'invalid value encountered')\n",
    "    results = calc_av_p_scores(case_fnames, control_fnames, pathway_names, 1, random=True, plage_weight=plage_weight, hg_weight=hg_weight, gsea_resamples=gsea_resamples, gsea_ranking_method=gsea_ranking_method, \n",
    "                               background_pathways=bg_pw)\n",
    "    pals_df = construct_single_box_df(results, 100, 0.2, 1, 'PALS')      \n",
    "    ora_df = construct_single_box_df(results, 100, 0.2, 1, 'ORA')   \n",
    "    gsea_df = construct_single_box_df(results, 100, 0.2, 1, 'GSEA')   "
   ]
  },
  {
   "cell_type": "code",
   "execution_count": null,
   "metadata": {},
   "outputs": [],
   "source": [
    "filtered_pals_df = pals_df[~pals_df.pathway.str.contains(\"background\")].copy()\n",
    "filtered_ora_df = ora_df[~ora_df.pathway.str.contains(\"background\")].copy()\n",
    "filtered_gsea_df = gsea_df[~gsea_df.pathway.str.contains(\"background\")].copy()"
   ]
  },
  {
   "cell_type": "code",
   "execution_count": null,
   "metadata": {},
   "outputs": [],
   "source": [
    "filtered_ora_df"
   ]
  },
  {
   "cell_type": "code",
   "execution_count": null,
   "metadata": {},
   "outputs": [],
   "source": [
    "filtered_pals_df"
   ]
  },
  {
   "cell_type": "code",
   "execution_count": null,
   "metadata": {},
   "outputs": [],
   "source": [
    "filtered_gsea_df"
   ]
  }
 ],
 "metadata": {
  "kernelspec": {
   "display_name": "Python 3",
   "language": "python",
   "name": "python3"
  },
  "language_info": {
   "codemirror_mode": {
    "name": "ipython",
    "version": 3
   },
   "file_extension": ".py",
   "mimetype": "text/x-python",
   "name": "python",
   "nbconvert_exporter": "python",
   "pygments_lexer": "ipython3",
   "version": "3.7.3"
  }
 },
 "nbformat": 4,
 "nbformat_minor": 4
}
