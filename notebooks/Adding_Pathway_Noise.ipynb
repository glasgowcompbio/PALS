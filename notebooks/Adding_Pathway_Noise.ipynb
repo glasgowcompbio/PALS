{
 "cells": [
  {
   "cell_type": "code",
   "execution_count": 1,
   "metadata": {
    "scrolled": true
   },
   "outputs": [],
   "source": [
    "%load_ext autoreload\n",
    "%autoreload 2"
   ]
  },
  {
   "cell_type": "code",
   "execution_count": 2,
   "metadata": {
    "collapsed": true
   },
   "outputs": [],
   "source": [
    "import numpy as np\n",
    "import pandas as pd\n",
    "import os\n",
    "import collections\n",
    "import math \n",
    "from sklearn import preprocessing\n",
    "from IPython.display import display, HTML\n",
    "from experiments.models import Analysis\n",
    "from compound.models import Pathway, CompoundPathway, Compound\n",
    "from data.models import Peak, Dataset, PeakDTSample, PeakQCSample\n",
    "from fileupload.models import Sample\n",
    "from collections import defaultdict\n",
    "from experiments.pipelines.pipeline_rpy2 import Rpy2PipelineMetadata\n",
    "from experiments.pipelines.helpers import convert_to_dataframe"
   ]
  },
  {
   "cell_type": "markdown",
   "metadata": {},
   "source": [
    "### Sampling the p-values over a pathways with a number of different peaks ( none random )"
   ]
  },
  {
   "cell_type": "code",
   "execution_count": 11,
   "metadata": {
    "scrolled": true
   },
   "outputs": [
    {
     "data": {
      "text/html": [
       "<div>\n",
       "<table border=\"1\" class=\"dataframe\">\n",
       "  <thead>\n",
       "    <tr style=\"text-align: right;\">\n",
       "      <th></th>\n",
       "      <th>t-stat</th>\n",
       "      <th>p-value</th>\n",
       "    </tr>\n",
       "    <tr>\n",
       "      <th>0</th>\n",
       "      <th></th>\n",
       "      <th></th>\n",
       "    </tr>\n",
       "  </thead>\n",
       "  <tbody>\n",
       "    <tr>\n",
       "      <th>eighty</th>\n",
       "      <td>-6.238990</td>\n",
       "      <td>0.000835</td>\n",
       "    </tr>\n",
       "    <tr>\n",
       "      <th>forty</th>\n",
       "      <td>-6.178943</td>\n",
       "      <td>0.000914</td>\n",
       "    </tr>\n",
       "    <tr>\n",
       "      <th>twenty</th>\n",
       "      <td>-6.041539</td>\n",
       "      <td>0.001002</td>\n",
       "    </tr>\n",
       "    <tr>\n",
       "      <th>ten</th>\n",
       "      <td>-5.959876</td>\n",
       "      <td>0.001285</td>\n",
       "    </tr>\n",
       "    <tr>\n",
       "      <th>six</th>\n",
       "      <td>-5.907006</td>\n",
       "      <td>0.001740</td>\n",
       "    </tr>\n",
       "    <tr>\n",
       "      <th>four</th>\n",
       "      <td>-5.868487</td>\n",
       "      <td>0.001930</td>\n",
       "    </tr>\n",
       "    <tr>\n",
       "      <th>two</th>\n",
       "      <td>-5.584648</td>\n",
       "      <td>0.003279</td>\n",
       "    </tr>\n",
       "  </tbody>\n",
       "</table>\n",
       "</div>"
      ],
      "text/plain": [
       "          t-stat   p-value\n",
       "0                         \n",
       "eighty -6.238990  0.000835\n",
       "forty  -6.178943  0.000914\n",
       "twenty -6.041539  0.001002\n",
       "ten    -5.959876  0.001285\n",
       "six    -5.907006  0.001740\n",
       "four   -5.868487  0.001930\n",
       "two    -5.584648  0.003279"
      ]
     },
     "metadata": {},
     "output_type": "display_data"
    }
   ],
   "source": [
    "no_change_df = calc_av_p_scores(100)\n",
    "display (no_change_df)"
   ]
  },
  {
   "cell_type": "markdown",
   "metadata": {},
   "source": [
    "### Adding a pecentage of random peaks to the pathways STD = 5"
   ]
  },
  {
   "cell_type": "code",
   "execution_count": 33,
   "metadata": {},
   "outputs": [
    {
     "data": {
      "text/html": [
       "<div>\n",
       "<table border=\"1\" class=\"dataframe\">\n",
       "  <thead>\n",
       "    <tr style=\"text-align: right;\">\n",
       "      <th></th>\n",
       "      <th>t-stat</th>\n",
       "      <th>p-value</th>\n",
       "    </tr>\n",
       "    <tr>\n",
       "      <th>0</th>\n",
       "      <th></th>\n",
       "      <th></th>\n",
       "    </tr>\n",
       "  </thead>\n",
       "  <tbody>\n",
       "    <tr>\n",
       "      <th>eighty</th>\n",
       "      <td>-6.188002</td>\n",
       "      <td>0.000874</td>\n",
       "    </tr>\n",
       "    <tr>\n",
       "      <th>forty</th>\n",
       "      <td>-6.183936</td>\n",
       "      <td>0.000905</td>\n",
       "    </tr>\n",
       "    <tr>\n",
       "      <th>twenty</th>\n",
       "      <td>-5.951279</td>\n",
       "      <td>0.001129</td>\n",
       "    </tr>\n",
       "    <tr>\n",
       "      <th>ten</th>\n",
       "      <td>-5.864376</td>\n",
       "      <td>0.001474</td>\n",
       "    </tr>\n",
       "    <tr>\n",
       "      <th>six</th>\n",
       "      <td>-5.825705</td>\n",
       "      <td>0.002362</td>\n",
       "    </tr>\n",
       "    <tr>\n",
       "      <th>four</th>\n",
       "      <td>-5.463280</td>\n",
       "      <td>0.002924</td>\n",
       "    </tr>\n",
       "    <tr>\n",
       "      <th>two</th>\n",
       "      <td>-4.910249</td>\n",
       "      <td>0.010971</td>\n",
       "    </tr>\n",
       "  </tbody>\n",
       "</table>\n",
       "</div>"
      ],
      "text/plain": [
       "          t-stat   p-value\n",
       "0                         \n",
       "eighty -6.188002  0.000874\n",
       "forty  -6.183936  0.000905\n",
       "twenty -5.951279  0.001129\n",
       "ten    -5.864376  0.001474\n",
       "six    -5.825705  0.002362\n",
       "four   -5.463280  0.002924\n",
       "two    -4.910249  0.010971"
      ]
     },
     "metadata": {},
     "output_type": "display_data"
    }
   ],
   "source": [
    "random_50_df = calc_av_p_scores(100,50)\n",
    "display (random_50_df)"
   ]
  },
  {
   "cell_type": "code",
   "execution_count": 34,
   "metadata": {
    "scrolled": true
   },
   "outputs": [
    {
     "data": {
      "text/html": [
       "<div>\n",
       "<table border=\"1\" class=\"dataframe\">\n",
       "  <thead>\n",
       "    <tr style=\"text-align: right;\">\n",
       "      <th></th>\n",
       "      <th>t-stat</th>\n",
       "      <th>p-value</th>\n",
       "    </tr>\n",
       "    <tr>\n",
       "      <th>0</th>\n",
       "      <th></th>\n",
       "      <th></th>\n",
       "    </tr>\n",
       "  </thead>\n",
       "  <tbody>\n",
       "    <tr>\n",
       "      <th>eighty</th>\n",
       "      <td>-6.150526</td>\n",
       "      <td>0.000907</td>\n",
       "    </tr>\n",
       "    <tr>\n",
       "      <th>forty</th>\n",
       "      <td>-6.131710</td>\n",
       "      <td>0.000997</td>\n",
       "    </tr>\n",
       "    <tr>\n",
       "      <th>twenty</th>\n",
       "      <td>-6.028928</td>\n",
       "      <td>0.001290</td>\n",
       "    </tr>\n",
       "    <tr>\n",
       "      <th>ten</th>\n",
       "      <td>-5.858432</td>\n",
       "      <td>0.002011</td>\n",
       "    </tr>\n",
       "    <tr>\n",
       "      <th>six</th>\n",
       "      <td>-5.879864</td>\n",
       "      <td>0.002207</td>\n",
       "    </tr>\n",
       "    <tr>\n",
       "      <th>four</th>\n",
       "      <td>-5.513818</td>\n",
       "      <td>0.003230</td>\n",
       "    </tr>\n",
       "    <tr>\n",
       "      <th>two</th>\n",
       "      <td>-4.542326</td>\n",
       "      <td>0.013898</td>\n",
       "    </tr>\n",
       "  </tbody>\n",
       "</table>\n",
       "</div>"
      ],
      "text/plain": [
       "          t-stat   p-value\n",
       "0                         \n",
       "eighty -6.150526  0.000907\n",
       "forty  -6.131710  0.000997\n",
       "twenty -6.028928  0.001290\n",
       "ten    -5.858432  0.002011\n",
       "six    -5.879864  0.002207\n",
       "four   -5.513818  0.003230\n",
       "two    -4.542326  0.013898"
      ]
     },
     "metadata": {},
     "output_type": "display_data"
    }
   ],
   "source": [
    "random_100_df = calc_av_p_scores(100,100)\n",
    "display (random_100_df)"
   ]
  },
  {
   "cell_type": "code",
   "execution_count": 38,
   "metadata": {
    "scrolled": false
   },
   "outputs": [
    {
     "data": {
      "text/html": [
       "<div>\n",
       "<table border=\"1\" class=\"dataframe\">\n",
       "  <thead>\n",
       "    <tr style=\"text-align: right;\">\n",
       "      <th></th>\n",
       "      <th>t-stat</th>\n",
       "      <th>p-value</th>\n",
       "    </tr>\n",
       "    <tr>\n",
       "      <th>0</th>\n",
       "      <th></th>\n",
       "      <th></th>\n",
       "    </tr>\n",
       "  </thead>\n",
       "  <tbody>\n",
       "    <tr>\n",
       "      <th>eighty</th>\n",
       "      <td>-6.036844</td>\n",
       "      <td>0.000971</td>\n",
       "    </tr>\n",
       "    <tr>\n",
       "      <th>forty</th>\n",
       "      <td>-6.138930</td>\n",
       "      <td>0.001076</td>\n",
       "    </tr>\n",
       "    <tr>\n",
       "      <th>twenty</th>\n",
       "      <td>-5.958228</td>\n",
       "      <td>0.001525</td>\n",
       "    </tr>\n",
       "    <tr>\n",
       "      <th>ten</th>\n",
       "      <td>-5.691877</td>\n",
       "      <td>0.002579</td>\n",
       "    </tr>\n",
       "    <tr>\n",
       "      <th>six</th>\n",
       "      <td>-5.218225</td>\n",
       "      <td>0.004084</td>\n",
       "    </tr>\n",
       "    <tr>\n",
       "      <th>four</th>\n",
       "      <td>-4.927801</td>\n",
       "      <td>0.006884</td>\n",
       "    </tr>\n",
       "    <tr>\n",
       "      <th>two</th>\n",
       "      <td>-2.562668</td>\n",
       "      <td>0.062462</td>\n",
       "    </tr>\n",
       "  </tbody>\n",
       "</table>\n",
       "</div>"
      ],
      "text/plain": [
       "          t-stat   p-value\n",
       "0                         \n",
       "eighty -6.036844  0.000971\n",
       "forty  -6.138930  0.001076\n",
       "twenty -5.958228  0.001525\n",
       "ten    -5.691877  0.002579\n",
       "six    -5.218225  0.004084\n",
       "four   -4.927801  0.006884\n",
       "two    -2.562668  0.062462"
      ]
     },
     "metadata": {},
     "output_type": "display_data"
    }
   ],
   "source": [
    "random_200_df = calc_av_p_scores(100,200)\n",
    "display (random_200_df)"
   ]
  },
  {
   "cell_type": "markdown",
   "metadata": {},
   "source": [
    "### Adding a pecentage of random peaks to the pathways STD = 1"
   ]
  },
  {
   "cell_type": "code",
   "execution_count": 40,
   "metadata": {},
   "outputs": [
    {
     "data": {
      "text/html": [
       "<div>\n",
       "<table border=\"1\" class=\"dataframe\">\n",
       "  <thead>\n",
       "    <tr style=\"text-align: right;\">\n",
       "      <th></th>\n",
       "      <th>t-stat</th>\n",
       "      <th>p-value</th>\n",
       "    </tr>\n",
       "    <tr>\n",
       "      <th>0</th>\n",
       "      <th></th>\n",
       "      <th></th>\n",
       "    </tr>\n",
       "  </thead>\n",
       "  <tbody>\n",
       "    <tr>\n",
       "      <th>eighty</th>\n",
       "      <td>-6.109979</td>\n",
       "      <td>0.000837</td>\n",
       "    </tr>\n",
       "    <tr>\n",
       "      <th>forty</th>\n",
       "      <td>-6.145938</td>\n",
       "      <td>0.000904</td>\n",
       "    </tr>\n",
       "    <tr>\n",
       "      <th>twenty</th>\n",
       "      <td>-5.841589</td>\n",
       "      <td>0.001244</td>\n",
       "    </tr>\n",
       "    <tr>\n",
       "      <th>ten</th>\n",
       "      <td>-5.772518</td>\n",
       "      <td>0.001475</td>\n",
       "    </tr>\n",
       "    <tr>\n",
       "      <th>six</th>\n",
       "      <td>-5.785008</td>\n",
       "      <td>0.002047</td>\n",
       "    </tr>\n",
       "    <tr>\n",
       "      <th>four</th>\n",
       "      <td>-5.643737</td>\n",
       "      <td>0.003086</td>\n",
       "    </tr>\n",
       "    <tr>\n",
       "      <th>two</th>\n",
       "      <td>-5.029119</td>\n",
       "      <td>0.007907</td>\n",
       "    </tr>\n",
       "  </tbody>\n",
       "</table>\n",
       "</div>"
      ],
      "text/plain": [
       "          t-stat   p-value\n",
       "0                         \n",
       "eighty -6.109979  0.000837\n",
       "forty  -6.145938  0.000904\n",
       "twenty -5.841589  0.001244\n",
       "ten    -5.772518  0.001475\n",
       "six    -5.785008  0.002047\n",
       "four   -5.643737  0.003086\n",
       "two    -5.029119  0.007907"
      ]
     },
     "metadata": {},
     "output_type": "display_data"
    }
   ],
   "source": [
    "random_50_df_1 = calc_av_p_scores(100,50)\n",
    "display (random_50_df_1)"
   ]
  },
  {
   "cell_type": "code",
   "execution_count": 30,
   "metadata": {
    "scrolled": true
   },
   "outputs": [
    {
     "data": {
      "text/html": [
       "<div>\n",
       "<table border=\"1\" class=\"dataframe\">\n",
       "  <thead>\n",
       "    <tr style=\"text-align: right;\">\n",
       "      <th></th>\n",
       "      <th>t-stat</th>\n",
       "      <th>p-value</th>\n",
       "    </tr>\n",
       "    <tr>\n",
       "      <th>0</th>\n",
       "      <th></th>\n",
       "      <th></th>\n",
       "    </tr>\n",
       "  </thead>\n",
       "  <tbody>\n",
       "    <tr>\n",
       "      <th>eighty</th>\n",
       "      <td>-6.160683</td>\n",
       "      <td>0.000917</td>\n",
       "    </tr>\n",
       "    <tr>\n",
       "      <th>forty</th>\n",
       "      <td>-6.197592</td>\n",
       "      <td>0.000957</td>\n",
       "    </tr>\n",
       "    <tr>\n",
       "      <th>twenty</th>\n",
       "      <td>-6.126346</td>\n",
       "      <td>0.001091</td>\n",
       "    </tr>\n",
       "    <tr>\n",
       "      <th>ten</th>\n",
       "      <td>-5.933496</td>\n",
       "      <td>0.001607</td>\n",
       "    </tr>\n",
       "    <tr>\n",
       "      <th>six</th>\n",
       "      <td>-5.626259</td>\n",
       "      <td>0.002597</td>\n",
       "    </tr>\n",
       "    <tr>\n",
       "      <th>four</th>\n",
       "      <td>-5.486142</td>\n",
       "      <td>0.004737</td>\n",
       "    </tr>\n",
       "    <tr>\n",
       "      <th>two</th>\n",
       "      <td>-4.300323</td>\n",
       "      <td>0.018063</td>\n",
       "    </tr>\n",
       "  </tbody>\n",
       "</table>\n",
       "</div>"
      ],
      "text/plain": [
       "          t-stat   p-value\n",
       "0                         \n",
       "eighty -6.160683  0.000917\n",
       "forty  -6.197592  0.000957\n",
       "twenty -6.126346  0.001091\n",
       "ten    -5.933496  0.001607\n",
       "six    -5.626259  0.002597\n",
       "four   -5.486142  0.004737\n",
       "two    -4.300323  0.018063"
      ]
     },
     "metadata": {},
     "output_type": "display_data"
    }
   ],
   "source": [
    "random_100_df_1 = calc_av_p_scores(100,100)\n",
    "display (random_100_df_1)"
   ]
  },
  {
   "cell_type": "code",
   "execution_count": 37,
   "metadata": {},
   "outputs": [
    {
     "data": {
      "text/html": [
       "<div>\n",
       "<table border=\"1\" class=\"dataframe\">\n",
       "  <thead>\n",
       "    <tr style=\"text-align: right;\">\n",
       "      <th></th>\n",
       "      <th>t-stat</th>\n",
       "      <th>p-value</th>\n",
       "    </tr>\n",
       "    <tr>\n",
       "      <th>0</th>\n",
       "      <th></th>\n",
       "      <th></th>\n",
       "    </tr>\n",
       "  </thead>\n",
       "  <tbody>\n",
       "    <tr>\n",
       "      <th>eighty</th>\n",
       "      <td>-6.206872</td>\n",
       "      <td>0.000902</td>\n",
       "    </tr>\n",
       "    <tr>\n",
       "      <th>forty</th>\n",
       "      <td>-6.051215</td>\n",
       "      <td>0.001055</td>\n",
       "    </tr>\n",
       "    <tr>\n",
       "      <th>twenty</th>\n",
       "      <td>-6.066777</td>\n",
       "      <td>0.001279</td>\n",
       "    </tr>\n",
       "    <tr>\n",
       "      <th>ten</th>\n",
       "      <td>-5.813536</td>\n",
       "      <td>0.001905</td>\n",
       "    </tr>\n",
       "    <tr>\n",
       "      <th>six</th>\n",
       "      <td>-5.199970</td>\n",
       "      <td>0.004160</td>\n",
       "    </tr>\n",
       "    <tr>\n",
       "      <th>four</th>\n",
       "      <td>-4.816737</td>\n",
       "      <td>0.009429</td>\n",
       "    </tr>\n",
       "    <tr>\n",
       "      <th>two</th>\n",
       "      <td>-3.045534</td>\n",
       "      <td>0.040065</td>\n",
       "    </tr>\n",
       "  </tbody>\n",
       "</table>\n",
       "</div>"
      ],
      "text/plain": [
       "          t-stat   p-value\n",
       "0                         \n",
       "eighty -6.206872  0.000902\n",
       "forty  -6.051215  0.001055\n",
       "twenty -6.066777  0.001279\n",
       "ten    -5.813536  0.001905\n",
       "six    -5.199970  0.004160\n",
       "four   -4.816737  0.009429\n",
       "two    -3.045534  0.040065"
      ]
     },
     "metadata": {},
     "output_type": "display_data"
    }
   ],
   "source": [
    "random_200_df_1 = calc_av_p_scores(100,200)\n",
    "display (random_200_df_1)"
   ]
  },
  {
   "cell_type": "markdown",
   "metadata": {},
   "source": [
    "### Nothing is changing, it's all random"
   ]
  },
  {
   "cell_type": "code",
   "execution_count": 39,
   "metadata": {},
   "outputs": [
    {
     "data": {
      "text/html": [
       "<div>\n",
       "<table border=\"1\" class=\"dataframe\">\n",
       "  <thead>\n",
       "    <tr style=\"text-align: right;\">\n",
       "      <th></th>\n",
       "      <th>t-stat</th>\n",
       "      <th>p-value</th>\n",
       "    </tr>\n",
       "    <tr>\n",
       "      <th>0</th>\n",
       "      <th></th>\n",
       "      <th></th>\n",
       "    </tr>\n",
       "  </thead>\n",
       "  <tbody>\n",
       "    <tr>\n",
       "      <th>twenty</th>\n",
       "      <td>0.262863</td>\n",
       "      <td>0.460380</td>\n",
       "    </tr>\n",
       "    <tr>\n",
       "      <th>six</th>\n",
       "      <td>-0.222342</td>\n",
       "      <td>0.491342</td>\n",
       "    </tr>\n",
       "    <tr>\n",
       "      <th>ten</th>\n",
       "      <td>0.259963</td>\n",
       "      <td>0.493589</td>\n",
       "    </tr>\n",
       "    <tr>\n",
       "      <th>four</th>\n",
       "      <td>-0.089219</td>\n",
       "      <td>0.497327</td>\n",
       "    </tr>\n",
       "    <tr>\n",
       "      <th>forty</th>\n",
       "      <td>-0.025718</td>\n",
       "      <td>0.515756</td>\n",
       "    </tr>\n",
       "    <tr>\n",
       "      <th>eighty</th>\n",
       "      <td>0.075168</td>\n",
       "      <td>0.517361</td>\n",
       "    </tr>\n",
       "    <tr>\n",
       "      <th>two</th>\n",
       "      <td>0.189110</td>\n",
       "      <td>0.544673</td>\n",
       "    </tr>\n",
       "  </tbody>\n",
       "</table>\n",
       "</div>"
      ],
      "text/plain": [
       "          t-stat   p-value\n",
       "0                         \n",
       "twenty  0.262863  0.460380\n",
       "six    -0.222342  0.491342\n",
       "ten     0.259963  0.493589\n",
       "four   -0.089219  0.497327\n",
       "forty  -0.025718  0.515756\n",
       "eighty  0.075168  0.517361\n",
       "two     0.189110  0.544673"
      ]
     },
     "metadata": {},
     "output_type": "display_data"
    }
   ],
   "source": [
    "all_random = calc_av_p_scores(100, random = True)\n",
    "display (all_random)"
   ]
  },
  {
   "cell_type": "markdown",
   "metadata": {},
   "source": [
    "### Constuct the df*num_iterations and calculate the mean t-test scores\n"
   ]
  },
  {
   "cell_type": "code",
   "execution_count": 3,
   "metadata": {
    "collapsed": true
   },
   "outputs": [],
   "source": [
    "def calc_av_p_scores(num_iterations, percent=None, random=False):\n",
    "    \n",
    "    for it in range(num_iterations):\n",
    "        fc_df = construct_fc_df(random) #Construct the fold change DF\n",
    "        pathway_acts = get_pathway_act(fc_df)\n",
    "\n",
    "        #If we want to add a percentatge of random peaks\n",
    "        if percent is not None:\n",
    "            add_random_df = add_random_peaks(fc_df, percent)\n",
    "            pathway_acts = get_pathway_act(add_random_df)\n",
    "        #Calulate the t-test results, if it is the first iteration, initialise the df.\n",
    "        if it == 0:   \n",
    "            t_results = get_t_test(pathway_acts).sort_index(axis=0)      \n",
    "        \n",
    "        else:  \n",
    "            t_results = t_results + get_t_test(pathway_acts).sort_index(axis=0)      \n",
    "\n",
    "    final = t_results/num_iterations\n",
    "    new_df = final.sort_values(by='p-value', ascending = True)\n",
    "    \n",
    "    return new_df\n"
   ]
  },
  {
   "cell_type": "markdown",
   "metadata": {},
   "source": [
    "### Construct a severeal pathways with 2 fold changes in the data (noise with std of 5 added)"
   ]
  },
  {
   "cell_type": "code",
   "execution_count": 10,
   "metadata": {
    "collapsed": true
   },
   "outputs": [],
   "source": [
    "sample_fnames = [u'Control_4.mzXML', u'Control_3.mzXML', u'Control_2.mzXML', \n",
    "           u'Control_1.mzXML', u'2_fold_1.mzXML', u'2_fold_2.mzXML', u'2_fold_3.mzXML', u'2_fold_4.mzXML']\n",
    "data_names ={\"two\":2, \"four\":4, \"six\":6, \"ten\":10, \"twenty\":20, \"forty\":40, \"eighty\":80}"
   ]
  },
  {
   "cell_type": "code",
   "execution_count": 4,
   "metadata": {
    "collapsed": true
   },
   "outputs": [],
   "source": [
    "def construct_fc_df(random=False):\n",
    "    sample_fnames = [u'Control_4.mzXML', u'Control_3.mzXML', u'Control_2.mzXML', \n",
    "           u'Control_1.mzXML', u'2_fold_1.mzXML', u'2_fold_2.mzXML', u'2_fold_3.mzXML', u'2_fold_4.mzXML']\n",
    "    data_names ={\"two\":2, \"four\":4, \"six\":6, \"ten\":10, \"twenty\":20, \"forty\":40, \"eighty\":80}\n",
    "\n",
    "    if not random:\n",
    "        data = [12.0, 6.0, 12.0, 6.0, -17.0, -7.0, -7.0, -17.0]\n",
    "    else:\n",
    "        data = data = np.random.normal(0, 1, 8)\n",
    "    pk_samp_intensities = []\n",
    "    for name, num in data_names.iteritems():\n",
    "        for n in range(num):\n",
    "                peak_int_list =[]\n",
    "                peak_int_list.append(name) \n",
    "                data_noise = data + np.random.normal(0, 5, len(data))\n",
    "                peak_int_list.extend(list(data_noise)) #The intensities of all the samples for this peak.\n",
    "                pk_samp_intensities.append(peak_int_list)\n",
    "\n",
    "    fc_df = pd.DataFrame(pk_samp_intensities).set_index([0])\n",
    "\n",
    "    fc_df.columns=sample_fnames\n",
    "    fc_df.index.name = \"ms1_peak_id\"\n",
    "    fc_df.columns.name =\"sample_name\"\n",
    "\n",
    "    scaled_data = preprocessing.scale(np.array(fc_df), axis=1)\n",
    "\n",
    "    fc_df[sample_fnames] = scaled_data\n",
    "    \n",
    "    \n",
    "    return fc_df\n",
    "\n"
   ]
  },
  {
   "cell_type": "markdown",
   "metadata": {},
   "source": [
    "### Set up a DF calcutating the T-test scores and the number of metabolites"
   ]
  },
  {
   "cell_type": "code",
   "execution_count": 5,
   "metadata": {
    "collapsed": true
   },
   "outputs": [],
   "source": [
    "from scipy.stats import ttest_ind\n",
    "condition_1 = [u'Control_4.mzXML', u'Control_3.mzXML', u'Control_2.mzXML', u'Control_1.mzXML']\n",
    "condition_2 = [u'2_fold_1.mzXML', u'2_fold_2.mzXML', u'2_fold_3.mzXML', u'2_fold_4.mzXML']\n"
   ]
  },
  {
   "cell_type": "markdown",
   "metadata": {},
   "source": [
    "### Method to return p-value and t-test for an activity DF"
   ]
  },
  {
   "cell_type": "code",
   "execution_count": 6,
   "metadata": {
    "collapsed": true
   },
   "outputs": [],
   "source": [
    "def get_t_test(noisy_df):\n",
    "\n",
    "    t_test_list = []\n",
    "\n",
    "    for pathway, row in noisy_df.iterrows():\n",
    "        c1 = noisy_df.loc[pathway, condition_1].values\n",
    "        c2 = noisy_df.loc[pathway, condition_2].values\n",
    "        path_params = [pathway] + list(ttest_ind(c1,c2))\n",
    "        t_test_list.append(path_params)\n",
    "\n",
    "    t_test_df = pd.DataFrame(t_test_list).set_index([0])\n",
    "    t_test_df.columns = ['t-stat', 'p-value']\n",
    "\n",
    "    t_test_df = t_test_df.sort_values(by='p-value', ascending = True)\n",
    "\n",
    "    return t_test_df\n"
   ]
  },
  {
   "cell_type": "markdown",
   "metadata": {},
   "source": [
    "### A method to add a percentage of random peaks to a peak intensity df"
   ]
  },
  {
   "cell_type": "code",
   "execution_count": 7,
   "metadata": {
    "collapsed": true
   },
   "outputs": [],
   "source": [
    "def add_random_peaks(int_df, percent):\n",
    "\n",
    "    #For each of the pathways add random peaks\n",
    "    rand_peak_list = []   \n",
    "    for name in data_names:\n",
    "\n",
    "        df_path = int_df.ix[name]\n",
    "        num_peaks = math.ceil((df_path.shape[0])*(percent/100.0))\n",
    "\n",
    "        num_samples = df_path.shape[1]\n",
    "        \n",
    "        #Generate random peaks for that pathway\n",
    "        \n",
    "        for p in range(int(num_peaks)):\n",
    "            rand_peaks = []\n",
    "            data = np.random.normal(0, 5, num_samples)\n",
    "            rand_peaks.append(name)\n",
    "            rand_peaks.extend(list(data))\n",
    "            rand_peak_list.append(rand_peaks)\n",
    "\n",
    "    #Construct a DF for the new peak list\n",
    "    ran_df = pd.DataFrame(rand_peak_list).set_index([0])\n",
    "    ran_df.columns=sample_fnames\n",
    "    \n",
    "    #Add the random peaks to the original DF\n",
    "    new_df = pd.concat([int_df, ran_df])\n",
    "    \n",
    "    scaled_data = preprocessing.scale(np.array(new_df), axis=1)\n",
    "    new_df[sample_fnames] = scaled_data\n",
    "\n",
    "    \n",
    "    return new_df\n",
    "    \n",
    "   "
   ]
  },
  {
   "cell_type": "markdown",
   "metadata": {},
   "source": [
    "### Method to return the peak activities given a peak DF composed of pathways"
   ]
  },
  {
   "cell_type": "code",
   "execution_count": 8,
   "metadata": {
    "collapsed": true
   },
   "outputs": [],
   "source": [
    "def get_pathway_act(int_df):\n",
    "    #For all of the pathways get all of the peak IDs\n",
    "    pathway_activities = []\n",
    "    for name in data_names:\n",
    "        pathway_peaks = int_df.ix[name] #DF selected from peak IDs.\n",
    "        w, d, c = np.linalg.svd(np.array(pathway_peaks))\n",
    "        pw_act_list = []\n",
    "        pw_act_list.append(name)\n",
    "        pw_act_list.extend(list(c[0]))\n",
    "\n",
    "        pathway_activities.append(pw_act_list)\n",
    "        \n",
    "        \n",
    "        activity_df = pd.DataFrame(pathway_activities).set_index([0])\n",
    "        activity_df.columns=int_df.columns\n",
    "        activity_df.index.name = \"Pathways\"\n",
    "\n",
    "\n",
    "    return activity_df\n"
   ]
  },
  {
   "cell_type": "code",
   "execution_count": null,
   "metadata": {
    "collapsed": true
   },
   "outputs": [],
   "source": []
  }
 ],
 "metadata": {
  "kernelspec": {
   "display_name": "Django Shell-Plus",
   "language": "python",
   "name": "django_extensions"
  },
  "language_info": {
   "codemirror_mode": {
    "name": "ipython",
    "version": 3
   },
   "file_extension": ".py",
   "mimetype": "text/x-python",
   "name": "python",
   "nbconvert_exporter": "python",
   "pygments_lexer": "ipython3",
   "version": "3.7.0"
  }
 },
 "nbformat": 4,
 "nbformat_minor": 2
}
