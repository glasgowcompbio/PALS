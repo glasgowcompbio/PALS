{
 "cells": [
  {
   "cell_type": "markdown",
   "metadata": {},
   "source": [
    "# Export Pathway Info from Reactome"
   ]
  },
  {
   "cell_type": "code",
   "execution_count": 1,
   "metadata": {},
   "outputs": [],
   "source": [
    "%load_ext autoreload\n",
    "%autoreload 2"
   ]
  },
  {
   "cell_type": "code",
   "execution_count": 2,
   "metadata": {},
   "outputs": [],
   "source": [
    "import re\n",
    "from collections import defaultdict\n",
    "\n",
    "from bioservices.kegg import KEGG"
   ]
  },
  {
   "cell_type": "code",
   "execution_count": 3,
   "metadata": {},
   "outputs": [
    {
     "name": "stderr",
     "output_type": "stream",
     "text": [
      "2020-11-27 14:51:32.662 | INFO     | pals.reactome:get_neo4j_driver:24 - Created graph database driver for bolt://localhost:7687 (neo4j)\n"
     ]
    }
   ],
   "source": [
    "import sys\n",
    "\n",
    "sys.path.append('../..')\n",
    "\n",
    "from pals.common import *\n",
    "from pals.reactome import *"
   ]
  },
  {
   "cell_type": "markdown",
   "metadata": {},
   "source": [
    "## Export Data from Reactome"
   ]
  },
  {
   "cell_type": "code",
   "execution_count": 4,
   "metadata": {},
   "outputs": [
    {
     "data": {
      "text/plain": [
       "['Alphapapillomavirus 9',\n",
       " 'Arenicola marina',\n",
       " 'Bacillus anthracis',\n",
       " 'Bos taurus',\n",
       " 'Caenorhabditis elegans',\n",
       " 'Candida albicans',\n",
       " 'Canis familiaris',\n",
       " 'Cavia porcellus',\n",
       " 'Cercopithecus aethiops',\n",
       " 'Chlamydia trachomatis',\n",
       " 'Chlorocebus sabaeus',\n",
       " 'Clostridium botulinum',\n",
       " 'Clostridium perfringens',\n",
       " 'Clostridium tetani',\n",
       " 'Corynephage beta',\n",
       " 'Cowpox virus',\n",
       " 'Cricetulus griseus',\n",
       " 'Crithidia fasciculata',\n",
       " 'Danio rerio',\n",
       " 'Dengue virus',\n",
       " 'Dictyostelium discoideum',\n",
       " 'Drosophila melanogaster',\n",
       " 'Escherichia coli',\n",
       " 'Felis catus',\n",
       " 'Gallus gallus',\n",
       " 'Hepatitis B virus',\n",
       " 'Hepatitis C Virus',\n",
       " 'Hepatitis C virus genotype 2a',\n",
       " 'Hepatitis C virus subtype 1a',\n",
       " 'Homarus americanus',\n",
       " 'Homo sapiens',\n",
       " 'Human SARS coronavirus',\n",
       " 'Human alphaherpesvirus 2',\n",
       " 'Human cytomegalovirus',\n",
       " 'Human gammaherpesvirus 4',\n",
       " 'Human herpesvirus 1',\n",
       " 'Human herpesvirus 8',\n",
       " 'Human immunodeficiency virus 1',\n",
       " 'Human papillomavirus type 16',\n",
       " 'Infectious bronchitis virus',\n",
       " 'Influenza A virus',\n",
       " 'Legionella pneumophila',\n",
       " 'Leishmania major',\n",
       " 'Leishmania mexicana',\n",
       " 'Listeria monocytogenes',\n",
       " 'Listeria monocytogenes serotype 1/2a',\n",
       " 'Listeria monocytogenes serovar 1/2a',\n",
       " 'Macaca mulatta',\n",
       " 'Measles virus',\n",
       " 'Meleagris gallopavo',\n",
       " 'Molluscum contagiosum virus',\n",
       " 'Molluscum contagiosum virus subtype 1',\n",
       " 'Mus musculus',\n",
       " 'Mycobacterium tuberculosis',\n",
       " 'Mycobacterium tuberculosis H37Rv',\n",
       " 'Neisseria gonorrhoeae',\n",
       " 'Neisseria meningitidis',\n",
       " 'Neisseria meningitidis serogroup B',\n",
       " 'Oryctolagus cuniculus',\n",
       " 'Ovis aries',\n",
       " 'Penicillium chrysogenum',\n",
       " 'Plasmodium falciparum',\n",
       " 'Rattus norvegicus',\n",
       " 'Respiratory syncytial virus',\n",
       " 'Rotavirus',\n",
       " 'Rotavirus A',\n",
       " 'Saccharomyces cerevisiae',\n",
       " 'Salmonella enterica',\n",
       " 'Salmonella typhimurium',\n",
       " 'Schizosaccharomyces pombe',\n",
       " 'Sendai virus',\n",
       " 'Severe acute respiratory syndrome coronavirus 2',\n",
       " 'Sindbis virus',\n",
       " 'Staphylococcus aureus',\n",
       " 'Sus scrofa',\n",
       " 'Tick-borne encephalitis virus',\n",
       " 'Toxoplasma gondii',\n",
       " 'Triticum aestivum',\n",
       " 'Vaccinia virus',\n",
       " 'Vigna radiata',\n",
       " 'Vigna radiata var. radiata',\n",
       " 'West Nile virus',\n",
       " 'Xenopus laevis',\n",
       " 'Xenopus tropicalis']"
      ]
     },
     "execution_count": 4,
     "metadata": {},
     "output_type": "execute_result"
    }
   ],
   "source": [
    "all_species = get_species_list()\n",
    "all_species"
   ]
  },
  {
   "cell_type": "markdown",
   "metadata": {},
   "source": [
    "### Export Compound Data"
   ]
  },
  {
   "cell_type": "markdown",
   "metadata": {},
   "source": [
    "Get KEGG compound dict from exported PiMP data"
   ]
  },
  {
   "cell_type": "code",
   "execution_count": 6,
   "metadata": {},
   "outputs": [],
   "source": [
    "json_file = '../../pals/data/PiMP_KEGG.json.zip'\n",
    "all_kegg_compounds = load_json(json_file, compressed=True)\n",
    "kegg_entity_dict = all_kegg_compounds['entity_dict']"
   ]
  },
  {
   "cell_type": "code",
   "execution_count": 7,
   "metadata": {},
   "outputs": [],
   "source": [
    "out_file = '../../pals/data/COMPOUND.json.zip'\n",
    "save_json(kegg_entity_dict, out_file, compressed=True)"
   ]
  },
  {
   "cell_type": "markdown",
   "metadata": {},
   "source": [
    "Get ChEBI compound dict from the Ontology file downloaded from https://www.ebi.ac.uk/chebi/downloadsForward.do"
   ]
  },
  {
   "cell_type": "code",
   "execution_count": 8,
   "metadata": {},
   "outputs": [],
   "source": [
    "owl_file = 'C:/Users/joewa/Downloads/chebi.owl'\n",
    "chebi_entity_dict = parse_chebi_entity_dict(owl_file)"
   ]
  },
  {
   "cell_type": "code",
   "execution_count": 9,
   "metadata": {},
   "outputs": [],
   "source": [
    "out_file = '../../pals/data/ChEBI.json.zip'\n",
    "save_json(chebi_entity_dict, out_file, compressed=True)"
   ]
  },
  {
   "cell_type": "markdown",
   "metadata": {},
   "source": [
    "Export Reactome data for all species"
   ]
  },
  {
   "cell_type": "code",
   "execution_count": 12,
   "metadata": {},
   "outputs": [
    {
     "name": "stdout",
     "output_type": "stream",
     "text": [
      "Writing Alphapapillomavirus 9 - COMPOUND metabolic_pathway_only=True\n",
      "Writing Alphapapillomavirus 9 - ChEBI metabolic_pathway_only=True\n",
      "Writing Arenicola marina - COMPOUND metabolic_pathway_only=True\n",
      "Writing Arenicola marina - ChEBI metabolic_pathway_only=True\n",
      "Writing Bacillus anthracis - COMPOUND metabolic_pathway_only=True\n",
      "Writing Bacillus anthracis - ChEBI metabolic_pathway_only=True\n",
      "Writing Bos taurus - COMPOUND metabolic_pathway_only=True\n",
      "Writing Bos taurus - ChEBI metabolic_pathway_only=True\n",
      "Writing Caenorhabditis elegans - COMPOUND metabolic_pathway_only=True\n",
      "Writing Caenorhabditis elegans - ChEBI metabolic_pathway_only=True\n",
      "Writing Candida albicans - COMPOUND metabolic_pathway_only=True\n",
      "Writing Candida albicans - ChEBI metabolic_pathway_only=True\n",
      "Writing Canis familiaris - COMPOUND metabolic_pathway_only=True\n",
      "Writing Canis familiaris - ChEBI metabolic_pathway_only=True\n",
      "Writing Cavia porcellus - COMPOUND metabolic_pathway_only=True\n",
      "Writing Cavia porcellus - ChEBI metabolic_pathway_only=True\n",
      "Writing Cercopithecus aethiops - COMPOUND metabolic_pathway_only=True\n",
      "Writing Cercopithecus aethiops - ChEBI metabolic_pathway_only=True\n",
      "Writing Chlamydia trachomatis - COMPOUND metabolic_pathway_only=True\n",
      "Writing Chlamydia trachomatis - ChEBI metabolic_pathway_only=True\n",
      "Writing Chlorocebus sabaeus - COMPOUND metabolic_pathway_only=True\n",
      "Writing Chlorocebus sabaeus - ChEBI metabolic_pathway_only=True\n",
      "Writing Clostridium botulinum - COMPOUND metabolic_pathway_only=True\n",
      "Writing Clostridium botulinum - ChEBI metabolic_pathway_only=True\n",
      "Writing Clostridium perfringens - COMPOUND metabolic_pathway_only=True\n",
      "Writing Clostridium perfringens - ChEBI metabolic_pathway_only=True\n",
      "Writing Clostridium tetani - COMPOUND metabolic_pathway_only=True\n",
      "Writing Clostridium tetani - ChEBI metabolic_pathway_only=True\n",
      "Writing Corynephage beta - COMPOUND metabolic_pathway_only=True\n",
      "Writing Corynephage beta - ChEBI metabolic_pathway_only=True\n",
      "Writing Cowpox virus - COMPOUND metabolic_pathway_only=True\n",
      "Writing Cowpox virus - ChEBI metabolic_pathway_only=True\n",
      "Writing Cricetulus griseus - COMPOUND metabolic_pathway_only=True\n",
      "Writing Cricetulus griseus - ChEBI metabolic_pathway_only=True\n",
      "Writing Crithidia fasciculata - COMPOUND metabolic_pathway_only=True\n",
      "Writing Crithidia fasciculata - ChEBI metabolic_pathway_only=True\n",
      "Writing Danio rerio - COMPOUND metabolic_pathway_only=True\n",
      "Writing Danio rerio - ChEBI metabolic_pathway_only=True\n",
      "Writing Dengue virus - COMPOUND metabolic_pathway_only=True\n",
      "Writing Dengue virus - ChEBI metabolic_pathway_only=True\n",
      "Writing Dictyostelium discoideum - COMPOUND metabolic_pathway_only=True\n",
      "Writing Dictyostelium discoideum - ChEBI metabolic_pathway_only=True\n",
      "Writing Drosophila melanogaster - COMPOUND metabolic_pathway_only=True\n",
      "Writing Drosophila melanogaster - ChEBI metabolic_pathway_only=True\n",
      "Writing Escherichia coli - COMPOUND metabolic_pathway_only=True\n",
      "Writing Escherichia coli - ChEBI metabolic_pathway_only=True\n",
      "Writing Felis catus - COMPOUND metabolic_pathway_only=True\n",
      "Writing Felis catus - ChEBI metabolic_pathway_only=True\n",
      "Writing Gallus gallus - COMPOUND metabolic_pathway_only=True\n",
      "Writing Gallus gallus - ChEBI metabolic_pathway_only=True\n",
      "Writing Hepatitis B virus - COMPOUND metabolic_pathway_only=True\n",
      "Writing Hepatitis B virus - ChEBI metabolic_pathway_only=True\n",
      "Writing Hepatitis C Virus - COMPOUND metabolic_pathway_only=True\n",
      "Writing Hepatitis C Virus - ChEBI metabolic_pathway_only=True\n",
      "Writing Hepatitis C virus genotype 2a - COMPOUND metabolic_pathway_only=True\n",
      "Writing Hepatitis C virus genotype 2a - ChEBI metabolic_pathway_only=True\n",
      "Writing Hepatitis C virus subtype 1a - COMPOUND metabolic_pathway_only=True\n",
      "Writing Hepatitis C virus subtype 1a - ChEBI metabolic_pathway_only=True\n",
      "Writing Homarus americanus - COMPOUND metabolic_pathway_only=True\n",
      "Writing Homarus americanus - ChEBI metabolic_pathway_only=True\n",
      "Writing Homo sapiens - COMPOUND metabolic_pathway_only=True\n",
      "Writing Homo sapiens - ChEBI metabolic_pathway_only=True\n",
      "Writing Human SARS coronavirus - COMPOUND metabolic_pathway_only=True\n",
      "Writing Human SARS coronavirus - ChEBI metabolic_pathway_only=True\n",
      "Writing Human alphaherpesvirus 2 - COMPOUND metabolic_pathway_only=True\n",
      "Writing Human alphaherpesvirus 2 - ChEBI metabolic_pathway_only=True\n",
      "Writing Human cytomegalovirus - COMPOUND metabolic_pathway_only=True\n",
      "Writing Human cytomegalovirus - ChEBI metabolic_pathway_only=True\n",
      "Writing Human gammaherpesvirus 4 - COMPOUND metabolic_pathway_only=True\n",
      "Writing Human gammaherpesvirus 4 - ChEBI metabolic_pathway_only=True\n",
      "Writing Human herpesvirus 1 - COMPOUND metabolic_pathway_only=True\n",
      "Writing Human herpesvirus 1 - ChEBI metabolic_pathway_only=True\n",
      "Writing Human herpesvirus 8 - COMPOUND metabolic_pathway_only=True\n",
      "Writing Human herpesvirus 8 - ChEBI metabolic_pathway_only=True\n",
      "Writing Human immunodeficiency virus 1 - COMPOUND metabolic_pathway_only=True\n",
      "Writing Human immunodeficiency virus 1 - ChEBI metabolic_pathway_only=True\n",
      "Writing Human papillomavirus type 16 - COMPOUND metabolic_pathway_only=True\n",
      "Writing Human papillomavirus type 16 - ChEBI metabolic_pathway_only=True\n",
      "Writing Infectious bronchitis virus - COMPOUND metabolic_pathway_only=True\n",
      "Writing Infectious bronchitis virus - ChEBI metabolic_pathway_only=True\n",
      "Writing Influenza A virus - COMPOUND metabolic_pathway_only=True\n",
      "Writing Influenza A virus - ChEBI metabolic_pathway_only=True\n",
      "Writing Legionella pneumophila - COMPOUND metabolic_pathway_only=True\n",
      "Writing Legionella pneumophila - ChEBI metabolic_pathway_only=True\n",
      "Writing Leishmania major - COMPOUND metabolic_pathway_only=True\n",
      "Writing Leishmania major - ChEBI metabolic_pathway_only=True\n",
      "Writing Leishmania mexicana - COMPOUND metabolic_pathway_only=True\n",
      "Writing Leishmania mexicana - ChEBI metabolic_pathway_only=True\n",
      "Writing Listeria monocytogenes - COMPOUND metabolic_pathway_only=True\n",
      "Writing Listeria monocytogenes - ChEBI metabolic_pathway_only=True\n",
      "Writing Listeria monocytogenes serotype 1/2a - COMPOUND metabolic_pathway_only=True\n",
      "Writing Listeria monocytogenes serotype 1/2a - ChEBI metabolic_pathway_only=True\n",
      "Writing Listeria monocytogenes serovar 1/2a - COMPOUND metabolic_pathway_only=True\n",
      "Writing Listeria monocytogenes serovar 1/2a - ChEBI metabolic_pathway_only=True\n",
      "Writing Macaca mulatta - COMPOUND metabolic_pathway_only=True\n",
      "Writing Macaca mulatta - ChEBI metabolic_pathway_only=True\n",
      "Writing Measles virus - COMPOUND metabolic_pathway_only=True\n",
      "Writing Measles virus - ChEBI metabolic_pathway_only=True\n",
      "Writing Meleagris gallopavo - COMPOUND metabolic_pathway_only=True\n",
      "Writing Meleagris gallopavo - ChEBI metabolic_pathway_only=True\n",
      "Writing Molluscum contagiosum virus - COMPOUND metabolic_pathway_only=True\n",
      "Writing Molluscum contagiosum virus - ChEBI metabolic_pathway_only=True\n",
      "Writing Molluscum contagiosum virus subtype 1 - COMPOUND metabolic_pathway_only=True\n",
      "Writing Molluscum contagiosum virus subtype 1 - ChEBI metabolic_pathway_only=True\n",
      "Writing Mus musculus - COMPOUND metabolic_pathway_only=True\n",
      "Writing Mus musculus - ChEBI metabolic_pathway_only=True\n",
      "Writing Mycobacterium tuberculosis - COMPOUND metabolic_pathway_only=True\n",
      "Writing Mycobacterium tuberculosis - ChEBI metabolic_pathway_only=True\n",
      "Writing Mycobacterium tuberculosis H37Rv - COMPOUND metabolic_pathway_only=True\n",
      "Writing Mycobacterium tuberculosis H37Rv - ChEBI metabolic_pathway_only=True\n",
      "Writing Neisseria gonorrhoeae - COMPOUND metabolic_pathway_only=True\n",
      "Writing Neisseria gonorrhoeae - ChEBI metabolic_pathway_only=True\n",
      "Writing Neisseria meningitidis - COMPOUND metabolic_pathway_only=True\n",
      "Writing Neisseria meningitidis - ChEBI metabolic_pathway_only=True\n",
      "Writing Neisseria meningitidis serogroup B - COMPOUND metabolic_pathway_only=True\n",
      "Writing Neisseria meningitidis serogroup B - ChEBI metabolic_pathway_only=True\n",
      "Writing Oryctolagus cuniculus - COMPOUND metabolic_pathway_only=True\n",
      "Writing Oryctolagus cuniculus - ChEBI metabolic_pathway_only=True\n",
      "Writing Ovis aries - COMPOUND metabolic_pathway_only=True\n",
      "Writing Ovis aries - ChEBI metabolic_pathway_only=True\n",
      "Writing Penicillium chrysogenum - COMPOUND metabolic_pathway_only=True\n",
      "Writing Penicillium chrysogenum - ChEBI metabolic_pathway_only=True\n",
      "Writing Plasmodium falciparum - COMPOUND metabolic_pathway_only=True\n",
      "Writing Plasmodium falciparum - ChEBI metabolic_pathway_only=True\n",
      "Writing Rattus norvegicus - COMPOUND metabolic_pathway_only=True\n",
      "Writing Rattus norvegicus - ChEBI metabolic_pathway_only=True\n",
      "Writing Respiratory syncytial virus - COMPOUND metabolic_pathway_only=True\n",
      "Writing Respiratory syncytial virus - ChEBI metabolic_pathway_only=True\n",
      "Writing Rotavirus - COMPOUND metabolic_pathway_only=True\n",
      "Writing Rotavirus - ChEBI metabolic_pathway_only=True\n",
      "Writing Rotavirus A - COMPOUND metabolic_pathway_only=True\n",
      "Writing Rotavirus A - ChEBI metabolic_pathway_only=True\n",
      "Writing Saccharomyces cerevisiae - COMPOUND metabolic_pathway_only=True\n",
      "Writing Saccharomyces cerevisiae - ChEBI metabolic_pathway_only=True\n",
      "Writing Salmonella enterica - COMPOUND metabolic_pathway_only=True\n",
      "Writing Salmonella enterica - ChEBI metabolic_pathway_only=True\n",
      "Writing Salmonella typhimurium - COMPOUND metabolic_pathway_only=True\n",
      "Writing Salmonella typhimurium - ChEBI metabolic_pathway_only=True\n",
      "Writing Schizosaccharomyces pombe - COMPOUND metabolic_pathway_only=True\n",
      "Writing Schizosaccharomyces pombe - ChEBI metabolic_pathway_only=True\n",
      "Writing Sendai virus - COMPOUND metabolic_pathway_only=True\n",
      "Writing Sendai virus - ChEBI metabolic_pathway_only=True\n",
      "Writing Severe acute respiratory syndrome coronavirus 2 - COMPOUND metabolic_pathway_only=True\n",
      "Writing Severe acute respiratory syndrome coronavirus 2 - ChEBI metabolic_pathway_only=True\n",
      "Writing Sindbis virus - COMPOUND metabolic_pathway_only=True\n",
      "Writing Sindbis virus - ChEBI metabolic_pathway_only=True\n",
      "Writing Staphylococcus aureus - COMPOUND metabolic_pathway_only=True\n",
      "Writing Staphylococcus aureus - ChEBI metabolic_pathway_only=True\n",
      "Writing Sus scrofa - COMPOUND metabolic_pathway_only=True\n",
      "Writing Sus scrofa - ChEBI metabolic_pathway_only=True\n",
      "Writing Tick-borne encephalitis virus - COMPOUND metabolic_pathway_only=True\n",
      "Writing Tick-borne encephalitis virus - ChEBI metabolic_pathway_only=True\n",
      "Writing Toxoplasma gondii - COMPOUND metabolic_pathway_only=True\n",
      "Writing Toxoplasma gondii - ChEBI metabolic_pathway_only=True\n",
      "Writing Triticum aestivum - COMPOUND metabolic_pathway_only=True\n",
      "Writing Triticum aestivum - ChEBI metabolic_pathway_only=True\n",
      "Writing Vaccinia virus - COMPOUND metabolic_pathway_only=True\n",
      "Writing Vaccinia virus - ChEBI metabolic_pathway_only=True\n",
      "Writing Vigna radiata - COMPOUND metabolic_pathway_only=True\n",
      "Writing Vigna radiata - ChEBI metabolic_pathway_only=True\n",
      "Writing Vigna radiata var. radiata - COMPOUND metabolic_pathway_only=True\n",
      "Writing Vigna radiata var. radiata - ChEBI metabolic_pathway_only=True\n",
      "Writing West Nile virus - COMPOUND metabolic_pathway_only=True\n",
      "Writing West Nile virus - ChEBI metabolic_pathway_only=True\n",
      "Writing Xenopus laevis - COMPOUND metabolic_pathway_only=True\n",
      "Writing Xenopus laevis - ChEBI metabolic_pathway_only=True\n",
      "Writing Xenopus tropicalis - COMPOUND metabolic_pathway_only=True\n",
      "Writing Xenopus tropicalis - ChEBI metabolic_pathway_only=True\n"
     ]
    }
   ],
   "source": [
    "for species in all_species:\n",
    "    \n",
    "    # KEGG - metabolic pathways only\n",
    "    database_name = DATABASE_REACTOME_KEGG\n",
    "    metabolic_pathway_only = True\n",
    "    print('Writing %s - %s metabolic_pathway_only=%s' % (species, database_name, metabolic_pathway_only))\n",
    "\n",
    "    pathway_dict = get_pathway_dict(species, metabolic_pathway_only)    \n",
    "    mapping_dict = get_compound_mapping_dict(species, database_name, metabolic_pathway_only)    \n",
    "    json_file = '../../pals/data/reactome/metabolic_pathways/%s/%s.json.zip' % (database_name, species)\n",
    "    write_database(pathway_dict, kegg_entity_dict, mapping_dict, json_file)\n",
    "\n",
    "    # KEGG - all pathways\n",
    "#     database_name = DATABASE_REACTOME_KEGG\n",
    "#     metabolic_pathway_only = False    \n",
    "#     print('Writing %s - %s metabolic_pathway_only=%s' % (species, database_name, metabolic_pathway_only))\n",
    "    \n",
    "#     pathway_dict = get_pathway_dict(species, metabolic_pathway_only)    \n",
    "#     mapping_dict = get_compound_mapping_dict(species, database_name, metabolic_pathway_only)    \n",
    "#     json_file = '../../pals/data/reactome/all_pathways/%s/%s.json.zip' % (database_name, species)\n",
    "#     write_database(pathway_dict, kegg_entity_dict, mapping_dict, json_file)\n",
    "    \n",
    "    # ChEBI - metabolic pathways only\n",
    "    database_name = DATABASE_REACTOME_CHEBI\n",
    "    metabolic_pathway_only = True    \n",
    "    pathway_dict = get_pathway_dict(species, metabolic_pathway_only)        \n",
    "    print('Writing %s - %s metabolic_pathway_only=%s' % (species, database_name, metabolic_pathway_only))\n",
    "    \n",
    "    pathway_dict = get_pathway_dict(species, metabolic_pathway_only)    \n",
    "    mapping_dict = get_compound_mapping_dict(species, database_name, metabolic_pathway_only)    \n",
    "    json_file = '../../pals/data/reactome/metabolic_pathways/%s/%s.json.zip' % (database_name, species)\n",
    "    write_database(pathway_dict, chebi_entity_dict, mapping_dict, json_file)\n",
    "\n",
    "    # ChEBI - all pathways\n",
    "#     database_name = DATABASE_REACTOME_CHEBI\n",
    "#     metabolic_pathway_only = False    \n",
    "#     print('Writing %s - %s metabolic_pathway_only=%s' % (species, database_name, metabolic_pathway_only))\n",
    "\n",
    "#     pathway_dict = get_pathway_dict(species, metabolic_pathway_only)        \n",
    "#     mapping_dict = get_compound_mapping_dict(species, database_name, metabolic_pathway_only)    \n",
    "#     json_file = '../../pals/data/reactome/all_pathways/%s/%s.json.zip' % (database_name, species)    \n",
    "#     write_database(pathway_dict, chebi_entity_dict, mapping_dict, json_file)"
   ]
  },
  {
   "cell_type": "markdown",
   "metadata": {},
   "source": [
    "### Export UniProt Data"
   ]
  },
  {
   "cell_type": "code",
   "execution_count": null,
   "metadata": {},
   "outputs": [],
   "source": [
    "species = 'Homo sapiens'"
   ]
  },
  {
   "cell_type": "code",
   "execution_count": null,
   "metadata": {},
   "outputs": [],
   "source": [
    "database_name = DATABASE_REACTOME_UNIPROT\n",
    "metabolic_pathway_only = True\n",
    "pathway_dict = get_pathway_dict(species, metabolic_pathway_only)\n",
    "len(pathway_dict), pathway_dict"
   ]
  },
  {
   "cell_type": "code",
   "execution_count": null,
   "metadata": {},
   "outputs": [],
   "source": [
    "entity_dict = get_protein_entity_dict(species, database_name)\n",
    "len(entity_dict), entity_dict"
   ]
  },
  {
   "cell_type": "code",
   "execution_count": null,
   "metadata": {},
   "outputs": [],
   "source": [
    "mapping_dict = get_protein_mapping_dict(species, DATABASE_REACTOME_UNIPROT)\n",
    "len(mapping_dict), mapping_dict"
   ]
  },
  {
   "cell_type": "markdown",
   "metadata": {},
   "source": [
    "### Export ENSEMBL Data"
   ]
  },
  {
   "cell_type": "code",
   "execution_count": null,
   "metadata": {},
   "outputs": [],
   "source": [
    "species = 'Homo sapiens'\n",
    "database_name = DATABASE_REACTOME_ENSEMBL"
   ]
  },
  {
   "cell_type": "code",
   "execution_count": null,
   "metadata": {},
   "outputs": [],
   "source": [
    "entity_dict = get_gene_entity_dict(species, database_name)\n",
    "len(entity_dict), entity_dict"
   ]
  },
  {
   "cell_type": "code",
   "execution_count": null,
   "metadata": {},
   "outputs": [],
   "source": [
    "mapping_dict = get_gene_mapping_dict(species, database_name)\n",
    "len(mapping_dict), mapping_dict"
   ]
  }
 ],
 "metadata": {
  "kernelspec": {
   "display_name": "Python 3",
   "language": "python",
   "name": "python3"
  },
  "language_info": {
   "codemirror_mode": {
    "name": "ipython",
    "version": 3
   },
   "file_extension": ".py",
   "mimetype": "text/x-python",
   "name": "python",
   "nbconvert_exporter": "python",
   "pygments_lexer": "ipython3",
   "version": "3.7.3"
  }
 },
 "nbformat": 4,
 "nbformat_minor": 4
}
