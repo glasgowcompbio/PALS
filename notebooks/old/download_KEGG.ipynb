{
 "cells": [
  {
   "cell_type": "markdown",
   "metadata": {},
   "source": [
    "# Redownload entire KEGG compound data"
   ]
  },
  {
   "cell_type": "code",
   "execution_count": null,
   "metadata": {},
   "outputs": [],
   "source": [
    "%load_ext autoreload\n",
    "%autoreload 2"
   ]
  },
  {
   "cell_type": "code",
   "execution_count": null,
   "metadata": {},
   "outputs": [],
   "source": [
    "from collections import defaultdict\n",
    "import os"
   ]
  },
  {
   "cell_type": "code",
   "execution_count": null,
   "metadata": {},
   "outputs": [],
   "source": [
    "from bioservices.kegg import KEGG"
   ]
  },
  {
   "cell_type": "code",
   "execution_count": null,
   "metadata": {},
   "outputs": [],
   "source": [
    "import sys\n",
    "\n",
    "sys.path.append('../pals')\n",
    "\n",
    "from common import load_json, save_json"
   ]
  },
  {
   "cell_type": "code",
   "execution_count": null,
   "metadata": {},
   "outputs": [],
   "source": [
    "def get_kegg_info(compound_id):\n",
    "    s = KEGG()\n",
    "    res = s.get(compound_id)\n",
    "    return s.parse(res)\n",
    "    \n",
    "def get_all_kegg_compound_ids():\n",
    "    s = KEGG()\n",
    "    compound_ids = []\n",
    "    for compound_id in s.compoundIds:\n",
    "        compound_ids.append(compound_id.split(':')[1])\n",
    "    return compound_ids\n",
    "\n",
    "def get_all_kegg_compound_info():\n",
    "    compound_ids = get_all_kegg_compound_ids()\n",
    "    compound_info = {}\n",
    "    for i in range(len(compound_ids)):\n",
    "        cid = compound_ids[i]\n",
    "        cinfo = get_kegg_info(cid)\n",
    "        print('%d/%d %s' % (i+1, len(compound_ids), cinfo['ENTRY']))        \n",
    "        compound_info[cid] = cinfo\n",
    "    return compound_info"
   ]
  },
  {
   "cell_type": "code",
   "execution_count": null,
   "metadata": {},
   "outputs": [],
   "source": [
    "json_file = '../pals/data/all_kegg_compounds.json.zip'"
   ]
  },
  {
   "cell_type": "code",
   "execution_count": null,
   "metadata": {},
   "outputs": [],
   "source": [
    "if os.path.exists(json_file):\n",
    "    data = load_json(json_file, compressed=True)\n",
    "else:\n",
    "    all_kegg_compound_info = get_all_kegg_compound_info()\n",
    "    data = {\n",
    "        'cmpd_info': all_kegg_compound_info\n",
    "    }\n",
    "    save_json(data, json_file, compressed=True)"
   ]
  }
 ],
 "metadata": {
  "kernelspec": {
   "display_name": "Django Shell-Plus",
   "language": "python",
   "name": "django_extensions"
  },
  "language_info": {
   "codemirror_mode": {
    "name": "ipython",
    "version": 3
   },
   "file_extension": ".py",
   "mimetype": "text/x-python",
   "name": "python",
   "nbconvert_exporter": "python",
   "pygments_lexer": "ipython3",
   "version": "3.7.3"
  }
 },
 "nbformat": 4,
 "nbformat_minor": 2
}
