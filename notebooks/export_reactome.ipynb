{
 "cells": [
  {
   "cell_type": "markdown",
   "metadata": {},
   "source": [
    "# Export Pathway Info from Reactome"
   ]
  },
  {
   "cell_type": "code",
   "execution_count": 1,
   "metadata": {},
   "outputs": [],
   "source": [
    "%load_ext autoreload\n",
    "%autoreload 2"
   ]
  },
  {
   "cell_type": "code",
   "execution_count": 2,
   "metadata": {},
   "outputs": [],
   "source": [
    "import re\n",
    "from collections import defaultdict\n",
    "\n",
    "from bioservices.kegg import KEGG"
   ]
  },
  {
   "cell_type": "code",
   "execution_count": 3,
   "metadata": {},
   "outputs": [],
   "source": [
    "import sys\n",
    "\n",
    "sys.path.append('../pals')\n",
    "\n",
    "from common import *\n",
    "from reactome import *"
   ]
  },
  {
   "cell_type": "markdown",
   "metadata": {},
   "source": [
    "## Export Data from Reactome"
   ]
  },
  {
   "cell_type": "code",
   "execution_count": 4,
   "metadata": {},
   "outputs": [
    {
     "data": {
      "text/plain": [
       "['Alphapapillomavirus 9',\n",
       " 'Arabidopsis thaliana',\n",
       " 'Arenicola marina',\n",
       " 'Bacillus anthracis',\n",
       " 'Bos taurus',\n",
       " 'Caenorhabditis elegans',\n",
       " 'Candida albicans',\n",
       " 'Canis familiaris',\n",
       " 'Cavia porcellus',\n",
       " 'Cercopithecus aethiops',\n",
       " 'Chlamydia trachomatis',\n",
       " 'Chlorocebus sabaeus',\n",
       " 'Clostridium botulinum',\n",
       " 'Clostridium tetani',\n",
       " 'Corynephage beta',\n",
       " 'Cowpox virus',\n",
       " 'Cricetulus griseus',\n",
       " 'Crithidia fasciculata',\n",
       " 'Danio rerio',\n",
       " 'Dictyostelium discoideum',\n",
       " 'Drosophila melanogaster',\n",
       " 'Escherichia coli',\n",
       " 'Felis catus',\n",
       " 'Gallus gallus',\n",
       " 'Hepatitis B virus',\n",
       " 'Hepatitis C Virus',\n",
       " 'Hepatitis C virus genotype 2a',\n",
       " 'Hepatitis C virus subtype 1a',\n",
       " 'Homarus americanus',\n",
       " 'Homo sapiens',\n",
       " 'Human alphaherpesvirus 2',\n",
       " 'Human cytomegalovirus',\n",
       " 'Human gammaherpesvirus 4',\n",
       " 'Human herpesvirus 1',\n",
       " 'Human herpesvirus 8',\n",
       " 'Human immunodeficiency virus 1',\n",
       " 'Human papillomavirus type 16',\n",
       " 'Infectious bronchitis virus',\n",
       " 'Influenza A virus',\n",
       " 'Legionella pneumophila',\n",
       " 'Listeria monocytogenes',\n",
       " 'Listeria monocytogenes serovar 1/2a',\n",
       " 'Macaca mulatta',\n",
       " 'Measles virus',\n",
       " 'Meleagris gallopavo',\n",
       " 'Molluscum contagiosum virus',\n",
       " 'Molluscum contagiosum virus subtype 1',\n",
       " 'Mus musculus',\n",
       " 'Mycobacterium tuberculosis',\n",
       " 'Mycobacterium tuberculosis H37Rv',\n",
       " 'Neisseria gonorrhoeae',\n",
       " 'Neisseria meningitidis',\n",
       " 'Neisseria meningitidis serogroup B',\n",
       " 'Oryctolagus cuniculus',\n",
       " 'Oryza sativa',\n",
       " 'Ovis aries',\n",
       " 'Penicillium chrysogenum',\n",
       " 'Plasmodium falciparum',\n",
       " 'Rattus norvegicus',\n",
       " 'Rotavirus',\n",
       " 'Saccharomyces cerevisiae',\n",
       " 'Salmonella enterica',\n",
       " 'Salmonella typhimurium',\n",
       " 'Schizosaccharomyces pombe',\n",
       " 'Sendai virus',\n",
       " 'Staphylococcus aureus',\n",
       " 'Sus scrofa',\n",
       " 'Taeniopygia guttata',\n",
       " 'Toxoplasma gondii',\n",
       " 'Triticum aestivum',\n",
       " 'Vaccinia virus',\n",
       " 'Vigna radiata',\n",
       " 'Vigna radiata var. radiata',\n",
       " 'Xenopus laevis',\n",
       " 'Xenopus tropicalis']"
      ]
     },
     "execution_count": 4,
     "metadata": {},
     "output_type": "execute_result"
    }
   ],
   "source": [
    "all_species = get_species_list()\n",
    "all_species"
   ]
  },
  {
   "cell_type": "markdown",
   "metadata": {},
   "source": [
    "### Export Compound Data"
   ]
  },
  {
   "cell_type": "markdown",
   "metadata": {},
   "source": [
    "Get KEGG compound dict from exported PiMP data"
   ]
  },
  {
   "cell_type": "code",
   "execution_count": 13,
   "metadata": {},
   "outputs": [],
   "source": [
    "json_file = '../pals/data/PiMP_KEGG.json.zip'\n",
    "all_kegg_compounds = load_json(json_file, compressed=True)\n",
    "kegg_entity_dict = all_kegg_compounds['entity_dict']"
   ]
  },
  {
   "cell_type": "code",
   "execution_count": 14,
   "metadata": {},
   "outputs": [],
   "source": [
    "out_file = '../pals/data/COMPOUND.json.zip'\n",
    "save_json(kegg_entity_dict, out_file, compressed=True)"
   ]
  },
  {
   "cell_type": "markdown",
   "metadata": {},
   "source": [
    "Get ChEBI compound dict from the Ontology file downloaded from https://www.ebi.ac.uk/chebi/downloadsForward.do"
   ]
  },
  {
   "cell_type": "code",
   "execution_count": 15,
   "metadata": {},
   "outputs": [],
   "source": [
    "owl_file = 'C:/Users/joewa/Downloads/chebi.owl'\n",
    "chebi_entity_dict = parse_chebi_entity_dict(owl_file)"
   ]
  },
  {
   "cell_type": "code",
   "execution_count": 16,
   "metadata": {},
   "outputs": [],
   "source": [
    "out_file = '../pals/data/ChEBI.json.zip'\n",
    "save_json(chebi_entity_dict, out_file, compressed=True)"
   ]
  },
  {
   "cell_type": "markdown",
   "metadata": {},
   "source": [
    "Export Reactome data for all species"
   ]
  },
  {
   "cell_type": "code",
   "execution_count": null,
   "metadata": {},
   "outputs": [],
   "source": [
    "for species in all_species:\n",
    "    \n",
    "    # KEGG - metabolic pathways only\n",
    "    database_name = DATABASE_REACTOME_KEGG\n",
    "    metabolic_pathway_only = True\n",
    "    print('Writing %s - %s metabolic_pathway_only=%s' % (species, database_name, metabolic_pathway_only))\n",
    "\n",
    "    pathway_dict = get_pathway_dict(species, metabolic_pathway_only)    \n",
    "    mapping_dict = get_compound_mapping_dict(species, database_name, metabolic_pathway_only)    \n",
    "    json_file = '../pals/data/reactome/metabolic_pathways/%s/%s.json.zip' % (database_name, species)\n",
    "    write_database(pathway_dict, kegg_entity_dict, mapping_dict, json_file)\n",
    "\n",
    "    # KEGG - all pathways\n",
    "    database_name = DATABASE_REACTOME_KEGG\n",
    "    metabolic_pathway_only = False    \n",
    "    print('Writing %s - %s metabolic_pathway_only=%s' % (species, database_name, metabolic_pathway_only))\n",
    "    \n",
    "    pathway_dict = get_pathway_dict(species, metabolic_pathway_only)    \n",
    "    mapping_dict = get_compound_mapping_dict(species, database_name, metabolic_pathway_only)    \n",
    "    json_file = '../pals/data/reactome/all_pathways/%s/%s.json.zip' % (database_name, species)\n",
    "    write_database(pathway_dict, kegg_entity_dict, mapping_dict, json_file)\n",
    "    \n",
    "    # ChEBI - metabolic pathways only\n",
    "    database_name = DATABASE_REACTOME_CHEBI\n",
    "    metabolic_pathway_only = True    \n",
    "    pathway_dict = get_pathway_dict(species, metabolic_pathway_only)        \n",
    "    print('Writing %s - %s metabolic_pathway_only=%s' % (species, database_name, metabolic_pathway_only))\n",
    "    \n",
    "    pathway_dict = get_pathway_dict(species, metabolic_pathway_only)    \n",
    "    mapping_dict = get_compound_mapping_dict(species, database_name, metabolic_pathway_only)    \n",
    "    json_file = '../pals/data/reactome/metabolic_pathways/%s/%s.json.zip' % (database_name, species)\n",
    "    write_database(pathway_dict, chebi_entity_dict, mapping_dict, json_file)\n",
    "\n",
    "    # ChEBI - all pathways\n",
    "    database_name = DATABASE_REACTOME_CHEBI\n",
    "    metabolic_pathway_only = False    \n",
    "    print('Writing %s - %s metabolic_pathway_only=%s' % (species, database_name, metabolic_pathway_only))\n",
    "\n",
    "    pathway_dict = get_pathway_dict(species, metabolic_pathway_only)        \n",
    "    mapping_dict = get_compound_mapping_dict(species, database_name, metabolic_pathway_only)    \n",
    "    json_file = '../pals/data/reactome/all_pathways/%s/%s.json.zip' % (database_name, species)    \n",
    "    write_database(pathway_dict, chebi_entity_dict, mapping_dict, json_file)"
   ]
  },
  {
   "cell_type": "markdown",
   "metadata": {},
   "source": [
    "### Export UniProt Data"
   ]
  },
  {
   "cell_type": "code",
   "execution_count": null,
   "metadata": {},
   "outputs": [],
   "source": []
  },
  {
   "cell_type": "markdown",
   "metadata": {},
   "source": [
    "### Export ENSEMBL Data"
   ]
  },
  {
   "cell_type": "code",
   "execution_count": null,
   "metadata": {},
   "outputs": [],
   "source": []
  }
 ],
 "metadata": {
  "kernelspec": {
   "display_name": "Django Shell-Plus",
   "language": "python",
   "name": "django_extensions"
  },
  "language_info": {
   "codemirror_mode": {
    "name": "ipython",
    "version": 3
   },
   "file_extension": ".py",
   "mimetype": "text/x-python",
   "name": "python",
   "nbconvert_exporter": "python",
   "pygments_lexer": "ipython3",
   "version": "3.7.3"
  }
 },
 "nbformat": 4,
 "nbformat_minor": 2
}
