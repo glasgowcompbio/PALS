{
 "cells": [
  {
   "cell_type": "code",
   "execution_count": 1,
   "metadata": {},
   "outputs": [],
   "source": [
    "%load_ext autoreload\n",
    "%autoreload 2"
   ]
  },
  {
   "cell_type": "code",
   "execution_count": 2,
   "metadata": {},
   "outputs": [
    {
     "name": "stdout",
     "output_type": "stream",
     "text": [
      "Populating the interactive namespace from numpy and matplotlib\n"
     ]
    }
   ],
   "source": [
    "%pylab inline"
   ]
  },
  {
   "cell_type": "code",
   "execution_count": 3,
   "metadata": {},
   "outputs": [],
   "source": [
    "from loguru import logger"
   ]
  },
  {
   "cell_type": "code",
   "execution_count": 4,
   "metadata": {},
   "outputs": [],
   "source": [
    "import os\n",
    "import sys\n",
    "sys.path.append('..')"
   ]
  },
  {
   "cell_type": "code",
   "execution_count": 5,
   "metadata": {},
   "outputs": [
    {
     "name": "stderr",
     "output_type": "stream",
     "text": [
      "2019-12-02 16:01:49.557 | WARNING  | pals.reactome:get_neo4j_driver:14 - Using a default neo4j server: bolt://localhost:7687\n",
      "2019-12-02 16:01:49.557 | WARNING  | pals.reactome:get_neo4j_driver:19 - Using a default neo4j username or password: neo4j\n",
      "2019-12-02 16:01:50.635 | INFO     | pals.reactome:get_neo4j_driver:24 - Created graph database driver for bolt://localhost:7687 (neo4j)\n"
     ]
    }
   ],
   "source": [
    "from pals.pimp_tools import get_pimp_API_token_from_env, PIMP_HOST, download_from_pimp\n",
    "from pals.evaluation import run_experiment\n",
    "from pals.common import save_obj, DATABASE_PIMP_KEGG\n",
    "from pals.feature_extraction import DataSource"
   ]
  },
  {
   "cell_type": "markdown",
   "metadata": {},
   "source": [
    "# HAT Data Analysis"
   ]
  },
  {
   "cell_type": "markdown",
   "metadata": {},
   "source": [
    "This notebook is used to generate resampled data and run the different methods for comparison in the manuscript."
   ]
  },
  {
   "cell_type": "markdown",
   "metadata": {},
   "source": [
    "### Load data"
   ]
  },
  {
   "cell_type": "markdown",
   "metadata": {},
   "source": [
    "Assume token is stored in environmental variable *PIMP_API_TOKEN*"
   ]
  },
  {
   "cell_type": "code",
   "execution_count": 6,
   "metadata": {},
   "outputs": [],
   "source": [
    "token = get_pimp_API_token_from_env()"
   ]
  },
  {
   "cell_type": "code",
   "execution_count": 7,
   "metadata": {},
   "outputs": [
    {
     "name": "stdout",
     "output_type": "stream",
     "text": [
      "http://polyomics.mvls.gla.ac.uk/export/get_ms1_intensities?analysis_id=636 <Response [200]>\n",
      "http://polyomics.mvls.gla.ac.uk/export/get_ms1_peaks?analysis_id=636 <Response [200]>\n",
      "http://polyomics.mvls.gla.ac.uk/export/get_experimental_design?analysis_id=636 <Response [200]>\n"
     ]
    }
   ],
   "source": [
    "analysis_id_plasma = 636\n",
    "int_df_plasma, annotation_df_plasma, experimental_design_plasma = download_from_pimp(token, PIMP_HOST, analysis_id_plasma, 'kegg')"
   ]
  },
  {
   "cell_type": "code",
   "execution_count": 8,
   "metadata": {},
   "outputs": [
    {
     "name": "stdout",
     "output_type": "stream",
     "text": [
      "http://polyomics.mvls.gla.ac.uk/export/get_ms1_intensities?analysis_id=635 <Response [200]>\n",
      "http://polyomics.mvls.gla.ac.uk/export/get_ms1_peaks?analysis_id=635 <Response [200]>\n",
      "http://polyomics.mvls.gla.ac.uk/export/get_experimental_design?analysis_id=635 <Response [200]>\n"
     ]
    }
   ],
   "source": [
    "analysis_id_csf = 635\n",
    "int_df_csf, annotation_df_csf, experimental_design_csf = download_from_pimp(token, PIMP_HOST, analysis_id_csf, 'kegg')"
   ]
  },
  {
   "cell_type": "markdown",
   "metadata": {},
   "source": [
    "### Create Data Sources"
   ]
  },
  {
   "cell_type": "code",
   "execution_count": 9,
   "metadata": {},
   "outputs": [
    {
     "name": "stderr",
     "output_type": "stream",
     "text": [
      "2019-12-02 16:02:59.642 | DEBUG    | pals.feature_extraction:__init__:40 - Loading C:\\Users\\joewa\\Work\\git\\PALS\\pals\\data\\PiMP_KEGG.json.zip\n",
      "2019-12-02 16:02:59.664 | DEBUG    | pals.feature_extraction:__init__:92 - Mapping pathway to unique ids\n",
      "2019-12-02 16:02:59.671 | DEBUG    | pals.feature_extraction:__init__:106 - Creating dataset to pathway mapping\n",
      "2019-12-02 16:03:00.025 | DEBUG    | pals.feature_extraction:__init__:134 - Computing unique id counts\n",
      "2019-12-02 16:03:00.031 | DEBUG    | pals.feature_extraction:__init__:40 - Loading C:\\Users\\joewa\\Work\\git\\PALS\\pals\\data\\PiMP_KEGG.json.zip\n",
      "2019-12-02 16:03:00.052 | DEBUG    | pals.feature_extraction:__init__:92 - Mapping pathway to unique ids\n",
      "2019-12-02 16:03:00.058 | DEBUG    | pals.feature_extraction:__init__:106 - Creating dataset to pathway mapping\n",
      "2019-12-02 16:03:00.358 | DEBUG    | pals.feature_extraction:__init__:134 - Computing unique id counts\n"
     ]
    }
   ],
   "source": [
    "database_name = DATABASE_PIMP_KEGG\n",
    "ds_plasma = DataSource(int_df_plasma, annotation_df_plasma, experimental_design_plasma, database_name)\n",
    "ds_csf = DataSource(int_df_csf, annotation_df_csf, experimental_design_csf, database_name)"
   ]
  },
  {
   "cell_type": "markdown",
   "metadata": {},
   "source": [
    "### Try running ORA vs PALS"
   ]
  },
  {
   "cell_type": "code",
   "execution_count": 10,
   "metadata": {},
   "outputs": [],
   "source": [
    "from pals.pathway_analysis import PALS\n",
    "pals = PALS(ds_plasma)"
   ]
  },
  {
   "cell_type": "code",
   "execution_count": 11,
   "metadata": {},
   "outputs": [
    {
     "name": "stderr",
     "output_type": "stream",
     "text": [
      "2019-12-02 16:03:00.504 | DEBUG    | pals.pathway_analysis:get_ora_df:50 - Calculating ORA\n",
      "2019-12-02 16:03:00.509 | DEBUG    | pals.pathway_analysis:_change_zero_peak_ints:390 - Setting the zero intensity values in the dataframe\n",
      "2019-12-02 16:03:20.685 | DEBUG    | pals.pathway_analysis:get_ora_df:114 - Correcting for multiple t-tests\n",
      "2019-12-02 16:03:20.692 | DEBUG    | pals.pathway_analysis:_calculate_coverage_df:476 - Calculating dataset formula coverage\n"
     ]
    },
    {
     "data": {
      "text/html": [
       "<div>\n",
       "<style scoped>\n",
       "    .dataframe tbody tr th:only-of-type {\n",
       "        vertical-align: middle;\n",
       "    }\n",
       "\n",
       "    .dataframe tbody tr th {\n",
       "        vertical-align: top;\n",
       "    }\n",
       "\n",
       "    .dataframe thead th {\n",
       "        text-align: right;\n",
       "    }\n",
       "</style>\n",
       "<table border=\"1\" class=\"dataframe\">\n",
       "  <thead>\n",
       "    <tr style=\"text-align: right;\">\n",
       "      <th></th>\n",
       "      <th>pw_name</th>\n",
       "      <th>Stage2/Stage1 p-value</th>\n",
       "      <th>Stage1/Control p-value</th>\n",
       "      <th>Stage2/Control p-value</th>\n",
       "      <th>PiMP_KEGG Stage2/Stage1 comb_p</th>\n",
       "      <th>PiMP_KEGG Stage1/Control comb_p</th>\n",
       "      <th>PiMP_KEGG Stage2/Control comb_p</th>\n",
       "      <th>unq_pw_F</th>\n",
       "      <th>tot_ds_F</th>\n",
       "      <th>F_coverage</th>\n",
       "    </tr>\n",
       "    <tr>\n",
       "      <th>mapids</th>\n",
       "      <th></th>\n",
       "      <th></th>\n",
       "      <th></th>\n",
       "      <th></th>\n",
       "      <th></th>\n",
       "      <th></th>\n",
       "      <th></th>\n",
       "      <th></th>\n",
       "      <th></th>\n",
       "      <th></th>\n",
       "    </tr>\n",
       "  </thead>\n",
       "  <tbody>\n",
       "    <tr>\n",
       "      <th>ingenza00006</th>\n",
       "      <td>IG-Amino-acid Biosynthesis 1</td>\n",
       "      <td>0.000000e+00</td>\n",
       "      <td>0.000000e+00</td>\n",
       "      <td>0.000000e+00</td>\n",
       "      <td>0.000000e+00</td>\n",
       "      <td>0.000000e+00</td>\n",
       "      <td>0.000000e+00</td>\n",
       "      <td>3</td>\n",
       "      <td>2</td>\n",
       "      <td>66.67</td>\n",
       "    </tr>\n",
       "    <tr>\n",
       "      <th>map00472</th>\n",
       "      <td>D-Arginine and D-ornithine metabolism</td>\n",
       "      <td>9.177617e-07</td>\n",
       "      <td>0.000000e+00</td>\n",
       "      <td>0.000000e+00</td>\n",
       "      <td>5.729058e-06</td>\n",
       "      <td>0.000000e+00</td>\n",
       "      <td>0.000000e+00</td>\n",
       "      <td>5</td>\n",
       "      <td>3</td>\n",
       "      <td>60.00</td>\n",
       "    </tr>\n",
       "    <tr>\n",
       "      <th>map00970</th>\n",
       "      <td>Aminoacyl-tRNA biosynthesis</td>\n",
       "      <td>0.000000e+00</td>\n",
       "      <td>0.000000e+00</td>\n",
       "      <td>0.000000e+00</td>\n",
       "      <td>0.000000e+00</td>\n",
       "      <td>0.000000e+00</td>\n",
       "      <td>0.000000e+00</td>\n",
       "      <td>23</td>\n",
       "      <td>18</td>\n",
       "      <td>78.26</td>\n",
       "    </tr>\n",
       "    <tr>\n",
       "      <th>ingenza00007</th>\n",
       "      <td>IG-Amino-acid Biosynthesis 2</td>\n",
       "      <td>0.000000e+00</td>\n",
       "      <td>0.000000e+00</td>\n",
       "      <td>0.000000e+00</td>\n",
       "      <td>0.000000e+00</td>\n",
       "      <td>0.000000e+00</td>\n",
       "      <td>0.000000e+00</td>\n",
       "      <td>6</td>\n",
       "      <td>5</td>\n",
       "      <td>83.33</td>\n",
       "    </tr>\n",
       "    <tr>\n",
       "      <th>map00460</th>\n",
       "      <td>Cyanoamino acid metabolism</td>\n",
       "      <td>4.517159e-38</td>\n",
       "      <td>2.572348e-35</td>\n",
       "      <td>1.443653e-36</td>\n",
       "      <td>2.326337e-36</td>\n",
       "      <td>1.059807e-33</td>\n",
       "      <td>4.956543e-35</td>\n",
       "      <td>40</td>\n",
       "      <td>23</td>\n",
       "      <td>57.50</td>\n",
       "    </tr>\n",
       "    <tr>\n",
       "      <th>...</th>\n",
       "      <td>...</td>\n",
       "      <td>...</td>\n",
       "      <td>...</td>\n",
       "      <td>...</td>\n",
       "      <td>...</td>\n",
       "      <td>...</td>\n",
       "      <td>...</td>\n",
       "      <td>...</td>\n",
       "      <td>...</td>\n",
       "      <td>...</td>\n",
       "    </tr>\n",
       "    <tr>\n",
       "      <th>map00943</th>\n",
       "      <td>Isoflavonoid biosynthesis</td>\n",
       "      <td>8.424669e-01</td>\n",
       "      <td>8.066341e-01</td>\n",
       "      <td>8.269592e-01</td>\n",
       "      <td>8.634238e-01</td>\n",
       "      <td>8.226070e-01</td>\n",
       "      <td>8.475303e-01</td>\n",
       "      <td>31</td>\n",
       "      <td>1</td>\n",
       "      <td>3.23</td>\n",
       "    </tr>\n",
       "    <tr>\n",
       "      <th>map00904</th>\n",
       "      <td>Diterpenoid biosynthesis</td>\n",
       "      <td>9.191784e-01</td>\n",
       "      <td>8.940585e-01</td>\n",
       "      <td>9.827607e-01</td>\n",
       "      <td>9.327624e-01</td>\n",
       "      <td>9.072712e-01</td>\n",
       "      <td>9.972842e-01</td>\n",
       "      <td>39</td>\n",
       "      <td>1</td>\n",
       "      <td>2.56</td>\n",
       "    </tr>\n",
       "    <tr>\n",
       "      <th>map00522</th>\n",
       "      <td>Biosynthesis of 12-, 14- and 16-membered macro...</td>\n",
       "      <td>9.929083e-01</td>\n",
       "      <td>9.883184e-01</td>\n",
       "      <td>9.989255e-01</td>\n",
       "      <td>9.977517e-01</td>\n",
       "      <td>9.980078e-01</td>\n",
       "      <td>9.996857e-01</td>\n",
       "      <td>66</td>\n",
       "      <td>1</td>\n",
       "      <td>1.52</td>\n",
       "    </tr>\n",
       "    <tr>\n",
       "      <th>map01057</th>\n",
       "      <td>Biosynthesis of type II polyketide products</td>\n",
       "      <td>9.997831e-01</td>\n",
       "      <td>9.995114e-01</td>\n",
       "      <td>9.996857e-01</td>\n",
       "      <td>9.997831e-01</td>\n",
       "      <td>9.995114e-01</td>\n",
       "      <td>9.996857e-01</td>\n",
       "      <td>102</td>\n",
       "      <td>1</td>\n",
       "      <td>0.98</td>\n",
       "    </tr>\n",
       "    <tr>\n",
       "      <th>map00906</th>\n",
       "      <td>Carotenoid biosynthesis</td>\n",
       "      <td>9.929083e-01</td>\n",
       "      <td>9.985285e-01</td>\n",
       "      <td>9.910916e-01</td>\n",
       "      <td>9.977517e-01</td>\n",
       "      <td>9.995114e-01</td>\n",
       "      <td>9.996857e-01</td>\n",
       "      <td>66</td>\n",
       "      <td>1</td>\n",
       "      <td>1.52</td>\n",
       "    </tr>\n",
       "  </tbody>\n",
       "</table>\n",
       "<p>206 rows × 10 columns</p>\n",
       "</div>"
      ],
      "text/plain": [
       "                                                        pw_name  \\\n",
       "mapids                                                            \n",
       "ingenza00006                       IG-Amino-acid Biosynthesis 1   \n",
       "map00472                  D-Arginine and D-ornithine metabolism   \n",
       "map00970                            Aminoacyl-tRNA biosynthesis   \n",
       "ingenza00007                       IG-Amino-acid Biosynthesis 2   \n",
       "map00460                             Cyanoamino acid metabolism   \n",
       "...                                                         ...   \n",
       "map00943                              Isoflavonoid biosynthesis   \n",
       "map00904                               Diterpenoid biosynthesis   \n",
       "map00522      Biosynthesis of 12-, 14- and 16-membered macro...   \n",
       "map01057            Biosynthesis of type II polyketide products   \n",
       "map00906                                Carotenoid biosynthesis   \n",
       "\n",
       "              Stage2/Stage1 p-value  Stage1/Control p-value  \\\n",
       "mapids                                                        \n",
       "ingenza00006           0.000000e+00            0.000000e+00   \n",
       "map00472               9.177617e-07            0.000000e+00   \n",
       "map00970               0.000000e+00            0.000000e+00   \n",
       "ingenza00007           0.000000e+00            0.000000e+00   \n",
       "map00460               4.517159e-38            2.572348e-35   \n",
       "...                             ...                     ...   \n",
       "map00943               8.424669e-01            8.066341e-01   \n",
       "map00904               9.191784e-01            8.940585e-01   \n",
       "map00522               9.929083e-01            9.883184e-01   \n",
       "map01057               9.997831e-01            9.995114e-01   \n",
       "map00906               9.929083e-01            9.985285e-01   \n",
       "\n",
       "              Stage2/Control p-value  PiMP_KEGG Stage2/Stage1 comb_p  \\\n",
       "mapids                                                                 \n",
       "ingenza00006            0.000000e+00                    0.000000e+00   \n",
       "map00472                0.000000e+00                    5.729058e-06   \n",
       "map00970                0.000000e+00                    0.000000e+00   \n",
       "ingenza00007            0.000000e+00                    0.000000e+00   \n",
       "map00460                1.443653e-36                    2.326337e-36   \n",
       "...                              ...                             ...   \n",
       "map00943                8.269592e-01                    8.634238e-01   \n",
       "map00904                9.827607e-01                    9.327624e-01   \n",
       "map00522                9.989255e-01                    9.977517e-01   \n",
       "map01057                9.996857e-01                    9.997831e-01   \n",
       "map00906                9.910916e-01                    9.977517e-01   \n",
       "\n",
       "              PiMP_KEGG Stage1/Control comb_p  \\\n",
       "mapids                                          \n",
       "ingenza00006                     0.000000e+00   \n",
       "map00472                         0.000000e+00   \n",
       "map00970                         0.000000e+00   \n",
       "ingenza00007                     0.000000e+00   \n",
       "map00460                         1.059807e-33   \n",
       "...                                       ...   \n",
       "map00943                         8.226070e-01   \n",
       "map00904                         9.072712e-01   \n",
       "map00522                         9.980078e-01   \n",
       "map01057                         9.995114e-01   \n",
       "map00906                         9.995114e-01   \n",
       "\n",
       "              PiMP_KEGG Stage2/Control comb_p  unq_pw_F  tot_ds_F  F_coverage  \n",
       "mapids                                                                         \n",
       "ingenza00006                     0.000000e+00         3         2       66.67  \n",
       "map00472                         0.000000e+00         5         3       60.00  \n",
       "map00970                         0.000000e+00        23        18       78.26  \n",
       "ingenza00007                     0.000000e+00         6         5       83.33  \n",
       "map00460                         4.956543e-35        40        23       57.50  \n",
       "...                                       ...       ...       ...         ...  \n",
       "map00943                         8.475303e-01        31         1        3.23  \n",
       "map00904                         9.972842e-01        39         1        2.56  \n",
       "map00522                         9.996857e-01        66         1        1.52  \n",
       "map01057                         9.996857e-01       102         1        0.98  \n",
       "map00906                         9.996857e-01        66         1        1.52  \n",
       "\n",
       "[206 rows x 10 columns]"
      ]
     },
     "execution_count": 11,
     "metadata": {},
     "output_type": "execute_result"
    }
   ],
   "source": [
    "df = pals.get_ora_df()\n",
    "significant_column = 'PiMP_KEGG Stage1/Control comb_p'\n",
    "df.sort_values(significant_column)"
   ]
  },
  {
   "cell_type": "code",
   "execution_count": 12,
   "metadata": {},
   "outputs": [
    {
     "name": "stderr",
     "output_type": "stream",
     "text": [
      "2019-12-02 16:03:20.792 | DEBUG    | pals.pathway_analysis:_change_zero_peak_ints:390 - Setting the zero intensity values in the dataframe\n",
      "2019-12-02 16:03:20.870 | DEBUG    | pals.pathway_analysis:_standardize_intensity_df:371 - Scaling the data across the sample: zero mean and unit variance\n",
      "2019-12-02 16:03:20.930 | DEBUG    | pals.pathway_analysis:get_plage_activity_df:210 - Mean values of the rows in the DF is [ 0. -0.  0. ... -0. -0. -0.]\n",
      "2019-12-02 16:03:20.931 | DEBUG    | pals.pathway_analysis:get_plage_activity_df:211 - Variance in the rows of the DF is [1. 1. 1. ... 1. 1. 1.]\n",
      "2019-12-02 16:03:22.987 | DEBUG    | pals.pathway_analysis:set_up_resample_plage_p_df:222 - Calculating plage p-values with resampling\n",
      "2019-12-02 16:03:22.988 | DEBUG    | pals.pathway_analysis:set_up_resample_plage_p_df:226 - Comparison Stage2/Stage1\n",
      "2019-12-02 16:03:22.989 | DEBUG    | pals.pathway_analysis:set_up_resample_plage_p_df:234 - Resampling 0/1000\n",
      "2019-12-02 16:03:23.102 | DEBUG    | pals.pathway_analysis:set_up_resample_plage_p_df:234 - Resampling 100/1000\n",
      "2019-12-02 16:03:23.207 | DEBUG    | pals.pathway_analysis:set_up_resample_plage_p_df:234 - Resampling 200/1000\n",
      "2019-12-02 16:03:23.315 | DEBUG    | pals.pathway_analysis:set_up_resample_plage_p_df:234 - Resampling 300/1000\n",
      "2019-12-02 16:03:23.419 | DEBUG    | pals.pathway_analysis:set_up_resample_plage_p_df:234 - Resampling 400/1000\n",
      "2019-12-02 16:03:23.523 | DEBUG    | pals.pathway_analysis:set_up_resample_plage_p_df:234 - Resampling 500/1000\n",
      "2019-12-02 16:03:23.628 | DEBUG    | pals.pathway_analysis:set_up_resample_plage_p_df:234 - Resampling 600/1000\n",
      "2019-12-02 16:03:23.730 | DEBUG    | pals.pathway_analysis:set_up_resample_plage_p_df:234 - Resampling 700/1000\n",
      "2019-12-02 16:03:23.840 | DEBUG    | pals.pathway_analysis:set_up_resample_plage_p_df:234 - Resampling 800/1000\n",
      "2019-12-02 16:03:23.941 | DEBUG    | pals.pathway_analysis:set_up_resample_plage_p_df:234 - Resampling 900/1000\n",
      "2019-12-02 16:03:24.039 | DEBUG    | pals.pathway_analysis:set_up_resample_plage_p_df:240 - Total time 1\n",
      "2019-12-02 16:03:24.135 | DEBUG    | pals.pathway_analysis:set_up_resample_plage_p_df:226 - Comparison Stage1/Control\n",
      "2019-12-02 16:03:24.136 | DEBUG    | pals.pathway_analysis:set_up_resample_plage_p_df:234 - Resampling 0/1000\n",
      "2019-12-02 16:03:24.232 | DEBUG    | pals.pathway_analysis:set_up_resample_plage_p_df:234 - Resampling 100/1000\n",
      "2019-12-02 16:03:24.331 | DEBUG    | pals.pathway_analysis:set_up_resample_plage_p_df:234 - Resampling 200/1000\n",
      "2019-12-02 16:03:24.426 | DEBUG    | pals.pathway_analysis:set_up_resample_plage_p_df:234 - Resampling 300/1000\n",
      "2019-12-02 16:03:24.521 | DEBUG    | pals.pathway_analysis:set_up_resample_plage_p_df:234 - Resampling 400/1000\n",
      "2019-12-02 16:03:24.615 | DEBUG    | pals.pathway_analysis:set_up_resample_plage_p_df:234 - Resampling 500/1000\n",
      "2019-12-02 16:03:24.713 | DEBUG    | pals.pathway_analysis:set_up_resample_plage_p_df:234 - Resampling 600/1000\n",
      "2019-12-02 16:03:24.810 | DEBUG    | pals.pathway_analysis:set_up_resample_plage_p_df:234 - Resampling 700/1000\n",
      "2019-12-02 16:03:24.905 | DEBUG    | pals.pathway_analysis:set_up_resample_plage_p_df:234 - Resampling 800/1000\n",
      "2019-12-02 16:03:25.001 | DEBUG    | pals.pathway_analysis:set_up_resample_plage_p_df:234 - Resampling 900/1000\n",
      "2019-12-02 16:03:25.103 | DEBUG    | pals.pathway_analysis:set_up_resample_plage_p_df:240 - Total time 0\n",
      "2019-12-02 16:03:25.209 | DEBUG    | pals.pathway_analysis:set_up_resample_plage_p_df:226 - Comparison Stage2/Control\n",
      "2019-12-02 16:03:25.210 | DEBUG    | pals.pathway_analysis:set_up_resample_plage_p_df:234 - Resampling 0/1000\n",
      "2019-12-02 16:03:25.315 | DEBUG    | pals.pathway_analysis:set_up_resample_plage_p_df:234 - Resampling 100/1000\n",
      "2019-12-02 16:03:25.423 | DEBUG    | pals.pathway_analysis:set_up_resample_plage_p_df:234 - Resampling 200/1000\n",
      "2019-12-02 16:03:25.529 | DEBUG    | pals.pathway_analysis:set_up_resample_plage_p_df:234 - Resampling 300/1000\n",
      "2019-12-02 16:03:25.633 | DEBUG    | pals.pathway_analysis:set_up_resample_plage_p_df:234 - Resampling 400/1000\n",
      "2019-12-02 16:03:25.730 | DEBUG    | pals.pathway_analysis:set_up_resample_plage_p_df:234 - Resampling 500/1000\n",
      "2019-12-02 16:03:25.830 | DEBUG    | pals.pathway_analysis:set_up_resample_plage_p_df:234 - Resampling 600/1000\n",
      "2019-12-02 16:03:25.932 | DEBUG    | pals.pathway_analysis:set_up_resample_plage_p_df:234 - Resampling 700/1000\n",
      "2019-12-02 16:03:26.032 | DEBUG    | pals.pathway_analysis:set_up_resample_plage_p_df:234 - Resampling 800/1000\n",
      "2019-12-02 16:03:26.127 | DEBUG    | pals.pathway_analysis:set_up_resample_plage_p_df:234 - Resampling 900/1000\n",
      "2019-12-02 16:03:26.226 | DEBUG    | pals.pathway_analysis:set_up_resample_plage_p_df:240 - Total time 1\n",
      "2019-12-02 16:03:26.334 | DEBUG    | pals.pathway_analysis:_calculate_coverage_df:476 - Calculating dataset formula coverage\n",
      "2019-12-02 16:03:26.337 | DEBUG    | pals.pathway_analysis:calculate_hg_values:301 - Calculating the hyper-geometric p-values\n",
      "2019-12-02 16:03:26.492 | DEBUG    | pals.pathway_analysis:calculate_hg_values:333 - Calculating the combined p-values\n"
     ]
    },
    {
     "data": {
      "text/html": [
       "<div>\n",
       "<style scoped>\n",
       "    .dataframe tbody tr th:only-of-type {\n",
       "        vertical-align: middle;\n",
       "    }\n",
       "\n",
       "    .dataframe tbody tr th {\n",
       "        vertical-align: top;\n",
       "    }\n",
       "\n",
       "    .dataframe thead th {\n",
       "        text-align: right;\n",
       "    }\n",
       "</style>\n",
       "<table border=\"1\" class=\"dataframe\">\n",
       "  <thead>\n",
       "    <tr style=\"text-align: right;\">\n",
       "      <th></th>\n",
       "      <th>pw_name</th>\n",
       "      <th>Stage2/Stage1 p-value</th>\n",
       "      <th>Stage1/Control p-value</th>\n",
       "      <th>Stage2/Control p-value</th>\n",
       "      <th>unq_pw_F</th>\n",
       "      <th>tot_ds_F</th>\n",
       "      <th>F_coverage</th>\n",
       "      <th>sf</th>\n",
       "      <th>exp_F</th>\n",
       "      <th>Ex_Cov</th>\n",
       "      <th>PiMP_KEGG Stage2/Stage1 comb_p</th>\n",
       "      <th>PiMP_KEGG Stage1/Control comb_p</th>\n",
       "      <th>PiMP_KEGG Stage2/Control comb_p</th>\n",
       "    </tr>\n",
       "  </thead>\n",
       "  <tbody>\n",
       "    <tr>\n",
       "      <th>map05215</th>\n",
       "      <td>Prostate cancer</td>\n",
       "      <td>3.584472e-06</td>\n",
       "      <td>0.0</td>\n",
       "      <td>1.000000e+00</td>\n",
       "      <td>9</td>\n",
       "      <td>2</td>\n",
       "      <td>22.22</td>\n",
       "      <td>8.451166e-02</td>\n",
       "      <td>0.97</td>\n",
       "      <td>10.78</td>\n",
       "      <td>1.497429e-06</td>\n",
       "      <td>0.0</td>\n",
       "      <td>1.000000e+00</td>\n",
       "    </tr>\n",
       "    <tr>\n",
       "      <th>map00981</th>\n",
       "      <td>Insect hormone biosynthesis</td>\n",
       "      <td>3.821212e-01</td>\n",
       "      <td>0.0</td>\n",
       "      <td>1.586243e-03</td>\n",
       "      <td>21</td>\n",
       "      <td>3</td>\n",
       "      <td>14.29</td>\n",
       "      <td>2.083303e-01</td>\n",
       "      <td>2.27</td>\n",
       "      <td>10.81</td>\n",
       "      <td>3.251370e-01</td>\n",
       "      <td>0.0</td>\n",
       "      <td>1.134699e-03</td>\n",
       "    </tr>\n",
       "    <tr>\n",
       "      <th>map04961</th>\n",
       "      <td>Endocrine and other factor-regulated calcium r...</td>\n",
       "      <td>1.160762e-18</td>\n",
       "      <td>0.0</td>\n",
       "      <td>1.000000e+00</td>\n",
       "      <td>7</td>\n",
       "      <td>1</td>\n",
       "      <td>14.29</td>\n",
       "      <td>2.112254e-01</td>\n",
       "      <td>0.76</td>\n",
       "      <td>10.86</td>\n",
       "      <td>1.295493e-18</td>\n",
       "      <td>0.0</td>\n",
       "      <td>1.000000e+00</td>\n",
       "    </tr>\n",
       "    <tr>\n",
       "      <th>map00930</th>\n",
       "      <td>Caprolactam degradation</td>\n",
       "      <td>9.999999e-01</td>\n",
       "      <td>0.0</td>\n",
       "      <td>4.000148e-07</td>\n",
       "      <td>19</td>\n",
       "      <td>12</td>\n",
       "      <td>63.16</td>\n",
       "      <td>8.358982e-09</td>\n",
       "      <td>2.05</td>\n",
       "      <td>10.79</td>\n",
       "      <td>9.999687e-01</td>\n",
       "      <td>0.0</td>\n",
       "      <td>1.372289e-09</td>\n",
       "    </tr>\n",
       "    <tr>\n",
       "      <th>map00903</th>\n",
       "      <td>Limonene and pinene degradation</td>\n",
       "      <td>6.356628e-02</td>\n",
       "      <td>0.0</td>\n",
       "      <td>1.809224e-05</td>\n",
       "      <td>17</td>\n",
       "      <td>5</td>\n",
       "      <td>29.41</td>\n",
       "      <td>9.142314e-03</td>\n",
       "      <td>1.84</td>\n",
       "      <td>10.82</td>\n",
       "      <td>2.507522e-02</td>\n",
       "      <td>0.0</td>\n",
       "      <td>3.193363e-06</td>\n",
       "    </tr>\n",
       "    <tr>\n",
       "      <th>...</th>\n",
       "      <td>...</td>\n",
       "      <td>...</td>\n",
       "      <td>...</td>\n",
       "      <td>...</td>\n",
       "      <td>...</td>\n",
       "      <td>...</td>\n",
       "      <td>...</td>\n",
       "      <td>...</td>\n",
       "      <td>...</td>\n",
       "      <td>...</td>\n",
       "      <td>...</td>\n",
       "      <td>...</td>\n",
       "      <td>...</td>\n",
       "    </tr>\n",
       "    <tr>\n",
       "      <th>map00760</th>\n",
       "      <td>Nicotinate and nicotinamide metabolism</td>\n",
       "      <td>1.000000e+00</td>\n",
       "      <td>1.0</td>\n",
       "      <td>1.000000e+00</td>\n",
       "      <td>40</td>\n",
       "      <td>15</td>\n",
       "      <td>37.50</td>\n",
       "      <td>1.973128e-06</td>\n",
       "      <td>4.32</td>\n",
       "      <td>10.80</td>\n",
       "      <td>1.000000e+00</td>\n",
       "      <td>1.0</td>\n",
       "      <td>1.000000e+00</td>\n",
       "    </tr>\n",
       "    <tr>\n",
       "      <th>map00020</th>\n",
       "      <td>Citrate cycle (TCA cycle)</td>\n",
       "      <td>1.000000e+00</td>\n",
       "      <td>1.0</td>\n",
       "      <td>9.998650e-01</td>\n",
       "      <td>15</td>\n",
       "      <td>3</td>\n",
       "      <td>20.00</td>\n",
       "      <td>8.565295e-02</td>\n",
       "      <td>1.62</td>\n",
       "      <td>10.80</td>\n",
       "      <td>9.999998e-01</td>\n",
       "      <td>1.0</td>\n",
       "      <td>9.995224e-01</td>\n",
       "    </tr>\n",
       "    <tr>\n",
       "      <th>map04745</th>\n",
       "      <td>Phototransduction - fly</td>\n",
       "      <td>1.000000e+00</td>\n",
       "      <td>1.0</td>\n",
       "      <td>1.000000e+00</td>\n",
       "      <td>6</td>\n",
       "      <td>2</td>\n",
       "      <td>33.33</td>\n",
       "      <td>3.145508e-02</td>\n",
       "      <td>0.65</td>\n",
       "      <td>10.83</td>\n",
       "      <td>1.000000e+00</td>\n",
       "      <td>1.0</td>\n",
       "      <td>9.999994e-01</td>\n",
       "    </tr>\n",
       "    <tr>\n",
       "      <th>map04672</th>\n",
       "      <td>Intestinal immune network for IgA production</td>\n",
       "      <td>1.000000e+00</td>\n",
       "      <td>1.0</td>\n",
       "      <td>1.000000e+00</td>\n",
       "      <td>1</td>\n",
       "      <td>1</td>\n",
       "      <td>100.00</td>\n",
       "      <td>1.165566e-02</td>\n",
       "      <td>0.11</td>\n",
       "      <td>11.00</td>\n",
       "      <td>1.000000e+00</td>\n",
       "      <td>1.0</td>\n",
       "      <td>1.000000e+00</td>\n",
       "    </tr>\n",
       "    <tr>\n",
       "      <th>map00830</th>\n",
       "      <td>Retinol metabolism</td>\n",
       "      <td>1.000000e+00</td>\n",
       "      <td>1.0</td>\n",
       "      <td>1.000000e+00</td>\n",
       "      <td>9</td>\n",
       "      <td>1</td>\n",
       "      <td>11.11</td>\n",
       "      <td>2.954369e-01</td>\n",
       "      <td>0.97</td>\n",
       "      <td>10.78</td>\n",
       "      <td>1.000000e+00</td>\n",
       "      <td>1.0</td>\n",
       "      <td>1.000000e+00</td>\n",
       "    </tr>\n",
       "  </tbody>\n",
       "</table>\n",
       "<p>206 rows × 13 columns</p>\n",
       "</div>"
      ],
      "text/plain": [
       "                                                    pw_name  \\\n",
       "map05215                                    Prostate cancer   \n",
       "map00981                        Insect hormone biosynthesis   \n",
       "map04961  Endocrine and other factor-regulated calcium r...   \n",
       "map00930                            Caprolactam degradation   \n",
       "map00903                    Limonene and pinene degradation   \n",
       "...                                                     ...   \n",
       "map00760             Nicotinate and nicotinamide metabolism   \n",
       "map00020                          Citrate cycle (TCA cycle)   \n",
       "map04745                            Phototransduction - fly   \n",
       "map04672       Intestinal immune network for IgA production   \n",
       "map00830                                 Retinol metabolism   \n",
       "\n",
       "          Stage2/Stage1 p-value  Stage1/Control p-value  \\\n",
       "map05215           3.584472e-06                     0.0   \n",
       "map00981           3.821212e-01                     0.0   \n",
       "map04961           1.160762e-18                     0.0   \n",
       "map00930           9.999999e-01                     0.0   \n",
       "map00903           6.356628e-02                     0.0   \n",
       "...                         ...                     ...   \n",
       "map00760           1.000000e+00                     1.0   \n",
       "map00020           1.000000e+00                     1.0   \n",
       "map04745           1.000000e+00                     1.0   \n",
       "map04672           1.000000e+00                     1.0   \n",
       "map00830           1.000000e+00                     1.0   \n",
       "\n",
       "          Stage2/Control p-value  unq_pw_F  tot_ds_F  F_coverage  \\\n",
       "map05215            1.000000e+00         9         2       22.22   \n",
       "map00981            1.586243e-03        21         3       14.29   \n",
       "map04961            1.000000e+00         7         1       14.29   \n",
       "map00930            4.000148e-07        19        12       63.16   \n",
       "map00903            1.809224e-05        17         5       29.41   \n",
       "...                          ...       ...       ...         ...   \n",
       "map00760            1.000000e+00        40        15       37.50   \n",
       "map00020            9.998650e-01        15         3       20.00   \n",
       "map04745            1.000000e+00         6         2       33.33   \n",
       "map04672            1.000000e+00         1         1      100.00   \n",
       "map00830            1.000000e+00         9         1       11.11   \n",
       "\n",
       "                    sf  exp_F  Ex_Cov  PiMP_KEGG Stage2/Stage1 comb_p  \\\n",
       "map05215  8.451166e-02   0.97   10.78                    1.497429e-06   \n",
       "map00981  2.083303e-01   2.27   10.81                    3.251370e-01   \n",
       "map04961  2.112254e-01   0.76   10.86                    1.295493e-18   \n",
       "map00930  8.358982e-09   2.05   10.79                    9.999687e-01   \n",
       "map00903  9.142314e-03   1.84   10.82                    2.507522e-02   \n",
       "...                ...    ...     ...                             ...   \n",
       "map00760  1.973128e-06   4.32   10.80                    1.000000e+00   \n",
       "map00020  8.565295e-02   1.62   10.80                    9.999998e-01   \n",
       "map04745  3.145508e-02   0.65   10.83                    1.000000e+00   \n",
       "map04672  1.165566e-02   0.11   11.00                    1.000000e+00   \n",
       "map00830  2.954369e-01   0.97   10.78                    1.000000e+00   \n",
       "\n",
       "          PiMP_KEGG Stage1/Control comb_p  PiMP_KEGG Stage2/Control comb_p  \n",
       "map05215                              0.0                     1.000000e+00  \n",
       "map00981                              0.0                     1.134699e-03  \n",
       "map04961                              0.0                     1.000000e+00  \n",
       "map00930                              0.0                     1.372289e-09  \n",
       "map00903                              0.0                     3.193363e-06  \n",
       "...                                   ...                              ...  \n",
       "map00760                              1.0                     1.000000e+00  \n",
       "map00020                              1.0                     9.995224e-01  \n",
       "map04745                              1.0                     9.999994e-01  \n",
       "map04672                              1.0                     1.000000e+00  \n",
       "map00830                              1.0                     1.000000e+00  \n",
       "\n",
       "[206 rows x 13 columns]"
      ]
     },
     "execution_count": 12,
     "metadata": {},
     "output_type": "execute_result"
    }
   ],
   "source": [
    "df = pals.get_pathway_df()\n",
    "significant_column = 'PiMP_KEGG Stage1/Control comb_p'\n",
    "df.sort_values(significant_column)"
   ]
  },
  {
   "cell_type": "markdown",
   "metadata": {},
   "source": [
    "### Run PALS Experiments"
   ]
  },
  {
   "cell_type": "code",
   "execution_count": 13,
   "metadata": {},
   "outputs": [],
   "source": [
    "n_samples = [4, 8, 12]\n",
    "n_iter = 5\n",
    "results = {}"
   ]
  },
  {
   "cell_type": "markdown",
   "metadata": {},
   "source": [
    "#### Disable debug logging"
   ]
  },
  {
   "cell_type": "code",
   "execution_count": 14,
   "metadata": {},
   "outputs": [
    {
     "data": {
      "text/plain": [
       "1"
      ]
     },
     "execution_count": 14,
     "metadata": {},
     "output_type": "execute_result"
    }
   ],
   "source": [
    "logger.remove()\n",
    "logger.add(sys.stderr, level='INFO')"
   ]
  },
  {
   "cell_type": "markdown",
   "metadata": {},
   "source": [
    "#### Run on Plasma samples"
   ]
  },
  {
   "cell_type": "code",
   "execution_count": 15,
   "metadata": {},
   "outputs": [],
   "source": [
    "data_source = ds_plasma\n",
    "experiment_name = 'plasma'\n",
    "case = 'Stage1'\n",
    "control = 'Control'\n",
    "significant_column = 'PiMP_KEGG Stage1/Control comb_p'"
   ]
  },
  {
   "cell_type": "code",
   "execution_count": 16,
   "metadata": {},
   "outputs": [
    {
     "name": "stderr",
     "output_type": "stream",
     "text": [
      "2019-12-02 16:03:32.252 | INFO     | pals.evaluation:run_experiment:30 - n_sample=4 iter=0 PALS experiment=plasma case=Stage1 control=Control\n",
      "2019-12-02 16:03:39.095 | INFO     | pals.evaluation:run_experiment:30 - n_sample=4 iter=1 PALS experiment=plasma case=Stage1 control=Control\n",
      "2019-12-02 16:03:45.851 | INFO     | pals.evaluation:run_experiment:30 - n_sample=4 iter=2 PALS experiment=plasma case=Stage1 control=Control\n",
      "2019-12-02 16:03:52.263 | INFO     | pals.evaluation:run_experiment:30 - n_sample=4 iter=3 PALS experiment=plasma case=Stage1 control=Control\n",
      "2019-12-02 16:03:58.897 | INFO     | pals.evaluation:run_experiment:30 - n_sample=4 iter=4 PALS experiment=plasma case=Stage1 control=Control\n",
      "2019-12-02 16:04:05.652 | INFO     | pals.evaluation:run_experiment:30 - n_sample=8 iter=0 PALS experiment=plasma case=Stage1 control=Control\n",
      "2019-12-02 16:04:13.279 | INFO     | pals.evaluation:run_experiment:30 - n_sample=8 iter=1 PALS experiment=plasma case=Stage1 control=Control\n",
      "2019-12-02 16:04:20.889 | INFO     | pals.evaluation:run_experiment:30 - n_sample=8 iter=2 PALS experiment=plasma case=Stage1 control=Control\n",
      "2019-12-02 16:04:28.221 | INFO     | pals.evaluation:run_experiment:30 - n_sample=8 iter=3 PALS experiment=plasma case=Stage1 control=Control\n",
      "2019-12-02 16:04:35.345 | INFO     | pals.evaluation:run_experiment:30 - n_sample=8 iter=4 PALS experiment=plasma case=Stage1 control=Control\n",
      "2019-12-02 16:04:42.807 | INFO     | pals.evaluation:run_experiment:30 - n_sample=12 iter=0 PALS experiment=plasma case=Stage1 control=Control\n",
      "2019-12-02 16:04:51.083 | INFO     | pals.evaluation:run_experiment:30 - n_sample=12 iter=1 PALS experiment=plasma case=Stage1 control=Control\n",
      "2019-12-02 16:04:59.943 | INFO     | pals.evaluation:run_experiment:30 - n_sample=12 iter=2 PALS experiment=plasma case=Stage1 control=Control\n",
      "2019-12-02 16:05:08.584 | INFO     | pals.evaluation:run_experiment:30 - n_sample=12 iter=3 PALS experiment=plasma case=Stage1 control=Control\n",
      "2019-12-02 16:05:17.420 | INFO     | pals.evaluation:run_experiment:30 - n_sample=12 iter=4 PALS experiment=plasma case=Stage1 control=Control\n"
     ]
    }
   ],
   "source": [
    "res = run_experiment(experiment_name, data_source, case, control, n_samples, significant_column, n_iter)\n",
    "results[experiment_name] = res"
   ]
  },
  {
   "cell_type": "markdown",
   "metadata": {},
   "source": [
    "#### Run on CSF samples"
   ]
  },
  {
   "cell_type": "code",
   "execution_count": 17,
   "metadata": {},
   "outputs": [],
   "source": [
    "data_source = ds_csf\n",
    "experiment_name = 'csf'\n",
    "case = 'Stage_2'\n",
    "control = 'Control'\n",
    "significant_column = 'PiMP_KEGG Stage_2/Control comb_p'"
   ]
  },
  {
   "cell_type": "code",
   "execution_count": 18,
   "metadata": {},
   "outputs": [
    {
     "name": "stderr",
     "output_type": "stream",
     "text": [
      "2019-12-02 16:05:25.909 | INFO     | pals.evaluation:run_experiment:30 - n_sample=4 iter=0 PALS experiment=csf case=Stage_2 control=Control\n",
      "2019-12-02 16:05:30.870 | INFO     | pals.evaluation:run_experiment:30 - n_sample=4 iter=1 PALS experiment=csf case=Stage_2 control=Control\n",
      "2019-12-02 16:05:35.447 | INFO     | pals.evaluation:run_experiment:30 - n_sample=4 iter=2 PALS experiment=csf case=Stage_2 control=Control\n",
      "2019-12-02 16:05:40.079 | INFO     | pals.evaluation:run_experiment:30 - n_sample=4 iter=3 PALS experiment=csf case=Stage_2 control=Control\n",
      "2019-12-02 16:05:45.012 | INFO     | pals.evaluation:run_experiment:30 - n_sample=4 iter=4 PALS experiment=csf case=Stage_2 control=Control\n",
      "2019-12-02 16:05:49.785 | INFO     | pals.evaluation:run_experiment:30 - n_sample=8 iter=0 PALS experiment=csf case=Stage_2 control=Control\n",
      "2019-12-02 16:05:54.895 | INFO     | pals.evaluation:run_experiment:30 - n_sample=8 iter=1 PALS experiment=csf case=Stage_2 control=Control\n",
      "2019-12-02 16:05:59.905 | INFO     | pals.evaluation:run_experiment:30 - n_sample=8 iter=2 PALS experiment=csf case=Stage_2 control=Control\n",
      "2019-12-02 16:06:05.232 | INFO     | pals.evaluation:run_experiment:30 - n_sample=8 iter=3 PALS experiment=csf case=Stage_2 control=Control\n",
      "2019-12-02 16:06:10.229 | INFO     | pals.evaluation:run_experiment:30 - n_sample=8 iter=4 PALS experiment=csf case=Stage_2 control=Control\n",
      "2019-12-02 16:06:15.193 | INFO     | pals.evaluation:run_experiment:30 - n_sample=12 iter=0 PALS experiment=csf case=Stage_2 control=Control\n",
      "2019-12-02 16:06:20.605 | INFO     | pals.evaluation:run_experiment:30 - n_sample=12 iter=1 PALS experiment=csf case=Stage_2 control=Control\n",
      "2019-12-02 16:06:26.140 | INFO     | pals.evaluation:run_experiment:30 - n_sample=12 iter=2 PALS experiment=csf case=Stage_2 control=Control\n",
      "2019-12-02 16:06:31.785 | INFO     | pals.evaluation:run_experiment:30 - n_sample=12 iter=3 PALS experiment=csf case=Stage_2 control=Control\n",
      "2019-12-02 16:06:32.157 | WARNING  | pals.evaluation:run_experiment:46 - Failed to generate good data due to Numerical issues were encountered when scaling the data and might not be solved. The standard deviation of the data is probably very close to 0. , will try again\n",
      "2019-12-02 16:06:32.158 | INFO     | pals.evaluation:run_experiment:30 - n_sample=12 iter=3 PALS experiment=csf case=Stage_2 control=Control\n",
      "2019-12-02 16:06:37.450 | INFO     | pals.evaluation:run_experiment:30 - n_sample=12 iter=4 PALS experiment=csf case=Stage_2 control=Control\n"
     ]
    }
   ],
   "source": [
    "res = run_experiment(experiment_name, data_source, case, control, n_samples, significant_column, n_iter)\n",
    "results[experiment_name] = res"
   ]
  },
  {
   "cell_type": "markdown",
   "metadata": {},
   "source": [
    "#### Save Results"
   ]
  },
  {
   "cell_type": "code",
   "execution_count": 19,
   "metadata": {},
   "outputs": [
    {
     "name": "stdout",
     "output_type": "stream",
     "text": [
      "Saving <class 'dict'> to test_data\\HAT\\HAT_results.p\n"
     ]
    }
   ],
   "source": [
    "save_obj(results, os.path.join('test_data', 'HAT', 'HAT_results.p'))"
   ]
  }
 ],
 "metadata": {
  "kernelspec": {
   "display_name": "Django Shell-Plus",
   "language": "python",
   "name": "django_extensions"
  },
  "language_info": {
   "codemirror_mode": {
    "name": "ipython",
    "version": 3
   },
   "file_extension": ".py",
   "mimetype": "text/x-python",
   "name": "python",
   "nbconvert_exporter": "python",
   "pygments_lexer": "ipython3",
   "version": "3.7.3"
  }
 },
 "nbformat": 4,
 "nbformat_minor": 4
}
