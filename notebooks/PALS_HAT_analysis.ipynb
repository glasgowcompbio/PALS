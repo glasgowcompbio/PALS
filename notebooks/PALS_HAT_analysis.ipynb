{
 "cells": [
  {
   "cell_type": "code",
   "execution_count": 1,
   "metadata": {},
   "outputs": [],
   "source": [
    "%load_ext autoreload\n",
    "%autoreload 2"
   ]
  },
  {
   "cell_type": "code",
   "execution_count": 2,
   "metadata": {},
   "outputs": [
    {
     "name": "stdout",
     "output_type": "stream",
     "text": [
      "Populating the interactive namespace from numpy and matplotlib\n"
     ]
    }
   ],
   "source": [
    "%pylab inline"
   ]
  },
  {
   "cell_type": "code",
   "execution_count": 3,
   "metadata": {},
   "outputs": [],
   "source": [
    "import os\n",
    "import sys\n",
    "import pathlib\n",
    "import pickle\n",
    "\n",
    "sys.path.append('..')"
   ]
  },
  {
   "cell_type": "code",
   "execution_count": 4,
   "metadata": {},
   "outputs": [],
   "source": [
    "import pandas as pd\n",
    "from tqdm import tqdm\n",
    "from collections import defaultdict"
   ]
  },
  {
   "cell_type": "code",
   "execution_count": 5,
   "metadata": {},
   "outputs": [
    {
     "name": "stderr",
     "output_type": "stream",
     "text": [
      "2019-11-29 11:05:51.944 | WARNING  | pals.reactome:get_neo4j_driver:14 - Using a default neo4j server: bolt://localhost:7687\n",
      "2019-11-29 11:05:51.944 | WARNING  | pals.reactome:get_neo4j_driver:19 - Using a default neo4j username or password: neo4j\n",
      "2019-11-29 11:05:53.056 | INFO     | pals.reactome:get_neo4j_driver:24 - Created graph database driver for bolt://localhost:7687 (neo4j)\n"
     ]
    }
   ],
   "source": [
    "from pals.pimp_tools import get_pimp_API_token_from_env, PIMP_HOST, get_ms1_intensities, get_ms1_peaks, get_annotation_df, get_experimental_design\n",
    "from pals.feature_extraction import DataSource\n",
    "from pals.pathway_analysis import PALS\n",
    "from pals.common import *"
   ]
  },
  {
   "cell_type": "markdown",
   "metadata": {},
   "source": [
    "# HAT Data Analysis"
   ]
  },
  {
   "cell_type": "markdown",
   "metadata": {},
   "source": [
    "### Load data"
   ]
  },
  {
   "cell_type": "markdown",
   "metadata": {},
   "source": [
    "Generate token by logging in to PiMP"
   ]
  },
  {
   "cell_type": "code",
   "execution_count": 6,
   "metadata": {},
   "outputs": [],
   "source": [
    "# username = 'joewandy' # PiMP username\n",
    "# password = 'enter' # PiMP password\n",
    "# host = 'localhost:8000' # server address and port\n",
    "# token = get_authentication_token(host, username, password)"
   ]
  },
  {
   "cell_type": "markdown",
   "metadata": {},
   "source": [
    "Assume token is stored in environmental variable *PIMP_API_TOKEN*"
   ]
  },
  {
   "cell_type": "code",
   "execution_count": 7,
   "metadata": {},
   "outputs": [],
   "source": [
    "token = get_pimp_API_token_from_env()"
   ]
  },
  {
   "cell_type": "code",
   "execution_count": 8,
   "metadata": {},
   "outputs": [],
   "source": [
    "def get_data(token, hostname, analysis_id, database_name):\n",
    "    int_df = get_ms1_intensities(token, hostname, analysis_id)\n",
    "    annotation_df = get_annotation_df(token, PIMP_HOST, analysis_id, database_name)\n",
    "    experimental_design = get_experimental_design(token, PIMP_HOST, analysis_id)\n",
    "    return int_df, annotation_df, experimental_design"
   ]
  },
  {
   "cell_type": "code",
   "execution_count": 9,
   "metadata": {},
   "outputs": [
    {
     "name": "stdout",
     "output_type": "stream",
     "text": [
      "http://polyomics.mvls.gla.ac.uk/export/get_ms1_intensities?analysis_id=636 <Response [200]>\n",
      "http://polyomics.mvls.gla.ac.uk/export/get_ms1_peaks?analysis_id=636 <Response [200]>\n",
      "http://polyomics.mvls.gla.ac.uk/export/get_experimental_design?analysis_id=636 <Response [200]>\n"
     ]
    }
   ],
   "source": [
    "analysis_id_plasma = 636\n",
    "int_df_plasma, annotation_df_plasma, experimental_design_plasma = get_data(token, PIMP_HOST, analysis_id_plasma, 'kegg')"
   ]
  },
  {
   "cell_type": "code",
   "execution_count": 10,
   "metadata": {},
   "outputs": [
    {
     "name": "stdout",
     "output_type": "stream",
     "text": [
      "http://polyomics.mvls.gla.ac.uk/export/get_ms1_intensities?analysis_id=635 <Response [200]>\n",
      "http://polyomics.mvls.gla.ac.uk/export/get_ms1_peaks?analysis_id=635 <Response [200]>\n",
      "http://polyomics.mvls.gla.ac.uk/export/get_experimental_design?analysis_id=635 <Response [200]>\n"
     ]
    }
   ],
   "source": [
    "analysis_id_csf = 635\n",
    "int_df_csf, annotation_df_csf, experimental_design_csf = get_data(token, PIMP_HOST, analysis_id_csf, 'kegg')"
   ]
  },
  {
   "cell_type": "markdown",
   "metadata": {},
   "source": [
    "### Create Data Sources"
   ]
  },
  {
   "cell_type": "code",
   "execution_count": 11,
   "metadata": {},
   "outputs": [
    {
     "name": "stderr",
     "output_type": "stream",
     "text": [
      "2019-11-29 11:07:05.847 | DEBUG    | pals.feature_extraction:__init__:40 - Loading C:\\Users\\joewa\\Work\\git\\PALS\\pals\\data\\PiMP_KEGG.json.zip\n",
      "2019-11-29 11:07:05.879 | DEBUG    | pals.feature_extraction:__init__:92 - Mapping pathway to unique ids\n",
      "2019-11-29 11:07:05.886 | DEBUG    | pals.feature_extraction:__init__:106 - Creating dataset to pathway mapping\n",
      "2019-11-29 11:07:06.324 | DEBUG    | pals.feature_extraction:__init__:131 - Computing unique id counts\n",
      "2019-11-29 11:07:06.331 | DEBUG    | pals.feature_extraction:__init__:40 - Loading C:\\Users\\joewa\\Work\\git\\PALS\\pals\\data\\PiMP_KEGG.json.zip\n",
      "2019-11-29 11:07:06.353 | DEBUG    | pals.feature_extraction:__init__:92 - Mapping pathway to unique ids\n",
      "2019-11-29 11:07:06.360 | DEBUG    | pals.feature_extraction:__init__:106 - Creating dataset to pathway mapping\n",
      "2019-11-29 11:07:06.636 | DEBUG    | pals.feature_extraction:__init__:131 - Computing unique id counts\n"
     ]
    }
   ],
   "source": [
    "database_name = DATABASE_PIMP_KEGG\n",
    "ds_plasma = DataSource(int_df_plasma, annotation_df_plasma, experimental_design_plasma, database_name)\n",
    "ds_csf = DataSource(int_df_csf, annotation_df_csf, experimental_design_csf, database_name)"
   ]
  },
  {
   "cell_type": "markdown",
   "metadata": {},
   "source": [
    "#### Disable debug and info logging"
   ]
  },
  {
   "cell_type": "code",
   "execution_count": 12,
   "metadata": {},
   "outputs": [
    {
     "data": {
      "text/plain": [
       "1"
      ]
     },
     "execution_count": 12,
     "metadata": {},
     "output_type": "execute_result"
    }
   ],
   "source": [
    "from loguru import logger\n",
    "logger.remove()\n",
    "logger.add(sys.stderr, level='WARNING')"
   ]
  },
  {
   "cell_type": "markdown",
   "metadata": {},
   "source": [
    "### Run PALS Experiments"
   ]
  },
  {
   "cell_type": "markdown",
   "metadata": {},
   "source": [
    "#### Run experiment"
   ]
  },
  {
   "cell_type": "code",
   "execution_count": 32,
   "metadata": {},
   "outputs": [],
   "source": [
    "def run_pals(experiment_name, data_source, case, control, n_samples, significant_column):\n",
    "    res = {\n",
    "        'experiment_name': experiment_name,\n",
    "        'data_source': data_source,\n",
    "        'case': case,\n",
    "        'control': control,\n",
    "        'n_samples': n_samples,\n",
    "        'significant_column': significant_column,\n",
    "        'pals': None,\n",
    "        'ora': None\n",
    "    }\n",
    "    \n",
    "    # generate PALS results\n",
    "    results = {}\n",
    "    for n_sample in n_samples:\n",
    "        results[n_sample] = []\n",
    "        for i in range(n_iter):\n",
    "            print('n_sample=%d iter=%d PALS experiment=%s case=%s control=%s' % (n_sample, i, experiment_name, case, control))\n",
    "            ds_resampled = data_source.resample(case, control, n_sample)\n",
    "            pals = PALS(ds_resampled)\n",
    "            pathway_df = pals.get_pathway_df()\n",
    "            results[n_sample].append(pathway_df)\n",
    "\n",
    "    res['pals'] = results        \n",
    "    return res"
   ]
  },
  {
   "cell_type": "code",
   "execution_count": 33,
   "metadata": {},
   "outputs": [],
   "source": [
    "n_samples = [4, 8, 12]\n",
    "n_iter = 100\n",
    "results = {}"
   ]
  },
  {
   "cell_type": "markdown",
   "metadata": {},
   "source": [
    "#### Plasma"
   ]
  },
  {
   "cell_type": "code",
   "execution_count": 34,
   "metadata": {},
   "outputs": [],
   "source": [
    "data_source = ds_plasma\n",
    "experiment_name = 'plasma'\n",
    "case = 'Stage1'\n",
    "control = 'Control'\n",
    "significant_column = 'PiMP_KEGG Stage1/Control comb_p'"
   ]
  },
  {
   "cell_type": "code",
   "execution_count": 35,
   "metadata": {},
   "outputs": [
    {
     "name": "stdout",
     "output_type": "stream",
     "text": [
      "n_sample=4 iter=0 PALS experiment=plasma case=Stage1 control=Control\n",
      "n_sample=4 iter=1 PALS experiment=plasma case=Stage1 control=Control\n",
      "n_sample=4 iter=2 PALS experiment=plasma case=Stage1 control=Control\n",
      "n_sample=4 iter=3 PALS experiment=plasma case=Stage1 control=Control\n",
      "n_sample=4 iter=4 PALS experiment=plasma case=Stage1 control=Control\n",
      "n_sample=4 iter=5 PALS experiment=plasma case=Stage1 control=Control\n",
      "n_sample=4 iter=6 PALS experiment=plasma case=Stage1 control=Control\n",
      "n_sample=4 iter=7 PALS experiment=plasma case=Stage1 control=Control\n",
      "n_sample=4 iter=8 PALS experiment=plasma case=Stage1 control=Control\n",
      "n_sample=4 iter=9 PALS experiment=plasma case=Stage1 control=Control\n",
      "n_sample=4 iter=10 PALS experiment=plasma case=Stage1 control=Control\n",
      "n_sample=4 iter=11 PALS experiment=plasma case=Stage1 control=Control\n",
      "n_sample=4 iter=12 PALS experiment=plasma case=Stage1 control=Control\n",
      "n_sample=4 iter=13 PALS experiment=plasma case=Stage1 control=Control\n",
      "n_sample=4 iter=14 PALS experiment=plasma case=Stage1 control=Control\n",
      "n_sample=4 iter=15 PALS experiment=plasma case=Stage1 control=Control\n",
      "n_sample=4 iter=16 PALS experiment=plasma case=Stage1 control=Control\n",
      "n_sample=4 iter=17 PALS experiment=plasma case=Stage1 control=Control\n",
      "n_sample=4 iter=18 PALS experiment=plasma case=Stage1 control=Control\n",
      "n_sample=4 iter=19 PALS experiment=plasma case=Stage1 control=Control\n",
      "n_sample=4 iter=20 PALS experiment=plasma case=Stage1 control=Control\n",
      "n_sample=4 iter=21 PALS experiment=plasma case=Stage1 control=Control\n",
      "n_sample=4 iter=22 PALS experiment=plasma case=Stage1 control=Control\n",
      "n_sample=4 iter=23 PALS experiment=plasma case=Stage1 control=Control\n",
      "n_sample=4 iter=24 PALS experiment=plasma case=Stage1 control=Control\n",
      "n_sample=4 iter=25 PALS experiment=plasma case=Stage1 control=Control\n",
      "n_sample=4 iter=26 PALS experiment=plasma case=Stage1 control=Control\n",
      "n_sample=4 iter=27 PALS experiment=plasma case=Stage1 control=Control\n",
      "n_sample=4 iter=28 PALS experiment=plasma case=Stage1 control=Control\n",
      "n_sample=4 iter=29 PALS experiment=plasma case=Stage1 control=Control\n",
      "n_sample=4 iter=30 PALS experiment=plasma case=Stage1 control=Control\n",
      "n_sample=4 iter=31 PALS experiment=plasma case=Stage1 control=Control\n",
      "n_sample=4 iter=32 PALS experiment=plasma case=Stage1 control=Control\n",
      "n_sample=4 iter=33 PALS experiment=plasma case=Stage1 control=Control\n",
      "n_sample=4 iter=34 PALS experiment=plasma case=Stage1 control=Control\n",
      "n_sample=4 iter=35 PALS experiment=plasma case=Stage1 control=Control\n",
      "n_sample=4 iter=36 PALS experiment=plasma case=Stage1 control=Control\n",
      "n_sample=4 iter=37 PALS experiment=plasma case=Stage1 control=Control\n",
      "n_sample=4 iter=38 PALS experiment=plasma case=Stage1 control=Control\n",
      "n_sample=4 iter=39 PALS experiment=plasma case=Stage1 control=Control\n",
      "n_sample=4 iter=40 PALS experiment=plasma case=Stage1 control=Control\n",
      "n_sample=4 iter=41 PALS experiment=plasma case=Stage1 control=Control\n",
      "n_sample=4 iter=42 PALS experiment=plasma case=Stage1 control=Control\n",
      "n_sample=4 iter=43 PALS experiment=plasma case=Stage1 control=Control\n",
      "n_sample=4 iter=44 PALS experiment=plasma case=Stage1 control=Control\n",
      "n_sample=4 iter=45 PALS experiment=plasma case=Stage1 control=Control\n",
      "n_sample=4 iter=46 PALS experiment=plasma case=Stage1 control=Control\n",
      "n_sample=4 iter=47 PALS experiment=plasma case=Stage1 control=Control\n",
      "n_sample=4 iter=48 PALS experiment=plasma case=Stage1 control=Control\n",
      "n_sample=4 iter=49 PALS experiment=plasma case=Stage1 control=Control\n",
      "n_sample=4 iter=50 PALS experiment=plasma case=Stage1 control=Control\n",
      "n_sample=4 iter=51 PALS experiment=plasma case=Stage1 control=Control\n",
      "n_sample=4 iter=52 PALS experiment=plasma case=Stage1 control=Control\n",
      "n_sample=4 iter=53 PALS experiment=plasma case=Stage1 control=Control\n",
      "n_sample=4 iter=54 PALS experiment=plasma case=Stage1 control=Control\n",
      "n_sample=4 iter=55 PALS experiment=plasma case=Stage1 control=Control\n",
      "n_sample=4 iter=56 PALS experiment=plasma case=Stage1 control=Control\n",
      "n_sample=4 iter=57 PALS experiment=plasma case=Stage1 control=Control\n",
      "n_sample=4 iter=58 PALS experiment=plasma case=Stage1 control=Control\n",
      "n_sample=4 iter=59 PALS experiment=plasma case=Stage1 control=Control\n",
      "n_sample=4 iter=60 PALS experiment=plasma case=Stage1 control=Control\n",
      "n_sample=4 iter=61 PALS experiment=plasma case=Stage1 control=Control\n",
      "n_sample=4 iter=62 PALS experiment=plasma case=Stage1 control=Control\n",
      "n_sample=4 iter=63 PALS experiment=plasma case=Stage1 control=Control\n",
      "n_sample=4 iter=64 PALS experiment=plasma case=Stage1 control=Control\n",
      "n_sample=4 iter=65 PALS experiment=plasma case=Stage1 control=Control\n",
      "n_sample=4 iter=66 PALS experiment=plasma case=Stage1 control=Control\n",
      "n_sample=4 iter=67 PALS experiment=plasma case=Stage1 control=Control\n",
      "n_sample=4 iter=68 PALS experiment=plasma case=Stage1 control=Control\n",
      "n_sample=4 iter=69 PALS experiment=plasma case=Stage1 control=Control\n",
      "n_sample=4 iter=70 PALS experiment=plasma case=Stage1 control=Control\n"
     ]
    },
    {
     "name": "stderr",
     "output_type": "stream",
     "text": [
      "c:\\users\\joewa\\.virtualenvs\\pals-4ls44jcw\\lib\\site-packages\\scipy\\stats\\_distn_infrastructure.py:901: RuntimeWarning: invalid value encountered in less\n",
      "  return (a < x) & (x < b)\n",
      "c:\\users\\joewa\\.virtualenvs\\pals-4ls44jcw\\lib\\site-packages\\scipy\\stats\\_distn_infrastructure.py:1892: RuntimeWarning: invalid value encountered in less_equal\n",
      "  cond2 = cond0 & (x <= _a)\n"
     ]
    },
    {
     "name": "stdout",
     "output_type": "stream",
     "text": [
      "n_sample=4 iter=71 PALS experiment=plasma case=Stage1 control=Control\n",
      "n_sample=4 iter=72 PALS experiment=plasma case=Stage1 control=Control\n",
      "n_sample=4 iter=73 PALS experiment=plasma case=Stage1 control=Control\n",
      "n_sample=4 iter=74 PALS experiment=plasma case=Stage1 control=Control\n",
      "n_sample=4 iter=75 PALS experiment=plasma case=Stage1 control=Control\n",
      "n_sample=4 iter=76 PALS experiment=plasma case=Stage1 control=Control\n",
      "n_sample=4 iter=77 PALS experiment=plasma case=Stage1 control=Control\n",
      "n_sample=4 iter=78 PALS experiment=plasma case=Stage1 control=Control\n",
      "n_sample=4 iter=79 PALS experiment=plasma case=Stage1 control=Control\n",
      "n_sample=4 iter=80 PALS experiment=plasma case=Stage1 control=Control\n",
      "n_sample=4 iter=81 PALS experiment=plasma case=Stage1 control=Control\n",
      "n_sample=4 iter=82 PALS experiment=plasma case=Stage1 control=Control\n",
      "n_sample=4 iter=83 PALS experiment=plasma case=Stage1 control=Control\n",
      "n_sample=4 iter=84 PALS experiment=plasma case=Stage1 control=Control\n",
      "n_sample=4 iter=85 PALS experiment=plasma case=Stage1 control=Control\n",
      "n_sample=4 iter=86 PALS experiment=plasma case=Stage1 control=Control\n",
      "n_sample=4 iter=87 PALS experiment=plasma case=Stage1 control=Control\n",
      "n_sample=4 iter=88 PALS experiment=plasma case=Stage1 control=Control\n",
      "n_sample=4 iter=89 PALS experiment=plasma case=Stage1 control=Control\n",
      "n_sample=4 iter=90 PALS experiment=plasma case=Stage1 control=Control\n",
      "n_sample=4 iter=91 PALS experiment=plasma case=Stage1 control=Control\n",
      "n_sample=4 iter=92 PALS experiment=plasma case=Stage1 control=Control\n",
      "n_sample=4 iter=93 PALS experiment=plasma case=Stage1 control=Control\n",
      "n_sample=4 iter=94 PALS experiment=plasma case=Stage1 control=Control\n",
      "n_sample=4 iter=95 PALS experiment=plasma case=Stage1 control=Control\n",
      "n_sample=4 iter=96 PALS experiment=plasma case=Stage1 control=Control\n",
      "n_sample=4 iter=97 PALS experiment=plasma case=Stage1 control=Control\n",
      "n_sample=4 iter=98 PALS experiment=plasma case=Stage1 control=Control\n",
      "n_sample=4 iter=99 PALS experiment=plasma case=Stage1 control=Control\n",
      "n_sample=8 iter=0 PALS experiment=plasma case=Stage1 control=Control\n",
      "n_sample=8 iter=1 PALS experiment=plasma case=Stage1 control=Control\n",
      "n_sample=8 iter=2 PALS experiment=plasma case=Stage1 control=Control\n",
      "n_sample=8 iter=3 PALS experiment=plasma case=Stage1 control=Control\n",
      "n_sample=8 iter=4 PALS experiment=plasma case=Stage1 control=Control\n",
      "n_sample=8 iter=5 PALS experiment=plasma case=Stage1 control=Control\n",
      "n_sample=8 iter=6 PALS experiment=plasma case=Stage1 control=Control\n",
      "n_sample=8 iter=7 PALS experiment=plasma case=Stage1 control=Control\n",
      "n_sample=8 iter=8 PALS experiment=plasma case=Stage1 control=Control\n",
      "n_sample=8 iter=9 PALS experiment=plasma case=Stage1 control=Control\n",
      "n_sample=8 iter=10 PALS experiment=plasma case=Stage1 control=Control\n",
      "n_sample=8 iter=11 PALS experiment=plasma case=Stage1 control=Control\n",
      "n_sample=8 iter=12 PALS experiment=plasma case=Stage1 control=Control\n",
      "n_sample=8 iter=13 PALS experiment=plasma case=Stage1 control=Control\n",
      "n_sample=8 iter=14 PALS experiment=plasma case=Stage1 control=Control\n",
      "n_sample=8 iter=15 PALS experiment=plasma case=Stage1 control=Control\n",
      "n_sample=8 iter=16 PALS experiment=plasma case=Stage1 control=Control\n",
      "n_sample=8 iter=17 PALS experiment=plasma case=Stage1 control=Control\n",
      "n_sample=8 iter=18 PALS experiment=plasma case=Stage1 control=Control\n",
      "n_sample=8 iter=19 PALS experiment=plasma case=Stage1 control=Control\n",
      "n_sample=8 iter=20 PALS experiment=plasma case=Stage1 control=Control\n",
      "n_sample=8 iter=21 PALS experiment=plasma case=Stage1 control=Control\n",
      "n_sample=8 iter=22 PALS experiment=plasma case=Stage1 control=Control\n",
      "n_sample=8 iter=23 PALS experiment=plasma case=Stage1 control=Control\n",
      "n_sample=8 iter=24 PALS experiment=plasma case=Stage1 control=Control\n",
      "n_sample=8 iter=25 PALS experiment=plasma case=Stage1 control=Control\n",
      "n_sample=8 iter=26 PALS experiment=plasma case=Stage1 control=Control\n",
      "n_sample=8 iter=27 PALS experiment=plasma case=Stage1 control=Control\n",
      "n_sample=8 iter=28 PALS experiment=plasma case=Stage1 control=Control\n",
      "n_sample=8 iter=29 PALS experiment=plasma case=Stage1 control=Control\n",
      "n_sample=8 iter=30 PALS experiment=plasma case=Stage1 control=Control\n",
      "n_sample=8 iter=31 PALS experiment=plasma case=Stage1 control=Control\n",
      "n_sample=8 iter=32 PALS experiment=plasma case=Stage1 control=Control\n",
      "n_sample=8 iter=33 PALS experiment=plasma case=Stage1 control=Control\n",
      "n_sample=8 iter=34 PALS experiment=plasma case=Stage1 control=Control\n",
      "n_sample=8 iter=35 PALS experiment=plasma case=Stage1 control=Control\n",
      "n_sample=8 iter=36 PALS experiment=plasma case=Stage1 control=Control\n",
      "n_sample=8 iter=37 PALS experiment=plasma case=Stage1 control=Control\n",
      "n_sample=8 iter=38 PALS experiment=plasma case=Stage1 control=Control\n",
      "n_sample=8 iter=39 PALS experiment=plasma case=Stage1 control=Control\n",
      "n_sample=8 iter=40 PALS experiment=plasma case=Stage1 control=Control\n",
      "n_sample=8 iter=41 PALS experiment=plasma case=Stage1 control=Control\n",
      "n_sample=8 iter=42 PALS experiment=plasma case=Stage1 control=Control\n",
      "n_sample=8 iter=43 PALS experiment=plasma case=Stage1 control=Control\n",
      "n_sample=8 iter=44 PALS experiment=plasma case=Stage1 control=Control\n",
      "n_sample=8 iter=45 PALS experiment=plasma case=Stage1 control=Control\n",
      "n_sample=8 iter=46 PALS experiment=plasma case=Stage1 control=Control\n",
      "n_sample=8 iter=47 PALS experiment=plasma case=Stage1 control=Control\n",
      "n_sample=8 iter=48 PALS experiment=plasma case=Stage1 control=Control\n",
      "n_sample=8 iter=49 PALS experiment=plasma case=Stage1 control=Control\n",
      "n_sample=8 iter=50 PALS experiment=plasma case=Stage1 control=Control\n",
      "n_sample=8 iter=51 PALS experiment=plasma case=Stage1 control=Control\n",
      "n_sample=8 iter=52 PALS experiment=plasma case=Stage1 control=Control\n",
      "n_sample=8 iter=53 PALS experiment=plasma case=Stage1 control=Control\n",
      "n_sample=8 iter=54 PALS experiment=plasma case=Stage1 control=Control\n",
      "n_sample=8 iter=55 PALS experiment=plasma case=Stage1 control=Control\n",
      "n_sample=8 iter=56 PALS experiment=plasma case=Stage1 control=Control\n",
      "n_sample=8 iter=57 PALS experiment=plasma case=Stage1 control=Control\n",
      "n_sample=8 iter=58 PALS experiment=plasma case=Stage1 control=Control\n",
      "n_sample=8 iter=59 PALS experiment=plasma case=Stage1 control=Control\n",
      "n_sample=8 iter=60 PALS experiment=plasma case=Stage1 control=Control\n",
      "n_sample=8 iter=61 PALS experiment=plasma case=Stage1 control=Control\n",
      "n_sample=8 iter=62 PALS experiment=plasma case=Stage1 control=Control\n",
      "n_sample=8 iter=63 PALS experiment=plasma case=Stage1 control=Control\n",
      "n_sample=8 iter=64 PALS experiment=plasma case=Stage1 control=Control\n",
      "n_sample=8 iter=65 PALS experiment=plasma case=Stage1 control=Control\n",
      "n_sample=8 iter=66 PALS experiment=plasma case=Stage1 control=Control\n",
      "n_sample=8 iter=67 PALS experiment=plasma case=Stage1 control=Control\n",
      "n_sample=8 iter=68 PALS experiment=plasma case=Stage1 control=Control\n",
      "n_sample=8 iter=69 PALS experiment=plasma case=Stage1 control=Control\n",
      "n_sample=8 iter=70 PALS experiment=plasma case=Stage1 control=Control\n",
      "n_sample=8 iter=71 PALS experiment=plasma case=Stage1 control=Control\n",
      "n_sample=8 iter=72 PALS experiment=plasma case=Stage1 control=Control\n",
      "n_sample=8 iter=73 PALS experiment=plasma case=Stage1 control=Control\n",
      "n_sample=8 iter=74 PALS experiment=plasma case=Stage1 control=Control\n",
      "n_sample=8 iter=75 PALS experiment=plasma case=Stage1 control=Control\n",
      "n_sample=8 iter=76 PALS experiment=plasma case=Stage1 control=Control\n",
      "n_sample=8 iter=77 PALS experiment=plasma case=Stage1 control=Control\n",
      "n_sample=8 iter=78 PALS experiment=plasma case=Stage1 control=Control\n",
      "n_sample=8 iter=79 PALS experiment=plasma case=Stage1 control=Control\n",
      "n_sample=8 iter=80 PALS experiment=plasma case=Stage1 control=Control\n",
      "n_sample=8 iter=81 PALS experiment=plasma case=Stage1 control=Control\n",
      "n_sample=8 iter=82 PALS experiment=plasma case=Stage1 control=Control\n",
      "n_sample=8 iter=83 PALS experiment=plasma case=Stage1 control=Control\n",
      "n_sample=8 iter=84 PALS experiment=plasma case=Stage1 control=Control\n",
      "n_sample=8 iter=85 PALS experiment=plasma case=Stage1 control=Control\n",
      "n_sample=8 iter=86 PALS experiment=plasma case=Stage1 control=Control\n",
      "n_sample=8 iter=87 PALS experiment=plasma case=Stage1 control=Control\n",
      "n_sample=8 iter=88 PALS experiment=plasma case=Stage1 control=Control\n",
      "n_sample=8 iter=89 PALS experiment=plasma case=Stage1 control=Control\n",
      "n_sample=8 iter=90 PALS experiment=plasma case=Stage1 control=Control\n",
      "n_sample=8 iter=91 PALS experiment=plasma case=Stage1 control=Control\n",
      "n_sample=8 iter=92 PALS experiment=plasma case=Stage1 control=Control\n",
      "n_sample=8 iter=93 PALS experiment=plasma case=Stage1 control=Control\n",
      "n_sample=8 iter=94 PALS experiment=plasma case=Stage1 control=Control\n",
      "n_sample=8 iter=95 PALS experiment=plasma case=Stage1 control=Control\n",
      "n_sample=8 iter=96 PALS experiment=plasma case=Stage1 control=Control\n",
      "n_sample=8 iter=97 PALS experiment=plasma case=Stage1 control=Control\n",
      "n_sample=8 iter=98 PALS experiment=plasma case=Stage1 control=Control\n",
      "n_sample=8 iter=99 PALS experiment=plasma case=Stage1 control=Control\n",
      "n_sample=12 iter=0 PALS experiment=plasma case=Stage1 control=Control\n",
      "n_sample=12 iter=1 PALS experiment=plasma case=Stage1 control=Control\n",
      "n_sample=12 iter=2 PALS experiment=plasma case=Stage1 control=Control\n",
      "n_sample=12 iter=3 PALS experiment=plasma case=Stage1 control=Control\n",
      "n_sample=12 iter=4 PALS experiment=plasma case=Stage1 control=Control\n",
      "n_sample=12 iter=5 PALS experiment=plasma case=Stage1 control=Control\n",
      "n_sample=12 iter=6 PALS experiment=plasma case=Stage1 control=Control\n",
      "n_sample=12 iter=7 PALS experiment=plasma case=Stage1 control=Control\n",
      "n_sample=12 iter=8 PALS experiment=plasma case=Stage1 control=Control\n",
      "n_sample=12 iter=9 PALS experiment=plasma case=Stage1 control=Control\n",
      "n_sample=12 iter=10 PALS experiment=plasma case=Stage1 control=Control\n",
      "n_sample=12 iter=11 PALS experiment=plasma case=Stage1 control=Control\n"
     ]
    },
    {
     "name": "stderr",
     "output_type": "stream",
     "text": [
      "c:\\users\\joewa\\.virtualenvs\\pals-4ls44jcw\\lib\\site-packages\\sklearn\\preprocessing\\data.py:189: UserWarning: Numerical issues were encountered when scaling the data and might not be solved. The standard deviation of the data is probably very close to 0. \n",
      "  warnings.warn(\"Numerical issues were encountered \"\n"
     ]
    },
    {
     "name": "stdout",
     "output_type": "stream",
     "text": [
      "n_sample=12 iter=12 PALS experiment=plasma case=Stage1 control=Control\n",
      "n_sample=12 iter=13 PALS experiment=plasma case=Stage1 control=Control\n",
      "n_sample=12 iter=14 PALS experiment=plasma case=Stage1 control=Control\n",
      "n_sample=12 iter=15 PALS experiment=plasma case=Stage1 control=Control\n",
      "n_sample=12 iter=16 PALS experiment=plasma case=Stage1 control=Control\n",
      "n_sample=12 iter=17 PALS experiment=plasma case=Stage1 control=Control\n",
      "n_sample=12 iter=18 PALS experiment=plasma case=Stage1 control=Control\n",
      "n_sample=12 iter=19 PALS experiment=plasma case=Stage1 control=Control\n",
      "n_sample=12 iter=20 PALS experiment=plasma case=Stage1 control=Control\n"
     ]
    },
    {
     "name": "stderr",
     "output_type": "stream",
     "text": [
      "c:\\users\\joewa\\.virtualenvs\\pals-4ls44jcw\\lib\\site-packages\\sklearn\\preprocessing\\data.py:189: UserWarning: Numerical issues were encountered when scaling the data and might not be solved. The standard deviation of the data is probably very close to 0. \n",
      "  warnings.warn(\"Numerical issues were encountered \"\n"
     ]
    },
    {
     "name": "stdout",
     "output_type": "stream",
     "text": [
      "n_sample=12 iter=21 PALS experiment=plasma case=Stage1 control=Control\n",
      "n_sample=12 iter=22 PALS experiment=plasma case=Stage1 control=Control\n"
     ]
    },
    {
     "name": "stderr",
     "output_type": "stream",
     "text": [
      "c:\\users\\joewa\\.virtualenvs\\pals-4ls44jcw\\lib\\site-packages\\sklearn\\preprocessing\\data.py:189: UserWarning: Numerical issues were encountered when scaling the data and might not be solved. The standard deviation of the data is probably very close to 0. \n",
      "  warnings.warn(\"Numerical issues were encountered \"\n"
     ]
    },
    {
     "name": "stdout",
     "output_type": "stream",
     "text": [
      "n_sample=12 iter=23 PALS experiment=plasma case=Stage1 control=Control\n",
      "n_sample=12 iter=24 PALS experiment=plasma case=Stage1 control=Control\n",
      "n_sample=12 iter=25 PALS experiment=plasma case=Stage1 control=Control\n",
      "n_sample=12 iter=26 PALS experiment=plasma case=Stage1 control=Control\n",
      "n_sample=12 iter=27 PALS experiment=plasma case=Stage1 control=Control\n",
      "n_sample=12 iter=28 PALS experiment=plasma case=Stage1 control=Control\n",
      "n_sample=12 iter=29 PALS experiment=plasma case=Stage1 control=Control\n",
      "n_sample=12 iter=30 PALS experiment=plasma case=Stage1 control=Control\n",
      "n_sample=12 iter=31 PALS experiment=plasma case=Stage1 control=Control\n",
      "n_sample=12 iter=32 PALS experiment=plasma case=Stage1 control=Control\n",
      "n_sample=12 iter=33 PALS experiment=plasma case=Stage1 control=Control\n",
      "n_sample=12 iter=34 PALS experiment=plasma case=Stage1 control=Control\n",
      "n_sample=12 iter=35 PALS experiment=plasma case=Stage1 control=Control\n",
      "n_sample=12 iter=36 PALS experiment=plasma case=Stage1 control=Control\n",
      "n_sample=12 iter=37 PALS experiment=plasma case=Stage1 control=Control\n",
      "n_sample=12 iter=38 PALS experiment=plasma case=Stage1 control=Control\n"
     ]
    },
    {
     "name": "stderr",
     "output_type": "stream",
     "text": [
      "c:\\users\\joewa\\.virtualenvs\\pals-4ls44jcw\\lib\\site-packages\\sklearn\\preprocessing\\data.py:189: UserWarning: Numerical issues were encountered when scaling the data and might not be solved. The standard deviation of the data is probably very close to 0. \n",
      "  warnings.warn(\"Numerical issues were encountered \"\n"
     ]
    },
    {
     "name": "stdout",
     "output_type": "stream",
     "text": [
      "n_sample=12 iter=39 PALS experiment=plasma case=Stage1 control=Control\n",
      "n_sample=12 iter=40 PALS experiment=plasma case=Stage1 control=Control\n",
      "n_sample=12 iter=41 PALS experiment=plasma case=Stage1 control=Control\n",
      "n_sample=12 iter=42 PALS experiment=plasma case=Stage1 control=Control\n",
      "n_sample=12 iter=43 PALS experiment=plasma case=Stage1 control=Control\n",
      "n_sample=12 iter=44 PALS experiment=plasma case=Stage1 control=Control\n",
      "n_sample=12 iter=45 PALS experiment=plasma case=Stage1 control=Control\n",
      "n_sample=12 iter=46 PALS experiment=plasma case=Stage1 control=Control\n",
      "n_sample=12 iter=47 PALS experiment=plasma case=Stage1 control=Control\n",
      "n_sample=12 iter=48 PALS experiment=plasma case=Stage1 control=Control\n",
      "n_sample=12 iter=49 PALS experiment=plasma case=Stage1 control=Control\n",
      "n_sample=12 iter=50 PALS experiment=plasma case=Stage1 control=Control\n",
      "n_sample=12 iter=51 PALS experiment=plasma case=Stage1 control=Control\n",
      "n_sample=12 iter=52 PALS experiment=plasma case=Stage1 control=Control\n",
      "n_sample=12 iter=53 PALS experiment=plasma case=Stage1 control=Control\n",
      "n_sample=12 iter=54 PALS experiment=plasma case=Stage1 control=Control\n",
      "n_sample=12 iter=55 PALS experiment=plasma case=Stage1 control=Control\n",
      "n_sample=12 iter=56 PALS experiment=plasma case=Stage1 control=Control\n",
      "n_sample=12 iter=57 PALS experiment=plasma case=Stage1 control=Control\n",
      "n_sample=12 iter=58 PALS experiment=plasma case=Stage1 control=Control\n",
      "n_sample=12 iter=59 PALS experiment=plasma case=Stage1 control=Control\n",
      "n_sample=12 iter=60 PALS experiment=plasma case=Stage1 control=Control\n",
      "n_sample=12 iter=61 PALS experiment=plasma case=Stage1 control=Control\n",
      "n_sample=12 iter=62 PALS experiment=plasma case=Stage1 control=Control\n",
      "n_sample=12 iter=63 PALS experiment=plasma case=Stage1 control=Control\n",
      "n_sample=12 iter=64 PALS experiment=plasma case=Stage1 control=Control\n",
      "n_sample=12 iter=65 PALS experiment=plasma case=Stage1 control=Control\n",
      "n_sample=12 iter=66 PALS experiment=plasma case=Stage1 control=Control\n",
      "n_sample=12 iter=67 PALS experiment=plasma case=Stage1 control=Control\n",
      "n_sample=12 iter=68 PALS experiment=plasma case=Stage1 control=Control\n",
      "n_sample=12 iter=69 PALS experiment=plasma case=Stage1 control=Control\n",
      "n_sample=12 iter=70 PALS experiment=plasma case=Stage1 control=Control\n",
      "n_sample=12 iter=71 PALS experiment=plasma case=Stage1 control=Control\n",
      "n_sample=12 iter=72 PALS experiment=plasma case=Stage1 control=Control\n",
      "n_sample=12 iter=73 PALS experiment=plasma case=Stage1 control=Control\n",
      "n_sample=12 iter=74 PALS experiment=plasma case=Stage1 control=Control\n",
      "n_sample=12 iter=75 PALS experiment=plasma case=Stage1 control=Control\n",
      "n_sample=12 iter=76 PALS experiment=plasma case=Stage1 control=Control\n",
      "n_sample=12 iter=77 PALS experiment=plasma case=Stage1 control=Control\n",
      "n_sample=12 iter=78 PALS experiment=plasma case=Stage1 control=Control\n",
      "n_sample=12 iter=79 PALS experiment=plasma case=Stage1 control=Control\n"
     ]
    },
    {
     "name": "stderr",
     "output_type": "stream",
     "text": [
      "c:\\users\\joewa\\.virtualenvs\\pals-4ls44jcw\\lib\\site-packages\\sklearn\\preprocessing\\data.py:189: UserWarning: Numerical issues were encountered when scaling the data and might not be solved. The standard deviation of the data is probably very close to 0. \n",
      "  warnings.warn(\"Numerical issues were encountered \"\n"
     ]
    },
    {
     "name": "stdout",
     "output_type": "stream",
     "text": [
      "n_sample=12 iter=80 PALS experiment=plasma case=Stage1 control=Control\n",
      "n_sample=12 iter=81 PALS experiment=plasma case=Stage1 control=Control\n",
      "n_sample=12 iter=82 PALS experiment=plasma case=Stage1 control=Control\n",
      "n_sample=12 iter=83 PALS experiment=plasma case=Stage1 control=Control\n"
     ]
    },
    {
     "name": "stderr",
     "output_type": "stream",
     "text": [
      "c:\\users\\joewa\\.virtualenvs\\pals-4ls44jcw\\lib\\site-packages\\sklearn\\preprocessing\\data.py:189: UserWarning: Numerical issues were encountered when scaling the data and might not be solved. The standard deviation of the data is probably very close to 0. \n",
      "  warnings.warn(\"Numerical issues were encountered \"\n"
     ]
    },
    {
     "name": "stdout",
     "output_type": "stream",
     "text": [
      "n_sample=12 iter=84 PALS experiment=plasma case=Stage1 control=Control\n",
      "n_sample=12 iter=85 PALS experiment=plasma case=Stage1 control=Control\n",
      "n_sample=12 iter=86 PALS experiment=plasma case=Stage1 control=Control\n",
      "n_sample=12 iter=87 PALS experiment=plasma case=Stage1 control=Control\n",
      "n_sample=12 iter=88 PALS experiment=plasma case=Stage1 control=Control\n",
      "n_sample=12 iter=89 PALS experiment=plasma case=Stage1 control=Control\n",
      "n_sample=12 iter=90 PALS experiment=plasma case=Stage1 control=Control\n",
      "n_sample=12 iter=91 PALS experiment=plasma case=Stage1 control=Control\n",
      "n_sample=12 iter=92 PALS experiment=plasma case=Stage1 control=Control\n",
      "n_sample=12 iter=93 PALS experiment=plasma case=Stage1 control=Control\n"
     ]
    },
    {
     "name": "stderr",
     "output_type": "stream",
     "text": [
      "c:\\users\\joewa\\.virtualenvs\\pals-4ls44jcw\\lib\\site-packages\\sklearn\\preprocessing\\data.py:189: UserWarning: Numerical issues were encountered when scaling the data and might not be solved. The standard deviation of the data is probably very close to 0. \n",
      "  warnings.warn(\"Numerical issues were encountered \"\n"
     ]
    },
    {
     "name": "stdout",
     "output_type": "stream",
     "text": [
      "n_sample=12 iter=94 PALS experiment=plasma case=Stage1 control=Control\n"
     ]
    },
    {
     "name": "stderr",
     "output_type": "stream",
     "text": [
      "c:\\users\\joewa\\.virtualenvs\\pals-4ls44jcw\\lib\\site-packages\\sklearn\\preprocessing\\data.py:189: UserWarning: Numerical issues were encountered when scaling the data and might not be solved. The standard deviation of the data is probably very close to 0. \n",
      "  warnings.warn(\"Numerical issues were encountered \"\n"
     ]
    },
    {
     "name": "stdout",
     "output_type": "stream",
     "text": [
      "n_sample=12 iter=95 PALS experiment=plasma case=Stage1 control=Control\n",
      "n_sample=12 iter=96 PALS experiment=plasma case=Stage1 control=Control\n",
      "n_sample=12 iter=97 PALS experiment=plasma case=Stage1 control=Control\n",
      "n_sample=12 iter=98 PALS experiment=plasma case=Stage1 control=Control\n",
      "n_sample=12 iter=99 PALS experiment=plasma case=Stage1 control=Control\n"
     ]
    }
   ],
   "source": [
    "res = run_pals(experiment_name, data_source, case, control, n_samples, significant_column)\n",
    "results[experiment_name] = res"
   ]
  },
  {
   "cell_type": "markdown",
   "metadata": {},
   "source": [
    "#### CSF"
   ]
  },
  {
   "cell_type": "code",
   "execution_count": 36,
   "metadata": {},
   "outputs": [],
   "source": [
    "data_source = ds_csf\n",
    "experiment_name = 'csf'\n",
    "case = 'Stage_2'\n",
    "control = 'Control'\n",
    "significant_column = 'PiMP_KEGG Stage_2/Control comb_p'"
   ]
  },
  {
   "cell_type": "code",
   "execution_count": 37,
   "metadata": {},
   "outputs": [
    {
     "name": "stdout",
     "output_type": "stream",
     "text": [
      "n_sample=4 iter=0 PALS experiment=csf case=Stage_2 control=Control\n",
      "n_sample=4 iter=1 PALS experiment=csf case=Stage_2 control=Control\n",
      "n_sample=4 iter=2 PALS experiment=csf case=Stage_2 control=Control\n",
      "n_sample=4 iter=3 PALS experiment=csf case=Stage_2 control=Control\n",
      "n_sample=4 iter=4 PALS experiment=csf case=Stage_2 control=Control\n",
      "n_sample=4 iter=5 PALS experiment=csf case=Stage_2 control=Control\n",
      "n_sample=4 iter=6 PALS experiment=csf case=Stage_2 control=Control\n",
      "n_sample=4 iter=7 PALS experiment=csf case=Stage_2 control=Control\n",
      "n_sample=4 iter=8 PALS experiment=csf case=Stage_2 control=Control\n",
      "n_sample=4 iter=9 PALS experiment=csf case=Stage_2 control=Control\n",
      "n_sample=4 iter=10 PALS experiment=csf case=Stage_2 control=Control\n",
      "n_sample=4 iter=11 PALS experiment=csf case=Stage_2 control=Control\n",
      "n_sample=4 iter=12 PALS experiment=csf case=Stage_2 control=Control\n",
      "n_sample=4 iter=13 PALS experiment=csf case=Stage_2 control=Control\n",
      "n_sample=4 iter=14 PALS experiment=csf case=Stage_2 control=Control\n",
      "n_sample=4 iter=15 PALS experiment=csf case=Stage_2 control=Control\n",
      "n_sample=4 iter=16 PALS experiment=csf case=Stage_2 control=Control\n",
      "n_sample=4 iter=17 PALS experiment=csf case=Stage_2 control=Control\n",
      "n_sample=4 iter=18 PALS experiment=csf case=Stage_2 control=Control\n",
      "n_sample=4 iter=19 PALS experiment=csf case=Stage_2 control=Control\n",
      "n_sample=4 iter=20 PALS experiment=csf case=Stage_2 control=Control\n",
      "n_sample=4 iter=21 PALS experiment=csf case=Stage_2 control=Control\n",
      "n_sample=4 iter=22 PALS experiment=csf case=Stage_2 control=Control\n",
      "n_sample=4 iter=23 PALS experiment=csf case=Stage_2 control=Control\n",
      "n_sample=4 iter=24 PALS experiment=csf case=Stage_2 control=Control\n",
      "n_sample=4 iter=25 PALS experiment=csf case=Stage_2 control=Control\n",
      "n_sample=4 iter=26 PALS experiment=csf case=Stage_2 control=Control\n",
      "n_sample=4 iter=27 PALS experiment=csf case=Stage_2 control=Control\n",
      "n_sample=4 iter=28 PALS experiment=csf case=Stage_2 control=Control\n",
      "n_sample=4 iter=29 PALS experiment=csf case=Stage_2 control=Control\n",
      "n_sample=4 iter=30 PALS experiment=csf case=Stage_2 control=Control\n",
      "n_sample=4 iter=31 PALS experiment=csf case=Stage_2 control=Control\n",
      "n_sample=4 iter=32 PALS experiment=csf case=Stage_2 control=Control\n",
      "n_sample=4 iter=33 PALS experiment=csf case=Stage_2 control=Control\n",
      "n_sample=4 iter=34 PALS experiment=csf case=Stage_2 control=Control\n",
      "n_sample=4 iter=35 PALS experiment=csf case=Stage_2 control=Control\n",
      "n_sample=4 iter=36 PALS experiment=csf case=Stage_2 control=Control\n",
      "n_sample=4 iter=37 PALS experiment=csf case=Stage_2 control=Control\n",
      "n_sample=4 iter=38 PALS experiment=csf case=Stage_2 control=Control\n",
      "n_sample=4 iter=39 PALS experiment=csf case=Stage_2 control=Control\n",
      "n_sample=4 iter=40 PALS experiment=csf case=Stage_2 control=Control\n",
      "n_sample=4 iter=41 PALS experiment=csf case=Stage_2 control=Control\n",
      "n_sample=4 iter=42 PALS experiment=csf case=Stage_2 control=Control\n",
      "n_sample=4 iter=43 PALS experiment=csf case=Stage_2 control=Control\n",
      "n_sample=4 iter=44 PALS experiment=csf case=Stage_2 control=Control\n",
      "n_sample=4 iter=45 PALS experiment=csf case=Stage_2 control=Control\n",
      "n_sample=4 iter=46 PALS experiment=csf case=Stage_2 control=Control\n",
      "n_sample=4 iter=47 PALS experiment=csf case=Stage_2 control=Control\n",
      "n_sample=4 iter=48 PALS experiment=csf case=Stage_2 control=Control\n",
      "n_sample=4 iter=49 PALS experiment=csf case=Stage_2 control=Control\n",
      "n_sample=4 iter=50 PALS experiment=csf case=Stage_2 control=Control\n",
      "n_sample=4 iter=51 PALS experiment=csf case=Stage_2 control=Control\n",
      "n_sample=4 iter=52 PALS experiment=csf case=Stage_2 control=Control\n",
      "n_sample=4 iter=53 PALS experiment=csf case=Stage_2 control=Control\n",
      "n_sample=4 iter=54 PALS experiment=csf case=Stage_2 control=Control\n",
      "n_sample=4 iter=55 PALS experiment=csf case=Stage_2 control=Control\n",
      "n_sample=4 iter=56 PALS experiment=csf case=Stage_2 control=Control\n",
      "n_sample=4 iter=57 PALS experiment=csf case=Stage_2 control=Control\n",
      "n_sample=4 iter=58 PALS experiment=csf case=Stage_2 control=Control\n",
      "n_sample=4 iter=59 PALS experiment=csf case=Stage_2 control=Control\n",
      "n_sample=4 iter=60 PALS experiment=csf case=Stage_2 control=Control\n",
      "n_sample=4 iter=61 PALS experiment=csf case=Stage_2 control=Control\n",
      "n_sample=4 iter=62 PALS experiment=csf case=Stage_2 control=Control\n",
      "n_sample=4 iter=63 PALS experiment=csf case=Stage_2 control=Control\n",
      "n_sample=4 iter=64 PALS experiment=csf case=Stage_2 control=Control\n",
      "n_sample=4 iter=65 PALS experiment=csf case=Stage_2 control=Control\n",
      "n_sample=4 iter=66 PALS experiment=csf case=Stage_2 control=Control\n",
      "n_sample=4 iter=67 PALS experiment=csf case=Stage_2 control=Control\n",
      "n_sample=4 iter=68 PALS experiment=csf case=Stage_2 control=Control\n",
      "n_sample=4 iter=69 PALS experiment=csf case=Stage_2 control=Control\n",
      "n_sample=4 iter=70 PALS experiment=csf case=Stage_2 control=Control\n",
      "n_sample=4 iter=71 PALS experiment=csf case=Stage_2 control=Control\n",
      "n_sample=4 iter=72 PALS experiment=csf case=Stage_2 control=Control\n",
      "n_sample=4 iter=73 PALS experiment=csf case=Stage_2 control=Control\n",
      "n_sample=4 iter=74 PALS experiment=csf case=Stage_2 control=Control\n",
      "n_sample=4 iter=75 PALS experiment=csf case=Stage_2 control=Control\n",
      "n_sample=4 iter=76 PALS experiment=csf case=Stage_2 control=Control\n",
      "n_sample=4 iter=77 PALS experiment=csf case=Stage_2 control=Control\n",
      "n_sample=4 iter=78 PALS experiment=csf case=Stage_2 control=Control\n",
      "n_sample=4 iter=79 PALS experiment=csf case=Stage_2 control=Control\n",
      "n_sample=4 iter=80 PALS experiment=csf case=Stage_2 control=Control\n",
      "n_sample=4 iter=81 PALS experiment=csf case=Stage_2 control=Control\n",
      "n_sample=4 iter=82 PALS experiment=csf case=Stage_2 control=Control\n",
      "n_sample=4 iter=83 PALS experiment=csf case=Stage_2 control=Control\n",
      "n_sample=4 iter=84 PALS experiment=csf case=Stage_2 control=Control\n",
      "n_sample=4 iter=85 PALS experiment=csf case=Stage_2 control=Control\n",
      "n_sample=4 iter=86 PALS experiment=csf case=Stage_2 control=Control\n",
      "n_sample=4 iter=87 PALS experiment=csf case=Stage_2 control=Control\n",
      "n_sample=4 iter=88 PALS experiment=csf case=Stage_2 control=Control\n",
      "n_sample=4 iter=89 PALS experiment=csf case=Stage_2 control=Control\n",
      "n_sample=4 iter=90 PALS experiment=csf case=Stage_2 control=Control\n",
      "n_sample=4 iter=91 PALS experiment=csf case=Stage_2 control=Control\n",
      "n_sample=4 iter=92 PALS experiment=csf case=Stage_2 control=Control\n",
      "n_sample=4 iter=93 PALS experiment=csf case=Stage_2 control=Control\n",
      "n_sample=4 iter=94 PALS experiment=csf case=Stage_2 control=Control\n",
      "n_sample=4 iter=95 PALS experiment=csf case=Stage_2 control=Control\n",
      "n_sample=4 iter=96 PALS experiment=csf case=Stage_2 control=Control\n",
      "n_sample=4 iter=97 PALS experiment=csf case=Stage_2 control=Control\n",
      "n_sample=4 iter=98 PALS experiment=csf case=Stage_2 control=Control\n",
      "n_sample=4 iter=99 PALS experiment=csf case=Stage_2 control=Control\n",
      "n_sample=8 iter=0 PALS experiment=csf case=Stage_2 control=Control\n",
      "n_sample=8 iter=1 PALS experiment=csf case=Stage_2 control=Control\n",
      "n_sample=8 iter=2 PALS experiment=csf case=Stage_2 control=Control\n",
      "n_sample=8 iter=3 PALS experiment=csf case=Stage_2 control=Control\n",
      "n_sample=8 iter=4 PALS experiment=csf case=Stage_2 control=Control\n",
      "n_sample=8 iter=5 PALS experiment=csf case=Stage_2 control=Control\n",
      "n_sample=8 iter=6 PALS experiment=csf case=Stage_2 control=Control\n",
      "n_sample=8 iter=7 PALS experiment=csf case=Stage_2 control=Control\n",
      "n_sample=8 iter=8 PALS experiment=csf case=Stage_2 control=Control\n",
      "n_sample=8 iter=9 PALS experiment=csf case=Stage_2 control=Control\n",
      "n_sample=8 iter=10 PALS experiment=csf case=Stage_2 control=Control\n",
      "n_sample=8 iter=11 PALS experiment=csf case=Stage_2 control=Control\n",
      "n_sample=8 iter=12 PALS experiment=csf case=Stage_2 control=Control\n",
      "n_sample=8 iter=13 PALS experiment=csf case=Stage_2 control=Control\n",
      "n_sample=8 iter=14 PALS experiment=csf case=Stage_2 control=Control\n",
      "n_sample=8 iter=15 PALS experiment=csf case=Stage_2 control=Control\n",
      "n_sample=8 iter=16 PALS experiment=csf case=Stage_2 control=Control\n",
      "n_sample=8 iter=17 PALS experiment=csf case=Stage_2 control=Control\n",
      "n_sample=8 iter=18 PALS experiment=csf case=Stage_2 control=Control\n",
      "n_sample=8 iter=19 PALS experiment=csf case=Stage_2 control=Control\n",
      "n_sample=8 iter=20 PALS experiment=csf case=Stage_2 control=Control\n",
      "n_sample=8 iter=21 PALS experiment=csf case=Stage_2 control=Control\n",
      "n_sample=8 iter=22 PALS experiment=csf case=Stage_2 control=Control\n",
      "n_sample=8 iter=23 PALS experiment=csf case=Stage_2 control=Control\n",
      "n_sample=8 iter=24 PALS experiment=csf case=Stage_2 control=Control\n",
      "n_sample=8 iter=25 PALS experiment=csf case=Stage_2 control=Control\n",
      "n_sample=8 iter=26 PALS experiment=csf case=Stage_2 control=Control\n",
      "n_sample=8 iter=27 PALS experiment=csf case=Stage_2 control=Control\n",
      "n_sample=8 iter=28 PALS experiment=csf case=Stage_2 control=Control\n",
      "n_sample=8 iter=29 PALS experiment=csf case=Stage_2 control=Control\n",
      "n_sample=8 iter=30 PALS experiment=csf case=Stage_2 control=Control\n",
      "n_sample=8 iter=31 PALS experiment=csf case=Stage_2 control=Control\n",
      "n_sample=8 iter=32 PALS experiment=csf case=Stage_2 control=Control\n",
      "n_sample=8 iter=33 PALS experiment=csf case=Stage_2 control=Control\n",
      "n_sample=8 iter=34 PALS experiment=csf case=Stage_2 control=Control\n",
      "n_sample=8 iter=35 PALS experiment=csf case=Stage_2 control=Control\n",
      "n_sample=8 iter=36 PALS experiment=csf case=Stage_2 control=Control\n",
      "n_sample=8 iter=37 PALS experiment=csf case=Stage_2 control=Control\n",
      "n_sample=8 iter=38 PALS experiment=csf case=Stage_2 control=Control\n",
      "n_sample=8 iter=39 PALS experiment=csf case=Stage_2 control=Control\n",
      "n_sample=8 iter=40 PALS experiment=csf case=Stage_2 control=Control\n",
      "n_sample=8 iter=41 PALS experiment=csf case=Stage_2 control=Control\n",
      "n_sample=8 iter=42 PALS experiment=csf case=Stage_2 control=Control\n",
      "n_sample=8 iter=43 PALS experiment=csf case=Stage_2 control=Control\n",
      "n_sample=8 iter=44 PALS experiment=csf case=Stage_2 control=Control\n",
      "n_sample=8 iter=45 PALS experiment=csf case=Stage_2 control=Control\n",
      "n_sample=8 iter=46 PALS experiment=csf case=Stage_2 control=Control\n",
      "n_sample=8 iter=47 PALS experiment=csf case=Stage_2 control=Control\n",
      "n_sample=8 iter=48 PALS experiment=csf case=Stage_2 control=Control\n",
      "n_sample=8 iter=49 PALS experiment=csf case=Stage_2 control=Control\n",
      "n_sample=8 iter=50 PALS experiment=csf case=Stage_2 control=Control\n",
      "n_sample=8 iter=51 PALS experiment=csf case=Stage_2 control=Control\n",
      "n_sample=8 iter=52 PALS experiment=csf case=Stage_2 control=Control\n",
      "n_sample=8 iter=53 PALS experiment=csf case=Stage_2 control=Control\n",
      "n_sample=8 iter=54 PALS experiment=csf case=Stage_2 control=Control\n",
      "n_sample=8 iter=55 PALS experiment=csf case=Stage_2 control=Control\n",
      "n_sample=8 iter=56 PALS experiment=csf case=Stage_2 control=Control\n",
      "n_sample=8 iter=57 PALS experiment=csf case=Stage_2 control=Control\n",
      "n_sample=8 iter=58 PALS experiment=csf case=Stage_2 control=Control\n",
      "n_sample=8 iter=59 PALS experiment=csf case=Stage_2 control=Control\n",
      "n_sample=8 iter=60 PALS experiment=csf case=Stage_2 control=Control\n",
      "n_sample=8 iter=61 PALS experiment=csf case=Stage_2 control=Control\n",
      "n_sample=8 iter=62 PALS experiment=csf case=Stage_2 control=Control\n",
      "n_sample=8 iter=63 PALS experiment=csf case=Stage_2 control=Control\n",
      "n_sample=8 iter=64 PALS experiment=csf case=Stage_2 control=Control\n",
      "n_sample=8 iter=65 PALS experiment=csf case=Stage_2 control=Control\n",
      "n_sample=8 iter=66 PALS experiment=csf case=Stage_2 control=Control\n",
      "n_sample=8 iter=67 PALS experiment=csf case=Stage_2 control=Control\n",
      "n_sample=8 iter=68 PALS experiment=csf case=Stage_2 control=Control\n",
      "n_sample=8 iter=69 PALS experiment=csf case=Stage_2 control=Control\n",
      "n_sample=8 iter=70 PALS experiment=csf case=Stage_2 control=Control\n",
      "n_sample=8 iter=71 PALS experiment=csf case=Stage_2 control=Control\n",
      "n_sample=8 iter=72 PALS experiment=csf case=Stage_2 control=Control\n",
      "n_sample=8 iter=73 PALS experiment=csf case=Stage_2 control=Control\n",
      "n_sample=8 iter=74 PALS experiment=csf case=Stage_2 control=Control\n",
      "n_sample=8 iter=75 PALS experiment=csf case=Stage_2 control=Control\n",
      "n_sample=8 iter=76 PALS experiment=csf case=Stage_2 control=Control\n",
      "n_sample=8 iter=77 PALS experiment=csf case=Stage_2 control=Control\n",
      "n_sample=8 iter=78 PALS experiment=csf case=Stage_2 control=Control\n",
      "n_sample=8 iter=79 PALS experiment=csf case=Stage_2 control=Control\n",
      "n_sample=8 iter=80 PALS experiment=csf case=Stage_2 control=Control\n",
      "n_sample=8 iter=81 PALS experiment=csf case=Stage_2 control=Control\n",
      "n_sample=8 iter=82 PALS experiment=csf case=Stage_2 control=Control\n",
      "n_sample=8 iter=83 PALS experiment=csf case=Stage_2 control=Control\n",
      "n_sample=8 iter=84 PALS experiment=csf case=Stage_2 control=Control\n",
      "n_sample=8 iter=85 PALS experiment=csf case=Stage_2 control=Control\n",
      "n_sample=8 iter=86 PALS experiment=csf case=Stage_2 control=Control\n",
      "n_sample=8 iter=87 PALS experiment=csf case=Stage_2 control=Control\n",
      "n_sample=8 iter=88 PALS experiment=csf case=Stage_2 control=Control\n",
      "n_sample=8 iter=89 PALS experiment=csf case=Stage_2 control=Control\n",
      "n_sample=8 iter=90 PALS experiment=csf case=Stage_2 control=Control\n",
      "n_sample=8 iter=91 PALS experiment=csf case=Stage_2 control=Control\n",
      "n_sample=8 iter=92 PALS experiment=csf case=Stage_2 control=Control\n",
      "n_sample=8 iter=93 PALS experiment=csf case=Stage_2 control=Control\n",
      "n_sample=8 iter=94 PALS experiment=csf case=Stage_2 control=Control\n",
      "n_sample=8 iter=95 PALS experiment=csf case=Stage_2 control=Control\n",
      "n_sample=8 iter=96 PALS experiment=csf case=Stage_2 control=Control\n",
      "n_sample=8 iter=97 PALS experiment=csf case=Stage_2 control=Control\n",
      "n_sample=8 iter=98 PALS experiment=csf case=Stage_2 control=Control\n",
      "n_sample=8 iter=99 PALS experiment=csf case=Stage_2 control=Control\n",
      "n_sample=12 iter=0 PALS experiment=csf case=Stage_2 control=Control\n",
      "n_sample=12 iter=1 PALS experiment=csf case=Stage_2 control=Control\n",
      "n_sample=12 iter=2 PALS experiment=csf case=Stage_2 control=Control\n",
      "n_sample=12 iter=3 PALS experiment=csf case=Stage_2 control=Control\n",
      "n_sample=12 iter=4 PALS experiment=csf case=Stage_2 control=Control\n",
      "n_sample=12 iter=5 PALS experiment=csf case=Stage_2 control=Control\n"
     ]
    },
    {
     "name": "stderr",
     "output_type": "stream",
     "text": [
      "c:\\users\\joewa\\.virtualenvs\\pals-4ls44jcw\\lib\\site-packages\\sklearn\\preprocessing\\data.py:189: UserWarning: Numerical issues were encountered when scaling the data and might not be solved. The standard deviation of the data is probably very close to 0. \n",
      "  warnings.warn(\"Numerical issues were encountered \"\n"
     ]
    },
    {
     "name": "stdout",
     "output_type": "stream",
     "text": [
      "n_sample=12 iter=6 PALS experiment=csf case=Stage_2 control=Control\n",
      "n_sample=12 iter=7 PALS experiment=csf case=Stage_2 control=Control\n",
      "n_sample=12 iter=8 PALS experiment=csf case=Stage_2 control=Control\n",
      "n_sample=12 iter=9 PALS experiment=csf case=Stage_2 control=Control\n",
      "n_sample=12 iter=10 PALS experiment=csf case=Stage_2 control=Control\n",
      "n_sample=12 iter=11 PALS experiment=csf case=Stage_2 control=Control\n",
      "n_sample=12 iter=12 PALS experiment=csf case=Stage_2 control=Control\n",
      "n_sample=12 iter=13 PALS experiment=csf case=Stage_2 control=Control\n",
      "n_sample=12 iter=14 PALS experiment=csf case=Stage_2 control=Control\n",
      "n_sample=12 iter=15 PALS experiment=csf case=Stage_2 control=Control\n",
      "n_sample=12 iter=16 PALS experiment=csf case=Stage_2 control=Control\n",
      "n_sample=12 iter=17 PALS experiment=csf case=Stage_2 control=Control\n",
      "n_sample=12 iter=18 PALS experiment=csf case=Stage_2 control=Control\n"
     ]
    },
    {
     "name": "stderr",
     "output_type": "stream",
     "text": [
      "c:\\users\\joewa\\.virtualenvs\\pals-4ls44jcw\\lib\\site-packages\\sklearn\\preprocessing\\data.py:189: UserWarning: Numerical issues were encountered when scaling the data and might not be solved. The standard deviation of the data is probably very close to 0. \n",
      "  warnings.warn(\"Numerical issues were encountered \"\n"
     ]
    },
    {
     "name": "stdout",
     "output_type": "stream",
     "text": [
      "n_sample=12 iter=19 PALS experiment=csf case=Stage_2 control=Control\n",
      "n_sample=12 iter=20 PALS experiment=csf case=Stage_2 control=Control\n",
      "n_sample=12 iter=21 PALS experiment=csf case=Stage_2 control=Control\n",
      "n_sample=12 iter=22 PALS experiment=csf case=Stage_2 control=Control\n",
      "n_sample=12 iter=23 PALS experiment=csf case=Stage_2 control=Control\n",
      "n_sample=12 iter=24 PALS experiment=csf case=Stage_2 control=Control\n",
      "n_sample=12 iter=25 PALS experiment=csf case=Stage_2 control=Control\n",
      "n_sample=12 iter=26 PALS experiment=csf case=Stage_2 control=Control\n",
      "n_sample=12 iter=27 PALS experiment=csf case=Stage_2 control=Control\n",
      "n_sample=12 iter=28 PALS experiment=csf case=Stage_2 control=Control\n"
     ]
    },
    {
     "name": "stderr",
     "output_type": "stream",
     "text": [
      "c:\\users\\joewa\\.virtualenvs\\pals-4ls44jcw\\lib\\site-packages\\sklearn\\preprocessing\\data.py:189: UserWarning: Numerical issues were encountered when scaling the data and might not be solved. The standard deviation of the data is probably very close to 0. \n",
      "  warnings.warn(\"Numerical issues were encountered \"\n"
     ]
    },
    {
     "name": "stdout",
     "output_type": "stream",
     "text": [
      "n_sample=12 iter=29 PALS experiment=csf case=Stage_2 control=Control\n",
      "n_sample=12 iter=30 PALS experiment=csf case=Stage_2 control=Control\n"
     ]
    },
    {
     "name": "stderr",
     "output_type": "stream",
     "text": [
      "c:\\users\\joewa\\.virtualenvs\\pals-4ls44jcw\\lib\\site-packages\\sklearn\\preprocessing\\data.py:189: UserWarning: Numerical issues were encountered when scaling the data and might not be solved. The standard deviation of the data is probably very close to 0. \n",
      "  warnings.warn(\"Numerical issues were encountered \"\n"
     ]
    },
    {
     "name": "stdout",
     "output_type": "stream",
     "text": [
      "n_sample=12 iter=31 PALS experiment=csf case=Stage_2 control=Control\n",
      "n_sample=12 iter=32 PALS experiment=csf case=Stage_2 control=Control\n",
      "n_sample=12 iter=33 PALS experiment=csf case=Stage_2 control=Control\n",
      "n_sample=12 iter=34 PALS experiment=csf case=Stage_2 control=Control\n",
      "n_sample=12 iter=35 PALS experiment=csf case=Stage_2 control=Control\n",
      "n_sample=12 iter=36 PALS experiment=csf case=Stage_2 control=Control\n"
     ]
    },
    {
     "name": "stderr",
     "output_type": "stream",
     "text": [
      "c:\\users\\joewa\\.virtualenvs\\pals-4ls44jcw\\lib\\site-packages\\sklearn\\preprocessing\\data.py:189: UserWarning: Numerical issues were encountered when scaling the data and might not be solved. The standard deviation of the data is probably very close to 0. \n",
      "  warnings.warn(\"Numerical issues were encountered \"\n"
     ]
    },
    {
     "name": "stdout",
     "output_type": "stream",
     "text": [
      "n_sample=12 iter=37 PALS experiment=csf case=Stage_2 control=Control\n",
      "n_sample=12 iter=38 PALS experiment=csf case=Stage_2 control=Control\n",
      "n_sample=12 iter=39 PALS experiment=csf case=Stage_2 control=Control\n"
     ]
    },
    {
     "name": "stderr",
     "output_type": "stream",
     "text": [
      "c:\\users\\joewa\\.virtualenvs\\pals-4ls44jcw\\lib\\site-packages\\sklearn\\preprocessing\\data.py:189: UserWarning: Numerical issues were encountered when scaling the data and might not be solved. The standard deviation of the data is probably very close to 0. \n",
      "  warnings.warn(\"Numerical issues were encountered \"\n"
     ]
    },
    {
     "name": "stdout",
     "output_type": "stream",
     "text": [
      "n_sample=12 iter=40 PALS experiment=csf case=Stage_2 control=Control\n",
      "n_sample=12 iter=41 PALS experiment=csf case=Stage_2 control=Control\n",
      "n_sample=12 iter=42 PALS experiment=csf case=Stage_2 control=Control\n",
      "n_sample=12 iter=43 PALS experiment=csf case=Stage_2 control=Control\n",
      "n_sample=12 iter=44 PALS experiment=csf case=Stage_2 control=Control\n",
      "n_sample=12 iter=45 PALS experiment=csf case=Stage_2 control=Control\n",
      "n_sample=12 iter=46 PALS experiment=csf case=Stage_2 control=Control\n",
      "n_sample=12 iter=47 PALS experiment=csf case=Stage_2 control=Control\n",
      "n_sample=12 iter=48 PALS experiment=csf case=Stage_2 control=Control\n",
      "n_sample=12 iter=49 PALS experiment=csf case=Stage_2 control=Control\n",
      "n_sample=12 iter=50 PALS experiment=csf case=Stage_2 control=Control\n"
     ]
    },
    {
     "name": "stderr",
     "output_type": "stream",
     "text": [
      "c:\\users\\joewa\\.virtualenvs\\pals-4ls44jcw\\lib\\site-packages\\sklearn\\preprocessing\\data.py:189: UserWarning: Numerical issues were encountered when scaling the data and might not be solved. The standard deviation of the data is probably very close to 0. \n",
      "  warnings.warn(\"Numerical issues were encountered \"\n"
     ]
    },
    {
     "name": "stdout",
     "output_type": "stream",
     "text": [
      "n_sample=12 iter=51 PALS experiment=csf case=Stage_2 control=Control\n",
      "n_sample=12 iter=52 PALS experiment=csf case=Stage_2 control=Control\n",
      "n_sample=12 iter=53 PALS experiment=csf case=Stage_2 control=Control\n",
      "n_sample=12 iter=54 PALS experiment=csf case=Stage_2 control=Control\n",
      "n_sample=12 iter=55 PALS experiment=csf case=Stage_2 control=Control\n",
      "n_sample=12 iter=56 PALS experiment=csf case=Stage_2 control=Control\n",
      "n_sample=12 iter=57 PALS experiment=csf case=Stage_2 control=Control\n",
      "n_sample=12 iter=58 PALS experiment=csf case=Stage_2 control=Control\n",
      "n_sample=12 iter=59 PALS experiment=csf case=Stage_2 control=Control\n",
      "n_sample=12 iter=60 PALS experiment=csf case=Stage_2 control=Control\n"
     ]
    },
    {
     "name": "stderr",
     "output_type": "stream",
     "text": [
      "c:\\users\\joewa\\.virtualenvs\\pals-4ls44jcw\\lib\\site-packages\\sklearn\\preprocessing\\data.py:189: UserWarning: Numerical issues were encountered when scaling the data and might not be solved. The standard deviation of the data is probably very close to 0. \n",
      "  warnings.warn(\"Numerical issues were encountered \"\n"
     ]
    },
    {
     "name": "stdout",
     "output_type": "stream",
     "text": [
      "n_sample=12 iter=61 PALS experiment=csf case=Stage_2 control=Control\n",
      "n_sample=12 iter=62 PALS experiment=csf case=Stage_2 control=Control\n",
      "n_sample=12 iter=63 PALS experiment=csf case=Stage_2 control=Control\n",
      "n_sample=12 iter=64 PALS experiment=csf case=Stage_2 control=Control\n"
     ]
    },
    {
     "name": "stderr",
     "output_type": "stream",
     "text": [
      "c:\\users\\joewa\\.virtualenvs\\pals-4ls44jcw\\lib\\site-packages\\sklearn\\preprocessing\\data.py:189: UserWarning: Numerical issues were encountered when scaling the data and might not be solved. The standard deviation of the data is probably very close to 0. \n",
      "  warnings.warn(\"Numerical issues were encountered \"\n"
     ]
    },
    {
     "name": "stdout",
     "output_type": "stream",
     "text": [
      "n_sample=12 iter=65 PALS experiment=csf case=Stage_2 control=Control\n",
      "n_sample=12 iter=66 PALS experiment=csf case=Stage_2 control=Control\n",
      "n_sample=12 iter=67 PALS experiment=csf case=Stage_2 control=Control\n",
      "n_sample=12 iter=68 PALS experiment=csf case=Stage_2 control=Control\n",
      "n_sample=12 iter=69 PALS experiment=csf case=Stage_2 control=Control\n",
      "n_sample=12 iter=70 PALS experiment=csf case=Stage_2 control=Control\n"
     ]
    },
    {
     "name": "stderr",
     "output_type": "stream",
     "text": [
      "c:\\users\\joewa\\.virtualenvs\\pals-4ls44jcw\\lib\\site-packages\\sklearn\\preprocessing\\data.py:189: UserWarning: Numerical issues were encountered when scaling the data and might not be solved. The standard deviation of the data is probably very close to 0. \n",
      "  warnings.warn(\"Numerical issues were encountered \"\n"
     ]
    },
    {
     "name": "stdout",
     "output_type": "stream",
     "text": [
      "n_sample=12 iter=71 PALS experiment=csf case=Stage_2 control=Control\n",
      "n_sample=12 iter=72 PALS experiment=csf case=Stage_2 control=Control\n",
      "n_sample=12 iter=73 PALS experiment=csf case=Stage_2 control=Control\n"
     ]
    },
    {
     "name": "stderr",
     "output_type": "stream",
     "text": [
      "c:\\users\\joewa\\.virtualenvs\\pals-4ls44jcw\\lib\\site-packages\\sklearn\\preprocessing\\data.py:189: UserWarning: Numerical issues were encountered when scaling the data and might not be solved. The standard deviation of the data is probably very close to 0. \n",
      "  warnings.warn(\"Numerical issues were encountered \"\n"
     ]
    },
    {
     "name": "stdout",
     "output_type": "stream",
     "text": [
      "n_sample=12 iter=74 PALS experiment=csf case=Stage_2 control=Control\n"
     ]
    },
    {
     "name": "stderr",
     "output_type": "stream",
     "text": [
      "c:\\users\\joewa\\.virtualenvs\\pals-4ls44jcw\\lib\\site-packages\\sklearn\\preprocessing\\data.py:189: UserWarning: Numerical issues were encountered when scaling the data and might not be solved. The standard deviation of the data is probably very close to 0. \n",
      "  warnings.warn(\"Numerical issues were encountered \"\n"
     ]
    },
    {
     "name": "stdout",
     "output_type": "stream",
     "text": [
      "n_sample=12 iter=75 PALS experiment=csf case=Stage_2 control=Control\n",
      "n_sample=12 iter=76 PALS experiment=csf case=Stage_2 control=Control\n",
      "n_sample=12 iter=77 PALS experiment=csf case=Stage_2 control=Control\n",
      "n_sample=12 iter=78 PALS experiment=csf case=Stage_2 control=Control\n",
      "n_sample=12 iter=79 PALS experiment=csf case=Stage_2 control=Control\n",
      "n_sample=12 iter=80 PALS experiment=csf case=Stage_2 control=Control\n",
      "n_sample=12 iter=81 PALS experiment=csf case=Stage_2 control=Control\n",
      "n_sample=12 iter=82 PALS experiment=csf case=Stage_2 control=Control\n"
     ]
    },
    {
     "name": "stderr",
     "output_type": "stream",
     "text": [
      "c:\\users\\joewa\\.virtualenvs\\pals-4ls44jcw\\lib\\site-packages\\sklearn\\preprocessing\\data.py:189: UserWarning: Numerical issues were encountered when scaling the data and might not be solved. The standard deviation of the data is probably very close to 0. \n",
      "  warnings.warn(\"Numerical issues were encountered \"\n"
     ]
    },
    {
     "name": "stdout",
     "output_type": "stream",
     "text": [
      "n_sample=12 iter=83 PALS experiment=csf case=Stage_2 control=Control\n",
      "n_sample=12 iter=84 PALS experiment=csf case=Stage_2 control=Control\n",
      "n_sample=12 iter=85 PALS experiment=csf case=Stage_2 control=Control\n"
     ]
    },
    {
     "name": "stderr",
     "output_type": "stream",
     "text": [
      "c:\\users\\joewa\\.virtualenvs\\pals-4ls44jcw\\lib\\site-packages\\sklearn\\preprocessing\\data.py:189: UserWarning: Numerical issues were encountered when scaling the data and might not be solved. The standard deviation of the data is probably very close to 0. \n",
      "  warnings.warn(\"Numerical issues were encountered \"\n"
     ]
    },
    {
     "name": "stdout",
     "output_type": "stream",
     "text": [
      "n_sample=12 iter=86 PALS experiment=csf case=Stage_2 control=Control\n",
      "n_sample=12 iter=87 PALS experiment=csf case=Stage_2 control=Control\n",
      "n_sample=12 iter=88 PALS experiment=csf case=Stage_2 control=Control\n",
      "n_sample=12 iter=89 PALS experiment=csf case=Stage_2 control=Control\n",
      "n_sample=12 iter=90 PALS experiment=csf case=Stage_2 control=Control\n",
      "n_sample=12 iter=91 PALS experiment=csf case=Stage_2 control=Control\n",
      "n_sample=12 iter=92 PALS experiment=csf case=Stage_2 control=Control\n",
      "n_sample=12 iter=93 PALS experiment=csf case=Stage_2 control=Control\n"
     ]
    },
    {
     "name": "stderr",
     "output_type": "stream",
     "text": [
      "c:\\users\\joewa\\.virtualenvs\\pals-4ls44jcw\\lib\\site-packages\\sklearn\\preprocessing\\data.py:189: UserWarning: Numerical issues were encountered when scaling the data and might not be solved. The standard deviation of the data is probably very close to 0. \n",
      "  warnings.warn(\"Numerical issues were encountered \"\n"
     ]
    },
    {
     "name": "stdout",
     "output_type": "stream",
     "text": [
      "n_sample=12 iter=94 PALS experiment=csf case=Stage_2 control=Control\n",
      "n_sample=12 iter=95 PALS experiment=csf case=Stage_2 control=Control\n"
     ]
    },
    {
     "name": "stderr",
     "output_type": "stream",
     "text": [
      "c:\\users\\joewa\\.virtualenvs\\pals-4ls44jcw\\lib\\site-packages\\sklearn\\preprocessing\\data.py:189: UserWarning: Numerical issues were encountered when scaling the data and might not be solved. The standard deviation of the data is probably very close to 0. \n",
      "  warnings.warn(\"Numerical issues were encountered \"\n"
     ]
    },
    {
     "name": "stdout",
     "output_type": "stream",
     "text": [
      "n_sample=12 iter=96 PALS experiment=csf case=Stage_2 control=Control\n",
      "n_sample=12 iter=97 PALS experiment=csf case=Stage_2 control=Control\n",
      "n_sample=12 iter=98 PALS experiment=csf case=Stage_2 control=Control\n",
      "n_sample=12 iter=99 PALS experiment=csf case=Stage_2 control=Control\n"
     ]
    }
   ],
   "source": [
    "res = run_pals(experiment_name, data_source, case, control, n_samples, significant_column)\n",
    "results[experiment_name] = res"
   ]
  },
  {
   "cell_type": "markdown",
   "metadata": {},
   "source": [
    "#### Save Results"
   ]
  },
  {
   "cell_type": "code",
   "execution_count": 38,
   "metadata": {},
   "outputs": [
    {
     "name": "stdout",
     "output_type": "stream",
     "text": [
      "Saving <class 'dict'> to test_data\\HAT_results.p\n"
     ]
    }
   ],
   "source": [
    "save_obj(results, os.path.join('test_data', 'HAT_results.p'))"
   ]
  }
 ],
 "metadata": {
  "kernelspec": {
   "display_name": "Django Shell-Plus",
   "language": "python",
   "name": "django_extensions"
  },
  "language_info": {
   "codemirror_mode": {
    "name": "ipython",
    "version": 3
   },
   "file_extension": ".py",
   "mimetype": "text/x-python",
   "name": "python",
   "nbconvert_exporter": "python",
   "pygments_lexer": "ipython3",
   "version": "3.7.3"
  }
 },
 "nbformat": 4,
 "nbformat_minor": 4
}
